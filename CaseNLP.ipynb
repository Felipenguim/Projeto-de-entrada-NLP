{
  "nbformat": 4,
  "nbformat_minor": 0,
  "metadata": {
    "colab": {
      "provenance": [],
      "gpuType": "T4",
      "collapsed_sections": [
        "qkCNlcbiU6U5",
        "0JCCiC0xhaCc",
        "KaOFOKcV_kfj",
        "tTTuNDqw8puR",
        "K1Tq0Fa429IQ",
        "0YSbdY_gkVvn",
        "6zOP_WN60O8g",
        "t-OAI2k_noAW",
        "AirqRHWLo7MY",
        "nYlG25qRv-jQ"
      ]
    },
    "kernelspec": {
      "name": "python3",
      "display_name": "Python 3"
    },
    "language_info": {
      "name": "python"
    },
    "accelerator": "GPU",
    "widgets": {
      "application/vnd.jupyter.widget-state+json": {
        "9873d3e99ad44b5fa71e27160280ee5a": {
          "model_module": "@jupyter-widgets/controls",
          "model_name": "HBoxModel",
          "model_module_version": "1.5.0",
          "state": {
            "_dom_classes": [],
            "_model_module": "@jupyter-widgets/controls",
            "_model_module_version": "1.5.0",
            "_model_name": "HBoxModel",
            "_view_count": null,
            "_view_module": "@jupyter-widgets/controls",
            "_view_module_version": "1.5.0",
            "_view_name": "HBoxView",
            "box_style": "",
            "children": [
              "IPY_MODEL_30b36a6f392d41c38bf6cd169249aaed",
              "IPY_MODEL_347a6c598b0a4703895e86fa7095599e",
              "IPY_MODEL_e46dfc28a337404690c7974543bda44f"
            ],
            "layout": "IPY_MODEL_dbdff3c3482e4fad8cac375972edb06c"
          }
        },
        "30b36a6f392d41c38bf6cd169249aaed": {
          "model_module": "@jupyter-widgets/controls",
          "model_name": "HTMLModel",
          "model_module_version": "1.5.0",
          "state": {
            "_dom_classes": [],
            "_model_module": "@jupyter-widgets/controls",
            "_model_module_version": "1.5.0",
            "_model_name": "HTMLModel",
            "_view_count": null,
            "_view_module": "@jupyter-widgets/controls",
            "_view_module_version": "1.5.0",
            "_view_name": "HTMLView",
            "description": "",
            "description_tooltip": null,
            "layout": "IPY_MODEL_eeedafa29bc748a6b0d1309ddb1a6b70",
            "placeholder": "​",
            "style": "IPY_MODEL_cb755ec0892446ffbd89b785392e5f83",
            "value": "Downloading (…)lve/main/config.json: 100%"
          }
        },
        "347a6c598b0a4703895e86fa7095599e": {
          "model_module": "@jupyter-widgets/controls",
          "model_name": "FloatProgressModel",
          "model_module_version": "1.5.0",
          "state": {
            "_dom_classes": [],
            "_model_module": "@jupyter-widgets/controls",
            "_model_module_version": "1.5.0",
            "_model_name": "FloatProgressModel",
            "_view_count": null,
            "_view_module": "@jupyter-widgets/controls",
            "_view_module_version": "1.5.0",
            "_view_name": "ProgressView",
            "bar_style": "success",
            "description": "",
            "description_tooltip": null,
            "layout": "IPY_MODEL_c71e50ec307840bb9b892a2623e19a57",
            "max": 571,
            "min": 0,
            "orientation": "horizontal",
            "style": "IPY_MODEL_ced5ed351e144859bd15e506e1af7e1f",
            "value": 571
          }
        },
        "e46dfc28a337404690c7974543bda44f": {
          "model_module": "@jupyter-widgets/controls",
          "model_name": "HTMLModel",
          "model_module_version": "1.5.0",
          "state": {
            "_dom_classes": [],
            "_model_module": "@jupyter-widgets/controls",
            "_model_module_version": "1.5.0",
            "_model_name": "HTMLModel",
            "_view_count": null,
            "_view_module": "@jupyter-widgets/controls",
            "_view_module_version": "1.5.0",
            "_view_name": "HTMLView",
            "description": "",
            "description_tooltip": null,
            "layout": "IPY_MODEL_b88df9baad9448dcb9a5c84cd831c3ff",
            "placeholder": "​",
            "style": "IPY_MODEL_c458b98ee90d4b468656271d2e4bdc87",
            "value": " 571/571 [00:00&lt;00:00, 7.59kB/s]"
          }
        },
        "dbdff3c3482e4fad8cac375972edb06c": {
          "model_module": "@jupyter-widgets/base",
          "model_name": "LayoutModel",
          "model_module_version": "1.2.0",
          "state": {
            "_model_module": "@jupyter-widgets/base",
            "_model_module_version": "1.2.0",
            "_model_name": "LayoutModel",
            "_view_count": null,
            "_view_module": "@jupyter-widgets/base",
            "_view_module_version": "1.2.0",
            "_view_name": "LayoutView",
            "align_content": null,
            "align_items": null,
            "align_self": null,
            "border": null,
            "bottom": null,
            "display": null,
            "flex": null,
            "flex_flow": null,
            "grid_area": null,
            "grid_auto_columns": null,
            "grid_auto_flow": null,
            "grid_auto_rows": null,
            "grid_column": null,
            "grid_gap": null,
            "grid_row": null,
            "grid_template_areas": null,
            "grid_template_columns": null,
            "grid_template_rows": null,
            "height": null,
            "justify_content": null,
            "justify_items": null,
            "left": null,
            "margin": null,
            "max_height": null,
            "max_width": null,
            "min_height": null,
            "min_width": null,
            "object_fit": null,
            "object_position": null,
            "order": null,
            "overflow": null,
            "overflow_x": null,
            "overflow_y": null,
            "padding": null,
            "right": null,
            "top": null,
            "visibility": null,
            "width": null
          }
        },
        "eeedafa29bc748a6b0d1309ddb1a6b70": {
          "model_module": "@jupyter-widgets/base",
          "model_name": "LayoutModel",
          "model_module_version": "1.2.0",
          "state": {
            "_model_module": "@jupyter-widgets/base",
            "_model_module_version": "1.2.0",
            "_model_name": "LayoutModel",
            "_view_count": null,
            "_view_module": "@jupyter-widgets/base",
            "_view_module_version": "1.2.0",
            "_view_name": "LayoutView",
            "align_content": null,
            "align_items": null,
            "align_self": null,
            "border": null,
            "bottom": null,
            "display": null,
            "flex": null,
            "flex_flow": null,
            "grid_area": null,
            "grid_auto_columns": null,
            "grid_auto_flow": null,
            "grid_auto_rows": null,
            "grid_column": null,
            "grid_gap": null,
            "grid_row": null,
            "grid_template_areas": null,
            "grid_template_columns": null,
            "grid_template_rows": null,
            "height": null,
            "justify_content": null,
            "justify_items": null,
            "left": null,
            "margin": null,
            "max_height": null,
            "max_width": null,
            "min_height": null,
            "min_width": null,
            "object_fit": null,
            "object_position": null,
            "order": null,
            "overflow": null,
            "overflow_x": null,
            "overflow_y": null,
            "padding": null,
            "right": null,
            "top": null,
            "visibility": null,
            "width": null
          }
        },
        "cb755ec0892446ffbd89b785392e5f83": {
          "model_module": "@jupyter-widgets/controls",
          "model_name": "DescriptionStyleModel",
          "model_module_version": "1.5.0",
          "state": {
            "_model_module": "@jupyter-widgets/controls",
            "_model_module_version": "1.5.0",
            "_model_name": "DescriptionStyleModel",
            "_view_count": null,
            "_view_module": "@jupyter-widgets/base",
            "_view_module_version": "1.2.0",
            "_view_name": "StyleView",
            "description_width": ""
          }
        },
        "c71e50ec307840bb9b892a2623e19a57": {
          "model_module": "@jupyter-widgets/base",
          "model_name": "LayoutModel",
          "model_module_version": "1.2.0",
          "state": {
            "_model_module": "@jupyter-widgets/base",
            "_model_module_version": "1.2.0",
            "_model_name": "LayoutModel",
            "_view_count": null,
            "_view_module": "@jupyter-widgets/base",
            "_view_module_version": "1.2.0",
            "_view_name": "LayoutView",
            "align_content": null,
            "align_items": null,
            "align_self": null,
            "border": null,
            "bottom": null,
            "display": null,
            "flex": null,
            "flex_flow": null,
            "grid_area": null,
            "grid_auto_columns": null,
            "grid_auto_flow": null,
            "grid_auto_rows": null,
            "grid_column": null,
            "grid_gap": null,
            "grid_row": null,
            "grid_template_areas": null,
            "grid_template_columns": null,
            "grid_template_rows": null,
            "height": null,
            "justify_content": null,
            "justify_items": null,
            "left": null,
            "margin": null,
            "max_height": null,
            "max_width": null,
            "min_height": null,
            "min_width": null,
            "object_fit": null,
            "object_position": null,
            "order": null,
            "overflow": null,
            "overflow_x": null,
            "overflow_y": null,
            "padding": null,
            "right": null,
            "top": null,
            "visibility": null,
            "width": null
          }
        },
        "ced5ed351e144859bd15e506e1af7e1f": {
          "model_module": "@jupyter-widgets/controls",
          "model_name": "ProgressStyleModel",
          "model_module_version": "1.5.0",
          "state": {
            "_model_module": "@jupyter-widgets/controls",
            "_model_module_version": "1.5.0",
            "_model_name": "ProgressStyleModel",
            "_view_count": null,
            "_view_module": "@jupyter-widgets/base",
            "_view_module_version": "1.2.0",
            "_view_name": "StyleView",
            "bar_color": null,
            "description_width": ""
          }
        },
        "b88df9baad9448dcb9a5c84cd831c3ff": {
          "model_module": "@jupyter-widgets/base",
          "model_name": "LayoutModel",
          "model_module_version": "1.2.0",
          "state": {
            "_model_module": "@jupyter-widgets/base",
            "_model_module_version": "1.2.0",
            "_model_name": "LayoutModel",
            "_view_count": null,
            "_view_module": "@jupyter-widgets/base",
            "_view_module_version": "1.2.0",
            "_view_name": "LayoutView",
            "align_content": null,
            "align_items": null,
            "align_self": null,
            "border": null,
            "bottom": null,
            "display": null,
            "flex": null,
            "flex_flow": null,
            "grid_area": null,
            "grid_auto_columns": null,
            "grid_auto_flow": null,
            "grid_auto_rows": null,
            "grid_column": null,
            "grid_gap": null,
            "grid_row": null,
            "grid_template_areas": null,
            "grid_template_columns": null,
            "grid_template_rows": null,
            "height": null,
            "justify_content": null,
            "justify_items": null,
            "left": null,
            "margin": null,
            "max_height": null,
            "max_width": null,
            "min_height": null,
            "min_width": null,
            "object_fit": null,
            "object_position": null,
            "order": null,
            "overflow": null,
            "overflow_x": null,
            "overflow_y": null,
            "padding": null,
            "right": null,
            "top": null,
            "visibility": null,
            "width": null
          }
        },
        "c458b98ee90d4b468656271d2e4bdc87": {
          "model_module": "@jupyter-widgets/controls",
          "model_name": "DescriptionStyleModel",
          "model_module_version": "1.5.0",
          "state": {
            "_model_module": "@jupyter-widgets/controls",
            "_model_module_version": "1.5.0",
            "_model_name": "DescriptionStyleModel",
            "_view_count": null,
            "_view_module": "@jupyter-widgets/base",
            "_view_module_version": "1.2.0",
            "_view_name": "StyleView",
            "description_width": ""
          }
        },
        "d1cb39d19ee84f55aa1f532b396da7db": {
          "model_module": "@jupyter-widgets/controls",
          "model_name": "HBoxModel",
          "model_module_version": "1.5.0",
          "state": {
            "_dom_classes": [],
            "_model_module": "@jupyter-widgets/controls",
            "_model_module_version": "1.5.0",
            "_model_name": "HBoxModel",
            "_view_count": null,
            "_view_module": "@jupyter-widgets/controls",
            "_view_module_version": "1.5.0",
            "_view_name": "HBoxView",
            "box_style": "",
            "children": [
              "IPY_MODEL_c412c8d5823f484d8473b2607df7a4e5",
              "IPY_MODEL_83f2bd33071442b7a3fcf3cb5dee4dd3",
              "IPY_MODEL_e42503fdd9af48fe86d7e350f27f995a"
            ],
            "layout": "IPY_MODEL_0f5b008bf92943f2b06ca53c58faade8"
          }
        },
        "c412c8d5823f484d8473b2607df7a4e5": {
          "model_module": "@jupyter-widgets/controls",
          "model_name": "HTMLModel",
          "model_module_version": "1.5.0",
          "state": {
            "_dom_classes": [],
            "_model_module": "@jupyter-widgets/controls",
            "_model_module_version": "1.5.0",
            "_model_name": "HTMLModel",
            "_view_count": null,
            "_view_module": "@jupyter-widgets/controls",
            "_view_module_version": "1.5.0",
            "_view_name": "HTMLView",
            "description": "",
            "description_tooltip": null,
            "layout": "IPY_MODEL_c43e99a9482e4a59b114401cfe976eee",
            "placeholder": "​",
            "style": "IPY_MODEL_20b1ea6917eb4822a5becf3800f189ae",
            "value": "Downloading model.safetensors: 100%"
          }
        },
        "83f2bd33071442b7a3fcf3cb5dee4dd3": {
          "model_module": "@jupyter-widgets/controls",
          "model_name": "FloatProgressModel",
          "model_module_version": "1.5.0",
          "state": {
            "_dom_classes": [],
            "_model_module": "@jupyter-widgets/controls",
            "_model_module_version": "1.5.0",
            "_model_name": "FloatProgressModel",
            "_view_count": null,
            "_view_module": "@jupyter-widgets/controls",
            "_view_module_version": "1.5.0",
            "_view_name": "ProgressView",
            "bar_style": "success",
            "description": "",
            "description_tooltip": null,
            "layout": "IPY_MODEL_a9796f6bc96d414691f47715b886b8e7",
            "max": 1344951957,
            "min": 0,
            "orientation": "horizontal",
            "style": "IPY_MODEL_92378bbcac2543a89325a4ed85db22b5",
            "value": 1344951957
          }
        },
        "e42503fdd9af48fe86d7e350f27f995a": {
          "model_module": "@jupyter-widgets/controls",
          "model_name": "HTMLModel",
          "model_module_version": "1.5.0",
          "state": {
            "_dom_classes": [],
            "_model_module": "@jupyter-widgets/controls",
            "_model_module_version": "1.5.0",
            "_model_name": "HTMLModel",
            "_view_count": null,
            "_view_module": "@jupyter-widgets/controls",
            "_view_module_version": "1.5.0",
            "_view_name": "HTMLView",
            "description": "",
            "description_tooltip": null,
            "layout": "IPY_MODEL_c2352e51d08c47bf880d1a8fb04dde25",
            "placeholder": "​",
            "style": "IPY_MODEL_bf0e3f0b4d1b4be98dc7e3ebb9e3e18b",
            "value": " 1.34G/1.34G [00:20&lt;00:00, 97.0MB/s]"
          }
        },
        "0f5b008bf92943f2b06ca53c58faade8": {
          "model_module": "@jupyter-widgets/base",
          "model_name": "LayoutModel",
          "model_module_version": "1.2.0",
          "state": {
            "_model_module": "@jupyter-widgets/base",
            "_model_module_version": "1.2.0",
            "_model_name": "LayoutModel",
            "_view_count": null,
            "_view_module": "@jupyter-widgets/base",
            "_view_module_version": "1.2.0",
            "_view_name": "LayoutView",
            "align_content": null,
            "align_items": null,
            "align_self": null,
            "border": null,
            "bottom": null,
            "display": null,
            "flex": null,
            "flex_flow": null,
            "grid_area": null,
            "grid_auto_columns": null,
            "grid_auto_flow": null,
            "grid_auto_rows": null,
            "grid_column": null,
            "grid_gap": null,
            "grid_row": null,
            "grid_template_areas": null,
            "grid_template_columns": null,
            "grid_template_rows": null,
            "height": null,
            "justify_content": null,
            "justify_items": null,
            "left": null,
            "margin": null,
            "max_height": null,
            "max_width": null,
            "min_height": null,
            "min_width": null,
            "object_fit": null,
            "object_position": null,
            "order": null,
            "overflow": null,
            "overflow_x": null,
            "overflow_y": null,
            "padding": null,
            "right": null,
            "top": null,
            "visibility": null,
            "width": null
          }
        },
        "c43e99a9482e4a59b114401cfe976eee": {
          "model_module": "@jupyter-widgets/base",
          "model_name": "LayoutModel",
          "model_module_version": "1.2.0",
          "state": {
            "_model_module": "@jupyter-widgets/base",
            "_model_module_version": "1.2.0",
            "_model_name": "LayoutModel",
            "_view_count": null,
            "_view_module": "@jupyter-widgets/base",
            "_view_module_version": "1.2.0",
            "_view_name": "LayoutView",
            "align_content": null,
            "align_items": null,
            "align_self": null,
            "border": null,
            "bottom": null,
            "display": null,
            "flex": null,
            "flex_flow": null,
            "grid_area": null,
            "grid_auto_columns": null,
            "grid_auto_flow": null,
            "grid_auto_rows": null,
            "grid_column": null,
            "grid_gap": null,
            "grid_row": null,
            "grid_template_areas": null,
            "grid_template_columns": null,
            "grid_template_rows": null,
            "height": null,
            "justify_content": null,
            "justify_items": null,
            "left": null,
            "margin": null,
            "max_height": null,
            "max_width": null,
            "min_height": null,
            "min_width": null,
            "object_fit": null,
            "object_position": null,
            "order": null,
            "overflow": null,
            "overflow_x": null,
            "overflow_y": null,
            "padding": null,
            "right": null,
            "top": null,
            "visibility": null,
            "width": null
          }
        },
        "20b1ea6917eb4822a5becf3800f189ae": {
          "model_module": "@jupyter-widgets/controls",
          "model_name": "DescriptionStyleModel",
          "model_module_version": "1.5.0",
          "state": {
            "_model_module": "@jupyter-widgets/controls",
            "_model_module_version": "1.5.0",
            "_model_name": "DescriptionStyleModel",
            "_view_count": null,
            "_view_module": "@jupyter-widgets/base",
            "_view_module_version": "1.2.0",
            "_view_name": "StyleView",
            "description_width": ""
          }
        },
        "a9796f6bc96d414691f47715b886b8e7": {
          "model_module": "@jupyter-widgets/base",
          "model_name": "LayoutModel",
          "model_module_version": "1.2.0",
          "state": {
            "_model_module": "@jupyter-widgets/base",
            "_model_module_version": "1.2.0",
            "_model_name": "LayoutModel",
            "_view_count": null,
            "_view_module": "@jupyter-widgets/base",
            "_view_module_version": "1.2.0",
            "_view_name": "LayoutView",
            "align_content": null,
            "align_items": null,
            "align_self": null,
            "border": null,
            "bottom": null,
            "display": null,
            "flex": null,
            "flex_flow": null,
            "grid_area": null,
            "grid_auto_columns": null,
            "grid_auto_flow": null,
            "grid_auto_rows": null,
            "grid_column": null,
            "grid_gap": null,
            "grid_row": null,
            "grid_template_areas": null,
            "grid_template_columns": null,
            "grid_template_rows": null,
            "height": null,
            "justify_content": null,
            "justify_items": null,
            "left": null,
            "margin": null,
            "max_height": null,
            "max_width": null,
            "min_height": null,
            "min_width": null,
            "object_fit": null,
            "object_position": null,
            "order": null,
            "overflow": null,
            "overflow_x": null,
            "overflow_y": null,
            "padding": null,
            "right": null,
            "top": null,
            "visibility": null,
            "width": null
          }
        },
        "92378bbcac2543a89325a4ed85db22b5": {
          "model_module": "@jupyter-widgets/controls",
          "model_name": "ProgressStyleModel",
          "model_module_version": "1.5.0",
          "state": {
            "_model_module": "@jupyter-widgets/controls",
            "_model_module_version": "1.5.0",
            "_model_name": "ProgressStyleModel",
            "_view_count": null,
            "_view_module": "@jupyter-widgets/base",
            "_view_module_version": "1.2.0",
            "_view_name": "StyleView",
            "bar_color": null,
            "description_width": ""
          }
        },
        "c2352e51d08c47bf880d1a8fb04dde25": {
          "model_module": "@jupyter-widgets/base",
          "model_name": "LayoutModel",
          "model_module_version": "1.2.0",
          "state": {
            "_model_module": "@jupyter-widgets/base",
            "_model_module_version": "1.2.0",
            "_model_name": "LayoutModel",
            "_view_count": null,
            "_view_module": "@jupyter-widgets/base",
            "_view_module_version": "1.2.0",
            "_view_name": "LayoutView",
            "align_content": null,
            "align_items": null,
            "align_self": null,
            "border": null,
            "bottom": null,
            "display": null,
            "flex": null,
            "flex_flow": null,
            "grid_area": null,
            "grid_auto_columns": null,
            "grid_auto_flow": null,
            "grid_auto_rows": null,
            "grid_column": null,
            "grid_gap": null,
            "grid_row": null,
            "grid_template_areas": null,
            "grid_template_columns": null,
            "grid_template_rows": null,
            "height": null,
            "justify_content": null,
            "justify_items": null,
            "left": null,
            "margin": null,
            "max_height": null,
            "max_width": null,
            "min_height": null,
            "min_width": null,
            "object_fit": null,
            "object_position": null,
            "order": null,
            "overflow": null,
            "overflow_x": null,
            "overflow_y": null,
            "padding": null,
            "right": null,
            "top": null,
            "visibility": null,
            "width": null
          }
        },
        "bf0e3f0b4d1b4be98dc7e3ebb9e3e18b": {
          "model_module": "@jupyter-widgets/controls",
          "model_name": "DescriptionStyleModel",
          "model_module_version": "1.5.0",
          "state": {
            "_model_module": "@jupyter-widgets/controls",
            "_model_module_version": "1.5.0",
            "_model_name": "DescriptionStyleModel",
            "_view_count": null,
            "_view_module": "@jupyter-widgets/base",
            "_view_module_version": "1.2.0",
            "_view_name": "StyleView",
            "description_width": ""
          }
        },
        "cc6187f13511451ab6f4f00ea8ee220b": {
          "model_module": "@jupyter-widgets/controls",
          "model_name": "HBoxModel",
          "model_module_version": "1.5.0",
          "state": {
            "_dom_classes": [],
            "_model_module": "@jupyter-widgets/controls",
            "_model_module_version": "1.5.0",
            "_model_name": "HBoxModel",
            "_view_count": null,
            "_view_module": "@jupyter-widgets/controls",
            "_view_module_version": "1.5.0",
            "_view_name": "HBoxView",
            "box_style": "",
            "children": [
              "IPY_MODEL_2a2289b331084bf0a28c482422aaa944",
              "IPY_MODEL_fed5af8794714390a88ab2c09c45cd2c",
              "IPY_MODEL_1c1f3318265b4a7aa697f8fe717efa92"
            ],
            "layout": "IPY_MODEL_62e517aea6ee49fba070de1b5b6bbfae"
          }
        },
        "2a2289b331084bf0a28c482422aaa944": {
          "model_module": "@jupyter-widgets/controls",
          "model_name": "HTMLModel",
          "model_module_version": "1.5.0",
          "state": {
            "_dom_classes": [],
            "_model_module": "@jupyter-widgets/controls",
            "_model_module_version": "1.5.0",
            "_model_name": "HTMLModel",
            "_view_count": null,
            "_view_module": "@jupyter-widgets/controls",
            "_view_module_version": "1.5.0",
            "_view_name": "HTMLView",
            "description": "",
            "description_tooltip": null,
            "layout": "IPY_MODEL_856a2e6bda3d4ea98c929cb78dec2901",
            "placeholder": "​",
            "style": "IPY_MODEL_312a610b7f3b43b0a790da454fdeec2e",
            "value": "Downloading (…)okenizer_config.json: 100%"
          }
        },
        "fed5af8794714390a88ab2c09c45cd2c": {
          "model_module": "@jupyter-widgets/controls",
          "model_name": "FloatProgressModel",
          "model_module_version": "1.5.0",
          "state": {
            "_dom_classes": [],
            "_model_module": "@jupyter-widgets/controls",
            "_model_module_version": "1.5.0",
            "_model_name": "FloatProgressModel",
            "_view_count": null,
            "_view_module": "@jupyter-widgets/controls",
            "_view_module_version": "1.5.0",
            "_view_name": "ProgressView",
            "bar_style": "success",
            "description": "",
            "description_tooltip": null,
            "layout": "IPY_MODEL_196d1b4e6fe04e80bd7e9c9c7da52030",
            "max": 28,
            "min": 0,
            "orientation": "horizontal",
            "style": "IPY_MODEL_b43a0f9f84e44f86981cd58559c078c7",
            "value": 28
          }
        },
        "1c1f3318265b4a7aa697f8fe717efa92": {
          "model_module": "@jupyter-widgets/controls",
          "model_name": "HTMLModel",
          "model_module_version": "1.5.0",
          "state": {
            "_dom_classes": [],
            "_model_module": "@jupyter-widgets/controls",
            "_model_module_version": "1.5.0",
            "_model_name": "HTMLModel",
            "_view_count": null,
            "_view_module": "@jupyter-widgets/controls",
            "_view_module_version": "1.5.0",
            "_view_name": "HTMLView",
            "description": "",
            "description_tooltip": null,
            "layout": "IPY_MODEL_a75b736357d7489c98c4bf04de9684e6",
            "placeholder": "​",
            "style": "IPY_MODEL_f349ccd00b9e4cf1b2b7fb62627fa81d",
            "value": " 28.0/28.0 [00:00&lt;00:00, 649B/s]"
          }
        },
        "62e517aea6ee49fba070de1b5b6bbfae": {
          "model_module": "@jupyter-widgets/base",
          "model_name": "LayoutModel",
          "model_module_version": "1.2.0",
          "state": {
            "_model_module": "@jupyter-widgets/base",
            "_model_module_version": "1.2.0",
            "_model_name": "LayoutModel",
            "_view_count": null,
            "_view_module": "@jupyter-widgets/base",
            "_view_module_version": "1.2.0",
            "_view_name": "LayoutView",
            "align_content": null,
            "align_items": null,
            "align_self": null,
            "border": null,
            "bottom": null,
            "display": null,
            "flex": null,
            "flex_flow": null,
            "grid_area": null,
            "grid_auto_columns": null,
            "grid_auto_flow": null,
            "grid_auto_rows": null,
            "grid_column": null,
            "grid_gap": null,
            "grid_row": null,
            "grid_template_areas": null,
            "grid_template_columns": null,
            "grid_template_rows": null,
            "height": null,
            "justify_content": null,
            "justify_items": null,
            "left": null,
            "margin": null,
            "max_height": null,
            "max_width": null,
            "min_height": null,
            "min_width": null,
            "object_fit": null,
            "object_position": null,
            "order": null,
            "overflow": null,
            "overflow_x": null,
            "overflow_y": null,
            "padding": null,
            "right": null,
            "top": null,
            "visibility": null,
            "width": null
          }
        },
        "856a2e6bda3d4ea98c929cb78dec2901": {
          "model_module": "@jupyter-widgets/base",
          "model_name": "LayoutModel",
          "model_module_version": "1.2.0",
          "state": {
            "_model_module": "@jupyter-widgets/base",
            "_model_module_version": "1.2.0",
            "_model_name": "LayoutModel",
            "_view_count": null,
            "_view_module": "@jupyter-widgets/base",
            "_view_module_version": "1.2.0",
            "_view_name": "LayoutView",
            "align_content": null,
            "align_items": null,
            "align_self": null,
            "border": null,
            "bottom": null,
            "display": null,
            "flex": null,
            "flex_flow": null,
            "grid_area": null,
            "grid_auto_columns": null,
            "grid_auto_flow": null,
            "grid_auto_rows": null,
            "grid_column": null,
            "grid_gap": null,
            "grid_row": null,
            "grid_template_areas": null,
            "grid_template_columns": null,
            "grid_template_rows": null,
            "height": null,
            "justify_content": null,
            "justify_items": null,
            "left": null,
            "margin": null,
            "max_height": null,
            "max_width": null,
            "min_height": null,
            "min_width": null,
            "object_fit": null,
            "object_position": null,
            "order": null,
            "overflow": null,
            "overflow_x": null,
            "overflow_y": null,
            "padding": null,
            "right": null,
            "top": null,
            "visibility": null,
            "width": null
          }
        },
        "312a610b7f3b43b0a790da454fdeec2e": {
          "model_module": "@jupyter-widgets/controls",
          "model_name": "DescriptionStyleModel",
          "model_module_version": "1.5.0",
          "state": {
            "_model_module": "@jupyter-widgets/controls",
            "_model_module_version": "1.5.0",
            "_model_name": "DescriptionStyleModel",
            "_view_count": null,
            "_view_module": "@jupyter-widgets/base",
            "_view_module_version": "1.2.0",
            "_view_name": "StyleView",
            "description_width": ""
          }
        },
        "196d1b4e6fe04e80bd7e9c9c7da52030": {
          "model_module": "@jupyter-widgets/base",
          "model_name": "LayoutModel",
          "model_module_version": "1.2.0",
          "state": {
            "_model_module": "@jupyter-widgets/base",
            "_model_module_version": "1.2.0",
            "_model_name": "LayoutModel",
            "_view_count": null,
            "_view_module": "@jupyter-widgets/base",
            "_view_module_version": "1.2.0",
            "_view_name": "LayoutView",
            "align_content": null,
            "align_items": null,
            "align_self": null,
            "border": null,
            "bottom": null,
            "display": null,
            "flex": null,
            "flex_flow": null,
            "grid_area": null,
            "grid_auto_columns": null,
            "grid_auto_flow": null,
            "grid_auto_rows": null,
            "grid_column": null,
            "grid_gap": null,
            "grid_row": null,
            "grid_template_areas": null,
            "grid_template_columns": null,
            "grid_template_rows": null,
            "height": null,
            "justify_content": null,
            "justify_items": null,
            "left": null,
            "margin": null,
            "max_height": null,
            "max_width": null,
            "min_height": null,
            "min_width": null,
            "object_fit": null,
            "object_position": null,
            "order": null,
            "overflow": null,
            "overflow_x": null,
            "overflow_y": null,
            "padding": null,
            "right": null,
            "top": null,
            "visibility": null,
            "width": null
          }
        },
        "b43a0f9f84e44f86981cd58559c078c7": {
          "model_module": "@jupyter-widgets/controls",
          "model_name": "ProgressStyleModel",
          "model_module_version": "1.5.0",
          "state": {
            "_model_module": "@jupyter-widgets/controls",
            "_model_module_version": "1.5.0",
            "_model_name": "ProgressStyleModel",
            "_view_count": null,
            "_view_module": "@jupyter-widgets/base",
            "_view_module_version": "1.2.0",
            "_view_name": "StyleView",
            "bar_color": null,
            "description_width": ""
          }
        },
        "a75b736357d7489c98c4bf04de9684e6": {
          "model_module": "@jupyter-widgets/base",
          "model_name": "LayoutModel",
          "model_module_version": "1.2.0",
          "state": {
            "_model_module": "@jupyter-widgets/base",
            "_model_module_version": "1.2.0",
            "_model_name": "LayoutModel",
            "_view_count": null,
            "_view_module": "@jupyter-widgets/base",
            "_view_module_version": "1.2.0",
            "_view_name": "LayoutView",
            "align_content": null,
            "align_items": null,
            "align_self": null,
            "border": null,
            "bottom": null,
            "display": null,
            "flex": null,
            "flex_flow": null,
            "grid_area": null,
            "grid_auto_columns": null,
            "grid_auto_flow": null,
            "grid_auto_rows": null,
            "grid_column": null,
            "grid_gap": null,
            "grid_row": null,
            "grid_template_areas": null,
            "grid_template_columns": null,
            "grid_template_rows": null,
            "height": null,
            "justify_content": null,
            "justify_items": null,
            "left": null,
            "margin": null,
            "max_height": null,
            "max_width": null,
            "min_height": null,
            "min_width": null,
            "object_fit": null,
            "object_position": null,
            "order": null,
            "overflow": null,
            "overflow_x": null,
            "overflow_y": null,
            "padding": null,
            "right": null,
            "top": null,
            "visibility": null,
            "width": null
          }
        },
        "f349ccd00b9e4cf1b2b7fb62627fa81d": {
          "model_module": "@jupyter-widgets/controls",
          "model_name": "DescriptionStyleModel",
          "model_module_version": "1.5.0",
          "state": {
            "_model_module": "@jupyter-widgets/controls",
            "_model_module_version": "1.5.0",
            "_model_name": "DescriptionStyleModel",
            "_view_count": null,
            "_view_module": "@jupyter-widgets/base",
            "_view_module_version": "1.2.0",
            "_view_name": "StyleView",
            "description_width": ""
          }
        },
        "50e66ced8dc4446db61cfbf9355d170d": {
          "model_module": "@jupyter-widgets/controls",
          "model_name": "HBoxModel",
          "model_module_version": "1.5.0",
          "state": {
            "_dom_classes": [],
            "_model_module": "@jupyter-widgets/controls",
            "_model_module_version": "1.5.0",
            "_model_name": "HBoxModel",
            "_view_count": null,
            "_view_module": "@jupyter-widgets/controls",
            "_view_module_version": "1.5.0",
            "_view_name": "HBoxView",
            "box_style": "",
            "children": [
              "IPY_MODEL_f908ea7416e24a56a00c4256fa8767f7",
              "IPY_MODEL_f97109fe377a4bf0b8c93712988fa9a2",
              "IPY_MODEL_98e658eae26c4bbeaefa912b6d665a62"
            ],
            "layout": "IPY_MODEL_55da1fd6d1cf4a989be70884c1ce2404"
          }
        },
        "f908ea7416e24a56a00c4256fa8767f7": {
          "model_module": "@jupyter-widgets/controls",
          "model_name": "HTMLModel",
          "model_module_version": "1.5.0",
          "state": {
            "_dom_classes": [],
            "_model_module": "@jupyter-widgets/controls",
            "_model_module_version": "1.5.0",
            "_model_name": "HTMLModel",
            "_view_count": null,
            "_view_module": "@jupyter-widgets/controls",
            "_view_module_version": "1.5.0",
            "_view_name": "HTMLView",
            "description": "",
            "description_tooltip": null,
            "layout": "IPY_MODEL_f876238f4c2d41abb331a70281a15d70",
            "placeholder": "​",
            "style": "IPY_MODEL_c3f9cdce25cd4841aeda6f672efb9c67",
            "value": "Downloading (…)solve/main/vocab.txt: 100%"
          }
        },
        "f97109fe377a4bf0b8c93712988fa9a2": {
          "model_module": "@jupyter-widgets/controls",
          "model_name": "FloatProgressModel",
          "model_module_version": "1.5.0",
          "state": {
            "_dom_classes": [],
            "_model_module": "@jupyter-widgets/controls",
            "_model_module_version": "1.5.0",
            "_model_name": "FloatProgressModel",
            "_view_count": null,
            "_view_module": "@jupyter-widgets/controls",
            "_view_module_version": "1.5.0",
            "_view_name": "ProgressView",
            "bar_style": "success",
            "description": "",
            "description_tooltip": null,
            "layout": "IPY_MODEL_e8706563c73549499f812a3094bfb09d",
            "max": 231508,
            "min": 0,
            "orientation": "horizontal",
            "style": "IPY_MODEL_03c98774fbe14a8181747e1249fdbbda",
            "value": 231508
          }
        },
        "98e658eae26c4bbeaefa912b6d665a62": {
          "model_module": "@jupyter-widgets/controls",
          "model_name": "HTMLModel",
          "model_module_version": "1.5.0",
          "state": {
            "_dom_classes": [],
            "_model_module": "@jupyter-widgets/controls",
            "_model_module_version": "1.5.0",
            "_model_name": "HTMLModel",
            "_view_count": null,
            "_view_module": "@jupyter-widgets/controls",
            "_view_module_version": "1.5.0",
            "_view_name": "HTMLView",
            "description": "",
            "description_tooltip": null,
            "layout": "IPY_MODEL_3df94e481e3c40308b20b543e0340ecc",
            "placeholder": "​",
            "style": "IPY_MODEL_0a4cd8eb62fa46b4b4f6b2c082421e39",
            "value": " 232k/232k [00:00&lt;00:00, 3.91MB/s]"
          }
        },
        "55da1fd6d1cf4a989be70884c1ce2404": {
          "model_module": "@jupyter-widgets/base",
          "model_name": "LayoutModel",
          "model_module_version": "1.2.0",
          "state": {
            "_model_module": "@jupyter-widgets/base",
            "_model_module_version": "1.2.0",
            "_model_name": "LayoutModel",
            "_view_count": null,
            "_view_module": "@jupyter-widgets/base",
            "_view_module_version": "1.2.0",
            "_view_name": "LayoutView",
            "align_content": null,
            "align_items": null,
            "align_self": null,
            "border": null,
            "bottom": null,
            "display": null,
            "flex": null,
            "flex_flow": null,
            "grid_area": null,
            "grid_auto_columns": null,
            "grid_auto_flow": null,
            "grid_auto_rows": null,
            "grid_column": null,
            "grid_gap": null,
            "grid_row": null,
            "grid_template_areas": null,
            "grid_template_columns": null,
            "grid_template_rows": null,
            "height": null,
            "justify_content": null,
            "justify_items": null,
            "left": null,
            "margin": null,
            "max_height": null,
            "max_width": null,
            "min_height": null,
            "min_width": null,
            "object_fit": null,
            "object_position": null,
            "order": null,
            "overflow": null,
            "overflow_x": null,
            "overflow_y": null,
            "padding": null,
            "right": null,
            "top": null,
            "visibility": null,
            "width": null
          }
        },
        "f876238f4c2d41abb331a70281a15d70": {
          "model_module": "@jupyter-widgets/base",
          "model_name": "LayoutModel",
          "model_module_version": "1.2.0",
          "state": {
            "_model_module": "@jupyter-widgets/base",
            "_model_module_version": "1.2.0",
            "_model_name": "LayoutModel",
            "_view_count": null,
            "_view_module": "@jupyter-widgets/base",
            "_view_module_version": "1.2.0",
            "_view_name": "LayoutView",
            "align_content": null,
            "align_items": null,
            "align_self": null,
            "border": null,
            "bottom": null,
            "display": null,
            "flex": null,
            "flex_flow": null,
            "grid_area": null,
            "grid_auto_columns": null,
            "grid_auto_flow": null,
            "grid_auto_rows": null,
            "grid_column": null,
            "grid_gap": null,
            "grid_row": null,
            "grid_template_areas": null,
            "grid_template_columns": null,
            "grid_template_rows": null,
            "height": null,
            "justify_content": null,
            "justify_items": null,
            "left": null,
            "margin": null,
            "max_height": null,
            "max_width": null,
            "min_height": null,
            "min_width": null,
            "object_fit": null,
            "object_position": null,
            "order": null,
            "overflow": null,
            "overflow_x": null,
            "overflow_y": null,
            "padding": null,
            "right": null,
            "top": null,
            "visibility": null,
            "width": null
          }
        },
        "c3f9cdce25cd4841aeda6f672efb9c67": {
          "model_module": "@jupyter-widgets/controls",
          "model_name": "DescriptionStyleModel",
          "model_module_version": "1.5.0",
          "state": {
            "_model_module": "@jupyter-widgets/controls",
            "_model_module_version": "1.5.0",
            "_model_name": "DescriptionStyleModel",
            "_view_count": null,
            "_view_module": "@jupyter-widgets/base",
            "_view_module_version": "1.2.0",
            "_view_name": "StyleView",
            "description_width": ""
          }
        },
        "e8706563c73549499f812a3094bfb09d": {
          "model_module": "@jupyter-widgets/base",
          "model_name": "LayoutModel",
          "model_module_version": "1.2.0",
          "state": {
            "_model_module": "@jupyter-widgets/base",
            "_model_module_version": "1.2.0",
            "_model_name": "LayoutModel",
            "_view_count": null,
            "_view_module": "@jupyter-widgets/base",
            "_view_module_version": "1.2.0",
            "_view_name": "LayoutView",
            "align_content": null,
            "align_items": null,
            "align_self": null,
            "border": null,
            "bottom": null,
            "display": null,
            "flex": null,
            "flex_flow": null,
            "grid_area": null,
            "grid_auto_columns": null,
            "grid_auto_flow": null,
            "grid_auto_rows": null,
            "grid_column": null,
            "grid_gap": null,
            "grid_row": null,
            "grid_template_areas": null,
            "grid_template_columns": null,
            "grid_template_rows": null,
            "height": null,
            "justify_content": null,
            "justify_items": null,
            "left": null,
            "margin": null,
            "max_height": null,
            "max_width": null,
            "min_height": null,
            "min_width": null,
            "object_fit": null,
            "object_position": null,
            "order": null,
            "overflow": null,
            "overflow_x": null,
            "overflow_y": null,
            "padding": null,
            "right": null,
            "top": null,
            "visibility": null,
            "width": null
          }
        },
        "03c98774fbe14a8181747e1249fdbbda": {
          "model_module": "@jupyter-widgets/controls",
          "model_name": "ProgressStyleModel",
          "model_module_version": "1.5.0",
          "state": {
            "_model_module": "@jupyter-widgets/controls",
            "_model_module_version": "1.5.0",
            "_model_name": "ProgressStyleModel",
            "_view_count": null,
            "_view_module": "@jupyter-widgets/base",
            "_view_module_version": "1.2.0",
            "_view_name": "StyleView",
            "bar_color": null,
            "description_width": ""
          }
        },
        "3df94e481e3c40308b20b543e0340ecc": {
          "model_module": "@jupyter-widgets/base",
          "model_name": "LayoutModel",
          "model_module_version": "1.2.0",
          "state": {
            "_model_module": "@jupyter-widgets/base",
            "_model_module_version": "1.2.0",
            "_model_name": "LayoutModel",
            "_view_count": null,
            "_view_module": "@jupyter-widgets/base",
            "_view_module_version": "1.2.0",
            "_view_name": "LayoutView",
            "align_content": null,
            "align_items": null,
            "align_self": null,
            "border": null,
            "bottom": null,
            "display": null,
            "flex": null,
            "flex_flow": null,
            "grid_area": null,
            "grid_auto_columns": null,
            "grid_auto_flow": null,
            "grid_auto_rows": null,
            "grid_column": null,
            "grid_gap": null,
            "grid_row": null,
            "grid_template_areas": null,
            "grid_template_columns": null,
            "grid_template_rows": null,
            "height": null,
            "justify_content": null,
            "justify_items": null,
            "left": null,
            "margin": null,
            "max_height": null,
            "max_width": null,
            "min_height": null,
            "min_width": null,
            "object_fit": null,
            "object_position": null,
            "order": null,
            "overflow": null,
            "overflow_x": null,
            "overflow_y": null,
            "padding": null,
            "right": null,
            "top": null,
            "visibility": null,
            "width": null
          }
        },
        "0a4cd8eb62fa46b4b4f6b2c082421e39": {
          "model_module": "@jupyter-widgets/controls",
          "model_name": "DescriptionStyleModel",
          "model_module_version": "1.5.0",
          "state": {
            "_model_module": "@jupyter-widgets/controls",
            "_model_module_version": "1.5.0",
            "_model_name": "DescriptionStyleModel",
            "_view_count": null,
            "_view_module": "@jupyter-widgets/base",
            "_view_module_version": "1.2.0",
            "_view_name": "StyleView",
            "description_width": ""
          }
        },
        "f5502355e7d5425f84c2bf8a00e6a454": {
          "model_module": "@jupyter-widgets/controls",
          "model_name": "HBoxModel",
          "model_module_version": "1.5.0",
          "state": {
            "_dom_classes": [],
            "_model_module": "@jupyter-widgets/controls",
            "_model_module_version": "1.5.0",
            "_model_name": "HBoxModel",
            "_view_count": null,
            "_view_module": "@jupyter-widgets/controls",
            "_view_module_version": "1.5.0",
            "_view_name": "HBoxView",
            "box_style": "",
            "children": [
              "IPY_MODEL_61ad8d0d96ec481ebaa183849703f213",
              "IPY_MODEL_79bccdc95bdb43ccbc8959b5b09749b4",
              "IPY_MODEL_b56b988a5d2f416d9227c765eb99f591"
            ],
            "layout": "IPY_MODEL_518ead4bedb441a7a386f524b795c864"
          }
        },
        "61ad8d0d96ec481ebaa183849703f213": {
          "model_module": "@jupyter-widgets/controls",
          "model_name": "HTMLModel",
          "model_module_version": "1.5.0",
          "state": {
            "_dom_classes": [],
            "_model_module": "@jupyter-widgets/controls",
            "_model_module_version": "1.5.0",
            "_model_name": "HTMLModel",
            "_view_count": null,
            "_view_module": "@jupyter-widgets/controls",
            "_view_module_version": "1.5.0",
            "_view_name": "HTMLView",
            "description": "",
            "description_tooltip": null,
            "layout": "IPY_MODEL_6b025571131140a5b910b25ae21fb237",
            "placeholder": "​",
            "style": "IPY_MODEL_4b5593bbc54b4744ab8ed0dbeb2a4f4d",
            "value": "Downloading (…)/main/tokenizer.json: 100%"
          }
        },
        "79bccdc95bdb43ccbc8959b5b09749b4": {
          "model_module": "@jupyter-widgets/controls",
          "model_name": "FloatProgressModel",
          "model_module_version": "1.5.0",
          "state": {
            "_dom_classes": [],
            "_model_module": "@jupyter-widgets/controls",
            "_model_module_version": "1.5.0",
            "_model_name": "FloatProgressModel",
            "_view_count": null,
            "_view_module": "@jupyter-widgets/controls",
            "_view_module_version": "1.5.0",
            "_view_name": "ProgressView",
            "bar_style": "success",
            "description": "",
            "description_tooltip": null,
            "layout": "IPY_MODEL_ce5876575721489692260f42fccfa884",
            "max": 466062,
            "min": 0,
            "orientation": "horizontal",
            "style": "IPY_MODEL_39fd02aa49ce46d284687571c0a4b3a2",
            "value": 466062
          }
        },
        "b56b988a5d2f416d9227c765eb99f591": {
          "model_module": "@jupyter-widgets/controls",
          "model_name": "HTMLModel",
          "model_module_version": "1.5.0",
          "state": {
            "_dom_classes": [],
            "_model_module": "@jupyter-widgets/controls",
            "_model_module_version": "1.5.0",
            "_model_name": "HTMLModel",
            "_view_count": null,
            "_view_module": "@jupyter-widgets/controls",
            "_view_module_version": "1.5.0",
            "_view_name": "HTMLView",
            "description": "",
            "description_tooltip": null,
            "layout": "IPY_MODEL_006678ae32a3418d81e865dc0be74caa",
            "placeholder": "​",
            "style": "IPY_MODEL_052f304ee3324b42a75fc13395d0e962",
            "value": " 466k/466k [00:00&lt;00:00, 12.0MB/s]"
          }
        },
        "518ead4bedb441a7a386f524b795c864": {
          "model_module": "@jupyter-widgets/base",
          "model_name": "LayoutModel",
          "model_module_version": "1.2.0",
          "state": {
            "_model_module": "@jupyter-widgets/base",
            "_model_module_version": "1.2.0",
            "_model_name": "LayoutModel",
            "_view_count": null,
            "_view_module": "@jupyter-widgets/base",
            "_view_module_version": "1.2.0",
            "_view_name": "LayoutView",
            "align_content": null,
            "align_items": null,
            "align_self": null,
            "border": null,
            "bottom": null,
            "display": null,
            "flex": null,
            "flex_flow": null,
            "grid_area": null,
            "grid_auto_columns": null,
            "grid_auto_flow": null,
            "grid_auto_rows": null,
            "grid_column": null,
            "grid_gap": null,
            "grid_row": null,
            "grid_template_areas": null,
            "grid_template_columns": null,
            "grid_template_rows": null,
            "height": null,
            "justify_content": null,
            "justify_items": null,
            "left": null,
            "margin": null,
            "max_height": null,
            "max_width": null,
            "min_height": null,
            "min_width": null,
            "object_fit": null,
            "object_position": null,
            "order": null,
            "overflow": null,
            "overflow_x": null,
            "overflow_y": null,
            "padding": null,
            "right": null,
            "top": null,
            "visibility": null,
            "width": null
          }
        },
        "6b025571131140a5b910b25ae21fb237": {
          "model_module": "@jupyter-widgets/base",
          "model_name": "LayoutModel",
          "model_module_version": "1.2.0",
          "state": {
            "_model_module": "@jupyter-widgets/base",
            "_model_module_version": "1.2.0",
            "_model_name": "LayoutModel",
            "_view_count": null,
            "_view_module": "@jupyter-widgets/base",
            "_view_module_version": "1.2.0",
            "_view_name": "LayoutView",
            "align_content": null,
            "align_items": null,
            "align_self": null,
            "border": null,
            "bottom": null,
            "display": null,
            "flex": null,
            "flex_flow": null,
            "grid_area": null,
            "grid_auto_columns": null,
            "grid_auto_flow": null,
            "grid_auto_rows": null,
            "grid_column": null,
            "grid_gap": null,
            "grid_row": null,
            "grid_template_areas": null,
            "grid_template_columns": null,
            "grid_template_rows": null,
            "height": null,
            "justify_content": null,
            "justify_items": null,
            "left": null,
            "margin": null,
            "max_height": null,
            "max_width": null,
            "min_height": null,
            "min_width": null,
            "object_fit": null,
            "object_position": null,
            "order": null,
            "overflow": null,
            "overflow_x": null,
            "overflow_y": null,
            "padding": null,
            "right": null,
            "top": null,
            "visibility": null,
            "width": null
          }
        },
        "4b5593bbc54b4744ab8ed0dbeb2a4f4d": {
          "model_module": "@jupyter-widgets/controls",
          "model_name": "DescriptionStyleModel",
          "model_module_version": "1.5.0",
          "state": {
            "_model_module": "@jupyter-widgets/controls",
            "_model_module_version": "1.5.0",
            "_model_name": "DescriptionStyleModel",
            "_view_count": null,
            "_view_module": "@jupyter-widgets/base",
            "_view_module_version": "1.2.0",
            "_view_name": "StyleView",
            "description_width": ""
          }
        },
        "ce5876575721489692260f42fccfa884": {
          "model_module": "@jupyter-widgets/base",
          "model_name": "LayoutModel",
          "model_module_version": "1.2.0",
          "state": {
            "_model_module": "@jupyter-widgets/base",
            "_model_module_version": "1.2.0",
            "_model_name": "LayoutModel",
            "_view_count": null,
            "_view_module": "@jupyter-widgets/base",
            "_view_module_version": "1.2.0",
            "_view_name": "LayoutView",
            "align_content": null,
            "align_items": null,
            "align_self": null,
            "border": null,
            "bottom": null,
            "display": null,
            "flex": null,
            "flex_flow": null,
            "grid_area": null,
            "grid_auto_columns": null,
            "grid_auto_flow": null,
            "grid_auto_rows": null,
            "grid_column": null,
            "grid_gap": null,
            "grid_row": null,
            "grid_template_areas": null,
            "grid_template_columns": null,
            "grid_template_rows": null,
            "height": null,
            "justify_content": null,
            "justify_items": null,
            "left": null,
            "margin": null,
            "max_height": null,
            "max_width": null,
            "min_height": null,
            "min_width": null,
            "object_fit": null,
            "object_position": null,
            "order": null,
            "overflow": null,
            "overflow_x": null,
            "overflow_y": null,
            "padding": null,
            "right": null,
            "top": null,
            "visibility": null,
            "width": null
          }
        },
        "39fd02aa49ce46d284687571c0a4b3a2": {
          "model_module": "@jupyter-widgets/controls",
          "model_name": "ProgressStyleModel",
          "model_module_version": "1.5.0",
          "state": {
            "_model_module": "@jupyter-widgets/controls",
            "_model_module_version": "1.5.0",
            "_model_name": "ProgressStyleModel",
            "_view_count": null,
            "_view_module": "@jupyter-widgets/base",
            "_view_module_version": "1.2.0",
            "_view_name": "StyleView",
            "bar_color": null,
            "description_width": ""
          }
        },
        "006678ae32a3418d81e865dc0be74caa": {
          "model_module": "@jupyter-widgets/base",
          "model_name": "LayoutModel",
          "model_module_version": "1.2.0",
          "state": {
            "_model_module": "@jupyter-widgets/base",
            "_model_module_version": "1.2.0",
            "_model_name": "LayoutModel",
            "_view_count": null,
            "_view_module": "@jupyter-widgets/base",
            "_view_module_version": "1.2.0",
            "_view_name": "LayoutView",
            "align_content": null,
            "align_items": null,
            "align_self": null,
            "border": null,
            "bottom": null,
            "display": null,
            "flex": null,
            "flex_flow": null,
            "grid_area": null,
            "grid_auto_columns": null,
            "grid_auto_flow": null,
            "grid_auto_rows": null,
            "grid_column": null,
            "grid_gap": null,
            "grid_row": null,
            "grid_template_areas": null,
            "grid_template_columns": null,
            "grid_template_rows": null,
            "height": null,
            "justify_content": null,
            "justify_items": null,
            "left": null,
            "margin": null,
            "max_height": null,
            "max_width": null,
            "min_height": null,
            "min_width": null,
            "object_fit": null,
            "object_position": null,
            "order": null,
            "overflow": null,
            "overflow_x": null,
            "overflow_y": null,
            "padding": null,
            "right": null,
            "top": null,
            "visibility": null,
            "width": null
          }
        },
        "052f304ee3324b42a75fc13395d0e962": {
          "model_module": "@jupyter-widgets/controls",
          "model_name": "DescriptionStyleModel",
          "model_module_version": "1.5.0",
          "state": {
            "_model_module": "@jupyter-widgets/controls",
            "_model_module_version": "1.5.0",
            "_model_name": "DescriptionStyleModel",
            "_view_count": null,
            "_view_module": "@jupyter-widgets/base",
            "_view_module_version": "1.2.0",
            "_view_name": "StyleView",
            "description_width": ""
          }
        }
      }
    }
  },
  "cells": [
    {
      "cell_type": "code",
      "execution_count": null,
      "metadata": {
        "id": "pM4GNacqQ1fe"
      },
      "outputs": [],
      "source": [
        "import pandas as pd\n",
        "import numpy as np\n",
        "import nltk\n",
        "import seaborn as sns\n",
        "import unicodedata\n",
        "import re\n",
        "import spacy\n",
        "import matplotlib.pyplot as plt"
      ]
    },
    {
      "cell_type": "code",
      "source": [
        "df=pd.read_csv('Turing Talks.csv')"
      ],
      "metadata": {
        "id": "nqoVYwFsS_NI"
      },
      "execution_count": null,
      "outputs": []
    },
    {
      "cell_type": "code",
      "source": [
        "df.head()"
      ],
      "metadata": {
        "colab": {
          "base_uri": "https://localhost:8080/",
          "height": 362
        },
        "id": "oK-joBehTLKr",
        "outputId": "d34425aa-1500-451e-df6a-68047e317678"
      },
      "execution_count": null,
      "outputs": [
        {
          "output_type": "execute_result",
          "data": {
            "text/plain": [
              "                                                 url  \\\n",
              "0  https://medium.com/turing-talks/turing-talks-1...   \n",
              "1  https://medium.com/turing-talks/turing-talks-2...   \n",
              "2  https://medium.com/turing-talks/turing-talks-3...   \n",
              "3  https://medium.com/turing-talks/turing-talks-4...   \n",
              "4  https://medium.com/turing-talks/turing-talks-5...   \n",
              "\n",
              "                                  title  \\\n",
              "0            O que é o Teste de Turing?   \n",
              "1             O que é Machine Learning?   \n",
              "2  Aplicações | Carcinoma Hepatocelular   \n",
              "3        Programação | Python — Parte 1   \n",
              "4        Programação | Python — Parte 2   \n",
              "\n",
              "                                            subtitle  \\\n",
              "0  Entenda a lógica por trás do teste proposto pe...   \n",
              "1                                                NaN   \n",
              "2  Como a Inteligência Artificial pode ajudar na ...   \n",
              "3                                                NaN   \n",
              "4  Mais detalhes sobre uma das linguagens de prog...   \n",
              "\n",
              "                             author  claps  reading_time        date  \\\n",
              "0                   Rodrigo Magaldi    534             5  2019-02-17   \n",
              "1                   Rodrigo Estevam    441             5  2019-04-28   \n",
              "2  Felipe Augusto de Moraes Machado    600             5  2019-05-12   \n",
              "3            Lucas Fentanes Machado    731             9  2019-05-19   \n",
              "4                Fernando Matsumoto    546            10  2019-05-26   \n",
              "\n",
              "                                                text  \n",
              "0  Consideremos a seguinte questão: as máquinas c...  \n",
              "1  Olá grandes entusiastas de Inteligência Artifi...  \n",
              "2  Imagine a seguinte situação: você possui carci...  \n",
              "3  Uma introdução a uma das linguagens de program...  \n",
              "4  Na semana passada, passamos o básico da lingua...  "
            ],
            "text/html": [
              "\n",
              "  <div id=\"df-8b8dee04-afcb-4a16-a1b3-1ba6ed21fc93\" class=\"colab-df-container\">\n",
              "    <div>\n",
              "<style scoped>\n",
              "    .dataframe tbody tr th:only-of-type {\n",
              "        vertical-align: middle;\n",
              "    }\n",
              "\n",
              "    .dataframe tbody tr th {\n",
              "        vertical-align: top;\n",
              "    }\n",
              "\n",
              "    .dataframe thead th {\n",
              "        text-align: right;\n",
              "    }\n",
              "</style>\n",
              "<table border=\"1\" class=\"dataframe\">\n",
              "  <thead>\n",
              "    <tr style=\"text-align: right;\">\n",
              "      <th></th>\n",
              "      <th>url</th>\n",
              "      <th>title</th>\n",
              "      <th>subtitle</th>\n",
              "      <th>author</th>\n",
              "      <th>claps</th>\n",
              "      <th>reading_time</th>\n",
              "      <th>date</th>\n",
              "      <th>text</th>\n",
              "    </tr>\n",
              "  </thead>\n",
              "  <tbody>\n",
              "    <tr>\n",
              "      <th>0</th>\n",
              "      <td>https://medium.com/turing-talks/turing-talks-1...</td>\n",
              "      <td>O que é o Teste de Turing?</td>\n",
              "      <td>Entenda a lógica por trás do teste proposto pe...</td>\n",
              "      <td>Rodrigo Magaldi</td>\n",
              "      <td>534</td>\n",
              "      <td>5</td>\n",
              "      <td>2019-02-17</td>\n",
              "      <td>Consideremos a seguinte questão: as máquinas c...</td>\n",
              "    </tr>\n",
              "    <tr>\n",
              "      <th>1</th>\n",
              "      <td>https://medium.com/turing-talks/turing-talks-2...</td>\n",
              "      <td>O que é Machine Learning?</td>\n",
              "      <td>NaN</td>\n",
              "      <td>Rodrigo Estevam</td>\n",
              "      <td>441</td>\n",
              "      <td>5</td>\n",
              "      <td>2019-04-28</td>\n",
              "      <td>Olá grandes entusiastas de Inteligência Artifi...</td>\n",
              "    </tr>\n",
              "    <tr>\n",
              "      <th>2</th>\n",
              "      <td>https://medium.com/turing-talks/turing-talks-3...</td>\n",
              "      <td>Aplicações | Carcinoma Hepatocelular</td>\n",
              "      <td>Como a Inteligência Artificial pode ajudar na ...</td>\n",
              "      <td>Felipe Augusto de Moraes Machado</td>\n",
              "      <td>600</td>\n",
              "      <td>5</td>\n",
              "      <td>2019-05-12</td>\n",
              "      <td>Imagine a seguinte situação: você possui carci...</td>\n",
              "    </tr>\n",
              "    <tr>\n",
              "      <th>3</th>\n",
              "      <td>https://medium.com/turing-talks/turing-talks-4...</td>\n",
              "      <td>Programação | Python — Parte 1</td>\n",
              "      <td>NaN</td>\n",
              "      <td>Lucas Fentanes Machado</td>\n",
              "      <td>731</td>\n",
              "      <td>9</td>\n",
              "      <td>2019-05-19</td>\n",
              "      <td>Uma introdução a uma das linguagens de program...</td>\n",
              "    </tr>\n",
              "    <tr>\n",
              "      <th>4</th>\n",
              "      <td>https://medium.com/turing-talks/turing-talks-5...</td>\n",
              "      <td>Programação | Python — Parte 2</td>\n",
              "      <td>Mais detalhes sobre uma das linguagens de prog...</td>\n",
              "      <td>Fernando Matsumoto</td>\n",
              "      <td>546</td>\n",
              "      <td>10</td>\n",
              "      <td>2019-05-26</td>\n",
              "      <td>Na semana passada, passamos o básico da lingua...</td>\n",
              "    </tr>\n",
              "  </tbody>\n",
              "</table>\n",
              "</div>\n",
              "    <div class=\"colab-df-buttons\">\n",
              "\n",
              "  <div class=\"colab-df-container\">\n",
              "    <button class=\"colab-df-convert\" onclick=\"convertToInteractive('df-8b8dee04-afcb-4a16-a1b3-1ba6ed21fc93')\"\n",
              "            title=\"Convert this dataframe to an interactive table.\"\n",
              "            style=\"display:none;\">\n",
              "\n",
              "  <svg xmlns=\"http://www.w3.org/2000/svg\" height=\"24px\" viewBox=\"0 -960 960 960\">\n",
              "    <path d=\"M120-120v-720h720v720H120Zm60-500h600v-160H180v160Zm220 220h160v-160H400v160Zm0 220h160v-160H400v160ZM180-400h160v-160H180v160Zm440 0h160v-160H620v160ZM180-180h160v-160H180v160Zm440 0h160v-160H620v160Z\"/>\n",
              "  </svg>\n",
              "    </button>\n",
              "\n",
              "  <style>\n",
              "    .colab-df-container {\n",
              "      display:flex;\n",
              "      gap: 12px;\n",
              "    }\n",
              "\n",
              "    .colab-df-convert {\n",
              "      background-color: #E8F0FE;\n",
              "      border: none;\n",
              "      border-radius: 50%;\n",
              "      cursor: pointer;\n",
              "      display: none;\n",
              "      fill: #1967D2;\n",
              "      height: 32px;\n",
              "      padding: 0 0 0 0;\n",
              "      width: 32px;\n",
              "    }\n",
              "\n",
              "    .colab-df-convert:hover {\n",
              "      background-color: #E2EBFA;\n",
              "      box-shadow: 0px 1px 2px rgba(60, 64, 67, 0.3), 0px 1px 3px 1px rgba(60, 64, 67, 0.15);\n",
              "      fill: #174EA6;\n",
              "    }\n",
              "\n",
              "    .colab-df-buttons div {\n",
              "      margin-bottom: 4px;\n",
              "    }\n",
              "\n",
              "    [theme=dark] .colab-df-convert {\n",
              "      background-color: #3B4455;\n",
              "      fill: #D2E3FC;\n",
              "    }\n",
              "\n",
              "    [theme=dark] .colab-df-convert:hover {\n",
              "      background-color: #434B5C;\n",
              "      box-shadow: 0px 1px 3px 1px rgba(0, 0, 0, 0.15);\n",
              "      filter: drop-shadow(0px 1px 2px rgba(0, 0, 0, 0.3));\n",
              "      fill: #FFFFFF;\n",
              "    }\n",
              "  </style>\n",
              "\n",
              "    <script>\n",
              "      const buttonEl =\n",
              "        document.querySelector('#df-8b8dee04-afcb-4a16-a1b3-1ba6ed21fc93 button.colab-df-convert');\n",
              "      buttonEl.style.display =\n",
              "        google.colab.kernel.accessAllowed ? 'block' : 'none';\n",
              "\n",
              "      async function convertToInteractive(key) {\n",
              "        const element = document.querySelector('#df-8b8dee04-afcb-4a16-a1b3-1ba6ed21fc93');\n",
              "        const dataTable =\n",
              "          await google.colab.kernel.invokeFunction('convertToInteractive',\n",
              "                                                    [key], {});\n",
              "        if (!dataTable) return;\n",
              "\n",
              "        const docLinkHtml = 'Like what you see? Visit the ' +\n",
              "          '<a target=\"_blank\" href=https://colab.research.google.com/notebooks/data_table.ipynb>data table notebook</a>'\n",
              "          + ' to learn more about interactive tables.';\n",
              "        element.innerHTML = '';\n",
              "        dataTable['output_type'] = 'display_data';\n",
              "        await google.colab.output.renderOutput(dataTable, element);\n",
              "        const docLink = document.createElement('div');\n",
              "        docLink.innerHTML = docLinkHtml;\n",
              "        element.appendChild(docLink);\n",
              "      }\n",
              "    </script>\n",
              "  </div>\n",
              "\n",
              "\n",
              "<div id=\"df-802c9da8-0379-4762-8b77-a2eb5b09d046\">\n",
              "  <button class=\"colab-df-quickchart\" onclick=\"quickchart('df-802c9da8-0379-4762-8b77-a2eb5b09d046')\"\n",
              "            title=\"Suggest charts.\"\n",
              "            style=\"display:none;\">\n",
              "\n",
              "<svg xmlns=\"http://www.w3.org/2000/svg\" height=\"24px\"viewBox=\"0 0 24 24\"\n",
              "     width=\"24px\">\n",
              "    <g>\n",
              "        <path d=\"M19 3H5c-1.1 0-2 .9-2 2v14c0 1.1.9 2 2 2h14c1.1 0 2-.9 2-2V5c0-1.1-.9-2-2-2zM9 17H7v-7h2v7zm4 0h-2V7h2v10zm4 0h-2v-4h2v4z\"/>\n",
              "    </g>\n",
              "</svg>\n",
              "  </button>\n",
              "\n",
              "<style>\n",
              "  .colab-df-quickchart {\n",
              "    background-color: #E8F0FE;\n",
              "    border: none;\n",
              "    border-radius: 50%;\n",
              "    cursor: pointer;\n",
              "    display: none;\n",
              "    fill: #1967D2;\n",
              "    height: 32px;\n",
              "    padding: 0 0 0 0;\n",
              "    width: 32px;\n",
              "  }\n",
              "\n",
              "  .colab-df-quickchart:hover {\n",
              "    background-color: #E2EBFA;\n",
              "    box-shadow: 0px 1px 2px rgba(60, 64, 67, 0.3), 0px 1px 3px 1px rgba(60, 64, 67, 0.15);\n",
              "    fill: #174EA6;\n",
              "  }\n",
              "\n",
              "  [theme=dark] .colab-df-quickchart {\n",
              "    background-color: #3B4455;\n",
              "    fill: #D2E3FC;\n",
              "  }\n",
              "\n",
              "  [theme=dark] .colab-df-quickchart:hover {\n",
              "    background-color: #434B5C;\n",
              "    box-shadow: 0px 1px 3px 1px rgba(0, 0, 0, 0.15);\n",
              "    filter: drop-shadow(0px 1px 2px rgba(0, 0, 0, 0.3));\n",
              "    fill: #FFFFFF;\n",
              "  }\n",
              "</style>\n",
              "\n",
              "  <script>\n",
              "    async function quickchart(key) {\n",
              "      const charts = await google.colab.kernel.invokeFunction(\n",
              "          'suggestCharts', [key], {});\n",
              "    }\n",
              "    (() => {\n",
              "      let quickchartButtonEl =\n",
              "        document.querySelector('#df-802c9da8-0379-4762-8b77-a2eb5b09d046 button');\n",
              "      quickchartButtonEl.style.display =\n",
              "        google.colab.kernel.accessAllowed ? 'block' : 'none';\n",
              "    })();\n",
              "  </script>\n",
              "</div>\n",
              "    </div>\n",
              "  </div>\n"
            ]
          },
          "metadata": {},
          "execution_count": 4
        }
      ]
    },
    {
      "cell_type": "code",
      "source": [
        "df.info()"
      ],
      "metadata": {
        "colab": {
          "base_uri": "https://localhost:8080/"
        },
        "id": "X9ViOqbC3nS-",
        "outputId": "d34df6ae-6bcb-43c9-d824-bebca53942f3"
      },
      "execution_count": null,
      "outputs": [
        {
          "output_type": "stream",
          "name": "stdout",
          "text": [
            "<class 'pandas.core.frame.DataFrame'>\n",
            "RangeIndex: 110 entries, 0 to 109\n",
            "Data columns (total 8 columns):\n",
            " #   Column        Non-Null Count  Dtype \n",
            "---  ------        --------------  ----- \n",
            " 0   url           110 non-null    object\n",
            " 1   title         110 non-null    object\n",
            " 2   subtitle      81 non-null     object\n",
            " 3   author        110 non-null    object\n",
            " 4   claps         110 non-null    int64 \n",
            " 5   reading_time  110 non-null    int64 \n",
            " 6   date          110 non-null    object\n",
            " 7   text          110 non-null    object\n",
            "dtypes: int64(2), object(6)\n",
            "memory usage: 7.0+ KB\n"
          ]
        }
      ]
    },
    {
      "cell_type": "markdown",
      "source": [
        "#1 pré-processamento:"
      ],
      "metadata": {
        "id": "qkCNlcbiU6U5"
      }
    },
    {
      "cell_type": "code",
      "source": [
        "df['text'][4]"
      ],
      "metadata": {
        "colab": {
          "base_uri": "https://localhost:8080/",
          "height": 157
        },
        "id": "UjdnJKXP93XF",
        "outputId": "f6df9ee4-0075-4f8f-bf87-23eb697bfa59"
      },
      "execution_count": null,
      "outputs": [
        {
          "output_type": "execute_result",
          "data": {
            "text/plain": [
              "\"Na semana passada, passamos o básico da linguagem de programação Python. Introduzimos conceitos básicos como variáveis, atribuições e operações, assim como print, input e listas. Nesta semana, o nosso objetivo é terminar essa introdução, introduzindo conceitos como loops e funções. Poderemos então utilizar esses novos conhecimentos para explorar as áreas de Data Science e Machine Learning. Existe uma função range(a,b,c) em Python que cria uma sequência de números automaticamente¹, sendo apenas necessário identificar o início a, o fim b e o passo c. Os números começam em a e aumentam até atingirem b (note que b não é incluído na sequência). O passo c é a diferença entre números consecutivos nessa sequência. Por exemplo: Mais formalmente, a função range pode ser definida da seguinte maneira: range(a,b,c) ≡ [a, a+1c, a+2c, a+3c, … ,❋] , ❋<b, ❋+c≥b. Saiba que colocar apenas dois termos em range() fará com que o passo seja automaticamente igual a 1 (range(a,b) == range(a,b,1)), ou seja, range(a,b) = range(a,b,1) ≡ [a, a+1, a+2, …, b-1]. Também é bom saber que dar à função apenas um número fará uma lista que começa em zero, tem passo igual a 1 e tem comprimento igual ao valor dado à função (range(a) == range(0,a,1)). Então: range(a) = range(0, a, 1) ≡ [0, 1 ,2, …, a-1] ¹ Essa sequência de números se comporta como se fosse uma lista, mas há algumas diferenças. Por exemplo, não se pode adicionar números a essa sequência usando a função .append(). Para transformar essa sequência em uma lista, basta usar list(range(a,b,c)). Em Python, às vezes, é necessário realizar diversas operações repetitivas, como imprimir uma sequência de números consecutivos. Para esse tipo de tarefa, são utilizados loops. Temos duas maneiras de executar um loop em Python. Podemos fazer utilizando um for, ou por meio de um while. While loop: repete um bloco de código enquanto uma condição for verdadeira. For loop: passa por todos os elementos de uma sequência, na ordem em que eles aparecem. No exemplo abaixo, o bloco dentro do for é executado uma vez para cada elemento da lista a. Você também pode iterar utilizando a função range: Caso seja necessário modificar a lista sobre a qual você está iterando, é necessário fazer uma cópia da lista. Isso pode ser feito utilizando a notação lista[:] vista acima. Os dicionários são uma outra estrutura de dados nativa do Python. Esta estrutura é basicamente composta por elementos que possuem dois componentes: uma chave e um valor. Eles são a implementação, em Python, de hash tables. São extremamente úteis para diversas aplicações. Um dicionário possui a seguinte estrutura: dicionario = {key0:value0, key1:value1, key2:value2,..., keyN:valueN} Como as listas, ele pode ser criado vazio ou já possuindo um ou mais elementos, como está mostrado no exemplo abaixo: Para acessar os valores de um dicionário, usamos uma sintaxe parecida com as listas, utilizando os colchetes ([]), entretanto entre eles não vai o índice do elemento, e sim a sua chave. Além disso, podemos iterar em um dicionário, utilizando o método keys() , que retorna um iterador de todas as chaves do respectivo dicionário. Um iterador é simplesmente um objeto no qual podemos iterar sobre, ou seja, pode ser uma lista ou uma tupla (será explicado adiante), por exemplo. Utilizando os dicionários criados no exemplo anterior, vamos demonstrar estas funcionalidades: Neste exemplo, apareceu algo que ainda não tínhamos visto, a função format() . Ela é muito útil para formatar strings, colocando valores de variáveis nos textos. Ela funciona da seguinte maneira: Ao criarmos a string, colocamos entre chaves ({}) os valores que serão substitúidos por variáveis. No exemplo acima, temos 'Chave do elemento: {c}' , isto é, {c} será substituído por alguma variável que queremos mostrar. Depois, para efetivamente substituirmos os valores, bastante aplicarmos a função format() , e referenciarmos os valores entre chaves em seus argumentos, como fazemos em format(c=key) . Poderíamos fazer 'A chave do elemento é {chave}.format(chave=key), por exemplo. (No Python 3.6 , há também as f-strings). Uma aplicação desta estrutura poderia ser: Quero utilizar uma estrutura de dados para guardar diversas músicas, e para cada música, quero guardar o nome, a banda e o ano. O dicionário cai como uma luva, pois facilita a leitura, é intuitivo e é extremamente prático recuperarmos os dados guardados. A estrutura poderia ser facilmente construída da seguinte maneira: Sim, o dicionário pode ser utilizado em conjunto com listas! Use sua criatividade para criar seus mixes de estruturas de dados de forma que seus dados possam ser acessados de forma eficiente e até para facilitar o entendimento do seu código para o outros programadores. A clareza do seu código é extremamente importante! (Procure sobre code readability). Por fim, o dicionário é uma ótima estrutura de dados para armazenar dados. Em Python, é facilmente transformado num JSON, que é muito usado para envio e recebimento de dados. Como a última estrutura de dados apresentada neste tutorial, temos a tupla. A tupla é muito parecida com uma lista, porém é imutável. Visualmente, a única diferença é que uma lista é criada utilizando-se colchetes ([]), já a tupla é criada utilizando-se parênteses (()). Quando dissemos que esta estrutura de dados é imutável, isso quer dizer que, depois de criada, não pode ser mais alterada. Não é possível adicionar, remover ou alterar elementos. Ela é uma estrutura mais rígida e segura, cujo objetivo é armazenar dados que devem ser manter inalterados ao longo do andamento do programa. Ela é usada, por exemplo, no funcionamento dos *args como você verá em breve. Abaixo temos um exemplo de criação de tupla, seguido de tentativas de alterá-la. Uma função é um bloco de código organizado e reutilizável que realiza uma certa ação. Para se criar uma função em Python, deve-se seguir a estrutura: Primeiro, usaremos apenas argumentos posicionais. Portanto, a ordem que os parâmetros da função são inseridos deve ser a mesma que foram declarados no argumento da função. Após a função ser criada, podemos chamá-la informando os argumentos e ela retornará o valor da expressão colocada no return. Vejamos alguns exemplos: Exemplo 1 Neste primeiro exemplo, estamos criando uma função que printa o texto passado como argumento. Exemplo 2 Neste outro exemplo, estamos criando uma outra função, que soma os dois argumentos passados a ela. Todos argumentos em Python são passados por referência. Isso quer dizer que se você mudar um dos parâmetros dentro de uma função, a mudança também reflete na chamada na função. Exemplo: Neste caso, mantivemos a referência do objeto passado e simplesmente anexamos valores no mesmo objeto. Isso produziria o resultado: Os argumentos de uma função devem ser passados na ordem posicional correta. O número de argumentos na chamada da função deve ser igual ao número na definição da função (novamente, isso se deve pois estamos utiliznado argumentos posicionais. Na pŕoxima parte, explicaremos sobre outros tipos de argumentos). As variáveis do programa podem não estar disponíveis em todas localizações do programa. Isso depende de onde a variável foi declarada. As variáveis podem ser locais ou globais. Variáveis definidas dentro de uma função tem escopo local,e aquelas criadas fora da função tem escopo global. Dessa maneira, variáveis locais só podem ser acessadas dentro da função em que foram declaradas, enquanto as globais podem ser referenciadas por quaisquer funções. Existem três outros tipos de argumentos que podemos utilizar em Python, além dos argumentos posicionais mostrados acima: são os argumentos padrão, *args e os **kwargs. Argumentos padrão são opcionais e têm um valor padrão caso não sejam passados. Por exemplo, para calcular o peso de um objeto, é necessário saber a massa e a aceleração da gravidade, que é aproximadamente g=9.80665 na Terra. Entretanto, sabemos que a aceleração da gravidade muda conforme a latitude, longitude e altura na Terra, mesmo que possa ser uma pequena variação. Portanto, daremos ao usuário a liberdade de definir a sua própria aceleração da gravidade, isto é, a que ele julga mais precisa para calcular seu peso em sua dada situação. Dessa forma, podemos definir uma função peso, que recebe g como um argumento padrão. Note que o argumento g pode ser passado tanto de forma posicional (peso(80, 10)), quanto nomeada (peso(80, g=10)) O *args permite que passemos uma lista de argumentos para uma função, com número indefinido de termos. Dentro da função, recebemos exatamente a estrutura de dados n-tupla e podemos iterar nela a fim de executar os procedimentos da função. Imagine um caso em que precisamos de uma função que receba uma quantidade indefinida de argumentos e execute alguma ação. Podemos pensar numa função que recebe um ponto p0, cujas coordenadas são (x0, y0), e depois retorna um lista contendo as distâncias euclidianas entre p0 e uma série de pontos p1,…, pn, com n ≥ 1. Primeiro, usaremos um argumento posicional p0 para receber o ponto p0 e depois utilizaremos o *args para capturar os outros pontos. Além disso, para deixar nosso código mais limpo, podemos declarar uma função auxiliar distance() que apenas calcula a disitância euclidiana entre dois pontos. Assim, o código fica: Lembrando novamente dos dicionários, utilizar **kwargs numa função é como se passássemos os argumentos para uma função em forma de dicionário. Com este tipo de argumento, não precisamos nos preocupar com a ordem dos argumentos (os argumentos são sempre nomeados) e nem em saber todos os possíveis argumentos. Podemos passar apenas os que nos interessam e deixar os outros indefinidos. Somando-se a isso, poderíamos permitir que o usuário passe um mesmo argumento utilizando nomes diferentes (o nome completo e sua abreviação, por exemplo). Basicamente, quando uma função recebe **kwargs, ela recebe um dicionário de argumentos. Podemos verificar isso no exemplo abaixo: É muito comum que ele seja usado da seguinte forma: O primeiro argumento da função é o argumento mais importante, isto é, a entidade principal que precisará ser usada pela função para que ela possa realizar seu objetivo; já os outros são como configurações, especificações que passamos para a função que podem mudar seu comportamento. Para deixar tudo isso mais claro, vamos modificar o exemplo da função peso(). A nova função poderá receber a aceleração da gravidade tanto como g, quanto como gravidade. Com essas especificações, teríamos o seguinte código para a desejada função: Até aqui, já falamos sobre diversas estruturas de dados, funções nativas importantes, como criar funções, como criar loops entre outras coisas. Agora, vamos falar das Exceptions. Imagine que você tem uma função que soma dois números, mas você passa como argumentos um inteiro e um texto. Isso acarretará num erro, uma Exception. Mais especificamente, receberemos um erro deste tipo: TypeError: unsupported operand type(s) for +: 'int' and 'str' Uma Exception leva a interrupção da execução do código: o programa será terminado. A exceção acima é do tipo TypeError, que indica que as variáveis utilizadas têm tipo errado. Existem vários outros tipos de exceções, como ValueError, que indica que algum argumento da função tinha um valor inválido. Porém, podemos tratar essas exceções, de modo que quando ocorrer o erro, o comportamento do programa seja diferente. Por exemplo, poderíamos fazer com que, ao invés do programa retornar o erro acima, retorne a seguinte mensagem: Por favor, digite dois números! Por outro lado, podemos criar Exceptions, ou seja, podemos fazer com que o programa termine com um erro. Para exemplificar como brincar com as Exceptions, utilizaremos o exemplo do programa que calcula a distância entre p0 e uma série de pontos, copiado abaixo para facilitar a consulta: Queremos garantir algumas condições para o funcionamento da função: A fim de satisfazer essas condições, nosso código fica: Para te incentivar a correr atrás de mais conhecimento, listarei aqui algumas coisas que é possível fazer com Python: Agora que já vimos o básico de Python, podemos usar bibliotecas como as listadas acima (pandas, numpy, …) para entender melhor como funciona a ciência de dados e o aprendizado de máquina. A partir da próxima semana, começaremos a direcionar nosso foco nessa direção. Se quiser saber mais, siga a nossa página no Facebook e fique ligado nos posts.\""
            ],
            "application/vnd.google.colaboratory.intrinsic+json": {
              "type": "string"
            }
          },
          "metadata": {},
          "execution_count": 5
        }
      ]
    },
    {
      "cell_type": "code",
      "source": [
        "df['texto_limpo']=df['text']"
      ],
      "metadata": {
        "id": "fNPJWaGNDx-r"
      },
      "execution_count": null,
      "outputs": []
    },
    {
      "cell_type": "markdown",
      "source": [
        "Tokenização:"
      ],
      "metadata": {
        "id": "w0Qh1Atd_3dE"
      }
    },
    {
      "cell_type": "code",
      "source": [
        "nltk.download('punkt')\n",
        "from nltk.tokenize import word_tokenize"
      ],
      "metadata": {
        "colab": {
          "base_uri": "https://localhost:8080/"
        },
        "id": "P93EGg70YXRR",
        "outputId": "9ac54231-f9ca-4969-f9ac-cddd9c307439"
      },
      "execution_count": null,
      "outputs": [
        {
          "output_type": "stream",
          "name": "stderr",
          "text": [
            "[nltk_data] Downloading package punkt to /root/nltk_data...\n",
            "[nltk_data]   Unzipping tokenizers/punkt.zip.\n"
          ]
        }
      ]
    },
    {
      "cell_type": "markdown",
      "source": [
        "Remoção de stopwords:"
      ],
      "metadata": {
        "id": "z01FpIh8C2IE"
      }
    },
    {
      "cell_type": "code",
      "source": [
        "nltk.download('stopwords')\n",
        "from nltk.corpus import stopwords\n",
        "stopwords = nltk.corpus.stopwords.words('portuguese')"
      ],
      "metadata": {
        "colab": {
          "base_uri": "https://localhost:8080/"
        },
        "id": "8Gp8VoYl9Avl",
        "outputId": "0b35c9c9-8b8e-47b7-9303-8a239a126586"
      },
      "execution_count": null,
      "outputs": [
        {
          "output_type": "stream",
          "name": "stderr",
          "text": [
            "[nltk_data] Downloading package stopwords to /root/nltk_data...\n",
            "[nltk_data]   Unzipping corpora/stopwords.zip.\n"
          ]
        }
      ]
    },
    {
      "cell_type": "markdown",
      "source": [
        "Uso do isalpha para retirar as pontuações especiais e símbolos matemáticos dos códigos utilizados e do .lower() para deixar o texto inteiro em letras minúsculas.\n",
        "\n",
        "Os quatro processo feitos de uma vez."
      ],
      "metadata": {
        "id": "7lpgGCIIghNF"
      }
    },
    {
      "cell_type": "code",
      "source": [
        "def tokenização_remov_stopwords(text):\n",
        "  return [w for w in word_tokenize(text.lower()) if w.isalpha() and w not in stopwords ]\n",
        "df['texto_limpo']=df['texto_limpo'].apply(tokenização_remov_stopwords)\n",
        "df['texto_limpo']"
      ],
      "metadata": {
        "colab": {
          "base_uri": "https://localhost:8080/"
        },
        "id": "A_hPFWfCd9HZ",
        "outputId": "fe303fc2-3f1c-464a-ebb7-782516425ca9"
      },
      "execution_count": null,
      "outputs": [
        {
          "output_type": "execute_result",
          "data": {
            "text/plain": [
              "0      [consideremos, seguinte, questão, máquinas, co...\n",
              "1      [olá, grandes, entusiastas, inteligência, arti...\n",
              "2      [imagine, seguinte, situação, possui, carcinom...\n",
              "3      [introdução, linguagens, programação, utilizad...\n",
              "4      [semana, passada, passamos, básico, linguagem,...\n",
              "                             ...                        \n",
              "105    [usando, tweets, medir, similaridade, candidat...\n",
              "106    [texto, escrito, kauã, fillipe, letícia, falco...\n",
              "107    [olá, edição, turing, talks, hoje, explicaremo...\n",
              "108    [texto, escrito, césar, augusto, davi, félix, ...\n",
              "109    [olá, querido, leitor, turing, talks, imagine,...\n",
              "Name: texto_limpo, Length: 110, dtype: object"
            ]
          },
          "metadata": {},
          "execution_count": 6
        }
      ]
    },
    {
      "cell_type": "code",
      "source": [
        "for i in df.index:\n",
        "    df.loc[i, 'texto_limpo'] = \" \".join(df.loc[i, 'texto_limpo'])"
      ],
      "metadata": {
        "id": "IbWkI5aydMU9"
      },
      "execution_count": null,
      "outputs": []
    },
    {
      "cell_type": "code",
      "source": [
        "df['texto_limpo'][4]"
      ],
      "metadata": {
        "colab": {
          "base_uri": "https://localhost:8080/",
          "height": 140
        },
        "id": "uSs7V-eGt4-i",
        "outputId": "a08e8a83-f27f-449a-9d72-9f9c36fe7737"
      },
      "execution_count": null,
      "outputs": [
        {
          "output_type": "execute_result",
          "data": {
            "text/plain": [
              "'semana passada passamos básico linguagem programação python introduzimos conceitos básicos variáveis atribuições operações assim print input listas nesta semana objetivo terminar introdução introduzindo conceitos loops funções poderemos então utilizar novos conhecimentos explorar áreas data science machine learning existe função range b c python cria sequência números sendo apenas necessário identificar início fim b passo números começam aumentam atingirem b note b incluído sequência passo c diferença números consecutivos nessa sequência exemplo formalmente função range pode definida seguinte maneira range b c b saiba colocar apenas dois termos range fará passo automaticamente igual range b range range b range bom saber dar função apenas número fará lista começa zero passo igual comprimento igual valor dado função range range então range range sequência números comporta lista algumas diferenças exemplo pode adicionar números sequência usando função transformar sequência lista basta usar list range b c python vezes necessário realizar diversas operações repetitivas imprimir sequência números consecutivos tipo tarefa utilizados loops duas maneiras executar loop python podemos fazer utilizando meio while while loop repete bloco código enquanto condição verdadeira loop passa todos elementos sequência ordem aparecem exemplo abaixo bloco dentro executado vez cada elemento lista pode iterar utilizando função range caso necessário modificar lista sobre iterando necessário fazer cópia lista pode feito utilizando notação lista vista acima dicionários outra estrutura dados nativa python estrutura basicamente composta elementos possuem dois componentes chave valor implementação python hash tables extremamente úteis diversas aplicações dicionário possui seguinte estrutura dicionario keyn valuen listas pode criado vazio possuindo elementos mostrado exemplo abaixo acessar valores dicionário usamos sintaxe parecida listas utilizando colchetes entretanto vai índice elemento sim chave além disso podemos iterar dicionário utilizando método keys retorna iterador todas chaves respectivo dicionário iterador simplesmente objeto podemos iterar sobre pode lista tupla explicado adiante exemplo utilizando dicionários criados exemplo anterior vamos demonstrar funcionalidades neste exemplo apareceu algo ainda visto função format útil formatar strings colocando valores variáveis textos funciona seguinte maneira criarmos string colocamos chaves valores substitúidos variáveis exemplo acima elemento c c substituído alguma variável queremos mostrar efetivamente substituirmos valores bastante aplicarmos função format referenciarmos valores chaves argumentos fazemos format poderíamos fazer chave elemento chave exemplo python aplicação desta estrutura poderia quero utilizar estrutura dados guardar diversas músicas cada música quero guardar nome banda ano dicionário cai luva pois facilita leitura intuitivo extremamente prático recuperarmos dados guardados estrutura poderia facilmente construída seguinte maneira sim dicionário pode utilizado conjunto listas use criatividade criar mixes estruturas dados forma dados possam acessados forma eficiente facilitar entendimento código outros programadores clareza código extremamente importante procure sobre code readability fim dicionário ótima estrutura dados armazenar dados python facilmente transformado json usado envio recebimento dados última estrutura dados apresentada neste tutorial tupla tupla parecida lista porém imutável visualmente única diferença lista criada colchetes tupla criada parênteses dissemos estrutura dados imutável quer dizer criada pode alterada possível adicionar remover alterar elementos estrutura rígida segura cujo objetivo armazenar dados devem manter inalterados longo andamento programa usada exemplo funcionamento args verá breve abaixo exemplo criação tupla seguido tentativas função bloco código organizado reutilizável realiza certa ação criar função python seguir estrutura primeiro usaremos apenas argumentos posicionais portanto ordem parâmetros função inseridos deve mesma declarados argumento função após função criada podemos informando argumentos retornará valor expressão colocada return vejamos alguns exemplos exemplo neste primeiro exemplo criando função printa texto passado argumento exemplo neste outro exemplo criando outra função soma dois argumentos passados todos argumentos python passados referência quer dizer mudar parâmetros dentro função mudança reflete chamada função exemplo neste caso mantivemos referência objeto passado simplesmente anexamos valores objeto produziria resultado argumentos função devem passados ordem posicional correta número argumentos chamada função deve igual número definição função novamente deve pois utiliznado argumentos posicionais pŕoxima parte explicaremos sobre outros tipos argumentos variáveis programa podem disponíveis todas localizações programa depende onde variável declarada variáveis podem locais globais variáveis definidas dentro função escopo local criadas função escopo global dessa maneira variáveis locais podem acessadas dentro função declaradas enquanto globais podem referenciadas quaisquer funções existem três outros tipos argumentos podemos utilizar python além argumentos posicionais mostrados acima argumentos padrão args kwargs argumentos padrão opcionais têm valor padrão caso passados exemplo calcular peso objeto necessário saber massa aceleração gravidade aproximadamente terra entretanto sabemos aceleração gravidade muda conforme latitude longitude altura terra possa pequena variação portanto daremos usuário liberdade definir própria aceleração gravidade julga precisa calcular peso dada situação dessa forma podemos definir função peso recebe g argumento padrão note argumento g pode passado tanto forma posicional peso quanto nomeada peso args permite passemos lista argumentos função número indefinido termos dentro função recebemos exatamente estrutura dados podemos iterar nela fim executar procedimentos função imagine caso precisamos função receba quantidade indefinida argumentos execute alguma ação podemos pensar função recebe ponto cujas coordenadas retorna lista contendo distâncias euclidianas série pontos pn n primeiro usaremos argumento posicional receber ponto utilizaremos args capturar outros pontos além disso deixar código limpo podemos declarar função auxiliar distance apenas calcula disitância euclidiana dois pontos assim código fica lembrando novamente dicionários utilizar kwargs função passássemos argumentos função forma dicionário tipo argumento precisamos preocupar ordem argumentos argumentos sempre nomeados saber todos possíveis argumentos podemos passar apenas interessam deixar outros indefinidos poderíamos permitir usuário passe argumento utilizando nomes diferentes nome completo abreviação exemplo basicamente função recebe kwargs recebe dicionário argumentos podemos verificar exemplo abaixo comum usado seguinte forma primeiro argumento função argumento importante entidade principal precisará usada função possa realizar objetivo outros configurações especificações passamos função podem mudar comportamento deixar tudo claro vamos modificar exemplo função peso nova função poderá receber aceleração gravidade tanto g quanto gravidade especificações seguinte código desejada função aqui falamos sobre diversas estruturas dados funções nativas importantes criar funções criar loops outras coisas agora vamos falar exceptions imagine função soma dois números passa argumentos inteiro texto acarretará erro exception especificamente receberemos erro deste tipo typeerror unsupported operand type s and exception leva interrupção execução código programa terminado exceção acima tipo typeerror indica variáveis utilizadas têm tipo errado existem vários outros tipos exceções valueerror indica algum argumento função valor inválido porém podemos tratar exceções modo ocorrer erro comportamento programa diferente exemplo poderíamos fazer invés programa retornar erro acima retorne seguinte mensagem favor digite dois números outro lado podemos criar exceptions podemos fazer programa termine erro exemplificar brincar exceptions utilizaremos exemplo programa calcula distância série pontos copiado abaixo facilitar consulta queremos garantir algumas condições funcionamento função fim satisfazer condições código fica incentivar correr atrás conhecimento listarei aqui algumas coisas possível fazer python agora vimos básico python podemos usar bibliotecas listadas acima pandas numpy entender melhor funciona ciência dados aprendizado máquina partir próxima semana começaremos direcionar foco nessa direção quiser saber siga página facebook fique ligado posts'"
            ],
            "application/vnd.google.colaboratory.intrinsic+json": {
              "type": "string"
            }
          },
          "metadata": {},
          "execution_count": 9
        }
      ]
    },
    {
      "cell_type": "markdown",
      "source": [
        "Lemmatização:"
      ],
      "metadata": {
        "id": "TpGKq6iwaD5M"
      }
    },
    {
      "cell_type": "code",
      "source": [
        "!python3 -m spacy download pt_core_news_sm"
      ],
      "metadata": {
        "colab": {
          "base_uri": "https://localhost:8080/"
        },
        "id": "WKEhngB5X2NG",
        "outputId": "621cadf0-59cd-468a-d408-4ad4c11cb7c6"
      },
      "execution_count": null,
      "outputs": [
        {
          "output_type": "stream",
          "name": "stdout",
          "text": [
            "2023-10-06 00:48:42.721534: W tensorflow/compiler/tf2tensorrt/utils/py_utils.cc:38] TF-TRT Warning: Could not find TensorRT\n",
            "Collecting pt-core-news-sm==3.6.0\n",
            "  Downloading https://github.com/explosion/spacy-models/releases/download/pt_core_news_sm-3.6.0/pt_core_news_sm-3.6.0-py3-none-any.whl (13.0 MB)\n",
            "\u001b[2K     \u001b[90m━━━━━━━━━━━━━━━━━━━━━━━━━━━━━━━━━━━━━━━━\u001b[0m \u001b[32m13.0/13.0 MB\u001b[0m \u001b[31m43.5 MB/s\u001b[0m eta \u001b[36m0:00:00\u001b[0m\n",
            "\u001b[?25hRequirement already satisfied: spacy<3.7.0,>=3.6.0 in /usr/local/lib/python3.10/dist-packages (from pt-core-news-sm==3.6.0) (3.6.1)\n",
            "Requirement already satisfied: spacy-legacy<3.1.0,>=3.0.11 in /usr/local/lib/python3.10/dist-packages (from spacy<3.7.0,>=3.6.0->pt-core-news-sm==3.6.0) (3.0.12)\n",
            "Requirement already satisfied: spacy-loggers<2.0.0,>=1.0.0 in /usr/local/lib/python3.10/dist-packages (from spacy<3.7.0,>=3.6.0->pt-core-news-sm==3.6.0) (1.0.5)\n",
            "Requirement already satisfied: murmurhash<1.1.0,>=0.28.0 in /usr/local/lib/python3.10/dist-packages (from spacy<3.7.0,>=3.6.0->pt-core-news-sm==3.6.0) (1.0.10)\n",
            "Requirement already satisfied: cymem<2.1.0,>=2.0.2 in /usr/local/lib/python3.10/dist-packages (from spacy<3.7.0,>=3.6.0->pt-core-news-sm==3.6.0) (2.0.8)\n",
            "Requirement already satisfied: preshed<3.1.0,>=3.0.2 in /usr/local/lib/python3.10/dist-packages (from spacy<3.7.0,>=3.6.0->pt-core-news-sm==3.6.0) (3.0.9)\n",
            "Requirement already satisfied: thinc<8.2.0,>=8.1.8 in /usr/local/lib/python3.10/dist-packages (from spacy<3.7.0,>=3.6.0->pt-core-news-sm==3.6.0) (8.1.12)\n",
            "Requirement already satisfied: wasabi<1.2.0,>=0.9.1 in /usr/local/lib/python3.10/dist-packages (from spacy<3.7.0,>=3.6.0->pt-core-news-sm==3.6.0) (1.1.2)\n",
            "Requirement already satisfied: srsly<3.0.0,>=2.4.3 in /usr/local/lib/python3.10/dist-packages (from spacy<3.7.0,>=3.6.0->pt-core-news-sm==3.6.0) (2.4.8)\n",
            "Requirement already satisfied: catalogue<2.1.0,>=2.0.6 in /usr/local/lib/python3.10/dist-packages (from spacy<3.7.0,>=3.6.0->pt-core-news-sm==3.6.0) (2.0.10)\n",
            "Requirement already satisfied: typer<0.10.0,>=0.3.0 in /usr/local/lib/python3.10/dist-packages (from spacy<3.7.0,>=3.6.0->pt-core-news-sm==3.6.0) (0.9.0)\n",
            "Requirement already satisfied: pathy>=0.10.0 in /usr/local/lib/python3.10/dist-packages (from spacy<3.7.0,>=3.6.0->pt-core-news-sm==3.6.0) (0.10.2)\n",
            "Requirement already satisfied: smart-open<7.0.0,>=5.2.1 in /usr/local/lib/python3.10/dist-packages (from spacy<3.7.0,>=3.6.0->pt-core-news-sm==3.6.0) (6.4.0)\n",
            "Requirement already satisfied: tqdm<5.0.0,>=4.38.0 in /usr/local/lib/python3.10/dist-packages (from spacy<3.7.0,>=3.6.0->pt-core-news-sm==3.6.0) (4.66.1)\n",
            "Requirement already satisfied: numpy>=1.15.0 in /usr/local/lib/python3.10/dist-packages (from spacy<3.7.0,>=3.6.0->pt-core-news-sm==3.6.0) (1.23.5)\n",
            "Requirement already satisfied: requests<3.0.0,>=2.13.0 in /usr/local/lib/python3.10/dist-packages (from spacy<3.7.0,>=3.6.0->pt-core-news-sm==3.6.0) (2.31.0)\n",
            "Requirement already satisfied: pydantic!=1.8,!=1.8.1,<3.0.0,>=1.7.4 in /usr/local/lib/python3.10/dist-packages (from spacy<3.7.0,>=3.6.0->pt-core-news-sm==3.6.0) (1.10.13)\n",
            "Requirement already satisfied: jinja2 in /usr/local/lib/python3.10/dist-packages (from spacy<3.7.0,>=3.6.0->pt-core-news-sm==3.6.0) (3.1.2)\n",
            "Requirement already satisfied: setuptools in /usr/local/lib/python3.10/dist-packages (from spacy<3.7.0,>=3.6.0->pt-core-news-sm==3.6.0) (67.7.2)\n",
            "Requirement already satisfied: packaging>=20.0 in /usr/local/lib/python3.10/dist-packages (from spacy<3.7.0,>=3.6.0->pt-core-news-sm==3.6.0) (23.2)\n",
            "Requirement already satisfied: langcodes<4.0.0,>=3.2.0 in /usr/local/lib/python3.10/dist-packages (from spacy<3.7.0,>=3.6.0->pt-core-news-sm==3.6.0) (3.3.0)\n",
            "Requirement already satisfied: typing-extensions>=4.2.0 in /usr/local/lib/python3.10/dist-packages (from pydantic!=1.8,!=1.8.1,<3.0.0,>=1.7.4->spacy<3.7.0,>=3.6.0->pt-core-news-sm==3.6.0) (4.5.0)\n",
            "Requirement already satisfied: charset-normalizer<4,>=2 in /usr/local/lib/python3.10/dist-packages (from requests<3.0.0,>=2.13.0->spacy<3.7.0,>=3.6.0->pt-core-news-sm==3.6.0) (3.3.0)\n",
            "Requirement already satisfied: idna<4,>=2.5 in /usr/local/lib/python3.10/dist-packages (from requests<3.0.0,>=2.13.0->spacy<3.7.0,>=3.6.0->pt-core-news-sm==3.6.0) (3.4)\n",
            "Requirement already satisfied: urllib3<3,>=1.21.1 in /usr/local/lib/python3.10/dist-packages (from requests<3.0.0,>=2.13.0->spacy<3.7.0,>=3.6.0->pt-core-news-sm==3.6.0) (2.0.6)\n",
            "Requirement already satisfied: certifi>=2017.4.17 in /usr/local/lib/python3.10/dist-packages (from requests<3.0.0,>=2.13.0->spacy<3.7.0,>=3.6.0->pt-core-news-sm==3.6.0) (2023.7.22)\n",
            "Requirement already satisfied: blis<0.8.0,>=0.7.8 in /usr/local/lib/python3.10/dist-packages (from thinc<8.2.0,>=8.1.8->spacy<3.7.0,>=3.6.0->pt-core-news-sm==3.6.0) (0.7.11)\n",
            "Requirement already satisfied: confection<1.0.0,>=0.0.1 in /usr/local/lib/python3.10/dist-packages (from thinc<8.2.0,>=8.1.8->spacy<3.7.0,>=3.6.0->pt-core-news-sm==3.6.0) (0.1.3)\n",
            "Requirement already satisfied: click<9.0.0,>=7.1.1 in /usr/local/lib/python3.10/dist-packages (from typer<0.10.0,>=0.3.0->spacy<3.7.0,>=3.6.0->pt-core-news-sm==3.6.0) (8.1.7)\n",
            "Requirement already satisfied: MarkupSafe>=2.0 in /usr/local/lib/python3.10/dist-packages (from jinja2->spacy<3.7.0,>=3.6.0->pt-core-news-sm==3.6.0) (2.1.3)\n",
            "Installing collected packages: pt-core-news-sm\n",
            "Successfully installed pt-core-news-sm-3.6.0\n",
            "\u001b[38;5;2m✔ Download and installation successful\u001b[0m\n",
            "You can now load the package via spacy.load('pt_core_news_sm')\n"
          ]
        }
      ]
    },
    {
      "cell_type": "code",
      "source": [
        "spc = spacy.load('pt_core_news_sm')\n",
        "def lemmat (texto):\n",
        "  spc_letras = spc(texto)\n",
        "  lemmas = [token.lemma_ for token in spc_letras]\n",
        "  texto_completo = \" \".join(lemmas)\n",
        "  texto_completo= texto_completo.lower()\n",
        "  return texto_completo\n",
        "df['texto_limpo']= df['texto_limpo'].apply(lemmat)"
      ],
      "metadata": {
        "id": "vsgZeXz6aeOg"
      },
      "execution_count": null,
      "outputs": []
    },
    {
      "cell_type": "code",
      "source": [
        "df['texto_limpo'][4]"
      ],
      "metadata": {
        "colab": {
          "base_uri": "https://localhost:8080/",
          "height": 140
        },
        "id": "OBE1GoQccB7c",
        "outputId": "c215caff-217d-4ecd-db61-8d822700d35e"
      },
      "execution_count": null,
      "outputs": [
        {
          "output_type": "execute_result",
          "data": {
            "text/plain": [
              "'semana passado passar básico linguagem programação python introduzimo conceito básico variável atribuição operação assim print input lista em este semana objetivo terminar introdução introduzir conceito loop função poder então utilizar novo conhecimento explorar área data science machine learning existir função range b c python criar sequência número ser apenas necessário identificar início fim b passo número começar aumentar atingir b note b incluir sequência passo c diferença número consecutivo em esse sequência exemplo formalmente função range poder definida seguinte maneira range b c b saber colocar apenas dois termo rangir fará passo automaticamente igual range b range range b range bom saber dar função apenas número fazer lista começar zero passo igual comprimento igual valor dar função range range então range range sequência número comportar listar algum diferença exemplo poder adicionar número sequência usar função transformar sequência lista bastar usar list range b c python vez necessário realizar diversos operação repetitivo imprimir sequência número consecutivo tipo tarefa utilizar loop dois maneira executar loop python poder fazer utilizar meio while while loop repetir bloco código enquanto condição verdadeiro loop passar todo elemento sequência ordem aparecer exemplo abaixo bloco dentro executar vez cada elemento listar poder iterar utilizar função range caso necessário modificar lista sobre iterar necessário fazer cópia lista poder fazer utilizar notação lista ver acima dicionário outro estrutura dar nativo pythonr estrutura basicamente compor elemento possuir dois componente chave valor implementação python hash tables extremamente úteis diversos aplicação dicionário possuir seguinte estrutura dicionario keyn valuen lista poder criar vazio possuir elemento mostrar exemplo abaixo acessar valor dicionário usar sintaxe parecir lista utilizar colchete entretanto ir índice elemento sim chave além de isso poder iterar dicionário utilizar método keys retornar iterador todo chave respectivo dicionário iterador simplesmente objeto poder iterar sobre poder lista tupla explicar adiante exemplo utilizar dicionário criar exemplo anterior ir demonstrar funcionalidade em este exemplo aparecer algo ainda ver função format útil formatar strings colocar valor variável texto funcionar seguinte maneira criarmos string colocamos chaves valor substitúir variável exemplo acima elemento c c substituir algum variável querer mostrar efetivamente substituirmos valor bastante aplicarr função format referenciarr valor chave argumento fazer format poderíar fazer chave elemento chave exemplo python aplicação de este estrutura poder querer utilizar estrutura dar guardar diversos música cada música querer guardar nome banda ano dicionário cair luva pois facilitar leitura intuitivo extremamente prático recuperarmo dado guardado estrutura poder facilmente construir seguinte maneira sim dicionário poder utilizar conjunto lista usar criatividade criar mixe estrutura dar forma dar poder acessados forma eficiente facilitar entendimento código outro programador clareza código extremamente importante procure sobre code readability fim dicionário ótimo estrutura dar armazenar dado python facilmente transformar json usar envio recebimento dar último estrutura dar apresentar em este tutorial tupla tupla parecir listo porém imutável visualmente único diferença listo criar colchete tupla criar parêntese disser estrutura dado imutável querer dizer criar poder alterar possível adicionar remover alterar elemento estrutura rígir seguro cujo objetivo armazenar dado dever manter inalterado longo andamento programa usar exemplo funcionamento args ver breve abaixo exemplo criação tupla seguir tentativo função bloco código organizar reutilizável realizar certo ação criar função python seguir estrutura primeiro usarer apenas argumento posicional portanto ordir parâmetro função inserir dever mesmo declarar argumento função após função criar poder informar argumento retornar valor expressão colocar return veja algum exemplo exemplo em este primeiro exemplo criar função printar texto passar argumento exemplo em este outro exemplo criar outro função somar dois argumento passar todo argumento python passar referência querer dizer mudar parâmetro dentro função mudanço reflete chamar função exemplo em este caso mantive referência objeto passar simplesmente anexar valor objeto produzir resultar argumento função dever passado ordem posicional correto número argumento chamar função dever igual número definição função novamente dever pois utiliznar argumento posicional pŕoxima parte explicarer sobre outro tipo argumento variável programa poder disponível todo localização programa depender onde variável declarada variável poder local global variável definer dentro função escopo local criar função escopo global de esse maneira variável local poder acessada dentro função declarar enquanto global poder referenciada qualquer função existir três outro tipo argumento poder utilizar python além argumento posicional mostrar acima argumento padrão args kwargs argumento padrão opcional ter valor padr caso passar exemplo calcular peso objeto necessário saber massa aceleração gravidade aproximadamente terra entretanto saber aceleraçãor gravidade mudar conforme latitude longitude alturo terra poder pequeno variação portanto darer usuário liberdade definir próprio aceleração gravidade julgar precisar calcular peso dar situação de esse forma poder definir função peso receber g argumento padrão note argumento g poder passado tanto forma posicional peso quanto nomear peso args permitir passe listar argumento função número indefinir termos dentro função receber exatamente estrutura dar poder iterar em ela fim executar procedimento função imagine caso precisar função receb quantidade indefinido argumento execute algum ação poder pensar função receber ponto cujo coordenada retornar lista conter distância euclidiano série ponto pn n primeiro usaremos argumento posicional receber ponto utilizarer args capturar outro ponto além de isso deixar código limpo poder declarar função auxiliar distance apenas calcular disitância euclidiano dois ponto assim código ficar lembrar novamente dicionário utilizar kwargs função passásser argumento função forma dicionário tipo argumento precisar preocupar ordem argumento argumento sempre nomear saber todo possível argumento poder passar apenas interessar deixar outro indefinido poderíar permitir usuário passar argumento utilizar nome diferente nome completo abreviação exemplo basicamente função receber kwargs receber dicionário argumento poder verificar exemplo abaixo comum usar seguinte forma primeiro argumento função argumento importante entidade principal precisar usar função poder realizar objetivo outro configuração especificação passar função poder mudar comportamento deixar tudo claro ir modificar exemplo função peso novo função poder receber aceleração gravidade tanto g quanto gravidade especificação seguinte código desejar função aqui falar sobre diversos estrutura dar função nativo importante criar função criar loop outro coisa agora ir falar exceptiom imagine função somar dois número passar argumento inteiro texto acarretar erro exception especificamente receberer erro de este tipo typeerror unsupported operand type s and exception levar interrupção execução código programa terminar exceção acima tipo typeerror indicar variável utilizar ter tipo errar existir vários outro tipo exceção valueerror indicar algum argumento função valor inváler porém poder tratar exceção modo ocorrer erro comportamento programa diferente exemplo poderíar fazer invés programa retornar erro acima retorne seguinte mensagem favor digitar dois número outro lado poder criar exceptions poder fazer programa termine erro exemplificar brincar exceptiom utilizaremo exemplo programa calcular distância série ponto copiar abaixo facilitar consulta querer garantir algum condição funcionamento função fim satisfazer condição código ficar incentivar correr atrás conhecimento listarar aqui algum coisa possível fazer python agora vir básico python poder usar biblioteca listar acima panda numpy entender bom funcionar ciência dado aprendizar máquina partir próximo semana começarer direcionar foco em esse direção querer saber siga página facebook ficar ligar posts'"
            ],
            "application/vnd.google.colaboratory.intrinsic+json": {
              "type": "string"
            }
          },
          "metadata": {},
          "execution_count": 12
        }
      ]
    },
    {
      "cell_type": "markdown",
      "source": [
        "É possível ver algumas falhas, como o algoritmo reconhecendo introduzimos como um sujeito no plural e não um verbo conjugado na primeira pessoa do plural. Porém é possível ver sua ajuda geral no resto do texto."
      ],
      "metadata": {
        "id": "6bvm3jgeukjf"
      }
    },
    {
      "cell_type": "markdown",
      "source": [
        "#2 Análise do corpus:"
      ],
      "metadata": {
        "id": "0JCCiC0xhaCc"
      }
    },
    {
      "cell_type": "markdown",
      "source": [
        "## análise das relações do dataset"
      ],
      "metadata": {
        "id": "KaOFOKcV_kfj"
      }
    },
    {
      "cell_type": "code",
      "source": [
        "df.info()"
      ],
      "metadata": {
        "colab": {
          "base_uri": "https://localhost:8080/"
        },
        "id": "BHd20BMHjs7A",
        "outputId": "6f736d1e-3151-4e6a-ca68-0736b1ac161c"
      },
      "execution_count": null,
      "outputs": [
        {
          "output_type": "stream",
          "name": "stdout",
          "text": [
            "<class 'pandas.core.frame.DataFrame'>\n",
            "RangeIndex: 110 entries, 0 to 109\n",
            "Data columns (total 9 columns):\n",
            " #   Column        Non-Null Count  Dtype \n",
            "---  ------        --------------  ----- \n",
            " 0   url           110 non-null    object\n",
            " 1   title         110 non-null    object\n",
            " 2   subtitle      81 non-null     object\n",
            " 3   author        110 non-null    object\n",
            " 4   claps         110 non-null    int64 \n",
            " 5   reading_time  110 non-null    int64 \n",
            " 6   date          110 non-null    object\n",
            " 7   text          110 non-null    object\n",
            " 8   texto_limpo   110 non-null    object\n",
            "dtypes: int64(2), object(7)\n",
            "memory usage: 7.9+ KB\n"
          ]
        }
      ]
    },
    {
      "cell_type": "code",
      "source": [
        "#Primeiro vou fazer a contagem das palavras mais usadas\n",
        "from collections import Counter\n",
        "todos_textos = ' '.join(df['texto_limpo'])\n",
        "palavras = todos_textos.split()\n",
        "contagem_palavras = Counter(palavras)\n",
        "palavras_mais_frequentes = contagem_palavras.most_common(20)\n",
        "plt.figure(figsize=(20, 12))\n",
        "sns.barplot(x=[item[0] for item in palavras_mais_frequentes], y=[item[1] for item in palavras_mais_frequentes])\n",
        "plt.title(\"Palavras mais frequentes\")\n",
        "plt.xlabel(\"Palavra\")\n",
        "plt.ylabel(\"Frequência\")\n",
        "plt.xticks(rotation=45)\n",
        "plt.show()"
      ],
      "metadata": {
        "colab": {
          "base_uri": "https://localhost:8080/",
          "height": 730
        },
        "id": "-65UK2HCdiwr",
        "outputId": "8dc393f5-f621-4465-e261-435215ca91de"
      },
      "execution_count": null,
      "outputs": [
        {
          "output_type": "display_data",
          "data": {
            "text/plain": [
              "<Figure size 2000x1200 with 1 Axes>"
            ],
            "image/png": "[encoded data removed]"
          },
          "metadata": {}
        }
      ]
    },
    {
      "cell_type": "markdown",
      "source": [
        "Nessas palavras mais utilizadas, não muitas informações podem ser extraídas. Primeiro é possível ver que algumas stopwords não são retidas pela função do nltk em português, como \"de\". Outro problema para entender o dataset por esse gráfico é que muitas palavras, apesar de não serem stopwords, não trazem muita informação, pois são verbos muito usados normalmente, ou palavras como \"exemplo\". Ainda algumas demonstram a realidade temática do dataset, como \"modelo\" ou \"função\""
      ],
      "metadata": {
        "id": "l2Foi6dweKro"
      }
    },
    {
      "cell_type": "code",
      "source": [
        "df['tamanho_texto'] = df['text'].apply(lambda x: len(x.split()))"
      ],
      "metadata": {
        "id": "RDc6P-R4d5KD"
      },
      "execution_count": null,
      "outputs": []
    },
    {
      "cell_type": "code",
      "source": [
        "plt.figure(figsize=(10, 6))\n",
        "sns.histplot(data=df, x='tamanho_texto', bins=20, color='blue', alpha=0.7, kde=True)\n",
        "plt.title(\"Distribuição do Tamanho dos Textos\")\n",
        "plt.xlabel(\"Número de Palavras\")\n",
        "plt.ylabel(\"Número de Textos\")\n",
        "plt.show()"
      ],
      "metadata": {
        "colab": {
          "base_uri": "https://localhost:8080/",
          "height": 564
        },
        "id": "6jMcLwoOf0uT",
        "outputId": "02d10f91-6941-4247-ed56-21873e0a9bb7"
      },
      "execution_count": null,
      "outputs": [
        {
          "output_type": "display_data",
          "data": {
            "text/plain": [
              "<Figure size 1000x600 with 1 Axes>"
            ],
            "image/png": "[encoded data removed]"
          },
          "metadata": {}
        }
      ]
    },
    {
      "cell_type": "code",
      "source": [
        "plt.figure(figsize=(12,8))\n",
        "sns.lineplot(data=df, x=df['texto_limpo'].apply(len), y= df['claps'], color='y')\n",
        "plt.xlabel('n°caracteres')\n",
        "plt.show()"
      ],
      "metadata": {
        "colab": {
          "base_uri": "https://localhost:8080/",
          "height": 696
        },
        "id": "qw9uXnyBkKbs",
        "outputId": "3b17e529-95e3-4126-f6d3-ccff2ae57dff"
      },
      "execution_count": null,
      "outputs": [
        {
          "output_type": "display_data",
          "data": {
            "text/plain": [
              "<Figure size 1200x800 with 1 Axes>"
            ],
            "image/png": "[encoded data removed]"
          },
          "metadata": {}
        }
      ]
    },
    {
      "cell_type": "code",
      "source": [
        "df_analise=df.copy()\n",
        "df_analise['lista_palavras']=df_analise['texto_limpo'].apply(word_tokenize)\n",
        "df_analise['palavras_unicas']= [set(i) for i in df_analise['lista_palavras']]"
      ],
      "metadata": {
        "id": "JpVs8AubmvNv"
      },
      "execution_count": null,
      "outputs": []
    },
    {
      "cell_type": "code",
      "source": [
        "plt.figure(figsize=(12,8))\n",
        "sns.lineplot(data=df_analise, x=df_analise['lista_palavras'].apply(len), y= df_analise['claps'], color='g')\n",
        "plt.show()"
      ],
      "metadata": {
        "colab": {
          "base_uri": "https://localhost:8080/",
          "height": 696
        },
        "id": "Bt1rQZTemTdV",
        "outputId": "cfbca0bc-47d5-4960-87c9-7073cde32bdc"
      },
      "execution_count": null,
      "outputs": [
        {
          "output_type": "display_data",
          "data": {
            "text/plain": [
              "<Figure size 1200x800 with 1 Axes>"
            ],
            "image/png": "[encoded data removed]"
          },
          "metadata": {}
        }
      ]
    },
    {
      "cell_type": "code",
      "source": [
        "plt.figure(figsize=(12,8))\n",
        "sns.lineplot(data=df_analise, x=df_analise['palavras_unicas'].apply(len), y= df_analise['claps'], color = 'b', errorbar=None)\n",
        "plt.show()"
      ],
      "metadata": {
        "colab": {
          "base_uri": "https://localhost:8080/",
          "height": 696
        },
        "id": "Lu7QmmHwpyD_",
        "outputId": "644c900a-a8fa-4cac-c451-94197b86d1fe"
      },
      "execution_count": null,
      "outputs": [
        {
          "output_type": "display_data",
          "data": {
            "text/plain": [
              "<Figure size 1200x800 with 1 Axes>"
            ],
            "image/png": "[encoded data removed]"
          },
          "metadata": {}
        }
      ]
    },
    {
      "cell_type": "markdown",
      "source": [
        "A quantidade de caracteres, palavras ou palavras únicas não apresenta uma relação linear com a quantidade de claps nem mesmo algum padrão visível."
      ],
      "metadata": {
        "id": "wbJXUXBGqnlK"
      }
    },
    {
      "cell_type": "code",
      "source": [
        "plt.figure(figsize=(12,8))\n",
        "sns.lineplot(data=df, x=df['reading_time'], y=df['claps'], errorbar=None, color='k')\n",
        "plt.show()"
      ],
      "metadata": {
        "colab": {
          "base_uri": "https://localhost:8080/",
          "height": 696
        },
        "id": "Uo49KFhQrh3a",
        "outputId": "8fc7fcc2-ca83-4bba-bdaa-9a68d0d5eaec"
      },
      "execution_count": null,
      "outputs": [
        {
          "output_type": "display_data",
          "data": {
            "text/plain": [
              "<Figure size 1200x800 with 1 Axes>"
            ],
            "image/png": "[encoded data removed]"
          },
          "metadata": {}
        }
      ]
    },
    {
      "cell_type": "markdown",
      "source": [
        "O reading time não tem um padrão muito proporcional com o número de claps, até porque o número de dados é pequeno"
      ],
      "metadata": {
        "id": "lYDMzBojolsJ"
      }
    },
    {
      "cell_type": "code",
      "source": [
        "len(df['author'].unique())"
      ],
      "metadata": {
        "colab": {
          "base_uri": "https://localhost:8080/"
        },
        "id": "62ZprkGnxO3n",
        "outputId": "99746389-14ff-4a81-ab5a-982fd6fbba2b"
      },
      "execution_count": null,
      "outputs": [
        {
          "output_type": "execute_result",
          "data": {
            "text/plain": [
              "50"
            ]
          },
          "metadata": {},
          "execution_count": 24
        }
      ]
    },
    {
      "cell_type": "markdown",
      "source": [
        "Não dá para ser usado de base na previsão de claps, pois há apenas 110 textos, logo a quantidade de textos por autor ficar muito baixa para uma análise de influência"
      ],
      "metadata": {
        "id": "-vCZnxrAxbgl"
      }
    },
    {
      "cell_type": "code",
      "source": [
        "df['date'] = pd.to_datetime(df['date'])"
      ],
      "metadata": {
        "id": "bxlndPqTyRxH"
      },
      "execution_count": null,
      "outputs": []
    },
    {
      "cell_type": "code",
      "source": [
        "df['ano'] = df['date'].dt.year\n",
        "df_ano = df.groupby('ano')['claps'].mean().reset_index()"
      ],
      "metadata": {
        "id": "RvTohjNFyG45"
      },
      "execution_count": null,
      "outputs": []
    },
    {
      "cell_type": "code",
      "source": [
        "df_ano"
      ],
      "metadata": {
        "colab": {
          "base_uri": "https://localhost:8080/",
          "height": 175
        },
        "id": "TKmYVszYnA-c",
        "outputId": "3c92be0d-f31e-45a2-f203-5d603e0173b9"
      },
      "execution_count": null,
      "outputs": [
        {
          "output_type": "execute_result",
          "data": {
            "text/plain": [
              "    ano        claps\n",
              "0  2019   720.230769\n",
              "1  2020  1218.217391\n",
              "2  2021   727.037037\n",
              "3  2022   563.363636"
            ],
            "text/html": [
              "\n",
              "\n",
              "  <div id=\"df-a0d3fe07-febd-40a2-9916-5a84d1a711c7\">\n",
              "    <div class=\"colab-df-container\">\n",
              "      <div>\n",
              "<style scoped>\n",
              "    .dataframe tbody tr th:only-of-type {\n",
              "        vertical-align: middle;\n",
              "    }\n",
              "\n",
              "    .dataframe tbody tr th {\n",
              "        vertical-align: top;\n",
              "    }\n",
              "\n",
              "    .dataframe thead th {\n",
              "        text-align: right;\n",
              "    }\n",
              "</style>\n",
              "<table border=\"1\" class=\"dataframe\">\n",
              "  <thead>\n",
              "    <tr style=\"text-align: right;\">\n",
              "      <th></th>\n",
              "      <th>ano</th>\n",
              "      <th>claps</th>\n",
              "    </tr>\n",
              "  </thead>\n",
              "  <tbody>\n",
              "    <tr>\n",
              "      <th>0</th>\n",
              "      <td>2019</td>\n",
              "      <td>720.230769</td>\n",
              "    </tr>\n",
              "    <tr>\n",
              "      <th>1</th>\n",
              "      <td>2020</td>\n",
              "      <td>1218.217391</td>\n",
              "    </tr>\n",
              "    <tr>\n",
              "      <th>2</th>\n",
              "      <td>2021</td>\n",
              "      <td>727.037037</td>\n",
              "    </tr>\n",
              "    <tr>\n",
              "      <th>3</th>\n",
              "      <td>2022</td>\n",
              "      <td>563.363636</td>\n",
              "    </tr>\n",
              "  </tbody>\n",
              "</table>\n",
              "</div>\n",
              "      <button class=\"colab-df-convert\" onclick=\"convertToInteractive('df-a0d3fe07-febd-40a2-9916-5a84d1a711c7')\"\n",
              "              title=\"Convert this dataframe to an interactive table.\"\n",
              "              style=\"display:none;\">\n",
              "\n",
              "  <svg xmlns=\"http://www.w3.org/2000/svg\" height=\"24px\"viewBox=\"0 0 24 24\"\n",
              "       width=\"24px\">\n",
              "    <path d=\"M0 0h24v24H0V0z\" fill=\"none\"/>\n",
              "    <path d=\"M18.56 5.44l.94 2.06.94-2.06 2.06-.94-2.06-.94-.94-2.06-.94 2.06-2.06.94zm-11 1L8.5 8.5l.94-2.06 2.06-.94-2.06-.94L8.5 2.5l-.94 2.06-2.06.94zm10 10l.94 2.06.94-2.06 2.06-.94-2.06-.94-.94-2.06-.94 2.06-2.06.94z\"/><path d=\"M17.41 7.96l-1.37-1.37c-.4-.4-.92-.59-1.43-.59-.52 0-1.04.2-1.43.59L10.3 9.45l-7.72 7.72c-.78.78-.78 2.05 0 2.83L4 21.41c.39.39.9.59 1.41.59.51 0 1.02-.2 1.41-.59l7.78-7.78 2.81-2.81c.8-.78.8-2.07 0-2.86zM5.41 20L4 18.59l7.72-7.72 1.47 1.35L5.41 20z\"/>\n",
              "  </svg>\n",
              "      </button>\n",
              "\n",
              "\n",
              "\n",
              "    <div id=\"df-51350b00-cce4-41c9-974c-f0a2d0342b06\">\n",
              "      <button class=\"colab-df-quickchart\" onclick=\"quickchart('df-51350b00-cce4-41c9-974c-f0a2d0342b06')\"\n",
              "              title=\"Suggest charts.\"\n",
              "              style=\"display:none;\">\n",
              "\n",
              "<svg xmlns=\"http://www.w3.org/2000/svg\" height=\"24px\"viewBox=\"0 0 24 24\"\n",
              "     width=\"24px\">\n",
              "    <g>\n",
              "        <path d=\"M19 3H5c-1.1 0-2 .9-2 2v14c0 1.1.9 2 2 2h14c1.1 0 2-.9 2-2V5c0-1.1-.9-2-2-2zM9 17H7v-7h2v7zm4 0h-2V7h2v10zm4 0h-2v-4h2v4z\"/>\n",
              "    </g>\n",
              "</svg>\n",
              "      </button>\n",
              "    </div>\n",
              "\n",
              "<style>\n",
              "  .colab-df-quickchart {\n",
              "    background-color: #E8F0FE;\n",
              "    border: none;\n",
              "    border-radius: 50%;\n",
              "    cursor: pointer;\n",
              "    display: none;\n",
              "    fill: #1967D2;\n",
              "    height: 32px;\n",
              "    padding: 0 0 0 0;\n",
              "    width: 32px;\n",
              "  }\n",
              "\n",
              "  .colab-df-quickchart:hover {\n",
              "    background-color: #E2EBFA;\n",
              "    box-shadow: 0px 1px 2px rgba(60, 64, 67, 0.3), 0px 1px 3px 1px rgba(60, 64, 67, 0.15);\n",
              "    fill: #174EA6;\n",
              "  }\n",
              "\n",
              "  [theme=dark] .colab-df-quickchart {\n",
              "    background-color: #3B4455;\n",
              "    fill: #D2E3FC;\n",
              "  }\n",
              "\n",
              "  [theme=dark] .colab-df-quickchart:hover {\n",
              "    background-color: #434B5C;\n",
              "    box-shadow: 0px 1px 3px 1px rgba(0, 0, 0, 0.15);\n",
              "    filter: drop-shadow(0px 1px 2px rgba(0, 0, 0, 0.3));\n",
              "    fill: #FFFFFF;\n",
              "  }\n",
              "</style>\n",
              "\n",
              "    <script>\n",
              "      async function quickchart(key) {\n",
              "        const containerElement = document.querySelector('#' + key);\n",
              "        const charts = await google.colab.kernel.invokeFunction(\n",
              "            'suggestCharts', [key], {});\n",
              "      }\n",
              "    </script>\n",
              "\n",
              "\n",
              "      <script>\n",
              "\n",
              "function displayQuickchartButton(domScope) {\n",
              "  let quickchartButtonEl =\n",
              "    domScope.querySelector('#df-51350b00-cce4-41c9-974c-f0a2d0342b06 button.colab-df-quickchart');\n",
              "  quickchartButtonEl.style.display =\n",
              "    google.colab.kernel.accessAllowed ? 'block' : 'none';\n",
              "}\n",
              "\n",
              "        displayQuickchartButton(document);\n",
              "      </script>\n",
              "      <style>\n",
              "    .colab-df-container {\n",
              "      display:flex;\n",
              "      flex-wrap:wrap;\n",
              "      gap: 12px;\n",
              "    }\n",
              "\n",
              "    .colab-df-convert {\n",
              "      background-color: #E8F0FE;\n",
              "      border: none;\n",
              "      border-radius: 50%;\n",
              "      cursor: pointer;\n",
              "      display: none;\n",
              "      fill: #1967D2;\n",
              "      height: 32px;\n",
              "      padding: 0 0 0 0;\n",
              "      width: 32px;\n",
              "    }\n",
              "\n",
              "    .colab-df-convert:hover {\n",
              "      background-color: #E2EBFA;\n",
              "      box-shadow: 0px 1px 2px rgba(60, 64, 67, 0.3), 0px 1px 3px 1px rgba(60, 64, 67, 0.15);\n",
              "      fill: #174EA6;\n",
              "    }\n",
              "\n",
              "    [theme=dark] .colab-df-convert {\n",
              "      background-color: #3B4455;\n",
              "      fill: #D2E3FC;\n",
              "    }\n",
              "\n",
              "    [theme=dark] .colab-df-convert:hover {\n",
              "      background-color: #434B5C;\n",
              "      box-shadow: 0px 1px 3px 1px rgba(0, 0, 0, 0.15);\n",
              "      filter: drop-shadow(0px 1px 2px rgba(0, 0, 0, 0.3));\n",
              "      fill: #FFFFFF;\n",
              "    }\n",
              "  </style>\n",
              "\n",
              "      <script>\n",
              "        const buttonEl =\n",
              "          document.querySelector('#df-a0d3fe07-febd-40a2-9916-5a84d1a711c7 button.colab-df-convert');\n",
              "        buttonEl.style.display =\n",
              "          google.colab.kernel.accessAllowed ? 'block' : 'none';\n",
              "\n",
              "        async function convertToInteractive(key) {\n",
              "          const element = document.querySelector('#df-a0d3fe07-febd-40a2-9916-5a84d1a711c7');\n",
              "          const dataTable =\n",
              "            await google.colab.kernel.invokeFunction('convertToInteractive',\n",
              "                                                     [key], {});\n",
              "          if (!dataTable) return;\n",
              "\n",
              "          const docLinkHtml = 'Like what you see? Visit the ' +\n",
              "            '<a target=\"_blank\" href=https://colab.research.google.com/notebooks/data_table.ipynb>data table notebook</a>'\n",
              "            + ' to learn more about interactive tables.';\n",
              "          element.innerHTML = '';\n",
              "          dataTable['output_type'] = 'display_data';\n",
              "          await google.colab.output.renderOutput(dataTable, element);\n",
              "          const docLink = document.createElement('div');\n",
              "          docLink.innerHTML = docLinkHtml;\n",
              "          element.appendChild(docLink);\n",
              "        }\n",
              "      </script>\n",
              "    </div>\n",
              "  </div>\n"
            ]
          },
          "metadata": {},
          "execution_count": 38
        }
      ]
    },
    {
      "cell_type": "code",
      "source": [
        "plt.figure(figsize=(6, 8))\n",
        "sns.lineplot(data=df_ano, x='ano', y='claps', color='k')\n",
        "plt.xticks(df_ano['ano'])\n",
        "plt.show()"
      ],
      "metadata": {
        "colab": {
          "base_uri": "https://localhost:8080/",
          "height": 696
        },
        "id": "UCz_tUbYwjBW",
        "outputId": "ba8f6ada-71cf-4cce-e4a5-411aaaef4c21"
      },
      "execution_count": null,
      "outputs": [
        {
          "output_type": "display_data",
          "data": {
            "text/plain": [
              "<Figure size 600x800 with 1 Axes>"
            ],
            "image/png": "[encoded data removed]"
          },
          "metadata": {}
        }
      ]
    },
    {
      "cell_type": "code",
      "source": [
        "df['ano'].value_counts().sort_index()"
      ],
      "metadata": {
        "colab": {
          "base_uri": "https://localhost:8080/"
        },
        "id": "TRe_8YhCmP9n",
        "outputId": "814eb701-1f74-4683-e59b-7426aba2b310"
      },
      "execution_count": null,
      "outputs": [
        {
          "output_type": "execute_result",
          "data": {
            "text/plain": [
              "2019    26\n",
              "2020    46\n",
              "2021    27\n",
              "2022    11\n",
              "Name: ano, dtype: int64"
            ]
          },
          "metadata": {},
          "execution_count": 37
        }
      ]
    },
    {
      "cell_type": "markdown",
      "source": [
        "Uma relação interessante se mostra, o número de postagens ser proporcional a média de claps, estranhamente sendo quase igual a média de claps de 2019 e 2021, dois anos com números quase iguais de postagens."
      ],
      "metadata": {
        "id": "wGCWATNCm5dA"
      }
    },
    {
      "cell_type": "markdown",
      "source": [
        "##POS-Tagging:"
      ],
      "metadata": {
        "id": "tTTuNDqw8puR"
      }
    },
    {
      "cell_type": "code",
      "source": [
        "df['texto_limpo'][9]"
      ],
      "metadata": {
        "colab": {
          "base_uri": "https://localhost:8080/",
          "height": 140
        },
        "id": "8i23D4v2Ew8N",
        "outputId": "e3e92803-e69c-4878-8045-9b03754fc179"
      },
      "execution_count": null,
      "outputs": [
        {
          "output_type": "execute_result",
          "data": {
            "text/plain": [
              "'quão bem aprender erro experiência passar mal preocupe de esse artigo entender bom sobre conceito predição poder impactar projeto machine learning de esse forma menos algoritmo ir tomar decisão certo conceito machine learning basear construção algoritmos maneira possibilitar computador tomer decisão acordo situação dar inserir em ele ser assim implementar algoritmo seguir instrução rotino sim treinar máquina aprender executar tarefa possível máquina aprender existir três tipo aprendizagem máquina supervisionar supervisionar reforço caso querer saber sobre assunto machine learning existir explicação detalhir em este post bem agora saber sobre machine learning tipo aprendizagem máquina querer criar modelo fazer ver diferentes tipo modelo posts futuro contudo antes avançarr preciso entender algum conceito ligar aspecto básico predição buscar determinar valor exemplo determinar preço automóvel basear ano fabricar usar quilometragem etc categor precisar modelo predição precisar função aproxime de aquele descrita dar existir diverso modelo predição regressão linear svm naive bayes abordar detalhe posts futuro necessário escolher bom encaixar necessidade tal escolha depender tipo dar possuir problema resolver conforme aprofundar diferentes modelo predição familiarizarr característico escolha tornar fácil escolher modelo preciso verificar resultado obter bom suficiente avaliar necessário conhecer pouco sobre erro comum acontecer desenvolver algoritmos construir função aproximo dar poder proceder forma complexo tentar cada ponto possível afinal querer extremamente precisar entretanto gerar problema overfitting função excelente base treino contudo desempenho tão bom base te este acontecer pois certo forma função aprender ruído modelo ajustar erro fator aleatório exceção outliers necessariamente condizer realidade dar apresentar exemplificar problema ir analisar dataset dois classificação azul vermelho imagemr abaixo modelo ideal representar linha preto separar ponto vermelho azul observer modelo errar algum vez entanto erro ocorrer causa ruído linha verde cometer nenhum erro complexo ajustar ruído obtivésser ponto novo dataset modelo verde provavelmente cometer erro ne esse ponto contrapartidar modelo simples poder acabar caso underfitting função captura corretamente complexidade dar apresentar linha retar exemplo sempre conseguir separar conjunto ponto dois categor entender bom erro predição necessário entender fator influenciar tal erro bem relação primeiro fator chamar bia viés diferençar predição médio modelo valor correto esperar ser assim modelo bia aprender relação errar gerar previsão longe esperar modelo aprender corretamente datasetr assumir muito informação sobre dar necessariamente correta de esse forma modelo alto bia possuir problema underfitting segundo fator variancer variabilidade modelo determinar dar capacidade modelo adaptar base treino ruído de esse forma modelo alto variance focar excessivamente ajustar dar inclusive ruir assim modelo ter problema overfitting adaptar tão bem de ataset conseguir generalizar além último erro irredutível ponto curvar exceção possível observar cada pequeno fator levar evento acontecer possuír limitação elaborar modelo escolher fator relevante problema deixar lar algum outro outro caso poder ter acesso todo informação de esse forma poder algum featurar faltar datasetr impedir gerar predição correto caso similiar ocorrer ambiente estocástico ambiente algum grau aleatoriedade em esse caso realmente impossível prever exatidão cada saída esperar chamar tipo erro irredutível vez poder apenas mudar modelo entender bom relação bia variance necessário notar algoritmos alta variance tender complexo ver conseguir adaptar bem qualquer conjunto dar contrapartida algoritmos alto bia limitar tudo assumir sobre dar forma pequeno complexidade ambos ligar nível complexidade modelo dependente si geral modelo simples ter alto bia baixar variance enquanto modelo complexo ter baixo bia alto variance imagine problema resolver saber bem prosseguir primeiro tentativa decidir utilizar modelo regressão linear observar resultado obter perceber consistente porém consistentemente errar questionar motivo comportamento modelo notar regressão linear assumir dar reta verdadeiro projeto em esse caso modelo escolher possuir alto bia assumir sobre dado acabar problema underfitting tentar simplificar dar falha tentativa anterior decidir utilizar polinômio grau construir modelo contudo perceber ainda assim modelo desempenho satisfatório resultar dispersar apesar vez modelo acertar servir bem propósito acontecer pois construir modelo extremamente complexo acabar variance altíssima brinde ganhar problema overfitting observer diminuir bia precisar aumentar variance assim funcionar ligação bio variancer intimamente conectar modelo ideal bom harmonizo relação reduzir erro problema denominar tradeoff ser assim afim obter bom modelo necessário encontre bom relação bia variancer modo minimizar erro tal seguinte relação matemático mse variancer erro irredutível onde mse erro quadrático médio ver bom mse abaixo separar base dar base treino base te este ponto fundamental validar modelo base treino nome sugerir utilizar treinar modelo base testir amostra dar utilizar avaliar desempenho modelo mundo real método dividir dataset denominar holdout poder treinar testar mesmo base pensar acontecer modelo overfitting modelo ajustar ruído testar mesmo base treinar ir funcionar corretamente pois ir produzir ruído existir base entanto testarr base diferente ir perceber modelo ajustar ruído performar bem assim usar holdout medir capacidade generalização modelo funcionar bem dar ainda ver existir terceiro base dar entender propósito ir analisar pouco bom acontecer durante treinamento modelo supor objetivo prever altura pessoo base idade modelo escolher função polinomial grau modelo parametrizar grau n assim coeficiente aₙ f x em esse caso grau polinômio decidir antes treinarmos modelo coeficiente determinar modelo durante treinamento dizer então n hiperparâmetro enquanto aₙ parâmetro modelo surgir então dúvida dever escolher valor n poder treinar modelo vários valor n base teste escolher valor n resultar pequeno erro resposta porque forma overfitting poderíar escolher valor n bom adapta modelo ruir base te este solução criar terceiro base base validação amostr dar objetivo avaliar desempenho modelo durante fase otimização hiperparâmetro base te este ficar então reservar teste final modelo otimizar validação cruzar outro maneira verificar performance capacidade generalizaçãor modelo método validação cruzar validação cruzar semelhante holdout sentido treina testa modelo parte diferente dataset porém contrário holdout utilizar apenas divisão base teste base treino validação cruzar consistir utilização várias divisão dataset validação cruzar fornecer indicação bom quão bem modelo sair novo dar meio várias divisão acabar testar modelo dataset inteiro contraste holdout possuir apenas divisão acabar depender dado dividir base treino testir além de isso validação cruzar método indicar possuímo pouco dar diviser apenas dois base poder acabar fornecer base treino teste bom suficiente provavelmente conhecer utilizar método validação cruzar consistir dividir dataset k grupo selecionar grupo validaçãor outro grupo ser grupo treino modelo modelo treinar avaliar de esse primeiro iteração grupo anteriormente treino grupo validação antigo grupo validação passar grupo testir processo repetir todo k grupo ser utilizar grupo validação final performance modelo calcular médio performancer cada iteração exemplo validação cruzar dataset dividir grupo modelo treinar vez cada grupo chance grupo validação processo poder observar imagem abaixo agora conceito claro hora avaliar modelo existir diverso métrico determinar qualidade modelo exemplo problema classificação modelo bom alta acurácia acertar outro lado avaliar problema regressão métrico comum erro quadrático médio ser assim modelo bom possuir pequeno erro quadrático médio calcular n número observação yi valor real ŷi predição modelor algum consequência diferença elevar quadrado importante notar depender aplicação todo erro igual modelo binário existir certo errar preciso introduzir conceito falso positivo falso negativo imagine dever determinar paciente possuir determinar doença em esse caso existir erro diferente bom falar paciente saudável doente falar paciente doente perfeitamente saudável afinal falso positivo falso negativo bem nome sugerir falso positivo caso resultar correto negativo entretanto resultado obter positivo analogamente falso negativo caso resultado correto positivo contudo programa indicar resultado negativo tabela seguir chamar matriz confusão mostrar quatro tipo classificação modelo depender aplicação poder exemplo vantajoso diminuir grande número falso negativo imagine exemplo dar anteriormente determinar paciente possuir doença resultado exame positivo paciente doente em este caso bom dizer paciente saudável doença falso positivo informar paciente doente saudável falso negativo base matriz confusão poder definir várias outro métrico algum qual mencionamo posts vimos conceito acurácia ligar frequência modelo certo termo falso positivo fp falso negativo fn outro termo poder escrever precisão dizer respeito taxa acerto modelo observação classificar positivo facilitar visualização voltar exemplo paciente precisão resposta perguntar paciente exame positivo realmente ter doença usar fórmula fim recall true positive ratar ver capacidade modelo identificar observação positivo ainda exemplo paciente recall respostar perguntar paciente ter doença quanto diagnosticar calcular outro métrica avaliar modelo tal métrica levar conta tanto recall r quanto precisão p modelo fazer média harmônicar dois bom desempenho médio mau resultado propriedade médio harmônicar qualquer dois valor recall precisão baixo médio baixo de esse forma modelo bom precisar ter recall precisão bom outro métrica importante checar performance modelo curvar roc receiver operating characteristic auc area under the roc curve roc curvar probabilidade mostrar performance classificação fator influencer curvar roc tpr true positive rate recall fpr false positive ratar vários modelo classificação binário poder gerar número saída poder então falar threshold indicar ponto poder considerar predição negativo partir ponto passar considerar positivo curvar roc obter gráfico tpr fpr threshold auc representar área abaixo curvar roc servir medida separabilidade tomarmos exemplo paciente quanto grande auc modelo ir classificar paciente doente doente paciente saudável saudável modelo ideal possuir auc igual conseguir identificar todo resultado corretamente modelo ruim possuir auc próximo verdade significar resultado prever oposto paciente doente modelo dir saudável saudável dir doente auc modelo possuir capacidade separar classe ajuadr entendimento auc ir analisar algum caso específico graficamente caso ideal modelo capaz separar classe perfeitamente momento nenhum sobrepor modelo real normal existir algum sobreposição dois classe indicar caso fn fp valor indicar chance modelo distinguir classes corretamente total sobreposição dois classes modelo capaz diferenciar algum conceito básico predição necessário elaborar modelo capaz resolver qualquer tipo diverso problema próximo posts falarer sobre diferente modelo predição ficar atento saber sobre ir siga página facebook'"
            ],
            "application/vnd.google.colaboratory.intrinsic+json": {
              "type": "string"
            }
          },
          "metadata": {},
          "execution_count": 103
        }
      ]
    },
    {
      "cell_type": "code",
      "source": [
        "df['text'][9]"
      ],
      "metadata": {
        "colab": {
          "base_uri": "https://localhost:8080/",
          "height": 140
        },
        "id": "SwdhITjOFz0-",
        "outputId": "c3c30012-bee5-4540-f1d3-03656d438095"
      },
      "execution_count": null,
      "outputs": [
        {
          "output_type": "execute_result",
          "data": {
            "text/plain": [
              "'O quão bem você aprende com seus erros e experiências passadas? Mal? Não se preocupe, depois desse artigo você entenderá melhor sobre conceitos de predição e como eles podem impactar o seu projeto de machine learning. Dessa forma, pelo menos seu algoritmo vai tomar as decisões certas! O conceito de Machine Learning é baseado na construção de algoritmos de maneira a possibilitar que o computador tome decisões de acordo com as situações e dados inseridos nele. Sendo assim, não se está implementando um algoritmo que segue instruções em uma rotina e sim treinando a máquina para aprender como executar a tarefa. Mas como é possível a máquina aprender? Existem três tipos de aprendizagem de máquina, o supervisionado, o não supervisionado e o por reforço. Caso queira saber mais sobre o assunto e machine learning, existe uma explicação em detalhes neste post! Bem, agora você já sabe sobre machine learning, e os tipos de aprendizagem de máquina e quer criar um modelo! Mas como fazer? Veremos diferentes tipos de modelo em posts futuros, contudo antes de avançarmos é preciso entender alguns conceitos ligados a aspectos básicos de predição. Quando buscamos determinar um valor — por exemplo, determinar o preço de um automóvel baseado no ano em que foi fabricado, se é usado ou não, sua quilometragem, etc. — ou uma categoria, precisamos de um modelo de predição, ou seja, precisamos de uma função que se aproxime daquela descrita pelos dados que temos. Existem diversos modelos de predição (regressão linear, SVM, Naive Bayes, …), que serão abordados em detalhes em posts futuros. É necessário escolher o que melhor se encaixa em sua necessidade. Tal escolha depende dos tipos de dados que se possui e do problema a ser resolvido. Conforme nos aprofundarmos nos diferentes modelos de predição e nos familiarizarmos com suas características a escolha se tornará mais fácil. Depois de escolhido um modelo, é preciso verificar se os resultados obtidos foram bons o suficiente. Para avaliar isso é necessário conhecer um pouco sobre erros comuns que acontecem ao desenvolver os algoritmos, como identificá-los e corrigi-los. Ao construir uma função que se aproxima dos nossos dados, podemos proceder de forma muito complexa, tentando ajustá-la para cada ponto possível; afinal, queremos que ela seja extremamente precisa. Entretanto, isto gera um problema de overfitting: sua função é excelente na base de treino, contudo não tem um desempenho tão bom na base de testes. Isso acontece pois, de certa forma, a sua função “aprendeu o ruído”, ou seja, o modelo se ajusta a erros e fatores aleatórios (exceções ou outliers), que não necessariamente condizem com a realidade dos dados apresentados. Para exemplificar esse problema, vamos analisar um dataset com duas classificações (azul e vermelho). Na imagem abaixo, o modelo ideal é representado pela linha preta, que separa os pontos vermelhos dos azuis. Observe que esse modelo erra algumas vezes. No entanto, esses erros ocorrem por causa de ruído. A linha verde, que não comete nenhum erro, é muito mais complexa: ela se ajustou ao ruído. Se obtivéssemos pontos novos (que não estavam no dataset), o modelo verde provavelmente cometeria erros nesses pontos. Em contrapartida, se o seu modelo for muito simples, você pode acabar com um caso de underfitting, ou seja, sua função não captura corretamente a complexidade dos dados apresentados. Uma linha reta, por exemplo, nem sempre consegue separar um conjunto de pontos em duas categorias. Para entender melhor os erros de predição é necessário entender que fatores influenciam tais erros, bem como a relação entre eles. O primeiro fator, chamado de bias (viés), é a diferença entre a predição média do nosso modelo e o valor correto esperado. Sendo assim, um modelo com bias aprende relações erradas e gera previsões longe do esperado. O modelo não aprende corretamente com o dataset, assumindo muitas informações sobre os dados que não são necessariamente corretas. Dessa forma, modelos com alto bias possuem um problema de underfitting. O segundo fator, variance, é a variabilidade do modelo para um determinado dado, ou seja, a capacidade do modelo de se adaptar à base de treino e ao ruído. Dessa forma, modelos com alta variance focam excessivamente se ajustar aos dados e, inclusive, ao ruído. Assim, esses modelos têm um problema de overfitting, ou seja, se adaptam tão bem ao dataset que não conseguem generalizar para além dele. Por último, temos o erro irredutível, que refere-se a pontos fora da curva, exceções. Não é possível observar cada pequeno fator que leva um evento a acontecer, possuímos limitações. Ao elaborar um modelo escolhemos os fatores que são mais relevantes ao nosso problema e deixamos de lado alguns outros. Em outros casos, podemos não ter acesso a todas as informações. Dessa forma, pode haver alguma feature faltando em nosso dataset que nos impede de gerar predições corretas. Um caso similiar ocorre em um ambiente estocástico, ou seja, um ambiente no qual há algum grau de aleatoriedade. Nesse caso, é realmente impossível prever com exatidão cada saída esperada. Chamamos esses tipos de erro de irredutíveis, uma vez que não podemos reduzi-los apenas mudando o modelo. Para entender melhor a relação entre bias e variance é necessário notar que algoritmos com alta variance tendem a ser mais complexos visto que conseguem se adaptar muito bem a qualquer conjunto de dados. Em contrapartida, os algoritmos com alto bias são muito limitados por tudo aquilo que assumem sobre os dados, de forma que tem menor complexidade. Ou seja, ambos estão ligados ao nível de complexidade do modelo e são dependentes entre si. Em geral, modelo mais simples têm alto bias e baixa variance, enquanto modelos mais complexos têm baixo bias e alta variance. Imagine que você tem um problema para resolver e não sabe muito bem como prosseguir. Como uma primeira tentativa, você decide utilizar um modelo de regressão linear. Ao observar os resultados obtidos, você percebe que estes estão consistentes, porém consistentemente errados. Ao se questionar o motivo do comportamento do seu modelo você nota que a regressão linear assume que os dados estão numa reta, e isto que não é verdadeiro no seu projeto. Nesse caso, o modelo que você escolheu possui alto bias: ele assumiu muito sobre os dados e acabou com um problema de underfitting ao tentar simplificar de mais. Dada a falha na sua tentativa anterior, você decidiu utilizar um polinômio de grau 10000 para construir seu modelo. Contudo você percebe que ainda assim seu modelo não está com um desempenho satisfatório: os resultados estão dispersos e, apesar de as vezes seu modelo acertar, ele não está servindo muito bem para o seu propósito. Isto aconteceu pois ao construir seu modelo extremamente complexo, você acabou com uma variance altíssima e de brinde ganhou um problema de overfitting. Observe que para diminuir o bias, precisamos aumentar a variance, e vice-versa. É assim que funciona a ligação entre Bias e Variance, eles estão intimamente conectados, e o modelo ideal é aquele que melhor harmoniza essa relação e reduz o erro. Esse problema é denominado de bias-variance tradeoff. Sendo assim, afim de se obter o melhor modelo é necessário que se encontre a melhor relação entre bias e variance de modo a minimizar o erro. Para tal, segue-se a seguinte relação matemática: MSE = Bias² + Variance + Erro Irredutível, onde MSE é o erro quadrático médio (veremos melhor o que isso é o MSE mais abaixo). Separar a sua base de dados em base de treino e base de teste é um ponto fundamental para validar seu modelo. A base de treino é aquela que, como o nome sugere, será utilizada para treinar seu modelo. Já a base de teste refere-se à amostra de dados que será utilizada para avaliar o desempenho do seu modelo no mundo real. Essa método de dividir o dataset é denominado holdout. E por que não podemos treinar e testar na mesma base? Pense no que acontece em um modelo com overfitting. Esse modelo se ajustou ao ruído. Se ele for testado na mesma base em que foi treinado, ele vai funcionar corretamente, pois vai produzir o mesmo ruído que já existe na base. No entanto, se o testarmos em uma base diferente, vamos perceber que esse modelo se ajustou ao ruído e que ele não está performando bem. Assim, usamos holdout para medir a capacidade de generalização de um modelo (se ele funciona bem em dados que ainda não viu). Também existe uma terceira base de dados. Para entender o seu propósito, vamos analisar um pouco melhor o que acontece durante o treinamento de um modelo. Suponha que o nosso objetivo seja prever a altura de uma pessoa com base em sua idade e que o modelo escolhido seja uma função polinomial de grau n. Esse modelo é parametrizado pelo grau n, assim como pelos coeficientes a₀, a₁, a₂, …, aₙ, com: f(x) = a₀ + a₁⋅x + a₂⋅x² + ⋯ + aₙ⋅xⁿ. Nesse caso, o grau do polinômio é decidido antes de treinarmos o modelo. Já os coeficientes são determinados pelo modelo durante o treinamento. Dizemos então que n é um hiperparâmetro, enquanto a₀, a₁, a₂, …, aₙ são parâmetros do modelo. Surge então uma dúvida: como devemos escolher o valor de n? Será que podemos treinar o modelo para vários valores de n, testá-lo na base de teste e escolher o valor de n que resulta no menor erro? A resposta é não, porque isso seria uma forma de overfitting: poderíamos estar escolhendo o valor de n que melhor adapta o modelo ao ruído da base de teste. A solução é criar uma terceira base: a base de validação. Essa amostra dos dados tem como objetivo avaliar o desempenho do modelo durante a fase de otimização dos hiperparâmetros. A base de teste fica então reservada para o teste final, quando o modelo já estiver otimizado. Validação Cruzada Uma outra maneira de verificar a performance e capacidade de generalização do seu modelo é o método de validação cruzada. A validação cruzada é semelhante ao holdout no sentido em que também treina e testa o modelo em partes diferentes do dataset. Porém, ao contrário do holdout, que utiliza apenas uma divisão entre base de teste e base de treino, a validação cruzada consiste na utilização de várias divisões do dataset. A validação cruzada nos fornece uma indicação melhor do quão bem o modelo se sairá com novos dados, já que, por meio das várias divisões, esta acaba testando o modelo no dataset inteiro, em contraste com o holdout que, por possuir apenas uma divisão, acaba dependendo de como os dados foram divididos entre as bases de treino e teste. Além disso, validação cruzada é o método mais indicado quando possuímos poucos dados, já que a divisão em apenas duas bases pode acabar não fornecendo bases de treino e de teste boas o suficiente. K-fold é provavelmente o mais conhecido e utilizado método de validação cruzada. Consiste em dividir o dataset em k grupos, selecionando um para ser o grupo de validação e os outros k-1 grupos para serem grupos de treino para o modelo. O modelo é treinado e avaliado. Depois dessa primeira iteração, um dos grupos que anteriormente era de treino torna-se o grupo de validação e o antigo grupo de validação passa a ser um grupo de teste. Esse processo se repete até que todos os k grupos tenham sido utilizados como grupo de validação. No final, a performance do modelo é calculada como a média de sua performance em cada iteração. Por exemplo, em uma validação cruzada 5-fold, o dataset é dividido em 5 grupos e o modelo é treinado 5 vezes, para que cada grupo tenha a chance de ser um grupo de validação. Este processo pode ser observado na imagem abaixo. Agora que temos os conceitos mais claros, é hora de avaliar seu modelo. Existem diversas métricas para determinar a qualidade de um modelo. Por exemplo, em um problema de classificação, um modelo bom é aquele que tem alta acurácia, ou seja, aquele que acerta mais: Por outro lado, para avaliar um problema de regressão, uma métrica muito comum é a do erro quadrático médio. Sendo assim, um modelo bom é aquele que possui menor erro quadrático médio, calculado por: em que n é o número de observações, yi é o valor real e ŷi é a predição do modelo. Algumas consequências da diferença (ŷ-y) ser elevada ao quadrado são: É importante notar que dependendo da sua aplicação, nem todos os erros são iguais. Em modelos binários — em que só existe certo ou errado, 0 ou 1 — é preciso introduzir o conceito de falsos positivos e falsos negativos. Imagine que devemos determinar se um paciente possui ou não determinada doença. Nesse caso, percebe-se que existem erros diferentes. É melhor falar a um paciente saudável que ele está doente ou falar a um paciente doente que ele está perfeitamente saudável? Mas afinal o que são falsos positivos e falsos negativos? Bem, como o nome sugere, falsos positivos são casos em que o resultado correto é negativo entretanto o resultado obtido é positivo. Analogamente, falsos negativos são aqueles casos em que o resultado correto é positivo, contudo o programa indica um resultado negativo. A tabela a seguir é chamada matriz de confusão; ela mostra os quatro tipos de classificação do modelo. Dependendo da sua aplicação, pode ser, por exemplo, mais vantajoso diminuir ao máximo o número de falsos negativos. Imagine o exemplo dado anteriormente de determinar se um paciente possui uma doença ou não (em que o resultado do exame é positivo se o paciente está doente). Neste caso é melhor dizer a um paciente saudável que ele tem a doença (falso positivo) do que informar a um paciente doente que ele está saudável (falso negativo). Com base na matriz de confusão, podemos definir várias outras métricas, algumas das quais já mencionamos em um de nossos posts. Como já vimos, o conceito de acurácia está ligado com a frequência com a qual o seu modelo está certo. Em termos de falsos positivos (FP), falsos negativos (FN) e dos outros termos, podemos escrever: Já a precisão diz respeito à taxa de acerto do modelo nas observações classificadas como positivas. Para facilitar a visualização, voltando ao exemplo do paciente, precisão seria a resposta da pergunta: “dos pacientes com exame positivo realmente têm a doença?”. Para calculá-la, usamos a fórmula: Por fim, recall (ou true positive rate) tem a ver com a capacidade do modelo de identificar observações positivas. Ainda no exemplo do paciente, recall seria a resposta da pergunta: “dos pacientes que têm a doença, quantos foram diagnosticados?”. É calculado por: Uma outra métrica para avaliar seu modelo é a F1. Tal métrica leva em conta tanto o recall (r) quanto a precisão (p) do seu modelo, fazendo uma média harmônica entre os dois. O melhor desempenho é aquele em que a média é 1 e o pior, em que o resultado é 0. Uma propriedade da média harmônica é que se qualquer um dos dois valores (recall ou precisão) for baixo, a média será baixa. Dessa forma, um modelo bom precisa ter recall e precisão bons. Outras métricas importantes para checar a performance do modelo são a curva ROC (Receiver Operating Characteristic) e a AUC (Area Under the ROC Curve). ROC é uma curva de probabilidade que mostra a performance de classificação. Os fatores que influenciam a curva ROC são TPR (True Positive Rate ou recall) e FPR (False Positive Rate): Vários modelos de classificação binária podem gerar um número como saída. Podemos então falar de um threshold, que indica até que ponto podemos considerar que a predição é negativa e a partir de que ponto ela passa a ser considerada positiva. A curva ROC é obtida ao plotar-se um gráfico TPR × FPR, variando-se o threshold. Já AUC representa a área abaixo da curva ROC e serve como uma medida de separabilidade. Se tomarmos o exemplo do paciente, quanto maior AUC, mais o nosso modelo vai classificar pacientes doentes como doentes e pacientes saudáveis como saudáveis. O modelo ideal possui AUC igual a 1, ou seja consegue identificar todos os resultados corretamente. Um modelo ruim possui AUC próxima de 0, isso na verdade significa que os resultados previstos são opostos, isto é, se um paciente está doente o modelo dirá que está saudável e se está saudável dirá que ele está doente. Quando AUC está em 0.5 o modelo não possui a capacidade de separar as classes. Para ajuadr no entendimento da AUC, vamos analisar alguns casos específicos graficamente. No caso ideal, o modelo é capaz de separar as classes perfeitamente, em momento nenhum se sobrepondo. No modelo real, é normal que exista alguma sobreposição entre as duas classes, indicando casos de FN e FP. O valor de AUC=0.7 indica que há uma chance de 70% do nosso modelo distinguir as classes corretamente. Com o AUC=0.5 há total sobreposição das duas classes, ou seja o modelo não é capaz de diferenciar entre elas. Esses foram alguns conceitos básicos de predição, necessários para elaborar modelos capazes resolver qualquer os tipos mais diversos de problema! Nos próximos posts falaremos mais sobre diferentes modelos de predição e como utilizá-los, fique atento! Para saber mais sobre IA, siga também nossa página no Facebook.'"
            ],
            "application/vnd.google.colaboratory.intrinsic+json": {
              "type": "string"
            }
          },
          "metadata": {},
          "execution_count": 108
        }
      ]
    },
    {
      "cell_type": "markdown",
      "source": [
        "Escolherei a primeira frase do dataset e pré-processado e não pré-processado para avaliar o POS-tagging."
      ],
      "metadata": {
        "id": "PcTJTUzhGQIs"
      }
    },
    {
      "cell_type": "code",
      "source": [
        "frase_limpa= 'quão bem aprender erro experiência passar mal preocupe de esse artigo entender bom sobre conceito predição poder impactar projeto machine learning'\n",
        "frase='O quão bem você aprende com seus erros e experiências passadas? Mal? Não se preocupe, depois desse artigo você entenderá melhor sobre conceitos de predição e como eles podem impactar o seu projeto de machine learning.'"
      ],
      "metadata": {
        "id": "4oee_rAVFxxe"
      },
      "execution_count": null,
      "outputs": []
    },
    {
      "cell_type": "code",
      "source": [
        "ptfrase_limpa=spc(frase_limpa)\n",
        "for token in ptfrase_limpa:\n",
        "    print(f\"{token.text}: {token.pos_}\")"
      ],
      "metadata": {
        "colab": {
          "base_uri": "https://localhost:8080/"
        },
        "id": "tq-EU8hdGkOF",
        "outputId": "22abb0d0-531c-4987-eef7-3824f29775e6"
      },
      "execution_count": null,
      "outputs": [
        {
          "output_type": "stream",
          "name": "stdout",
          "text": [
            "quão: ADV\n",
            "bem: ADV\n",
            "aprender: VERB\n",
            "erro: NOUN\n",
            "experiência: NOUN\n",
            "passar: VERB\n",
            "mal: ADV\n",
            "preocupe: ADV\n",
            "de: ADP\n",
            "esse: DET\n",
            "artigo: NOUN\n",
            "entender: VERB\n",
            "bom: ADJ\n",
            "sobre: ADP\n",
            "conceito: NOUN\n",
            "predição: NOUN\n",
            "poder: VERB\n",
            "impactar: VERB\n",
            "projeto: NOUN\n",
            "machine: PROPN\n",
            "learning: PROPN\n"
          ]
        }
      ]
    },
    {
      "cell_type": "code",
      "source": [
        "ptfrase=spc(frase)\n",
        "for token in ptfrase:\n",
        "    print(f\"{token.text}: {token.pos_}\")"
      ],
      "metadata": {
        "colab": {
          "base_uri": "https://localhost:8080/"
        },
        "id": "EXW7ws4gGsBT",
        "outputId": "c372e99b-7a7b-4b2f-94a3-b0a91981b3f5"
      },
      "execution_count": null,
      "outputs": [
        {
          "output_type": "stream",
          "name": "stdout",
          "text": [
            "O: DET\n",
            "quão: NOUN\n",
            "bem: ADV\n",
            "você: PRON\n",
            "aprende: VERB\n",
            "com: ADP\n",
            "seus: DET\n",
            "erros: NOUN\n",
            "e: CCONJ\n",
            "experiências: NOUN\n",
            "passadas: ADJ\n",
            "?: PUNCT\n",
            "Mal: ADV\n",
            "?: PUNCT\n",
            "Não: ADV\n",
            "se: PRON\n",
            "preocupe: ADV\n",
            ",: PUNCT\n",
            "depois: ADV\n",
            "desse: ADP\n",
            "artigo: NOUN\n",
            "você: PRON\n",
            "entenderá: VERB\n",
            "melhor: ADJ\n",
            "sobre: ADP\n",
            "conceitos: NOUN\n",
            "de: ADP\n",
            "predição: NOUN\n",
            "e: CCONJ\n",
            "como: ADV\n",
            "eles: PRON\n",
            "podem: VERB\n",
            "impactar: VERB\n",
            "o: DET\n",
            "seu: DET\n",
            "projeto: NOUN\n",
            "de: ADP\n",
            "machine: PROPN\n",
            "learning: PROPN\n",
            ".: PUNCT\n"
          ]
        }
      ]
    },
    {
      "cell_type": "markdown",
      "source": [
        "Falar da classificação ser melhor no texto não limpo e explicar pq, depois fazer análises do dataset com isso."
      ],
      "metadata": {
        "id": "etm636FAHZJS"
      }
    },
    {
      "cell_type": "markdown",
      "source": [
        "##NER:"
      ],
      "metadata": {
        "id": "K1Tq0Fa429IQ"
      }
    },
    {
      "cell_type": "code",
      "source": [
        "!pip3 install polyglot"
      ],
      "metadata": {
        "colab": {
          "base_uri": "https://localhost:8080/"
        },
        "id": "_-zSp5-b3_PL",
        "outputId": "ca647f43-66b7-46f1-fcb4-5a93af332d1a"
      },
      "execution_count": null,
      "outputs": [
        {
          "output_type": "stream",
          "name": "stdout",
          "text": [
            "Requirement already satisfied: polyglot in /usr/local/lib/python3.10/dist-packages (16.7.4)\n"
          ]
        }
      ]
    },
    {
      "cell_type": "code",
      "source": [
        "!apt install python-numpy libicu-dev\n",
        "!apt install python3-icu"
      ],
      "metadata": {
        "colab": {
          "base_uri": "https://localhost:8080/"
        },
        "id": "DcE2taAe4BFE",
        "outputId": "93f1bcbd-e799-4e6c-a92e-c967514e0170"
      },
      "execution_count": null,
      "outputs": [
        {
          "output_type": "stream",
          "name": "stdout",
          "text": [
            "Reading package lists... Done\n",
            "Building dependency tree... Done\n",
            "Reading state information... Done\n",
            "\u001b[1;31mE: \u001b[0mUnable to locate package python-numpy\u001b[0m\n",
            "Reading package lists... Done\n",
            "Building dependency tree... Done\n",
            "Reading state information... Done\n",
            "The following NEW packages will be installed:\n",
            "  python3-icu\n",
            "0 upgraded, 1 newly installed, 0 to remove and 16 not upgraded.\n",
            "Need to get 540 kB of archives.\n",
            "After this operation, 2,780 kB of additional disk space will be used.\n",
            "Get:1 http://archive.ubuntu.com/ubuntu jammy/main amd64 python3-icu amd64 2.8.1-0ubuntu2 [540 kB]\n",
            "Fetched 540 kB in 2s (294 kB/s)\n",
            "Selecting previously unselected package python3-icu.\n",
            "(Reading database ... 120831 files and directories currently installed.)\n",
            "Preparing to unpack .../python3-icu_2.8.1-0ubuntu2_amd64.deb ...\n",
            "Unpacking python3-icu (2.8.1-0ubuntu2) ...\n",
            "Setting up python3-icu (2.8.1-0ubuntu2) ...\n"
          ]
        }
      ]
    },
    {
      "cell_type": "code",
      "source": [
        "!apt autoremove"
      ],
      "metadata": {
        "colab": {
          "base_uri": "https://localhost:8080/"
        },
        "id": "ZBHrjZiQ4EBy",
        "outputId": "8b12f9e8-6ff3-498a-b82a-dc5d421f9a3f"
      },
      "execution_count": null,
      "outputs": [
        {
          "output_type": "stream",
          "name": "stdout",
          "text": [
            "Reading package lists... Done\n",
            "Building dependency tree... Done\n",
            "Reading state information... Done\n",
            "0 upgraded, 0 newly installed, 0 to remove and 16 not upgraded.\n"
          ]
        }
      ]
    },
    {
      "cell_type": "code",
      "source": [
        "!pip3 install pycld2"
      ],
      "metadata": {
        "colab": {
          "base_uri": "https://localhost:8080/"
        },
        "id": "LIOuAmWN4Jtv",
        "outputId": "0036df8d-533d-4ea3-e2fb-98ff6666b45f"
      },
      "execution_count": null,
      "outputs": [
        {
          "output_type": "stream",
          "name": "stdout",
          "text": [
            "Requirement already satisfied: pycld2 in /usr/local/lib/python3.10/dist-packages (0.41)\n"
          ]
        }
      ]
    },
    {
      "cell_type": "code",
      "source": [
        "!pip3 install morfessor"
      ],
      "metadata": {
        "colab": {
          "base_uri": "https://localhost:8080/"
        },
        "id": "a0-sNrRu4Sn2",
        "outputId": "cad6ee48-50ce-4469-cb48-baab09df55bb"
      },
      "execution_count": null,
      "outputs": [
        {
          "output_type": "stream",
          "name": "stdout",
          "text": [
            "Collecting morfessor\n",
            "  Downloading Morfessor-2.0.6-py3-none-any.whl (35 kB)\n",
            "Installing collected packages: morfessor\n",
            "Successfully installed morfessor-2.0.6\n"
          ]
        }
      ]
    },
    {
      "cell_type": "code",
      "source": [
        "from polyglot.text import Text"
      ],
      "metadata": {
        "id": "kIIFSdes4GFK"
      },
      "execution_count": null,
      "outputs": []
    },
    {
      "cell_type": "code",
      "source": [
        "from polyglot.downloader import downloader"
      ],
      "metadata": {
        "id": "qUrYxNWq414f"
      },
      "execution_count": null,
      "outputs": []
    },
    {
      "cell_type": "code",
      "source": [
        "%%bash\n",
        "polyglot download embeddings2.pt ner2.pt"
      ],
      "metadata": {
        "colab": {
          "base_uri": "https://localhost:8080/"
        },
        "id": "wlPUNhYs4yBE",
        "outputId": "5d036b23-1e8f-45f1-eadf-3bcffdf7bac5"
      },
      "execution_count": null,
      "outputs": [
        {
          "output_type": "stream",
          "name": "stdout",
          "text": [
            "[polyglot_data] Downloading package embeddings2.pt to\n",
            "[polyglot_data]     /root/polyglot_data...\n",
            "[polyglot_data]   Package embeddings2.pt is already up-to-date!\n",
            "[polyglot_data] Downloading package ner2.pt to /root/polyglot_data...\n"
          ]
        }
      ]
    },
    {
      "cell_type": "code",
      "source": [
        "ttexto=Text(df['texto_limpo'][106])\n",
        "ttexto.entities"
      ],
      "metadata": {
        "colab": {
          "base_uri": "https://localhost:8080/"
        },
        "id": "dS3YtFVN4hzs",
        "outputId": "67c8138a-41d6-432f-cf92-cf576f71b0b1"
      },
      "execution_count": null,
      "outputs": [
        {
          "output_type": "execute_result",
          "data": {
            "text/plain": [
              "[I-PER(['letícia', 'falconer']),\n",
              " I-PER(['lever']),\n",
              " I-ORG(['observer']),\n",
              " I-ORG(['amazon']),\n",
              " I-ORG(['observer']),\n",
              " I-LOC(['pando'])]"
            ]
          },
          "metadata": {},
          "execution_count": 89
        }
      ]
    },
    {
      "cell_type": "code",
      "source": [
        "documento=spc(df['texto_limpo'][106])\n",
        "for named_entity in documento.ents:\n",
        "    print(named_entity, named_entity.label_)"
      ],
      "metadata": {
        "colab": {
          "base_uri": "https://localhost:8080/"
        },
        "id": "7CJcB4e_vIg6",
        "outputId": "55748105-0663-48ae-97d7-d56c10528d83"
      },
      "execution_count": null,
      "outputs": [
        {
          "output_type": "stream",
          "name": "stdout",
          "text": [
            "fillipe letícia falconer olá PER\n",
            "turing PER\n",
            "concatenarr PER\n",
            "datetime lagtime window featur PER\n",
            "statsmodels python PER\n",
            "window featur rolling window featur rolling window featur MISC\n",
            "window featur python MISC\n",
            "turing PER\n",
            "engineeringr MISC\n",
            "turing PER\n",
            "instagrr linkedin claro LOC\n",
            "discord abraço PER\n"
          ]
        }
      ]
    },
    {
      "cell_type": "code",
      "source": [
        "df['texto_limpo'][106]"
      ],
      "metadata": {
        "colab": {
          "base_uri": "https://localhost:8080/",
          "height": 140
        },
        "id": "h3Flxdje5Tpb",
        "outputId": "a19535f6-ad04-40d8-c91c-397952516a85"
      },
      "execution_count": null,
      "outputs": [
        {
          "output_type": "execute_result",
          "data": {
            "text/plain": [
              "'texto escrever Kauã fillipe letícia falconer olá leitor turing talks texto hoje tratar sobre feature engineering série temporal assunto bastante importante dentro área ciência dar proposta de este texto introdução entendimento dar processo feature Engineering contexto série temporal primeiramente ir definir série temporal feature Engineering featur série temporal partir de isso poder entender bom relação dois conceito seguir seguinte estrutura ir lá série temporal poder definir conjunto observação relacionar variável disposto sequência tempo exemplificar conceito ir utilizar Dataset datasets repository fornecir jbrownlee em ele registro número passageiro linha aéreo mês dar seguinte forma ver trabalhar dataset apenas variável dado costumar registrar maneira periódico exemplo dizer anteriormente registro realizar considerar intervalo mês abaixo visualização dar outro conceito extremamente importante texto hoje feature engineering tratar propósito servir bom processo seleção dar original datasetr transformação novo featur qual poder utilizar aprendizar máquina simplificar melhorar acurácia modelo exemplo utilizar de esse conceito dar faltante dataset lidar correto maneira fazer exemplo texto hoje sim sobre manipulação coluna bom aproveitamento dar vejamos dataset seguir climate change dataset contém coordenada cidade afetar mudança climático poder ver primeiro coluna dataset coordenada dividir latitude longitude separadamente contudo informação úteis si sim conjunto existir maneira bom representar dado relacionarmo dar outro bastar concatenarr coordenada verdade existir maneira fácel ser interpretar modelo possível abordagem solucionar problema transformar coluna coordenar polar assim ir criar coluna representar distância cidade relação coordenar zero outro inclinação grau agora conceito inicial bem introduzir poder dar passo frente discutir tudo poder aplicar série temporal dizer anteriormente poder utilizar feature Engineering criar coluna dataset ajudar fazer poderoso previsão sobre futuro onde dever começar apesar existir algum método poder ajudar criar featur beneficiem datetime lagtime Window featur qual explicar adiante existir fórmula digo bom abordagem chegar resultado esperar contrário extremamente importante noção objetivo final lever consideração dado disponível criar featur específico problema correto criar todo featur conseguirr independente datasetr previsão futuro desejar seguramente vejamos dataset seguir informação respeito venda ingresso diferente cinema primeiramente poder observar existir cinema filme diferente Dataset desejamos prever demanr futuro compra ingresso existir diferentes localidade diversos filme demanr varer interessante analisarmos todo dado simultaneamente conhecer Dataset dever considerar histórico cada de esse cinema separadamente poder prever cada futuramente ter tudo mentir próximo passo tomar bom correto analisarmos cada região forma independente verificar maneira clima feriado época ano influencir venda ingresso ainda poderíar colocar informação externo novo featur dataset garantir acurácia ainda bom modelo tudo criar quantidade pequeno necessário coluna novo dataset evitar poluir featur poder extraída dado relacionar Carimbo em esse caso horário dia mês ano etc partir de isso possível determinar novo relação interessante dar gerar insights importante análise dar featur datar hora time featur permitir modelar dependência temporal possível fazer previsão partir tempo determinar evento ocorrer forma extraem featur ir depender qualidade dataset trabalha voltar datasetr quantidade passageiro linha aéreo mês exemplo ver poder extrair featur ano mês coluna month tipo de esse coluna string informação formato timestamp dateformat panr poderíar obter dois novo coluna aplicar método splitr dividir dois informação tempo coluna month seguinte maneira poderíar construir gráfico informer sobre comportamento quantidade passageiro longo mês dentro cada ano ferramentar bastante útil em esse contexto função transformar argumento formato datetime padronizar formato data datasetr poder utilizar grande gama ferramenta disponível biblioteca panr permitir criar outro visualização auxílio biblioteco interativo plotly poder continuar construir gráfico bem interessante em esse caso seguinte em ele poder ver existir fato relação alvo quantidade passageiro tempo em esse gráfico traçamos linha tendência disposto através média móvel dado indicar comportamento geral quantidade passageiro longo tempo assim possível identificar sazonalidade comportamento tal modo independente ano aumento significativo quantidade passageiro mês julho agosto relação demais provavelmente contar período férias além de isso valer mencionar outro técnica igualmente útil exemplo ir utilizar novo dataset biblioteca plotly representar preço ação emprês tecnologia período tempo possível extrair diretamente objeto tipo timestampr featur ano mês dia hora seguinte forma poderíar ter aplicar caso passageiro quiséss possível construir gráfico quantidade passageiro longo mês cada ano novamente ter visualização bom caminho escolher início de esse vez conferir grande clareza aspecto sazonal de esse distribuição mês ano aumento número passageiro trafegar companhia decorrer ano poder indicar sucesso imagem empresa observer featur datar hora poder vir outro formato binário ser extraír meio outro estratégia ficar cargo cientista dar decidir bom abordagem featur importante série temporal único próximo tópico tratar lag time features utilizamos lag time featur querer estudar dependência variável alvo valor instante tempo passado qual chamar lag abordagem interessante cenário previsão preço ação empresa em esse contexto poder tentar prever queda subido preço ação base valor assumir dia anterior exemplo diferente featur datar hora lag Time featur ajudar determinar dependência serial observação de esse série temporal depender poder predita partir observação anterior tempo utilizarr lag adotar defasagem Unidade tempo dia mês atrás exemplo lag referir defasagem unidade tempo lag unidade tempo lag unidade tempo assim dia atrás semana atrás mês atrás respectivamente depender unidade tempo trabalhar antes nada precisar tomar decisão período atraso dever considerar usar dia estudar relação existir algum ferramenta poder útil ajudar determinar valor Autocorrelação autocorrelação lag defasagem l poder definir correlação todo par observação separar l unidade tempo v variável alvo t instante tempo medida informar quanto observação variável alvo instante tempo relacionar observação passar dar defasagem l portanto permitir ter ideia valor adotar atraso poder analisar correlação meio função autocorrelação acf poder representado graficamente através correlograma ir voltar dataset preço ação mercado utilizar anteriormente preste atenção registro preço fazer cada semana de esse forma unidade tempo ir adotar lags semana dia citar antes poder criar lag utilizar função shift indicar tamanho defasagem ver exemplo abaixo demonstrar poderíar obter lag preço empresa amazon note devido defasagem semana realizar dar faltante lag feature fizéssemos shift defasagem unidade tempo semana em esse caso dar faltante coluna lag feature assim diante bom foquer análise empresa netflix supor querer predizer preço ação netflix base preço semana anterior certeza bom predizer preço base preço semana atrás ter segurança escolha então utilizar função biblioteca statsmodels python criar correlograma estudar autocorrelação preço ação de esse empresa percebo autocorrelação decair lentamente conforme aumento tamanho lags esperar preço ação netflix correlação preço semana anterior preço semana distante tempo fazer bastante sentido gráfico abaixo confirmar fato bom escolha utilizar defasagem semana modelo semelhante lag featur utiliza Window featur relacionar variável target featur passado contudo falar instante único tempo sim intervalar momento atual poder pensar algo resumo todo lag featur presente poder médio de esse valor pequeno grande qualquer outro estatística desejer utilizar ainda depender janela escolher fixo móvel Window featur poder categorizar rolling Window expanding Window featur Rolling Window featur Rolling Window featur dizer próprio nome janela deslocar junto série temporal permanecer tamanho fixo imagem abaixo demonstrar processo clarezar laranjo janela tamanho percorrer série temporal calcular somar valor além de isso poder perceber primeiro dois valor somar encontrar nulo ocorrer pois escolher janela tamanho haver dar suficiente dois primeiro instante tempo aplicar conceito série temporal panr existir função chamar rolling fazer todo processo ir utilizar exemplo foto acima agora código observer função rolling retornar janela tamanho desejar forma aplicar função sum em ele obtermos resultado esperar de esse forma poderíar utilizar qualquer outro estatística médio popularmente conhecer moving average valor mínimo grande janela abaixo exemplo ficar Rolling Window utilizar médio expanding Window featur expanding Window featur janela possuir tamanho fixo modo incluir todo dado anterior atual imagem abaixo poder observar processo laranja janela tamanho variável calcular médio valor abaixo exemplo utilizar expanding Window featur python datasetr acima calcular média utilizar função panda chamar expanding além de isso assim rolling Window featur poderíar utilizar qualquer outro estatística valor mínimo grande janela abaixo outro exemplo agora utilizar valor grande janela lidar série temporal tarefa comum importante dentro área ciência dar ser ramo diversos aplicação empresa antes construir modelo preditivo série temporal essencial garantir bom processo featurar engineering manipular dado Dataset assegurar possua todo informação necessário fazer previsão Melhore performance algoritmo usar poder adaptar dado diverso maneira levar sempre consideração bom abordagem problema específico turing talks hoje explicar sobre featur datar hora lag time Window featur além algum método poder usado criamos mapa mental abaixo conceito básico ajudar relembrar teoria confundo métodos regrar tema feature engineering ir além contexto série temporal utilizar abordagem outro cenário modelagem caso interessar saber sobre série temporal utilizar biblioteca panr recomendar leitura turing talks manipulação série temporal panr poder encontre algum conceito função utiliza aqui esperar gostar obrigar chegar aqui querer conhecer pouco sobre fazer deixar seguir rede social facebook instagr linkedin claro acompanhar posts medium acompanhar ainda perto participar discussão evento servidor discord abraço breve'"
            ],
            "application/vnd.google.colaboratory.intrinsic+json": {
              "type": "string"
            }
          },
          "metadata": {},
          "execution_count": 83
        }
      ]
    },
    {
      "cell_type": "code",
      "source": [
        "ttexto1=Text(df['texto_limpo'][4])\n",
        "ttexto1.entities"
      ],
      "metadata": {
        "colab": {
          "base_uri": "https://localhost:8080/"
        },
        "id": "ClhcpU377tl3",
        "outputId": "f44b8cfb-cb58-4ea3-efaf-6ef5fd4487b6"
      },
      "execution_count": null,
      "outputs": [
        {
          "output_type": "execute_result",
          "data": {
            "text/plain": [
              "[I-PER(['keys']), I-PER(['pando'])]"
            ]
          },
          "metadata": {},
          "execution_count": 92
        }
      ]
    },
    {
      "cell_type": "code",
      "source": [
        "documento1=spc(df['texto_limpo'][4])\n",
        "for named_entity in documento1.ents:\n",
        "    print(named_entity, named_entity.label_)"
      ],
      "metadata": {
        "colab": {
          "base_uri": "https://localhost:8080/"
        },
        "id": "KCOVGSYb8OmB",
        "outputId": "ef2cbf54-39da-4735-adc9-099a3a6baa42"
      },
      "execution_count": null,
      "outputs": [
        {
          "output_type": "stream",
          "name": "stdout",
          "text": [
            "python MISC\n",
            "python MISC\n",
            "listo PER\n",
            "python MISC\n",
            "while while loop MISC\n",
            "keyn valuen PER\n",
            "keys PER\n",
            "format referenciarr valor PER\n",
            "python MISC\n",
            "json PER\n",
            "listo PER\n",
            "python MISC\n",
            "return MISC\n",
            "python MISC\n",
            "python MISC\n",
            "args kwargs PER\n",
            "funçãor MISC\n",
            "unsupported operand PER\n",
            "python MISC\n"
          ]
        }
      ]
    },
    {
      "cell_type": "code",
      "source": [
        "df['texto_limpo'][4]"
      ],
      "metadata": {
        "colab": {
          "base_uri": "https://localhost:8080/",
          "height": 140
        },
        "id": "t0f3QD0l80GX",
        "outputId": "3d8f2244-e048-4c46-9991-d4b57d9b037d"
      },
      "execution_count": null,
      "outputs": [
        {
          "output_type": "execute_result",
          "data": {
            "text/plain": [
              "'semana passado passar básico linguagem programação python introduzimo conceito básico variável atribuição operação assim print input lista em este semana objetivo terminar introdução introduzir conceito loop função poder então utilizar novo conhecimento explorar área data science machine learning existir função range b c python criar sequência número ser apenas necessário identificar início fim b passo número começar aumentar atingir b note b incluir sequência passo c diferença número consecutivo em esse sequência exemplo formalmente função range poder definir seguinte maneira range b c b saber colocar apenas dois termo rangir fará passo automaticamente igual range b range range b range bom saber dar função apenas número fazer lista começar zero passo igual comprimento igual valor dar função range range então range range sequência número comportar listar algum diferença exemplo poder adicionar número sequência usar função transformar sequência listo bastar usar list range b c python vez necessário realizar diverso operação repetitivo imprimir sequência número consecutivo tipo tarefa utilizar loop dois maneira executar loop pythonr poder fazer utilizar meio while while loop repetir bloco código enquanto condição verdadeiro loop passar todo elemento sequência ordir aparecer exemplo abaixo bloco dentro executar vez cada elemento listar poder iterar utilizar função range caso necessário modificar lista sobre iterar necessário fazer cópia lista poder fazer utilizar notação listo ver acima dicionário outro estrutura dar nativo pythonr estrutura basicamente compor elemento possuir dois componente chave valor implementação python hash tables extremamente útil diversos aplicação dicionário possuir seguinte estrutura dicionario keyn valuen listar poder criar vazio possuir elemento mostrar exemplo abaixo acessar valor dicionário usar sintaxe parecir lista utilizar colchete entretanto ir índice elemento sim chave além de isso poder iterar dicionário utilizar método keys retornar iterador todo chave respectivo dicionário iterador simplesmente objeto poder iterar sobre poder lista tupla explicar adiante exemplo utilizar dicionário criar exemplo anterior ir demonstrar funcionalidade em este exemplo aparecer algo ainda ver função format útil formatar strings colocar valor variável texto funcionar seguinte maneira criarmos string colocamos chaves valor substitúir variável exemplo acima elemento c c substituir algum variável querer mostrar efetivamente substituirmos valor bastante aplicarr função format referenciarr valor chave argumento fazer format poderíar fazer chave elemento chave exemplo python aplicação de este estrutura poder querer utilizar estrutura dar guardar diversos música cada música querer guardar nome banda ano dicionário cair luva pois facilitar leitura intuitivo extremamente prático recuperarmo dar guardar estrutura poder facilmente construir seguinte maneira sim dicionário poder utilizar conjunto listar usar criatividade criar mixe estrutura dar forma dar poder acessar forma eficiente facilitar entendimento código outro programador clareza código extremamente importante procure sobre code readability fim dicionário ótimo estrutura dar armazenar dar pythonr facilmente transformar json usar envio recebimento dar último estrutura dar apresentar em este tutorial tupla tupla parecir listo porém imutável visualmente único diferença listo criar colchete tupla criar parêntese disser estrutura dar imutável querer dizer criar poder alterar possível adicionar remover alterar elemento estruturar rígir seguro cujo objetivo armazenar dar dever manter inalterar longo andamento programa usar exemplo funcionamento args ver breve abaixo exemplo criação tupla seguir tentativo função bloco código organizar reutilizável realizar certo ação criar função python seguir estrutura primeiro usarer apenas argumento posicional portanto ordir parâmetro função inserir dever mesmo declarar argumento função após função criar poder informar argumento retornar valor expressão colocar return ver algum exemplo exemplo em este primeiro exemplo criar função printar texto passar argumento exemplo em este outro exemplo criar outro função somar dois argumento passar todo argumento python passar referência querer dizer mudar parâmetro dentro função mudanço refleter chamar função exemplo em este caso mantiver referência objeto passar simplesmente anexar valor objeto produzir resultar argumento função dever passar ordem posicional correto número argumento chamar função dever igual número definição função novamente dever pois utiliznar argumento posicional pŕoxima parte explicarer sobre outro tipo argumento variável programa poder disponível todo localização programa depender onde variável declarada variável poder local global variável definer dentro função escopo local criar função escopo global de esse maneira variável local poder acessar dentro função declarar enquanto global poder referenciar qualquer função existir três outro tipo argumento poder utilizar python além argumento posicional mostrar acima argumento padrão args kwargs argumento padrão opcional ter valor padr caso passar exemplo calcular peso objeto necessário saber massa aceleração gravidade aproximadamente terra entretanto saber aceleraçãor gravidade mudar conforme latitude longitude alturo terra poder pequeno variação portanto darer usuário liberdade definir próprio aceleração gravidade julgar precisar calcular peso dar situação de esse forma poder definir função peso receber g argumento padrão note argumento g poder passar tanto forma posicional peso quanto nomear peso args permitir passe listar argumento função número indefinir termos dentro função receber exatamente estrutura dar poder iterar em ela fim executar procedimento função imagine caso precisar função receb quantidade indefinir argumento execute algum ação poder pensar função receber ponto cujo coordenada retornar lista conter distância euclidiano série ponto pn n primeiro usaremos argumento posicional receber ponto utilizarer args capturar outro ponto além de isso deixar código limpar poder declarar função auxiliar distance apenas calcular disitância euclidiano dois ponto assim código ficar lembrar novamente dicionário utilizar kwargs função passásser argumento função forma dicionário tipo argumento precisar preocupar ordem argumento argumento sempre nomear saber todo possível argumento poder passar apenas interessar deixar outro indefinido poderíar permitir usuário passar argumento utilizar nome diferente nome completo abreviação exemplo basicamente funçãor receber kwargs receber dicionário argumento poder verificar exemplo abaixo comum usar seguinte forma primeiro argumento função argumento importante entidade principal precisar usar função poder realizar objetivo outro configuração especificaçãor passar função poder mudar comportamento deixar tudo claro ir modificar exemplo função peso novo função poder receber aceleração gravidade tanto g quanto gravidade especificação seguinte código desejar função aqui falar sobre diversos estrutura dar função nativo importante criar função criar loop outro coisa agora ir falar exceptiom imagine função somar dois número passar argumento inteiro texto acarretar erro exception especificamente receberer erro de este tipo typeerror unsupported operand type s and exception levar interrupção execução código programa terminar exceção acima tipo typeerror indicar variável utilizar ter tipo errar existir vários outro tipo exceção valueerror indicar algum argumento função valor inváler porém poder tratar exceção modo ocorrer erro comportamento programa diferente exemplo poderíar fazer invés programa retornar erro acima retorne seguinte mensagem favor digitar dois número outro lado poder criar exceptions poder fazer programa termine erro exemplificar brincar exceptiom utilizaremo exemplo programa calcular distância série ponto copiar abaixo facilitar consulta querer garantir algum condição funcionamento função fim satisfazer condição código ficar incentivar correr atrás conhecimento listarar aqui algum coisa possível fazer python agora vir básico python poder usar biblioteca listar acima pando numpy entender bom funcionar ciência dar aprendizar máquina partir próximo semana começarer direcionar foco em esse direção querer saber siga página facebook ficar ligar posts'"
            ],
            "application/vnd.google.colaboratory.intrinsic+json": {
              "type": "string"
            }
          },
          "metadata": {},
          "execution_count": 95
        }
      ]
    },
    {
      "cell_type": "code",
      "source": [
        "ttextoL=Text(df['text'][106])\n",
        "ttextoL.entities"
      ],
      "metadata": {
        "colab": {
          "base_uri": "https://localhost:8080/"
        },
        "id": "S3cY-ZqtFB3p",
        "outputId": "54136185-59e1-4a3c-c68f-2487cbfad1a9"
      },
      "execution_count": null,
      "outputs": [
        {
          "output_type": "execute_result",
          "data": {
            "text/plain": [
              "[I-PER(['Kauã', 'Fillipe']),\n",
              " I-PER(['Letícia', 'Falconer']),\n",
              " I-ORG(['jbrownlee']),\n",
              " I-PER(['Nele']),\n",
              " I-ORG(['Feature', 'Engineering']),\n",
              " I-ORG(['Engineering']),\n",
              " I-LOC(['DateTime']),\n",
              " I-PER(['Bom']),\n",
              " I-PER(['.']),\n",
              " I-LOC(['autocorrelação']),\n",
              " I-ORG(['Amazon']),\n",
              " I-PER(['fizéssemos']),\n",
              " I-PER(['.']),\n",
              " I-ORG(['Features']),\n",
              " I-ORG(['Rolling']),\n",
              " I-ORG(['USP'])]"
            ]
          },
          "metadata": {},
          "execution_count": 105
        }
      ]
    },
    {
      "cell_type": "code",
      "source": [
        "documentoL=spc(df['text'][106])\n",
        "for named_entity in documentoL.ents:\n",
        "    print(named_entity, named_entity.label_)"
      ],
      "metadata": {
        "colab": {
          "base_uri": "https://localhost:8080/"
        },
        "id": "GM_Z38RFFLvP",
        "outputId": "27795763-4238-4daa-901e-f254ef3a96bb"
      },
      "execution_count": null,
      "outputs": [
        {
          "output_type": "stream",
          "name": "stdout",
          "text": [
            "Kauã Fillipe PER\n",
            "Letícia Falconer Olá PER\n",
            "Turing Talks! MISC\n",
            "Feature Engineering MISC\n",
            "Séries Temporais MISC\n",
            "Ciência de Dados LOC\n",
            "monthly-airline-passengers.csv PER\n",
            "Datasets MISC\n",
            "Feature Engineering MISC\n",
            "Climate LOC\n",
            "Sheet1.csv LOC\n",
            "Feature Engineering MISC\n",
            "DateTime PER\n",
            "LagTime MISC\n",
            "Window Features MISC\n",
            "Ano e Mês da coluna Month MISC\n",
            "Timestamp MISC\n",
            "Pandas MISC\n",
            "coluna Month ORG\n",
            "biblioteca Pandas LOC\n",
            "Plotly LOC\n",
            "Plotly PER\n",
            "Timestamp LOC\n",
            "Ano PER\n",
            "Dia e Hora MISC\n",
            "Lag PER\n",
            "Usamos MISC\n",
            "ACF MISC\n",
            "Amazon ORG\n",
            "Netflix MISC\n",
            "Netflix MISC\n",
            "Python MISC\n",
            "Netflix MISC\n",
            "Lag Features LOC\n",
            "Window Features MISC\n",
            "Lag Features LOC\n",
            "Window Features MISC\n",
            "Rolling Window MISC\n",
            "Expanding Window Features MISC\n",
            "Rolling Window Features ORG\n",
            "Rolling Window Features ORG\n",
            "Pandas LOC\n",
            "Rolling Window MISC\n",
            "Expanding Window Features Já MISC\n",
            "Expanding Window Features ORG\n",
            "Expanding Window Features ORG\n",
            "python MISC\n",
            "Pandas MISC\n",
            "Rolling Window Features ORG\n",
            "Ciência de Dados LOC\n",
            "Turing Talks MISC\n",
            "Feature Engineering PER\n",
            "biblioteca Pandas LOC\n",
            "Turing Talks “Manipulação de Séries Temporais MISC\n",
            "Pandas PER\n",
            "Turing-USP LOC\n",
            "Facebook MISC\n",
            "Instagram ORG\n",
            "LinkedIn ORG\n",
            "Medium MISC\n",
            "Discord PER\n"
          ]
        }
      ]
    },
    {
      "cell_type": "markdown",
      "source": [
        "Seja com o polyglot ou com o spacy o Named Entity Recognition não soou muito produtivo, eles acabam classificando pouca coisa e/ou de forma muitas vezes incorreta, seja com o texto pré-processado ou com o texto normal. Portanto descartarei esse uso na análise."
      ],
      "metadata": {
        "id": "oPUW-BFS-QFr"
      }
    },
    {
      "cell_type": "markdown",
      "source": [
        "#3 Feature engineering:"
      ],
      "metadata": {
        "id": "0YSbdY_gkVvn"
      }
    },
    {
      "cell_type": "markdown",
      "source": [
        "Agora vou fazer o feature engineering, tanto com Bag of words quanto com TFIDF, para usar o modelo de predição para uma regressão linear."
      ],
      "metadata": {
        "id": "yva2CSijEIpd"
      }
    },
    {
      "cell_type": "markdown",
      "source": [
        "Começando pelo bag of words usarei a função do sklearn para o dataset todo.\n"
      ],
      "metadata": {
        "id": "RAqix03kEbd_"
      }
    },
    {
      "cell_type": "code",
      "source": [
        "from sklearn.feature_extraction.text import CountVectorizer\n",
        "\n",
        "# Bag of words, com binary true para não haver contagem, apenas mostrar a existência ou não da palavra no documento.\n",
        "count_vectorizer = CountVectorizer(binary=True)\n",
        "X_BOW = count_vectorizer.fit_transform(df['texto_limpo'])"
      ],
      "metadata": {
        "id": "LJdqYSHXGevr"
      },
      "execution_count": null,
      "outputs": []
    },
    {
      "cell_type": "code",
      "source": [
        "feature_names = count_vectorizer.get_feature_names_out()"
      ],
      "metadata": {
        "id": "uCQiqzgvJXX6"
      },
      "execution_count": null,
      "outputs": []
    },
    {
      "cell_type": "code",
      "source": [
        "count_df = pd.DataFrame(X_BOW.toarray(), columns=feature_names)"
      ],
      "metadata": {
        "id": "2Iux9yBqJa09"
      },
      "execution_count": null,
      "outputs": []
    },
    {
      "cell_type": "code",
      "source": [
        "count_df.head() #Funciona como um grande one-hot-encoding com todas as palavras do dataset, sendo cada documento uma linha"
      ],
      "metadata": {
        "colab": {
          "base_uri": "https://localhost:8080/",
          "height": 235
        },
        "id": "R5aLGXMTJfNA",
        "outputId": "1fb45dd0-3e5f-473a-8b2a-3e88169cacbd"
      },
      "execution_count": null,
      "outputs": [
        {
          "output_type": "execute_result",
          "data": {
            "text/plain": [
              "   2e  aal  aba  abacate  abacater  abaixo  abar  abdom  abe  aberta  ...  \\\n",
              "0   0    0    0        0         0       0     0      0    0       0  ...   \n",
              "1   0    0    0        0         0       1     0      0    0       0  ...   \n",
              "2   0    0    0        0         0       0     0      0    0       0  ...   \n",
              "3   0    0    0        0         0       1     0      0    0       0  ...   \n",
              "4   0    0    0        0         0       1     0      0    0       0  ...   \n",
              "\n",
              "   útel  útil  ŷi  γv  θobs  θy  θyi  θyn  μy  σy  \n",
              "0     0     0   0   0     0   0    0    0   0   0  \n",
              "1     0     0   0   0     0   0    0    0   0   0  \n",
              "2     0     0   0   0     0   0    0    0   0   0  \n",
              "3     0     1   0   0     0   0    0    0   0   0  \n",
              "4     0     1   0   0     0   0    0    0   0   0  \n",
              "\n",
              "[5 rows x 8076 columns]"
            ],
            "text/html": [
              "\n",
              "  <div id=\"df-d13d63d9-3f24-424b-a07a-fc5e0523830c\" class=\"colab-df-container\">\n",
              "    <div>\n",
              "<style scoped>\n",
              "    .dataframe tbody tr th:only-of-type {\n",
              "        vertical-align: middle;\n",
              "    }\n",
              "\n",
              "    .dataframe tbody tr th {\n",
              "        vertical-align: top;\n",
              "    }\n",
              "\n",
              "    .dataframe thead th {\n",
              "        text-align: right;\n",
              "    }\n",
              "</style>\n",
              "<table border=\"1\" class=\"dataframe\">\n",
              "  <thead>\n",
              "    <tr style=\"text-align: right;\">\n",
              "      <th></th>\n",
              "      <th>2e</th>\n",
              "      <th>aal</th>\n",
              "      <th>aba</th>\n",
              "      <th>abacate</th>\n",
              "      <th>abacater</th>\n",
              "      <th>abaixo</th>\n",
              "      <th>abar</th>\n",
              "      <th>abdom</th>\n",
              "      <th>abe</th>\n",
              "      <th>aberta</th>\n",
              "      <th>...</th>\n",
              "      <th>útel</th>\n",
              "      <th>útil</th>\n",
              "      <th>ŷi</th>\n",
              "      <th>γv</th>\n",
              "      <th>θobs</th>\n",
              "      <th>θy</th>\n",
              "      <th>θyi</th>\n",
              "      <th>θyn</th>\n",
              "      <th>μy</th>\n",
              "      <th>σy</th>\n",
              "    </tr>\n",
              "  </thead>\n",
              "  <tbody>\n",
              "    <tr>\n",
              "      <th>0</th>\n",
              "      <td>0</td>\n",
              "      <td>0</td>\n",
              "      <td>0</td>\n",
              "      <td>0</td>\n",
              "      <td>0</td>\n",
              "      <td>0</td>\n",
              "      <td>0</td>\n",
              "      <td>0</td>\n",
              "      <td>0</td>\n",
              "      <td>0</td>\n",
              "      <td>...</td>\n",
              "      <td>0</td>\n",
              "      <td>0</td>\n",
              "      <td>0</td>\n",
              "      <td>0</td>\n",
              "      <td>0</td>\n",
              "      <td>0</td>\n",
              "      <td>0</td>\n",
              "      <td>0</td>\n",
              "      <td>0</td>\n",
              "      <td>0</td>\n",
              "    </tr>\n",
              "    <tr>\n",
              "      <th>1</th>\n",
              "      <td>0</td>\n",
              "      <td>0</td>\n",
              "      <td>0</td>\n",
              "      <td>0</td>\n",
              "      <td>0</td>\n",
              "      <td>1</td>\n",
              "      <td>0</td>\n",
              "      <td>0</td>\n",
              "      <td>0</td>\n",
              "      <td>0</td>\n",
              "      <td>...</td>\n",
              "      <td>0</td>\n",
              "      <td>0</td>\n",
              "      <td>0</td>\n",
              "      <td>0</td>\n",
              "      <td>0</td>\n",
              "      <td>0</td>\n",
              "      <td>0</td>\n",
              "      <td>0</td>\n",
              "      <td>0</td>\n",
              "      <td>0</td>\n",
              "    </tr>\n",
              "    <tr>\n",
              "      <th>2</th>\n",
              "      <td>0</td>\n",
              "      <td>0</td>\n",
              "      <td>0</td>\n",
              "      <td>0</td>\n",
              "      <td>0</td>\n",
              "      <td>0</td>\n",
              "      <td>0</td>\n",
              "      <td>0</td>\n",
              "      <td>0</td>\n",
              "      <td>0</td>\n",
              "      <td>...</td>\n",
              "      <td>0</td>\n",
              "      <td>0</td>\n",
              "      <td>0</td>\n",
              "      <td>0</td>\n",
              "      <td>0</td>\n",
              "      <td>0</td>\n",
              "      <td>0</td>\n",
              "      <td>0</td>\n",
              "      <td>0</td>\n",
              "      <td>0</td>\n",
              "    </tr>\n",
              "    <tr>\n",
              "      <th>3</th>\n",
              "      <td>0</td>\n",
              "      <td>0</td>\n",
              "      <td>0</td>\n",
              "      <td>0</td>\n",
              "      <td>0</td>\n",
              "      <td>1</td>\n",
              "      <td>0</td>\n",
              "      <td>0</td>\n",
              "      <td>0</td>\n",
              "      <td>0</td>\n",
              "      <td>...</td>\n",
              "      <td>0</td>\n",
              "      <td>1</td>\n",
              "      <td>0</td>\n",
              "      <td>0</td>\n",
              "      <td>0</td>\n",
              "      <td>0</td>\n",
              "      <td>0</td>\n",
              "      <td>0</td>\n",
              "      <td>0</td>\n",
              "      <td>0</td>\n",
              "    </tr>\n",
              "    <tr>\n",
              "      <th>4</th>\n",
              "      <td>0</td>\n",
              "      <td>0</td>\n",
              "      <td>0</td>\n",
              "      <td>0</td>\n",
              "      <td>0</td>\n",
              "      <td>1</td>\n",
              "      <td>0</td>\n",
              "      <td>0</td>\n",
              "      <td>0</td>\n",
              "      <td>0</td>\n",
              "      <td>...</td>\n",
              "      <td>0</td>\n",
              "      <td>1</td>\n",
              "      <td>0</td>\n",
              "      <td>0</td>\n",
              "      <td>0</td>\n",
              "      <td>0</td>\n",
              "      <td>0</td>\n",
              "      <td>0</td>\n",
              "      <td>0</td>\n",
              "      <td>0</td>\n",
              "    </tr>\n",
              "  </tbody>\n",
              "</table>\n",
              "<p>5 rows × 8076 columns</p>\n",
              "</div>\n",
              "    <div class=\"colab-df-buttons\">\n",
              "\n",
              "  <div class=\"colab-df-container\">\n",
              "    <button class=\"colab-df-convert\" onclick=\"convertToInteractive('df-d13d63d9-3f24-424b-a07a-fc5e0523830c')\"\n",
              "            title=\"Convert this dataframe to an interactive table.\"\n",
              "            style=\"display:none;\">\n",
              "\n",
              "  <svg xmlns=\"http://www.w3.org/2000/svg\" height=\"24px\" viewBox=\"0 -960 960 960\">\n",
              "    <path d=\"M120-120v-720h720v720H120Zm60-500h600v-160H180v160Zm220 220h160v-160H400v160Zm0 220h160v-160H400v160ZM180-400h160v-160H180v160Zm440 0h160v-160H620v160ZM180-180h160v-160H180v160Zm440 0h160v-160H620v160Z\"/>\n",
              "  </svg>\n",
              "    </button>\n",
              "\n",
              "  <style>\n",
              "    .colab-df-container {\n",
              "      display:flex;\n",
              "      gap: 12px;\n",
              "    }\n",
              "\n",
              "    .colab-df-convert {\n",
              "      background-color: #E8F0FE;\n",
              "      border: none;\n",
              "      border-radius: 50%;\n",
              "      cursor: pointer;\n",
              "      display: none;\n",
              "      fill: #1967D2;\n",
              "      height: 32px;\n",
              "      padding: 0 0 0 0;\n",
              "      width: 32px;\n",
              "    }\n",
              "\n",
              "    .colab-df-convert:hover {\n",
              "      background-color: #E2EBFA;\n",
              "      box-shadow: 0px 1px 2px rgba(60, 64, 67, 0.3), 0px 1px 3px 1px rgba(60, 64, 67, 0.15);\n",
              "      fill: #174EA6;\n",
              "    }\n",
              "\n",
              "    .colab-df-buttons div {\n",
              "      margin-bottom: 4px;\n",
              "    }\n",
              "\n",
              "    [theme=dark] .colab-df-convert {\n",
              "      background-color: #3B4455;\n",
              "      fill: #D2E3FC;\n",
              "    }\n",
              "\n",
              "    [theme=dark] .colab-df-convert:hover {\n",
              "      background-color: #434B5C;\n",
              "      box-shadow: 0px 1px 3px 1px rgba(0, 0, 0, 0.15);\n",
              "      filter: drop-shadow(0px 1px 2px rgba(0, 0, 0, 0.3));\n",
              "      fill: #FFFFFF;\n",
              "    }\n",
              "  </style>\n",
              "\n",
              "    <script>\n",
              "      const buttonEl =\n",
              "        document.querySelector('#df-d13d63d9-3f24-424b-a07a-fc5e0523830c button.colab-df-convert');\n",
              "      buttonEl.style.display =\n",
              "        google.colab.kernel.accessAllowed ? 'block' : 'none';\n",
              "\n",
              "      async function convertToInteractive(key) {\n",
              "        const element = document.querySelector('#df-d13d63d9-3f24-424b-a07a-fc5e0523830c');\n",
              "        const dataTable =\n",
              "          await google.colab.kernel.invokeFunction('convertToInteractive',\n",
              "                                                    [key], {});\n",
              "        if (!dataTable) return;\n",
              "\n",
              "        const docLinkHtml = 'Like what you see? Visit the ' +\n",
              "          '<a target=\"_blank\" href=https://colab.research.google.com/notebooks/data_table.ipynb>data table notebook</a>'\n",
              "          + ' to learn more about interactive tables.';\n",
              "        element.innerHTML = '';\n",
              "        dataTable['output_type'] = 'display_data';\n",
              "        await google.colab.output.renderOutput(dataTable, element);\n",
              "        const docLink = document.createElement('div');\n",
              "        docLink.innerHTML = docLinkHtml;\n",
              "        element.appendChild(docLink);\n",
              "      }\n",
              "    </script>\n",
              "  </div>\n",
              "\n",
              "\n",
              "<div id=\"df-e77ff6ee-ad36-4192-950a-f85d9eeab8ba\">\n",
              "  <button class=\"colab-df-quickchart\" onclick=\"quickchart('df-e77ff6ee-ad36-4192-950a-f85d9eeab8ba')\"\n",
              "            title=\"Suggest charts.\"\n",
              "            style=\"display:none;\">\n",
              "\n",
              "<svg xmlns=\"http://www.w3.org/2000/svg\" height=\"24px\"viewBox=\"0 0 24 24\"\n",
              "     width=\"24px\">\n",
              "    <g>\n",
              "        <path d=\"M19 3H5c-1.1 0-2 .9-2 2v14c0 1.1.9 2 2 2h14c1.1 0 2-.9 2-2V5c0-1.1-.9-2-2-2zM9 17H7v-7h2v7zm4 0h-2V7h2v10zm4 0h-2v-4h2v4z\"/>\n",
              "    </g>\n",
              "</svg>\n",
              "  </button>\n",
              "\n",
              "<style>\n",
              "  .colab-df-quickchart {\n",
              "    background-color: #E8F0FE;\n",
              "    border: none;\n",
              "    border-radius: 50%;\n",
              "    cursor: pointer;\n",
              "    display: none;\n",
              "    fill: #1967D2;\n",
              "    height: 32px;\n",
              "    padding: 0 0 0 0;\n",
              "    width: 32px;\n",
              "  }\n",
              "\n",
              "  .colab-df-quickchart:hover {\n",
              "    background-color: #E2EBFA;\n",
              "    box-shadow: 0px 1px 2px rgba(60, 64, 67, 0.3), 0px 1px 3px 1px rgba(60, 64, 67, 0.15);\n",
              "    fill: #174EA6;\n",
              "  }\n",
              "\n",
              "  [theme=dark] .colab-df-quickchart {\n",
              "    background-color: #3B4455;\n",
              "    fill: #D2E3FC;\n",
              "  }\n",
              "\n",
              "  [theme=dark] .colab-df-quickchart:hover {\n",
              "    background-color: #434B5C;\n",
              "    box-shadow: 0px 1px 3px 1px rgba(0, 0, 0, 0.15);\n",
              "    filter: drop-shadow(0px 1px 2px rgba(0, 0, 0, 0.3));\n",
              "    fill: #FFFFFF;\n",
              "  }\n",
              "</style>\n",
              "\n",
              "  <script>\n",
              "    async function quickchart(key) {\n",
              "      const charts = await google.colab.kernel.invokeFunction(\n",
              "          'suggestCharts', [key], {});\n",
              "    }\n",
              "    (() => {\n",
              "      let quickchartButtonEl =\n",
              "        document.querySelector('#df-e77ff6ee-ad36-4192-950a-f85d9eeab8ba button');\n",
              "      quickchartButtonEl.style.display =\n",
              "        google.colab.kernel.accessAllowed ? 'block' : 'none';\n",
              "    })();\n",
              "  </script>\n",
              "</div>\n",
              "    </div>\n",
              "  </div>\n"
            ]
          },
          "metadata": {},
          "execution_count": 52
        }
      ]
    },
    {
      "cell_type": "code",
      "source": [
        "count_vectorizer.vocabulary_.get('python') #Pega o indíce da palavra"
      ],
      "metadata": {
        "colab": {
          "base_uri": "https://localhost:8080/"
        },
        "id": "lQDjkpwyGcla",
        "outputId": "7755bf3e-b66d-456a-f5e8-1291888b4a57"
      },
      "execution_count": null,
      "outputs": [
        {
          "output_type": "execute_result",
          "data": {
            "text/plain": [
              "6109"
            ]
          },
          "metadata": {},
          "execution_count": 17
        }
      ]
    },
    {
      "cell_type": "markdown",
      "source": [
        "Agora com TFIDF:"
      ],
      "metadata": {
        "id": "7PYpZSjmLN4l"
      }
    },
    {
      "cell_type": "markdown",
      "source": [
        "Primeiro um exemplo de funcionamento:"
      ],
      "metadata": {
        "id": "c-uPmK5fLRzs"
      }
    },
    {
      "cell_type": "code",
      "source": [
        "#usarei os documentos de índice 4 e 106 para um exemplo antes de aplicar para o dataset completo\n",
        "def dicionario_de_contagem(vocabulario, documento):\n",
        "  dic = dict.fromkeys(vocabulario, 0)\n",
        "  for palavra in documento:\n",
        "    dic[palavra] += 1\n",
        "  return dic\n",
        "#Fará uma contagem de palavra por documento\n",
        "tokens4=word_tokenize(df['texto_limpo'][4])\n",
        "tokens106=word_tokenize(df['texto_limpo'][106])\n",
        "Vocab= tokens4 + tokens106\n",
        "d4_dic_cont = dicionario_de_contagem(Vocab, tokens4)\n",
        "d106_dic_cont = dicionario_de_contagem(Vocab, tokens106)\n",
        "print(d4_dic_cont,'\\n')\n",
        "print(d106_dic_cont)"
      ],
      "metadata": {
        "colab": {
          "base_uri": "https://localhost:8080/"
        },
        "id": "XNiZAoxOLNhI",
        "outputId": "af246f01-8839-43de-a5dc-5f259d83a262"
      },
      "execution_count": null,
      "outputs": [
        {
          "output_type": "stream",
          "name": "stdout",
          "text": [
            "{'semana': 3, 'passado': 3, 'passar': 11, 'básico': 3, 'linguagem': 1, 'programação': 1, 'python': 12, 'introduzimo': 1, 'conceito': 2, 'variável': 10, 'atribuição': 1, 'operação': 2, 'assim': 2, 'print': 1, 'input': 1, 'lista': 11, 'em': 9, 'este': 8, 'objetivo': 3, 'terminar': 2, 'introdução': 1, 'introduzir': 1, 'loop': 6, 'função': 46, 'poder': 36, 'então': 2, 'utilizar': 14, 'novo': 2, 'conhecimento': 2, 'explorar': 1, 'área': 1, 'data': 1, 'science': 1, 'machine': 1, 'learning': 1, 'existir': 3, 'range': 13, 'b': 9, 'c': 6, 'criar': 15, 'sequência': 8, 'número': 12, 'ser': 1, 'apenas': 6, 'necessário': 5, 'identificar': 1, 'início': 1, 'fim': 4, 'passo': 4, 'começar': 2, 'aumentar': 1, 'atingir': 1, 'note': 2, 'incluir': 1, 'diferença': 3, 'consecutivo': 2, 'esse': 4, 'exemplo': 23, 'formalmente': 1, 'definida': 1, 'seguinte': 7, 'maneira': 5, 'saber': 6, 'colocar': 3, 'dois': 7, 'termo': 1, 'rangir': 1, 'fará': 1, 'automaticamente': 1, 'igual': 4, 'bom': 2, 'dar': 12, 'fazer': 9, 'zero': 1, 'comprimento': 1, 'valor': 11, 'comportar': 1, 'listar': 4, 'algum': 7, 'adicionar': 2, 'usar': 9, 'transformar': 2, 'bastar': 1, 'list': 1, 'vez': 2, 'realizar': 3, 'diversos': 4, 'repetitivo': 1, 'imprimir': 1, 'tipo': 8, 'tarefa': 1, 'executar': 3, 'meio': 1, 'while': 2, 'repetir': 1, 'bloco': 3, 'código': 9, 'enquanto': 2, 'condição': 3, 'verdadeiro': 1, 'todo': 5, 'elemento': 8, 'ordem': 3, 'aparecer': 2, 'abaixo': 5, 'dentro': 5, 'cada': 2, 'iterar': 5, 'caso': 4, 'modificar': 2, 'sobre': 5, 'cópia': 1, 'notação': 1, 'ver': 3, 'acima': 6, 'dicionário': 12, 'outro': 12, 'estrutura': 14, 'nativo': 2, 'pythonr': 1, 'basicamente': 2, 'compor': 1, 'possuir': 3, 'componente': 1, 'chave': 6, 'implementação': 1, 'hash': 1, 'tables': 1, 'extremamente': 3, 'úteis': 1, 'aplicação': 2, 'dicionario': 1, 'keyn': 1, 'valuen': 1, 'vazio': 1, 'mostrar': 3, 'acessar': 1, 'sintaxe': 1, 'parecir': 2, 'colchete': 2, 'entretanto': 2, 'ir': 4, 'índice': 1, 'sim': 2, 'além': 3, 'de': 6, 'isso': 2, 'método': 1, 'keys': 1, 'retornar': 4, 'iterador': 2, 'respectivo': 1, 'simplesmente': 2, 'objeto': 4, 'tupla': 5, 'explicar': 1, 'adiante': 1, 'anterior': 1, 'demonstrar': 1, 'funcionalidade': 1, 'algo': 1, 'ainda': 1, 'format': 3, 'útil': 1, 'formatar': 1, 'strings': 1, 'texto': 3, 'funcionar': 2, 'criarmos': 1, 'string': 1, 'colocamos': 1, 'chaves': 1, 'substitúir': 1, 'substituir': 1, 'querer': 7, 'efetivamente': 1, 'substituirmos': 1, 'bastante': 1, 'aplicarr': 1, 'referenciarr': 1, 'argumento': 31, 'poderíar': 3, 'guardar': 2, 'música': 2, 'nome': 3, 'banda': 1, 'ano': 1, 'cair': 1, 'luva': 1, 'pois': 2, 'facilitar': 3, 'leitura': 1, 'intuitivo': 1, 'prático': 1, 'recuperarmo': 1, 'dado': 5, 'guardado': 1, 'facilmente': 2, 'construir': 1, 'conjunto': 1, 'criatividade': 1, 'mixe': 1, 'forma': 6, 'acessados': 1, 'eficiente': 1, 'entendimento': 1, 'programador': 1, 'clareza': 1, 'importante': 3, 'procure': 1, 'code': 1, 'readability': 1, 'ótimo': 1, 'armazenar': 2, 'json': 1, 'envio': 1, 'recebimento': 1, 'último': 1, 'apresentar': 1, 'tutorial': 1, 'listo': 2, 'porém': 2, 'imutável': 2, 'visualmente': 1, 'único': 1, 'parêntese': 1, 'disser': 1, 'dizer': 2, 'alterar': 2, 'possível': 3, 'remover': 1, 'rígir': 1, 'seguro': 1, 'cujo': 2, 'dever': 5, 'manter': 1, 'inalterado': 1, 'longo': 1, 'andamento': 1, 'programa': 8, 'funcionamento': 2, 'args': 4, 'breve': 1, 'criação': 1, 'seguir': 2, 'tentativo': 1, 'organizar': 1, 'reutilizável': 1, 'certo': 1, 'ação': 2, 'primeiro': 4, 'usarer': 1, 'posicional': 6, 'portanto': 2, 'ordir': 1, 'parâmetro': 2, 'inserir': 1, 'mesmo': 1, 'declarar': 3, 'após': 1, 'informar': 1, 'expressão': 1, 'return': 1, 'veja': 1, 'printar': 1, 'somar': 2, 'referência': 2, 'mudar': 3, 'mudanço': 1, 'reflete': 1, 'chamar': 2, 'mantive': 1, 'anexar': 1, 'produzir': 1, 'resultar': 1, 'correto': 1, 'definição': 1, 'novamente': 2, 'utiliznar': 1, 'pŕoxima': 1, 'parte': 1, 'explicarer': 1, 'disponível': 1, 'localização': 1, 'depender': 1, 'onde': 1, 'declarada': 1, 'local': 3, 'global': 3, 'definer': 1, 'escopo': 2, 'acessada': 1, 'referenciada': 1, 'qualquer': 1, 'três': 1, 'padrão': 3, 'kwargs': 3, 'opcional': 1, 'ter': 2, 'padr': 1, 'calcular': 4, 'peso': 6, 'massa': 1, 'aceleração': 3, 'gravidade': 5, 'aproximadamente': 1, 'terra': 2, 'aceleraçãor': 1, 'conforme': 1, 'latitude': 1, 'longitude': 1, 'alturo': 1, 'pequeno': 1, 'variação': 1, 'darer': 1, 'usuário': 2, 'liberdade': 1, 'definir': 2, 'próprio': 1, 'julgar': 1, 'precisar': 4, 'situação': 1, 'receber': 7, 'g': 3, 'tanto': 2, 'quanto': 2, 'nomear': 2, 'permitir': 2, 'passe': 1, 'indefinir': 1, 'termos': 1, 'exatamente': 1, 'ela': 1, 'procedimento': 1, 'imagine': 2, 'receb': 1, 'quantidade': 1, 'indefinido': 2, 'execute': 1, 'pensar': 1, 'ponto': 6, 'coordenada': 1, 'conter': 1, 'distância': 2, 'euclidiano': 2, 'série': 2, 'pn': 1, 'n': 1, 'usaremos': 1, 'utilizarer': 1, 'capturar': 1, 'deixar': 3, 'limpo': 1, 'auxiliar': 1, 'distance': 1, 'disitância': 1, 'ficar': 3, 'lembrar': 1, 'passásser': 1, 'preocupar': 1, 'sempre': 1, 'interessar': 1, 'diferente': 2, 'completo': 1, 'abreviação': 1, 'verificar': 1, 'comum': 1, 'entidade': 1, 'principal': 1, 'configuração': 1, 'especificação': 2, 'comportamento': 2, 'tudo': 1, 'claro': 1, 'desejar': 1, 'aqui': 2, 'falar': 2, 'coisa': 2, 'agora': 2, 'exceptiom': 2, 'inteiro': 1, 'acarretar': 1, 'erro': 5, 'exception': 2, 'especificamente': 1, 'receberer': 1, 'typeerror': 2, 'unsupported': 1, 'operand': 1, 'type': 1, 's': 1, 'and': 1, 'levar': 1, 'interrupção': 1, 'execução': 1, 'exceção': 3, 'indicar': 2, 'errar': 1, 'vários': 1, 'valueerror': 1, 'inváler': 1, 'tratar': 1, 'modo': 1, 'ocorrer': 1, 'invés': 1, 'retorne': 1, 'mensagem': 1, 'favor': 1, 'digitar': 1, 'lado': 1, 'exceptions': 1, 'termine': 1, 'exemplificar': 1, 'brincar': 1, 'utilizaremo': 1, 'copiar': 1, 'consulta': 1, 'garantir': 1, 'satisfazer': 1, 'incentivar': 1, 'correr': 1, 'atrás': 1, 'listarar': 1, 'vir': 1, 'biblioteca': 1, 'panda': 1, 'numpy': 1, 'entender': 1, 'ciência': 1, 'aprendizar': 1, 'máquina': 1, 'partir': 1, 'próximo': 1, 'começarer': 1, 'direcionar': 1, 'foco': 1, 'direção': 1, 'siga': 1, 'página': 1, 'facebook': 1, 'ligar': 1, 'posts': 1, 'escrever': 0, 'kauã': 0, 'fillipe': 0, 'letícia': 0, 'falconer': 0, 'olá': 0, 'leitor': 0, 'turing': 0, 'talks': 0, 'hoje': 0, 'feature': 0, 'engineering': 0, 'temporal': 0, 'assunto': 0, 'proposta': 0, 'processo': 0, 'contexto': 0, 'primeiramente': 0, 'featur': 0, 'relação': 0, 'lá': 0, 'observação': 0, 'relacionar': 0, 'disposto': 0, 'tempo': 0, 'dataset': 0, 'datasets': 0, 'repository': 0, 'fornecir': 0, 'jbrownlee': 0, 'ele': 0, 'registro': 0, 'passageiro': 0, 'linha': 0, 'aéreo': 0, 'mês': 0, 'trabalhar': 0, 'costumar': 0, 'registrar': 0, 'periódico': 0, 'anteriormente': 0, 'considerar': 0, 'intervalo': 0, 'visualização': 0, 'propósito': 0, 'servir': 0, 'seleção': 0, 'original': 0, 'datasetr': 0, 'transformação': 0, 'qual': 0, 'simplificar': 0, 'melhorar': 0, 'acurácia': 0, 'modelo': 0, 'faltante': 0, 'lidar': 0, 'manipulação': 0, 'coluna': 0, 'aproveitamento': 0, 'vejamos': 0, 'climate': 0, 'change': 0, 'contém': 0, 'cidade': 0, 'afetar': 0, 'mudança': 0, 'climático': 0, 'dividir': 0, 'separadamente': 0, 'contudo': 0, 'informação': 0, 'si': 0, 'representar': 0, 'relacionarmo': 0, 'concatenarr': 0, 'verdade': 0, 'fácel': 0, 'interpretar': 0, 'abordagem': 0, 'solucionar': 0, 'problema': 0, 'coordenar': 0, 'polar': 0, 'inclinação': 0, 'grau': 0, 'inicial': 0, 'bem': 0, 'frente': 0, 'discutir': 0, 'aplicar': 0, 'ajudar': 0, 'poderoso': 0, 'previsão': 0, 'futuro': 0, 'apesar': 0, 'beneficiem': 0, 'datetime': 0, 'lagtime': 0, 'window': 0, 'fórmula': 0, 'digo': 0, 'chegar': 0, 'resultado': 0, 'esperar': 0, 'contrário': 0, 'noção': 0, 'final': 0, 'lever': 0, 'consideração': 0, 'específico': 0, 'conseguirr': 0, 'independente': 0, 'seguramente': 0, 'respeito': 0, 'venda': 0, 'ingresso': 0, 'cinema': 0, 'observar': 0, 'filme': 0, 'desejamos': 0, 'prever': 0, 'demanr': 0, 'compra': 0, 'diferentes': 0, 'localidade': 0, 'varer': 0, 'interessante': 0, 'analisarmos': 0, 'simultaneamente': 0, 'conhecer': 0, 'histórico': 0, 'futuramente': 0, 'mentir': 0, 'tomar': 0, 'região': 0, 'clima': 0, 'feriado': 0, 'época': 0, 'influencir': 0, 'externo': 0, 'evitar': 0, 'poluir': 0, 'extraída': 0, 'carimbo': 0, 'horário': 0, 'dia': 0, 'etc': 0, 'determinar': 0, 'gerar': 0, 'insights': 0, 'análise': 0, 'datar': 0, 'hora': 0, 'time': 0, 'modelar': 0, 'dependência': 0, 'evento': 0, 'extraem': 0, 'qualidade': 0, 'trabalha': 0, 'voltar': 0, 'extrair': 0, 'month': 0, 'formato': 0, 'timestamp': 0, 'dateformat': 0, 'panr': 0, 'obter': 0, 'splitr': 0, 'gráfico': 0, 'informer': 0, 'ferramentar': 0, 'padronizar': 0, 'grande': 0, 'gama': 0, 'ferramenta': 0, 'auxílio': 0, 'biblioteco': 0, 'interativo': 0, 'plotly': 0, 'continuar': 0, 'fato': 0, 'alvo': 0, 'traçamos': 0, 'tendência': 0, 'através': 0, 'média': 0, 'móvel': 0, 'geral': 0, 'sazonalidade': 0, 'tal': 0, 'aumento': 0, 'significativo': 0, 'julho': 0, 'agosto': 0, 'demais': 0, 'provavelmente': 0, 'contar': 0, 'período': 0, 'férias': 0, 'valer': 0, 'mencionar': 0, 'técnica': 0, 'igualmente': 0, 'preço': 0, 'emprês': 0, 'tecnologia': 0, 'diretamente': 0, 'timestampr': 0, 'quiséss': 0, 'caminho': 0, 'escolher': 0, 'conferir': 0, 'aspecto': 0, 'sazonal': 0, 'distribuição': 0, 'trafegar': 0, 'companhia': 0, 'decorrer': 0, 'sucesso': 0, 'imagem': 0, 'empresa': 0, 'observer': 0, 'binário': 0, 'extraír': 0, 'estratégia': 0, 'cargo': 0, 'cientista': 0, 'decidir': 0, 'tópico': 0, 'lag': 0, 'features': 0, 'utilizamos': 0, 'estudar': 0, 'instante': 0, 'cenário': 0, 'tentar': 0, 'queda': 0, 'subido': 0, 'base': 0, 'assumir': 0, 'serial': 0, 'predita': 0, 'utilizarr': 0, 'adotar': 0, 'defasagem': 0, 'unidade': 0, 'referir': 0, 'respectivamente': 0, 'antes': 0, 'nada': 0, 'decisão': 0, 'atraso': 0, 'autocorrelação': 0, 'l': 0, 'correlação': 0, 'par': 0, 'separar': 0, 'v': 0, 't': 0, 'medida': 0, 'ideia': 0, 'analisar': 0, 'acf': 0, 'representado': 0, 'graficamente': 0, 'correlograma': 0, 'mercado': 0, 'preste': 0, 'atenção': 0, 'lags': 0, 'citar': 0, 'shift': 0, 'tamanho': 0, 'amazon': 0, 'devido': 0, 'fizéssemos': 0, 'diante': 0, 'foquer': 0, 'netflix': 0, 'supor': 0, 'predizer': 0, 'certeza': 0, 'segurança': 0, 'escolha': 0, 'statsmodels': 0, 'percebo': 0, 'decair': 0, 'lentamente': 0, 'distante': 0, 'sentido': 0, 'confirmar': 0, 'semelhante': 0, 'utiliza': 0, 'target': 0, 'intervalar': 0, 'momento': 0, 'atual': 0, 'resumo': 0, 'presente': 0, 'médio': 0, 'estatística': 0, 'desejer': 0, 'janela': 0, 'fixo': 0, 'categorizar': 0, 'rolling': 0, 'expanding': 0, 'deslocar': 0, 'junto': 0, 'permanecer': 0, 'clarezar': 0, 'laranjo': 0, 'percorrer': 0, 'perceber': 0, 'encontrar': 0, 'nulo': 0, 'haver': 0, 'suficiente': 0, 'foto': 0, 'sum': 0, 'obtermos': 0, 'popularmente': 0, 'moving': 0, 'average': 0, 'mínimo': 0, 'laranja': 0, 'ramo': 0, 'preditivo': 0, 'essencial': 0, 'featurar': 0, 'manipular': 0, 'assegurar': 0, 'possua': 0, 'melhore': 0, 'performance': 0, 'algoritmo': 0, 'adaptar': 0, 'diverso': 0, 'usado': 0, 'criamos': 0, 'mapa': 0, 'mental': 0, 'relembrar': 0, 'teoria': 0, 'confundo': 0, 'métodos': 0, 'regrar': 0, 'tema': 0, 'modelagem': 0, 'recomendar': 0, 'encontre': 0, 'gostar': 0, 'obrigar': 0, 'pouco': 0, 'rede': 0, 'social': 0, 'instagr': 0, 'linkedin': 0, 'acompanhar': 0, 'medium': 0, 'perto': 0, 'participar': 0, 'discussão': 0, 'servidor': 0, 'discord': 0, 'abraço': 0} \n",
            "\n",
            "{'semana': 10, 'passado': 2, 'passar': 1, 'básico': 1, 'linguagem': 0, 'programação': 0, 'python': 2, 'introduzimo': 0, 'conceito': 8, 'variável': 7, 'atribuição': 0, 'operação': 0, 'assim': 5, 'print': 0, 'input': 0, 'lista': 0, 'em': 9, 'este': 1, 'objetivo': 1, 'terminar': 0, 'introdução': 1, 'introduzir': 1, 'loop': 0, 'função': 9, 'poder': 32, 'então': 1, 'utilizar': 20, 'novo': 6, 'conhecimento': 0, 'explorar': 0, 'área': 2, 'data': 1, 'science': 0, 'machine': 0, 'learning': 0, 'existir': 9, 'range': 0, 'b': 0, 'c': 0, 'criar': 9, 'sequência': 1, 'número': 2, 'ser': 3, 'apenas': 1, 'necessário': 2, 'identificar': 1, 'início': 1, 'fim': 0, 'passo': 2, 'começar': 1, 'aumentar': 0, 'atingir': 0, 'note': 1, 'incluir': 1, 'diferença': 0, 'consecutivo': 0, 'esse': 16, 'exemplo': 12, 'formalmente': 0, 'definida': 0, 'seguinte': 5, 'maneira': 7, 'saber': 1, 'colocar': 1, 'dois': 5, 'termo': 0, 'rangir': 0, 'fará': 0, 'automaticamente': 0, 'igual': 0, 'bom': 14, 'dar': 17, 'fazer': 8, 'zero': 1, 'comprimento': 0, 'valor': 11, 'comportar': 0, 'listar': 0, 'algum': 4, 'adicionar': 0, 'usar': 2, 'transformar': 2, 'bastar': 1, 'list': 0, 'vez': 1, 'realizar': 2, 'diversos': 2, 'repetitivo': 0, 'imprimir': 0, 'tipo': 2, 'tarefa': 1, 'executar': 0, 'meio': 2, 'while': 0, 'repetir': 0, 'bloco': 0, 'código': 1, 'enquanto': 0, 'condição': 0, 'verdadeiro': 0, 'todo': 7, 'elemento': 0, 'ordem': 0, 'aparecer': 0, 'abaixo': 9, 'dentro': 3, 'cada': 6, 'iterar': 0, 'caso': 5, 'modificar': 0, 'sobre': 7, 'cópia': 0, 'notação': 0, 'ver': 5, 'acima': 2, 'dicionário': 0, 'outro': 12, 'estrutura': 1, 'nativo': 0, 'pythonr': 0, 'basicamente': 0, 'compor': 0, 'possuir': 1, 'componente': 0, 'chave': 0, 'implementação': 0, 'hash': 0, 'tables': 0, 'extremamente': 2, 'úteis': 1, 'aplicação': 1, 'dicionario': 0, 'keyn': 0, 'valuen': 0, 'vazio': 0, 'mostrar': 0, 'acessar': 0, 'sintaxe': 0, 'parecir': 0, 'colchete': 0, 'entretanto': 0, 'ir': 10, 'índice': 0, 'sim': 3, 'além': 5, 'de': 16, 'isso': 5, 'método': 3, 'keys': 0, 'retornar': 1, 'iterador': 0, 'respectivo': 0, 'simplesmente': 0, 'objeto': 1, 'tupla': 0, 'explicar': 2, 'adiante': 1, 'anterior': 5, 'demonstrar': 2, 'funcionalidade': 0, 'algo': 1, 'ainda': 4, 'format': 0, 'útil': 3, 'formatar': 0, 'strings': 0, 'texto': 5, 'funcionar': 0, 'criarmos': 0, 'string': 1, 'colocamos': 0, 'chaves': 0, 'substitúir': 0, 'substituir': 0, 'querer': 3, 'efetivamente': 0, 'substituirmos': 0, 'bastante': 3, 'aplicarr': 0, 'referenciarr': 0, 'argumento': 1, 'poderíar': 7, 'guardar': 0, 'música': 0, 'nome': 1, 'banda': 0, 'ano': 9, 'cair': 0, 'luva': 0, 'pois': 1, 'facilitar': 0, 'leitura': 1, 'intuitivo': 0, 'prático': 0, 'recuperarmo': 0, 'dado': 9, 'guardado': 0, 'facilmente': 0, 'construir': 4, 'conjunto': 2, 'criatividade': 0, 'mixe': 0, 'forma': 7, 'acessados': 0, 'eficiente': 0, 'entendimento': 1, 'programador': 0, 'clareza': 1, 'importante': 6, 'procure': 0, 'code': 0, 'readability': 0, 'ótimo': 0, 'armazenar': 0, 'json': 0, 'envio': 0, 'recebimento': 0, 'último': 0, 'apresentar': 0, 'tutorial': 0, 'listo': 0, 'porém': 0, 'imutável': 0, 'visualmente': 0, 'único': 2, 'parêntese': 0, 'disser': 0, 'dizer': 3, 'alterar': 0, 'possível': 6, 'remover': 0, 'rígir': 0, 'seguro': 0, 'cujo': 0, 'dever': 3, 'manter': 0, 'inalterado': 0, 'longo': 3, 'andamento': 0, 'programa': 0, 'funcionamento': 0, 'args': 0, 'breve': 1, 'criação': 0, 'seguir': 4, 'tentativo': 0, 'organizar': 0, 'reutilizável': 0, 'certo': 0, 'ação': 7, 'primeiro': 3, 'usarer': 0, 'posicional': 0, 'portanto': 1, 'ordir': 0, 'parâmetro': 0, 'inserir': 0, 'mesmo': 0, 'declarar': 0, 'após': 0, 'informar': 1, 'expressão': 0, 'return': 0, 'veja': 0, 'printar': 0, 'somar': 2, 'referência': 0, 'mudar': 0, 'mudanço': 0, 'reflete': 0, 'chamar': 3, 'mantive': 0, 'anexar': 0, 'produzir': 0, 'resultar': 0, 'correto': 3, 'definição': 0, 'novamente': 1, 'utiliznar': 0, 'pŕoxima': 0, 'parte': 0, 'explicarer': 0, 'disponível': 2, 'localização': 0, 'depender': 4, 'onde': 1, 'declarada': 0, 'local': 0, 'global': 0, 'definer': 0, 'escopo': 0, 'acessada': 0, 'referenciada': 0, 'qualquer': 3, 'três': 0, 'padrão': 0, 'kwargs': 0, 'opcional': 0, 'ter': 5, 'padr': 0, 'calcular': 3, 'peso': 0, 'massa': 0, 'aceleração': 0, 'gravidade': 0, 'aproximadamente': 0, 'terra': 0, 'aceleraçãor': 0, 'conforme': 1, 'latitude': 1, 'longitude': 1, 'alturo': 0, 'pequeno': 2, 'variação': 0, 'darer': 0, 'usuário': 0, 'liberdade': 0, 'definir': 3, 'próprio': 1, 'julgar': 0, 'precisar': 1, 'situação': 0, 'receber': 0, 'g': 0, 'tanto': 0, 'quanto': 1, 'nomear': 0, 'permitir': 3, 'passe': 0, 'indefinir': 0, 'termos': 0, 'exatamente': 0, 'ela': 0, 'procedimento': 0, 'imagine': 0, 'receb': 0, 'quantidade': 7, 'indefinido': 0, 'execute': 0, 'pensar': 1, 'ponto': 0, 'coordenada': 3, 'conter': 0, 'distância': 1, 'euclidiano': 0, 'série': 16, 'pn': 0, 'n': 0, 'usaremos': 0, 'utilizarer': 0, 'capturar': 0, 'deixar': 1, 'limpo': 0, 'auxiliar': 0, 'distance': 0, 'disitância': 0, 'ficar': 2, 'lembrar': 0, 'passásser': 0, 'preocupar': 0, 'sempre': 1, 'interessar': 1, 'diferente': 3, 'completo': 0, 'abreviação': 0, 'verificar': 1, 'comum': 1, 'entidade': 0, 'principal': 0, 'configuração': 0, 'especificação': 0, 'comportamento': 3, 'tudo': 3, 'claro': 1, 'desejar': 2, 'aqui': 2, 'falar': 1, 'coisa': 0, 'agora': 3, 'exceptiom': 0, 'inteiro': 0, 'acarretar': 0, 'erro': 0, 'exception': 0, 'especificamente': 0, 'receberer': 0, 'typeerror': 0, 'unsupported': 0, 'operand': 0, 'type': 0, 's': 0, 'and': 0, 'levar': 1, 'interrupção': 0, 'execução': 0, 'exceção': 0, 'indicar': 3, 'errar': 0, 'vários': 0, 'valueerror': 0, 'inváler': 0, 'tratar': 3, 'modo': 2, 'ocorrer': 2, 'invés': 0, 'retorne': 0, 'mensagem': 0, 'favor': 0, 'digitar': 0, 'lado': 0, 'exceptions': 0, 'termine': 0, 'exemplificar': 1, 'brincar': 0, 'utilizaremo': 0, 'copiar': 0, 'consulta': 0, 'garantir': 2, 'satisfazer': 0, 'incentivar': 0, 'correr': 0, 'atrás': 5, 'listarar': 0, 'vir': 1, 'biblioteca': 4, 'panda': 1, 'numpy': 0, 'entender': 1, 'ciência': 2, 'aprendizar': 1, 'máquina': 1, 'partir': 4, 'próximo': 2, 'começarer': 0, 'direcionar': 0, 'foco': 0, 'direção': 0, 'siga': 0, 'página': 0, 'facebook': 1, 'ligar': 0, 'posts': 1, 'escrever': 1, 'kauã': 1, 'fillipe': 1, 'letícia': 1, 'falconer': 1, 'olá': 1, 'leitor': 1, 'turing': 3, 'talks': 3, 'hoje': 4, 'feature': 8, 'engineering': 7, 'temporal': 17, 'assunto': 1, 'proposta': 1, 'processo': 6, 'contexto': 4, 'primeiramente': 2, 'featur': 32, 'relação': 6, 'lá': 1, 'observação': 6, 'relacionar': 4, 'disposto': 2, 'tempo': 21, 'dataset': 16, 'datasets': 1, 'repository': 1, 'fornecir': 1, 'jbrownlee': 1, 'ele': 3, 'registro': 3, 'passageiro': 9, 'linha': 3, 'aéreo': 2, 'mês': 12, 'trabalhar': 2, 'costumar': 1, 'registrar': 1, 'periódico': 1, 'anteriormente': 3, 'considerar': 3, 'intervalo': 1, 'visualização': 3, 'propósito': 1, 'servir': 1, 'seleção': 1, 'original': 1, 'datasetr': 5, 'transformação': 1, 'qual': 3, 'simplificar': 1, 'melhorar': 1, 'acurácia': 2, 'modelo': 5, 'faltante': 3, 'lidar': 2, 'manipulação': 2, 'coluna': 11, 'aproveitamento': 1, 'vejamos': 2, 'climate': 1, 'change': 1, 'contém': 1, 'cidade': 2, 'afetar': 1, 'mudança': 1, 'climático': 1, 'dividir': 2, 'separadamente': 2, 'contudo': 2, 'informação': 6, 'si': 1, 'representar': 3, 'relacionarmo': 1, 'concatenarr': 1, 'verdade': 1, 'fácel': 1, 'interpretar': 1, 'abordagem': 6, 'solucionar': 1, 'problema': 3, 'coordenar': 2, 'polar': 1, 'inclinação': 1, 'grau': 1, 'inicial': 1, 'bem': 2, 'frente': 1, 'discutir': 1, 'aplicar': 5, 'ajudar': 5, 'poderoso': 1, 'previsão': 5, 'futuro': 3, 'apesar': 1, 'beneficiem': 1, 'datetime': 2, 'lagtime': 1, 'window': 13, 'fórmula': 1, 'digo': 1, 'chegar': 2, 'resultado': 2, 'esperar': 4, 'contrário': 1, 'noção': 1, 'final': 1, 'lever': 1, 'consideração': 2, 'específico': 2, 'conseguirr': 1, 'independente': 3, 'seguramente': 1, 'respeito': 1, 'venda': 2, 'ingresso': 3, 'cinema': 3, 'observar': 2, 'filme': 2, 'desejamos': 1, 'prever': 3, 'demanr': 2, 'compra': 1, 'diferentes': 1, 'localidade': 1, 'varer': 1, 'interessante': 4, 'analisarmos': 2, 'simultaneamente': 1, 'conhecer': 3, 'histórico': 1, 'futuramente': 1, 'mentir': 1, 'tomar': 2, 'região': 1, 'clima': 1, 'feriado': 1, 'época': 1, 'influencir': 1, 'externo': 1, 'evitar': 1, 'poluir': 1, 'extraída': 1, 'carimbo': 1, 'horário': 1, 'dia': 7, 'etc': 1, 'determinar': 4, 'gerar': 1, 'insights': 1, 'análise': 2, 'datar': 4, 'hora': 5, 'time': 5, 'modelar': 1, 'dependência': 3, 'evento': 2, 'extraem': 1, 'qualidade': 1, 'trabalha': 1, 'voltar': 2, 'extrair': 2, 'month': 2, 'formato': 4, 'timestamp': 1, 'dateformat': 1, 'panr': 5, 'obter': 2, 'splitr': 1, 'gráfico': 5, 'informer': 1, 'ferramentar': 1, 'padronizar': 1, 'grande': 6, 'gama': 1, 'ferramenta': 2, 'auxílio': 1, 'biblioteco': 1, 'interativo': 1, 'plotly': 2, 'continuar': 1, 'fato': 2, 'alvo': 4, 'traçamos': 1, 'tendência': 1, 'através': 2, 'média': 2, 'móvel': 2, 'geral': 1, 'sazonalidade': 1, 'tal': 1, 'aumento': 3, 'significativo': 1, 'julho': 1, 'agosto': 1, 'demais': 1, 'provavelmente': 1, 'contar': 1, 'período': 3, 'férias': 1, 'valer': 1, 'mencionar': 1, 'técnica': 1, 'igualmente': 1, 'preço': 14, 'emprês': 1, 'tecnologia': 1, 'diretamente': 1, 'timestampr': 1, 'quiséss': 1, 'caminho': 1, 'escolher': 3, 'conferir': 1, 'aspecto': 1, 'sazonal': 1, 'distribuição': 1, 'trafegar': 1, 'companhia': 1, 'decorrer': 1, 'sucesso': 1, 'imagem': 3, 'empresa': 6, 'observer': 2, 'binário': 1, 'extraír': 1, 'estratégia': 1, 'cargo': 1, 'cientista': 1, 'decidir': 1, 'tópico': 1, 'lag': 16, 'features': 1, 'utilizamos': 1, 'estudar': 3, 'instante': 5, 'cenário': 2, 'tentar': 1, 'queda': 1, 'subido': 1, 'base': 3, 'assumir': 1, 'serial': 1, 'predita': 1, 'utilizarr': 1, 'adotar': 3, 'defasagem': 8, 'unidade': 8, 'referir': 1, 'respectivamente': 1, 'antes': 3, 'nada': 1, 'decisão': 1, 'atraso': 2, 'autocorrelação': 5, 'l': 3, 'correlação': 3, 'par': 1, 'separar': 1, 'v': 1, 't': 1, 'medida': 1, 'ideia': 1, 'analisar': 1, 'acf': 1, 'representado': 1, 'graficamente': 1, 'correlograma': 2, 'mercado': 1, 'preste': 1, 'atenção': 1, 'lags': 2, 'citar': 1, 'shift': 2, 'tamanho': 8, 'amazon': 1, 'devido': 1, 'fizéssemos': 1, 'diante': 1, 'foquer': 1, 'netflix': 3, 'supor': 1, 'predizer': 2, 'certeza': 1, 'segurança': 1, 'escolha': 2, 'statsmodels': 1, 'percebo': 1, 'decair': 1, 'lentamente': 1, 'distante': 1, 'sentido': 1, 'confirmar': 1, 'semelhante': 1, 'utiliza': 2, 'target': 1, 'intervalar': 1, 'momento': 1, 'atual': 2, 'resumo': 1, 'presente': 1, 'médio': 4, 'estatística': 3, 'desejer': 1, 'janela': 10, 'fixo': 3, 'categorizar': 1, 'rolling': 7, 'expanding': 5, 'deslocar': 1, 'junto': 1, 'permanecer': 1, 'clarezar': 1, 'laranjo': 1, 'percorrer': 1, 'perceber': 1, 'encontrar': 1, 'nulo': 1, 'haver': 1, 'suficiente': 1, 'foto': 1, 'sum': 1, 'obtermos': 1, 'popularmente': 1, 'moving': 1, 'average': 1, 'mínimo': 2, 'laranja': 1, 'ramo': 1, 'preditivo': 1, 'essencial': 1, 'featurar': 1, 'manipular': 1, 'assegurar': 1, 'possua': 1, 'melhore': 1, 'performance': 1, 'algoritmo': 1, 'adaptar': 1, 'diverso': 1, 'usado': 1, 'criamos': 1, 'mapa': 1, 'mental': 1, 'relembrar': 1, 'teoria': 1, 'confundo': 1, 'métodos': 1, 'regrar': 1, 'tema': 1, 'modelagem': 1, 'recomendar': 1, 'encontre': 1, 'gostar': 1, 'obrigar': 1, 'pouco': 1, 'rede': 1, 'social': 1, 'instagr': 1, 'linkedin': 1, 'acompanhar': 2, 'medium': 1, 'perto': 1, 'participar': 1, 'discussão': 1, 'servidor': 1, 'discord': 1, 'abraço': 1}\n"
          ]
        }
      ]
    },
    {
      "cell_type": "code",
      "source": [
        "#Primeiro o cálculo da frequência do termo\n",
        "def calculaTF(dic_de_cont, doc):\n",
        "    tf_dic = {}\n",
        "    num_palavras_doc = len(doc)\n",
        "    for palavra, contagem in dic_de_cont.items():\n",
        "        tf_dic[palavra] = contagem/float(num_palavras_doc)\n",
        "    return(tf_dic)"
      ],
      "metadata": {
        "id": "x2Tk1r-qNVUn"
      },
      "execution_count": null,
      "outputs": []
    },
    {
      "cell_type": "code",
      "source": [
        "d4_tf_bow = calculaTF(d4_dic_cont, tokens4)\n",
        "d106_tf_bow = calculaTF(d106_dic_cont, tokens106)\n",
        "\n",
        "print(d4_tf_bow)\n",
        "print(d106_tf_bow)"
      ],
      "metadata": {
        "colab": {
          "base_uri": "https://localhost:8080/"
        },
        "id": "YiTpNRj2NweZ",
        "outputId": "560e6296-47fd-44a5-a461-e827114c4e3d"
      },
      "execution_count": null,
      "outputs": [
        {
          "output_type": "stream",
          "name": "stdout",
          "text": [
            "{'semana': 0.0026905829596412557, 'passado': 0.0026905829596412557, 'passar': 0.009865470852017937, 'básico': 0.0026905829596412557, 'linguagem': 0.0008968609865470852, 'programação': 0.0008968609865470852, 'python': 0.010762331838565023, 'introduzimo': 0.0008968609865470852, 'conceito': 0.0017937219730941704, 'variável': 0.008968609865470852, 'atribuição': 0.0008968609865470852, 'operação': 0.0017937219730941704, 'assim': 0.0017937219730941704, 'print': 0.0008968609865470852, 'input': 0.0008968609865470852, 'lista': 0.009865470852017937, 'em': 0.008071748878923767, 'este': 0.007174887892376682, 'objetivo': 0.0026905829596412557, 'terminar': 0.0017937219730941704, 'introdução': 0.0008968609865470852, 'introduzir': 0.0008968609865470852, 'loop': 0.0053811659192825115, 'função': 0.04125560538116592, 'poder': 0.03228699551569507, 'então': 0.0017937219730941704, 'utilizar': 0.012556053811659192, 'novo': 0.0017937219730941704, 'conhecimento': 0.0017937219730941704, 'explorar': 0.0008968609865470852, 'área': 0.0008968609865470852, 'data': 0.0008968609865470852, 'science': 0.0008968609865470852, 'machine': 0.0008968609865470852, 'learning': 0.0008968609865470852, 'existir': 0.0026905829596412557, 'range': 0.011659192825112108, 'b': 0.008071748878923767, 'c': 0.0053811659192825115, 'criar': 0.013452914798206279, 'sequência': 0.007174887892376682, 'número': 0.010762331838565023, 'ser': 0.0008968609865470852, 'apenas': 0.0053811659192825115, 'necessário': 0.004484304932735426, 'identificar': 0.0008968609865470852, 'início': 0.0008968609865470852, 'fim': 0.003587443946188341, 'passo': 0.003587443946188341, 'começar': 0.0017937219730941704, 'aumentar': 0.0008968609865470852, 'atingir': 0.0008968609865470852, 'note': 0.0017937219730941704, 'incluir': 0.0008968609865470852, 'diferença': 0.0026905829596412557, 'consecutivo': 0.0017937219730941704, 'esse': 0.003587443946188341, 'exemplo': 0.02062780269058296, 'formalmente': 0.0008968609865470852, 'definida': 0.0008968609865470852, 'seguinte': 0.006278026905829596, 'maneira': 0.004484304932735426, 'saber': 0.0053811659192825115, 'colocar': 0.0026905829596412557, 'dois': 0.006278026905829596, 'termo': 0.0008968609865470852, 'rangir': 0.0008968609865470852, 'fará': 0.0008968609865470852, 'automaticamente': 0.0008968609865470852, 'igual': 0.003587443946188341, 'bom': 0.0017937219730941704, 'dar': 0.010762331838565023, 'fazer': 0.008071748878923767, 'zero': 0.0008968609865470852, 'comprimento': 0.0008968609865470852, 'valor': 0.009865470852017937, 'comportar': 0.0008968609865470852, 'listar': 0.003587443946188341, 'algum': 0.006278026905829596, 'adicionar': 0.0017937219730941704, 'usar': 0.008071748878923767, 'transformar': 0.0017937219730941704, 'bastar': 0.0008968609865470852, 'list': 0.0008968609865470852, 'vez': 0.0017937219730941704, 'realizar': 0.0026905829596412557, 'diversos': 0.003587443946188341, 'repetitivo': 0.0008968609865470852, 'imprimir': 0.0008968609865470852, 'tipo': 0.007174887892376682, 'tarefa': 0.0008968609865470852, 'executar': 0.0026905829596412557, 'meio': 0.0008968609865470852, 'while': 0.0017937219730941704, 'repetir': 0.0008968609865470852, 'bloco': 0.0026905829596412557, 'código': 0.008071748878923767, 'enquanto': 0.0017937219730941704, 'condição': 0.0026905829596412557, 'verdadeiro': 0.0008968609865470852, 'todo': 0.004484304932735426, 'elemento': 0.007174887892376682, 'ordem': 0.0026905829596412557, 'aparecer': 0.0017937219730941704, 'abaixo': 0.004484304932735426, 'dentro': 0.004484304932735426, 'cada': 0.0017937219730941704, 'iterar': 0.004484304932735426, 'caso': 0.003587443946188341, 'modificar': 0.0017937219730941704, 'sobre': 0.004484304932735426, 'cópia': 0.0008968609865470852, 'notação': 0.0008968609865470852, 'ver': 0.0026905829596412557, 'acima': 0.0053811659192825115, 'dicionário': 0.010762331838565023, 'outro': 0.010762331838565023, 'estrutura': 0.012556053811659192, 'nativo': 0.0017937219730941704, 'pythonr': 0.0008968609865470852, 'basicamente': 0.0017937219730941704, 'compor': 0.0008968609865470852, 'possuir': 0.0026905829596412557, 'componente': 0.0008968609865470852, 'chave': 0.0053811659192825115, 'implementação': 0.0008968609865470852, 'hash': 0.0008968609865470852, 'tables': 0.0008968609865470852, 'extremamente': 0.0026905829596412557, 'úteis': 0.0008968609865470852, 'aplicação': 0.0017937219730941704, 'dicionario': 0.0008968609865470852, 'keyn': 0.0008968609865470852, 'valuen': 0.0008968609865470852, 'vazio': 0.0008968609865470852, 'mostrar': 0.0026905829596412557, 'acessar': 0.0008968609865470852, 'sintaxe': 0.0008968609865470852, 'parecir': 0.0017937219730941704, 'colchete': 0.0017937219730941704, 'entretanto': 0.0017937219730941704, 'ir': 0.003587443946188341, 'índice': 0.0008968609865470852, 'sim': 0.0017937219730941704, 'além': 0.0026905829596412557, 'de': 0.0053811659192825115, 'isso': 0.0017937219730941704, 'método': 0.0008968609865470852, 'keys': 0.0008968609865470852, 'retornar': 0.003587443946188341, 'iterador': 0.0017937219730941704, 'respectivo': 0.0008968609865470852, 'simplesmente': 0.0017937219730941704, 'objeto': 0.003587443946188341, 'tupla': 0.004484304932735426, 'explicar': 0.0008968609865470852, 'adiante': 0.0008968609865470852, 'anterior': 0.0008968609865470852, 'demonstrar': 0.0008968609865470852, 'funcionalidade': 0.0008968609865470852, 'algo': 0.0008968609865470852, 'ainda': 0.0008968609865470852, 'format': 0.0026905829596412557, 'útil': 0.0008968609865470852, 'formatar': 0.0008968609865470852, 'strings': 0.0008968609865470852, 'texto': 0.0026905829596412557, 'funcionar': 0.0017937219730941704, 'criarmos': 0.0008968609865470852, 'string': 0.0008968609865470852, 'colocamos': 0.0008968609865470852, 'chaves': 0.0008968609865470852, 'substitúir': 0.0008968609865470852, 'substituir': 0.0008968609865470852, 'querer': 0.006278026905829596, 'efetivamente': 0.0008968609865470852, 'substituirmos': 0.0008968609865470852, 'bastante': 0.0008968609865470852, 'aplicarr': 0.0008968609865470852, 'referenciarr': 0.0008968609865470852, 'argumento': 0.02780269058295964, 'poderíar': 0.0026905829596412557, 'guardar': 0.0017937219730941704, 'música': 0.0017937219730941704, 'nome': 0.0026905829596412557, 'banda': 0.0008968609865470852, 'ano': 0.0008968609865470852, 'cair': 0.0008968609865470852, 'luva': 0.0008968609865470852, 'pois': 0.0017937219730941704, 'facilitar': 0.0026905829596412557, 'leitura': 0.0008968609865470852, 'intuitivo': 0.0008968609865470852, 'prático': 0.0008968609865470852, 'recuperarmo': 0.0008968609865470852, 'dado': 0.004484304932735426, 'guardado': 0.0008968609865470852, 'facilmente': 0.0017937219730941704, 'construir': 0.0008968609865470852, 'conjunto': 0.0008968609865470852, 'criatividade': 0.0008968609865470852, 'mixe': 0.0008968609865470852, 'forma': 0.0053811659192825115, 'acessados': 0.0008968609865470852, 'eficiente': 0.0008968609865470852, 'entendimento': 0.0008968609865470852, 'programador': 0.0008968609865470852, 'clareza': 0.0008968609865470852, 'importante': 0.0026905829596412557, 'procure': 0.0008968609865470852, 'code': 0.0008968609865470852, 'readability': 0.0008968609865470852, 'ótimo': 0.0008968609865470852, 'armazenar': 0.0017937219730941704, 'json': 0.0008968609865470852, 'envio': 0.0008968609865470852, 'recebimento': 0.0008968609865470852, 'último': 0.0008968609865470852, 'apresentar': 0.0008968609865470852, 'tutorial': 0.0008968609865470852, 'listo': 0.0017937219730941704, 'porém': 0.0017937219730941704, 'imutável': 0.0017937219730941704, 'visualmente': 0.0008968609865470852, 'único': 0.0008968609865470852, 'parêntese': 0.0008968609865470852, 'disser': 0.0008968609865470852, 'dizer': 0.0017937219730941704, 'alterar': 0.0017937219730941704, 'possível': 0.0026905829596412557, 'remover': 0.0008968609865470852, 'rígir': 0.0008968609865470852, 'seguro': 0.0008968609865470852, 'cujo': 0.0017937219730941704, 'dever': 0.004484304932735426, 'manter': 0.0008968609865470852, 'inalterado': 0.0008968609865470852, 'longo': 0.0008968609865470852, 'andamento': 0.0008968609865470852, 'programa': 0.007174887892376682, 'funcionamento': 0.0017937219730941704, 'args': 0.003587443946188341, 'breve': 0.0008968609865470852, 'criação': 0.0008968609865470852, 'seguir': 0.0017937219730941704, 'tentativo': 0.0008968609865470852, 'organizar': 0.0008968609865470852, 'reutilizável': 0.0008968609865470852, 'certo': 0.0008968609865470852, 'ação': 0.0017937219730941704, 'primeiro': 0.003587443946188341, 'usarer': 0.0008968609865470852, 'posicional': 0.0053811659192825115, 'portanto': 0.0017937219730941704, 'ordir': 0.0008968609865470852, 'parâmetro': 0.0017937219730941704, 'inserir': 0.0008968609865470852, 'mesmo': 0.0008968609865470852, 'declarar': 0.0026905829596412557, 'após': 0.0008968609865470852, 'informar': 0.0008968609865470852, 'expressão': 0.0008968609865470852, 'return': 0.0008968609865470852, 'veja': 0.0008968609865470852, 'printar': 0.0008968609865470852, 'somar': 0.0017937219730941704, 'referência': 0.0017937219730941704, 'mudar': 0.0026905829596412557, 'mudanço': 0.0008968609865470852, 'reflete': 0.0008968609865470852, 'chamar': 0.0017937219730941704, 'mantive': 0.0008968609865470852, 'anexar': 0.0008968609865470852, 'produzir': 0.0008968609865470852, 'resultar': 0.0008968609865470852, 'correto': 0.0008968609865470852, 'definição': 0.0008968609865470852, 'novamente': 0.0017937219730941704, 'utiliznar': 0.0008968609865470852, 'pŕoxima': 0.0008968609865470852, 'parte': 0.0008968609865470852, 'explicarer': 0.0008968609865470852, 'disponível': 0.0008968609865470852, 'localização': 0.0008968609865470852, 'depender': 0.0008968609865470852, 'onde': 0.0008968609865470852, 'declarada': 0.0008968609865470852, 'local': 0.0026905829596412557, 'global': 0.0026905829596412557, 'definer': 0.0008968609865470852, 'escopo': 0.0017937219730941704, 'acessada': 0.0008968609865470852, 'referenciada': 0.0008968609865470852, 'qualquer': 0.0008968609865470852, 'três': 0.0008968609865470852, 'padrão': 0.0026905829596412557, 'kwargs': 0.0026905829596412557, 'opcional': 0.0008968609865470852, 'ter': 0.0017937219730941704, 'padr': 0.0008968609865470852, 'calcular': 0.003587443946188341, 'peso': 0.0053811659192825115, 'massa': 0.0008968609865470852, 'aceleração': 0.0026905829596412557, 'gravidade': 0.004484304932735426, 'aproximadamente': 0.0008968609865470852, 'terra': 0.0017937219730941704, 'aceleraçãor': 0.0008968609865470852, 'conforme': 0.0008968609865470852, 'latitude': 0.0008968609865470852, 'longitude': 0.0008968609865470852, 'alturo': 0.0008968609865470852, 'pequeno': 0.0008968609865470852, 'variação': 0.0008968609865470852, 'darer': 0.0008968609865470852, 'usuário': 0.0017937219730941704, 'liberdade': 0.0008968609865470852, 'definir': 0.0017937219730941704, 'próprio': 0.0008968609865470852, 'julgar': 0.0008968609865470852, 'precisar': 0.003587443946188341, 'situação': 0.0008968609865470852, 'receber': 0.006278026905829596, 'g': 0.0026905829596412557, 'tanto': 0.0017937219730941704, 'quanto': 0.0017937219730941704, 'nomear': 0.0017937219730941704, 'permitir': 0.0017937219730941704, 'passe': 0.0008968609865470852, 'indefinir': 0.0008968609865470852, 'termos': 0.0008968609865470852, 'exatamente': 0.0008968609865470852, 'ela': 0.0008968609865470852, 'procedimento': 0.0008968609865470852, 'imagine': 0.0017937219730941704, 'receb': 0.0008968609865470852, 'quantidade': 0.0008968609865470852, 'indefinido': 0.0017937219730941704, 'execute': 0.0008968609865470852, 'pensar': 0.0008968609865470852, 'ponto': 0.0053811659192825115, 'coordenada': 0.0008968609865470852, 'conter': 0.0008968609865470852, 'distância': 0.0017937219730941704, 'euclidiano': 0.0017937219730941704, 'série': 0.0017937219730941704, 'pn': 0.0008968609865470852, 'n': 0.0008968609865470852, 'usaremos': 0.0008968609865470852, 'utilizarer': 0.0008968609865470852, 'capturar': 0.0008968609865470852, 'deixar': 0.0026905829596412557, 'limpo': 0.0008968609865470852, 'auxiliar': 0.0008968609865470852, 'distance': 0.0008968609865470852, 'disitância': 0.0008968609865470852, 'ficar': 0.0026905829596412557, 'lembrar': 0.0008968609865470852, 'passásser': 0.0008968609865470852, 'preocupar': 0.0008968609865470852, 'sempre': 0.0008968609865470852, 'interessar': 0.0008968609865470852, 'diferente': 0.0017937219730941704, 'completo': 0.0008968609865470852, 'abreviação': 0.0008968609865470852, 'verificar': 0.0008968609865470852, 'comum': 0.0008968609865470852, 'entidade': 0.0008968609865470852, 'principal': 0.0008968609865470852, 'configuração': 0.0008968609865470852, 'especificação': 0.0017937219730941704, 'comportamento': 0.0017937219730941704, 'tudo': 0.0008968609865470852, 'claro': 0.0008968609865470852, 'desejar': 0.0008968609865470852, 'aqui': 0.0017937219730941704, 'falar': 0.0017937219730941704, 'coisa': 0.0017937219730941704, 'agora': 0.0017937219730941704, 'exceptiom': 0.0017937219730941704, 'inteiro': 0.0008968609865470852, 'acarretar': 0.0008968609865470852, 'erro': 0.004484304932735426, 'exception': 0.0017937219730941704, 'especificamente': 0.0008968609865470852, 'receberer': 0.0008968609865470852, 'typeerror': 0.0017937219730941704, 'unsupported': 0.0008968609865470852, 'operand': 0.0008968609865470852, 'type': 0.0008968609865470852, 's': 0.0008968609865470852, 'and': 0.0008968609865470852, 'levar': 0.0008968609865470852, 'interrupção': 0.0008968609865470852, 'execução': 0.0008968609865470852, 'exceção': 0.0026905829596412557, 'indicar': 0.0017937219730941704, 'errar': 0.0008968609865470852, 'vários': 0.0008968609865470852, 'valueerror': 0.0008968609865470852, 'inváler': 0.0008968609865470852, 'tratar': 0.0008968609865470852, 'modo': 0.0008968609865470852, 'ocorrer': 0.0008968609865470852, 'invés': 0.0008968609865470852, 'retorne': 0.0008968609865470852, 'mensagem': 0.0008968609865470852, 'favor': 0.0008968609865470852, 'digitar': 0.0008968609865470852, 'lado': 0.0008968609865470852, 'exceptions': 0.0008968609865470852, 'termine': 0.0008968609865470852, 'exemplificar': 0.0008968609865470852, 'brincar': 0.0008968609865470852, 'utilizaremo': 0.0008968609865470852, 'copiar': 0.0008968609865470852, 'consulta': 0.0008968609865470852, 'garantir': 0.0008968609865470852, 'satisfazer': 0.0008968609865470852, 'incentivar': 0.0008968609865470852, 'correr': 0.0008968609865470852, 'atrás': 0.0008968609865470852, 'listarar': 0.0008968609865470852, 'vir': 0.0008968609865470852, 'biblioteca': 0.0008968609865470852, 'panda': 0.0008968609865470852, 'numpy': 0.0008968609865470852, 'entender': 0.0008968609865470852, 'ciência': 0.0008968609865470852, 'aprendizar': 0.0008968609865470852, 'máquina': 0.0008968609865470852, 'partir': 0.0008968609865470852, 'próximo': 0.0008968609865470852, 'começarer': 0.0008968609865470852, 'direcionar': 0.0008968609865470852, 'foco': 0.0008968609865470852, 'direção': 0.0008968609865470852, 'siga': 0.0008968609865470852, 'página': 0.0008968609865470852, 'facebook': 0.0008968609865470852, 'ligar': 0.0008968609865470852, 'posts': 0.0008968609865470852, 'escrever': 0.0, 'kauã': 0.0, 'fillipe': 0.0, 'letícia': 0.0, 'falconer': 0.0, 'olá': 0.0, 'leitor': 0.0, 'turing': 0.0, 'talks': 0.0, 'hoje': 0.0, 'feature': 0.0, 'engineering': 0.0, 'temporal': 0.0, 'assunto': 0.0, 'proposta': 0.0, 'processo': 0.0, 'contexto': 0.0, 'primeiramente': 0.0, 'featur': 0.0, 'relação': 0.0, 'lá': 0.0, 'observação': 0.0, 'relacionar': 0.0, 'disposto': 0.0, 'tempo': 0.0, 'dataset': 0.0, 'datasets': 0.0, 'repository': 0.0, 'fornecir': 0.0, 'jbrownlee': 0.0, 'ele': 0.0, 'registro': 0.0, 'passageiro': 0.0, 'linha': 0.0, 'aéreo': 0.0, 'mês': 0.0, 'trabalhar': 0.0, 'costumar': 0.0, 'registrar': 0.0, 'periódico': 0.0, 'anteriormente': 0.0, 'considerar': 0.0, 'intervalo': 0.0, 'visualização': 0.0, 'propósito': 0.0, 'servir': 0.0, 'seleção': 0.0, 'original': 0.0, 'datasetr': 0.0, 'transformação': 0.0, 'qual': 0.0, 'simplificar': 0.0, 'melhorar': 0.0, 'acurácia': 0.0, 'modelo': 0.0, 'faltante': 0.0, 'lidar': 0.0, 'manipulação': 0.0, 'coluna': 0.0, 'aproveitamento': 0.0, 'vejamos': 0.0, 'climate': 0.0, 'change': 0.0, 'contém': 0.0, 'cidade': 0.0, 'afetar': 0.0, 'mudança': 0.0, 'climático': 0.0, 'dividir': 0.0, 'separadamente': 0.0, 'contudo': 0.0, 'informação': 0.0, 'si': 0.0, 'representar': 0.0, 'relacionarmo': 0.0, 'concatenarr': 0.0, 'verdade': 0.0, 'fácel': 0.0, 'interpretar': 0.0, 'abordagem': 0.0, 'solucionar': 0.0, 'problema': 0.0, 'coordenar': 0.0, 'polar': 0.0, 'inclinação': 0.0, 'grau': 0.0, 'inicial': 0.0, 'bem': 0.0, 'frente': 0.0, 'discutir': 0.0, 'aplicar': 0.0, 'ajudar': 0.0, 'poderoso': 0.0, 'previsão': 0.0, 'futuro': 0.0, 'apesar': 0.0, 'beneficiem': 0.0, 'datetime': 0.0, 'lagtime': 0.0, 'window': 0.0, 'fórmula': 0.0, 'digo': 0.0, 'chegar': 0.0, 'resultado': 0.0, 'esperar': 0.0, 'contrário': 0.0, 'noção': 0.0, 'final': 0.0, 'lever': 0.0, 'consideração': 0.0, 'específico': 0.0, 'conseguirr': 0.0, 'independente': 0.0, 'seguramente': 0.0, 'respeito': 0.0, 'venda': 0.0, 'ingresso': 0.0, 'cinema': 0.0, 'observar': 0.0, 'filme': 0.0, 'desejamos': 0.0, 'prever': 0.0, 'demanr': 0.0, 'compra': 0.0, 'diferentes': 0.0, 'localidade': 0.0, 'varer': 0.0, 'interessante': 0.0, 'analisarmos': 0.0, 'simultaneamente': 0.0, 'conhecer': 0.0, 'histórico': 0.0, 'futuramente': 0.0, 'mentir': 0.0, 'tomar': 0.0, 'região': 0.0, 'clima': 0.0, 'feriado': 0.0, 'época': 0.0, 'influencir': 0.0, 'externo': 0.0, 'evitar': 0.0, 'poluir': 0.0, 'extraída': 0.0, 'carimbo': 0.0, 'horário': 0.0, 'dia': 0.0, 'etc': 0.0, 'determinar': 0.0, 'gerar': 0.0, 'insights': 0.0, 'análise': 0.0, 'datar': 0.0, 'hora': 0.0, 'time': 0.0, 'modelar': 0.0, 'dependência': 0.0, 'evento': 0.0, 'extraem': 0.0, 'qualidade': 0.0, 'trabalha': 0.0, 'voltar': 0.0, 'extrair': 0.0, 'month': 0.0, 'formato': 0.0, 'timestamp': 0.0, 'dateformat': 0.0, 'panr': 0.0, 'obter': 0.0, 'splitr': 0.0, 'gráfico': 0.0, 'informer': 0.0, 'ferramentar': 0.0, 'padronizar': 0.0, 'grande': 0.0, 'gama': 0.0, 'ferramenta': 0.0, 'auxílio': 0.0, 'biblioteco': 0.0, 'interativo': 0.0, 'plotly': 0.0, 'continuar': 0.0, 'fato': 0.0, 'alvo': 0.0, 'traçamos': 0.0, 'tendência': 0.0, 'através': 0.0, 'média': 0.0, 'móvel': 0.0, 'geral': 0.0, 'sazonalidade': 0.0, 'tal': 0.0, 'aumento': 0.0, 'significativo': 0.0, 'julho': 0.0, 'agosto': 0.0, 'demais': 0.0, 'provavelmente': 0.0, 'contar': 0.0, 'período': 0.0, 'férias': 0.0, 'valer': 0.0, 'mencionar': 0.0, 'técnica': 0.0, 'igualmente': 0.0, 'preço': 0.0, 'emprês': 0.0, 'tecnologia': 0.0, 'diretamente': 0.0, 'timestampr': 0.0, 'quiséss': 0.0, 'caminho': 0.0, 'escolher': 0.0, 'conferir': 0.0, 'aspecto': 0.0, 'sazonal': 0.0, 'distribuição': 0.0, 'trafegar': 0.0, 'companhia': 0.0, 'decorrer': 0.0, 'sucesso': 0.0, 'imagem': 0.0, 'empresa': 0.0, 'observer': 0.0, 'binário': 0.0, 'extraír': 0.0, 'estratégia': 0.0, 'cargo': 0.0, 'cientista': 0.0, 'decidir': 0.0, 'tópico': 0.0, 'lag': 0.0, 'features': 0.0, 'utilizamos': 0.0, 'estudar': 0.0, 'instante': 0.0, 'cenário': 0.0, 'tentar': 0.0, 'queda': 0.0, 'subido': 0.0, 'base': 0.0, 'assumir': 0.0, 'serial': 0.0, 'predita': 0.0, 'utilizarr': 0.0, 'adotar': 0.0, 'defasagem': 0.0, 'unidade': 0.0, 'referir': 0.0, 'respectivamente': 0.0, 'antes': 0.0, 'nada': 0.0, 'decisão': 0.0, 'atraso': 0.0, 'autocorrelação': 0.0, 'l': 0.0, 'correlação': 0.0, 'par': 0.0, 'separar': 0.0, 'v': 0.0, 't': 0.0, 'medida': 0.0, 'ideia': 0.0, 'analisar': 0.0, 'acf': 0.0, 'representado': 0.0, 'graficamente': 0.0, 'correlograma': 0.0, 'mercado': 0.0, 'preste': 0.0, 'atenção': 0.0, 'lags': 0.0, 'citar': 0.0, 'shift': 0.0, 'tamanho': 0.0, 'amazon': 0.0, 'devido': 0.0, 'fizéssemos': 0.0, 'diante': 0.0, 'foquer': 0.0, 'netflix': 0.0, 'supor': 0.0, 'predizer': 0.0, 'certeza': 0.0, 'segurança': 0.0, 'escolha': 0.0, 'statsmodels': 0.0, 'percebo': 0.0, 'decair': 0.0, 'lentamente': 0.0, 'distante': 0.0, 'sentido': 0.0, 'confirmar': 0.0, 'semelhante': 0.0, 'utiliza': 0.0, 'target': 0.0, 'intervalar': 0.0, 'momento': 0.0, 'atual': 0.0, 'resumo': 0.0, 'presente': 0.0, 'médio': 0.0, 'estatística': 0.0, 'desejer': 0.0, 'janela': 0.0, 'fixo': 0.0, 'categorizar': 0.0, 'rolling': 0.0, 'expanding': 0.0, 'deslocar': 0.0, 'junto': 0.0, 'permanecer': 0.0, 'clarezar': 0.0, 'laranjo': 0.0, 'percorrer': 0.0, 'perceber': 0.0, 'encontrar': 0.0, 'nulo': 0.0, 'haver': 0.0, 'suficiente': 0.0, 'foto': 0.0, 'sum': 0.0, 'obtermos': 0.0, 'popularmente': 0.0, 'moving': 0.0, 'average': 0.0, 'mínimo': 0.0, 'laranja': 0.0, 'ramo': 0.0, 'preditivo': 0.0, 'essencial': 0.0, 'featurar': 0.0, 'manipular': 0.0, 'assegurar': 0.0, 'possua': 0.0, 'melhore': 0.0, 'performance': 0.0, 'algoritmo': 0.0, 'adaptar': 0.0, 'diverso': 0.0, 'usado': 0.0, 'criamos': 0.0, 'mapa': 0.0, 'mental': 0.0, 'relembrar': 0.0, 'teoria': 0.0, 'confundo': 0.0, 'métodos': 0.0, 'regrar': 0.0, 'tema': 0.0, 'modelagem': 0.0, 'recomendar': 0.0, 'encontre': 0.0, 'gostar': 0.0, 'obrigar': 0.0, 'pouco': 0.0, 'rede': 0.0, 'social': 0.0, 'instagr': 0.0, 'linkedin': 0.0, 'acompanhar': 0.0, 'medium': 0.0, 'perto': 0.0, 'participar': 0.0, 'discussão': 0.0, 'servidor': 0.0, 'discord': 0.0, 'abraço': 0.0}\n",
            "{'semana': 0.007022471910112359, 'passado': 0.0014044943820224719, 'passar': 0.0007022471910112359, 'básico': 0.0007022471910112359, 'linguagem': 0.0, 'programação': 0.0, 'python': 0.0014044943820224719, 'introduzimo': 0.0, 'conceito': 0.0056179775280898875, 'variável': 0.0049157303370786515, 'atribuição': 0.0, 'operação': 0.0, 'assim': 0.0035112359550561797, 'print': 0.0, 'input': 0.0, 'lista': 0.0, 'em': 0.006320224719101123, 'este': 0.0007022471910112359, 'objetivo': 0.0007022471910112359, 'terminar': 0.0, 'introdução': 0.0007022471910112359, 'introduzir': 0.0007022471910112359, 'loop': 0.0, 'função': 0.006320224719101123, 'poder': 0.02247191011235955, 'então': 0.0007022471910112359, 'utilizar': 0.014044943820224719, 'novo': 0.004213483146067416, 'conhecimento': 0.0, 'explorar': 0.0, 'área': 0.0014044943820224719, 'data': 0.0007022471910112359, 'science': 0.0, 'machine': 0.0, 'learning': 0.0, 'existir': 0.006320224719101123, 'range': 0.0, 'b': 0.0, 'c': 0.0, 'criar': 0.006320224719101123, 'sequência': 0.0007022471910112359, 'número': 0.0014044943820224719, 'ser': 0.002106741573033708, 'apenas': 0.0007022471910112359, 'necessário': 0.0014044943820224719, 'identificar': 0.0007022471910112359, 'início': 0.0007022471910112359, 'fim': 0.0, 'passo': 0.0014044943820224719, 'começar': 0.0007022471910112359, 'aumentar': 0.0, 'atingir': 0.0, 'note': 0.0007022471910112359, 'incluir': 0.0007022471910112359, 'diferença': 0.0, 'consecutivo': 0.0, 'esse': 0.011235955056179775, 'exemplo': 0.008426966292134831, 'formalmente': 0.0, 'definida': 0.0, 'seguinte': 0.0035112359550561797, 'maneira': 0.0049157303370786515, 'saber': 0.0007022471910112359, 'colocar': 0.0007022471910112359, 'dois': 0.0035112359550561797, 'termo': 0.0, 'rangir': 0.0, 'fará': 0.0, 'automaticamente': 0.0, 'igual': 0.0, 'bom': 0.009831460674157303, 'dar': 0.011938202247191011, 'fazer': 0.0056179775280898875, 'zero': 0.0007022471910112359, 'comprimento': 0.0, 'valor': 0.007724719101123595, 'comportar': 0.0, 'listar': 0.0, 'algum': 0.0028089887640449437, 'adicionar': 0.0, 'usar': 0.0014044943820224719, 'transformar': 0.0014044943820224719, 'bastar': 0.0007022471910112359, 'list': 0.0, 'vez': 0.0007022471910112359, 'realizar': 0.0014044943820224719, 'diversos': 0.0014044943820224719, 'repetitivo': 0.0, 'imprimir': 0.0, 'tipo': 0.0014044943820224719, 'tarefa': 0.0007022471910112359, 'executar': 0.0, 'meio': 0.0014044943820224719, 'while': 0.0, 'repetir': 0.0, 'bloco': 0.0, 'código': 0.0007022471910112359, 'enquanto': 0.0, 'condição': 0.0, 'verdadeiro': 0.0, 'todo': 0.0049157303370786515, 'elemento': 0.0, 'ordem': 0.0, 'aparecer': 0.0, 'abaixo': 0.006320224719101123, 'dentro': 0.002106741573033708, 'cada': 0.004213483146067416, 'iterar': 0.0, 'caso': 0.0035112359550561797, 'modificar': 0.0, 'sobre': 0.0049157303370786515, 'cópia': 0.0, 'notação': 0.0, 'ver': 0.0035112359550561797, 'acima': 0.0014044943820224719, 'dicionário': 0.0, 'outro': 0.008426966292134831, 'estrutura': 0.0007022471910112359, 'nativo': 0.0, 'pythonr': 0.0, 'basicamente': 0.0, 'compor': 0.0, 'possuir': 0.0007022471910112359, 'componente': 0.0, 'chave': 0.0, 'implementação': 0.0, 'hash': 0.0, 'tables': 0.0, 'extremamente': 0.0014044943820224719, 'úteis': 0.0007022471910112359, 'aplicação': 0.0007022471910112359, 'dicionario': 0.0, 'keyn': 0.0, 'valuen': 0.0, 'vazio': 0.0, 'mostrar': 0.0, 'acessar': 0.0, 'sintaxe': 0.0, 'parecir': 0.0, 'colchete': 0.0, 'entretanto': 0.0, 'ir': 0.007022471910112359, 'índice': 0.0, 'sim': 0.002106741573033708, 'além': 0.0035112359550561797, 'de': 0.011235955056179775, 'isso': 0.0035112359550561797, 'método': 0.002106741573033708, 'keys': 0.0, 'retornar': 0.0007022471910112359, 'iterador': 0.0, 'respectivo': 0.0, 'simplesmente': 0.0, 'objeto': 0.0007022471910112359, 'tupla': 0.0, 'explicar': 0.0014044943820224719, 'adiante': 0.0007022471910112359, 'anterior': 0.0035112359550561797, 'demonstrar': 0.0014044943820224719, 'funcionalidade': 0.0, 'algo': 0.0007022471910112359, 'ainda': 0.0028089887640449437, 'format': 0.0, 'útil': 0.002106741573033708, 'formatar': 0.0, 'strings': 0.0, 'texto': 0.0035112359550561797, 'funcionar': 0.0, 'criarmos': 0.0, 'string': 0.0007022471910112359, 'colocamos': 0.0, 'chaves': 0.0, 'substitúir': 0.0, 'substituir': 0.0, 'querer': 0.002106741573033708, 'efetivamente': 0.0, 'substituirmos': 0.0, 'bastante': 0.002106741573033708, 'aplicarr': 0.0, 'referenciarr': 0.0, 'argumento': 0.0007022471910112359, 'poderíar': 0.0049157303370786515, 'guardar': 0.0, 'música': 0.0, 'nome': 0.0007022471910112359, 'banda': 0.0, 'ano': 0.006320224719101123, 'cair': 0.0, 'luva': 0.0, 'pois': 0.0007022471910112359, 'facilitar': 0.0, 'leitura': 0.0007022471910112359, 'intuitivo': 0.0, 'prático': 0.0, 'recuperarmo': 0.0, 'dado': 0.006320224719101123, 'guardado': 0.0, 'facilmente': 0.0, 'construir': 0.0028089887640449437, 'conjunto': 0.0014044943820224719, 'criatividade': 0.0, 'mixe': 0.0, 'forma': 0.0049157303370786515, 'acessados': 0.0, 'eficiente': 0.0, 'entendimento': 0.0007022471910112359, 'programador': 0.0, 'clareza': 0.0007022471910112359, 'importante': 0.004213483146067416, 'procure': 0.0, 'code': 0.0, 'readability': 0.0, 'ótimo': 0.0, 'armazenar': 0.0, 'json': 0.0, 'envio': 0.0, 'recebimento': 0.0, 'último': 0.0, 'apresentar': 0.0, 'tutorial': 0.0, 'listo': 0.0, 'porém': 0.0, 'imutável': 0.0, 'visualmente': 0.0, 'único': 0.0014044943820224719, 'parêntese': 0.0, 'disser': 0.0, 'dizer': 0.002106741573033708, 'alterar': 0.0, 'possível': 0.004213483146067416, 'remover': 0.0, 'rígir': 0.0, 'seguro': 0.0, 'cujo': 0.0, 'dever': 0.002106741573033708, 'manter': 0.0, 'inalterado': 0.0, 'longo': 0.002106741573033708, 'andamento': 0.0, 'programa': 0.0, 'funcionamento': 0.0, 'args': 0.0, 'breve': 0.0007022471910112359, 'criação': 0.0, 'seguir': 0.0028089887640449437, 'tentativo': 0.0, 'organizar': 0.0, 'reutilizável': 0.0, 'certo': 0.0, 'ação': 0.0049157303370786515, 'primeiro': 0.002106741573033708, 'usarer': 0.0, 'posicional': 0.0, 'portanto': 0.0007022471910112359, 'ordir': 0.0, 'parâmetro': 0.0, 'inserir': 0.0, 'mesmo': 0.0, 'declarar': 0.0, 'após': 0.0, 'informar': 0.0007022471910112359, 'expressão': 0.0, 'return': 0.0, 'veja': 0.0, 'printar': 0.0, 'somar': 0.0014044943820224719, 'referência': 0.0, 'mudar': 0.0, 'mudanço': 0.0, 'reflete': 0.0, 'chamar': 0.002106741573033708, 'mantive': 0.0, 'anexar': 0.0, 'produzir': 0.0, 'resultar': 0.0, 'correto': 0.002106741573033708, 'definição': 0.0, 'novamente': 0.0007022471910112359, 'utiliznar': 0.0, 'pŕoxima': 0.0, 'parte': 0.0, 'explicarer': 0.0, 'disponível': 0.0014044943820224719, 'localização': 0.0, 'depender': 0.0028089887640449437, 'onde': 0.0007022471910112359, 'declarada': 0.0, 'local': 0.0, 'global': 0.0, 'definer': 0.0, 'escopo': 0.0, 'acessada': 0.0, 'referenciada': 0.0, 'qualquer': 0.002106741573033708, 'três': 0.0, 'padrão': 0.0, 'kwargs': 0.0, 'opcional': 0.0, 'ter': 0.0035112359550561797, 'padr': 0.0, 'calcular': 0.002106741573033708, 'peso': 0.0, 'massa': 0.0, 'aceleração': 0.0, 'gravidade': 0.0, 'aproximadamente': 0.0, 'terra': 0.0, 'aceleraçãor': 0.0, 'conforme': 0.0007022471910112359, 'latitude': 0.0007022471910112359, 'longitude': 0.0007022471910112359, 'alturo': 0.0, 'pequeno': 0.0014044943820224719, 'variação': 0.0, 'darer': 0.0, 'usuário': 0.0, 'liberdade': 0.0, 'definir': 0.002106741573033708, 'próprio': 0.0007022471910112359, 'julgar': 0.0, 'precisar': 0.0007022471910112359, 'situação': 0.0, 'receber': 0.0, 'g': 0.0, 'tanto': 0.0, 'quanto': 0.0007022471910112359, 'nomear': 0.0, 'permitir': 0.002106741573033708, 'passe': 0.0, 'indefinir': 0.0, 'termos': 0.0, 'exatamente': 0.0, 'ela': 0.0, 'procedimento': 0.0, 'imagine': 0.0, 'receb': 0.0, 'quantidade': 0.0049157303370786515, 'indefinido': 0.0, 'execute': 0.0, 'pensar': 0.0007022471910112359, 'ponto': 0.0, 'coordenada': 0.002106741573033708, 'conter': 0.0, 'distância': 0.0007022471910112359, 'euclidiano': 0.0, 'série': 0.011235955056179775, 'pn': 0.0, 'n': 0.0, 'usaremos': 0.0, 'utilizarer': 0.0, 'capturar': 0.0, 'deixar': 0.0007022471910112359, 'limpo': 0.0, 'auxiliar': 0.0, 'distance': 0.0, 'disitância': 0.0, 'ficar': 0.0014044943820224719, 'lembrar': 0.0, 'passásser': 0.0, 'preocupar': 0.0, 'sempre': 0.0007022471910112359, 'interessar': 0.0007022471910112359, 'diferente': 0.002106741573033708, 'completo': 0.0, 'abreviação': 0.0, 'verificar': 0.0007022471910112359, 'comum': 0.0007022471910112359, 'entidade': 0.0, 'principal': 0.0, 'configuração': 0.0, 'especificação': 0.0, 'comportamento': 0.002106741573033708, 'tudo': 0.002106741573033708, 'claro': 0.0007022471910112359, 'desejar': 0.0014044943820224719, 'aqui': 0.0014044943820224719, 'falar': 0.0007022471910112359, 'coisa': 0.0, 'agora': 0.002106741573033708, 'exceptiom': 0.0, 'inteiro': 0.0, 'acarretar': 0.0, 'erro': 0.0, 'exception': 0.0, 'especificamente': 0.0, 'receberer': 0.0, 'typeerror': 0.0, 'unsupported': 0.0, 'operand': 0.0, 'type': 0.0, 's': 0.0, 'and': 0.0, 'levar': 0.0007022471910112359, 'interrupção': 0.0, 'execução': 0.0, 'exceção': 0.0, 'indicar': 0.002106741573033708, 'errar': 0.0, 'vários': 0.0, 'valueerror': 0.0, 'inváler': 0.0, 'tratar': 0.002106741573033708, 'modo': 0.0014044943820224719, 'ocorrer': 0.0014044943820224719, 'invés': 0.0, 'retorne': 0.0, 'mensagem': 0.0, 'favor': 0.0, 'digitar': 0.0, 'lado': 0.0, 'exceptions': 0.0, 'termine': 0.0, 'exemplificar': 0.0007022471910112359, 'brincar': 0.0, 'utilizaremo': 0.0, 'copiar': 0.0, 'consulta': 0.0, 'garantir': 0.0014044943820224719, 'satisfazer': 0.0, 'incentivar': 0.0, 'correr': 0.0, 'atrás': 0.0035112359550561797, 'listarar': 0.0, 'vir': 0.0007022471910112359, 'biblioteca': 0.0028089887640449437, 'panda': 0.0007022471910112359, 'numpy': 0.0, 'entender': 0.0007022471910112359, 'ciência': 0.0014044943820224719, 'aprendizar': 0.0007022471910112359, 'máquina': 0.0007022471910112359, 'partir': 0.0028089887640449437, 'próximo': 0.0014044943820224719, 'começarer': 0.0, 'direcionar': 0.0, 'foco': 0.0, 'direção': 0.0, 'siga': 0.0, 'página': 0.0, 'facebook': 0.0007022471910112359, 'ligar': 0.0, 'posts': 0.0007022471910112359, 'escrever': 0.0007022471910112359, 'kauã': 0.0007022471910112359, 'fillipe': 0.0007022471910112359, 'letícia': 0.0007022471910112359, 'falconer': 0.0007022471910112359, 'olá': 0.0007022471910112359, 'leitor': 0.0007022471910112359, 'turing': 0.002106741573033708, 'talks': 0.002106741573033708, 'hoje': 0.0028089887640449437, 'feature': 0.0056179775280898875, 'engineering': 0.0049157303370786515, 'temporal': 0.011938202247191011, 'assunto': 0.0007022471910112359, 'proposta': 0.0007022471910112359, 'processo': 0.004213483146067416, 'contexto': 0.0028089887640449437, 'primeiramente': 0.0014044943820224719, 'featur': 0.02247191011235955, 'relação': 0.004213483146067416, 'lá': 0.0007022471910112359, 'observação': 0.004213483146067416, 'relacionar': 0.0028089887640449437, 'disposto': 0.0014044943820224719, 'tempo': 0.014747191011235955, 'dataset': 0.011235955056179775, 'datasets': 0.0007022471910112359, 'repository': 0.0007022471910112359, 'fornecir': 0.0007022471910112359, 'jbrownlee': 0.0007022471910112359, 'ele': 0.002106741573033708, 'registro': 0.002106741573033708, 'passageiro': 0.006320224719101123, 'linha': 0.002106741573033708, 'aéreo': 0.0014044943820224719, 'mês': 0.008426966292134831, 'trabalhar': 0.0014044943820224719, 'costumar': 0.0007022471910112359, 'registrar': 0.0007022471910112359, 'periódico': 0.0007022471910112359, 'anteriormente': 0.002106741573033708, 'considerar': 0.002106741573033708, 'intervalo': 0.0007022471910112359, 'visualização': 0.002106741573033708, 'propósito': 0.0007022471910112359, 'servir': 0.0007022471910112359, 'seleção': 0.0007022471910112359, 'original': 0.0007022471910112359, 'datasetr': 0.0035112359550561797, 'transformação': 0.0007022471910112359, 'qual': 0.002106741573033708, 'simplificar': 0.0007022471910112359, 'melhorar': 0.0007022471910112359, 'acurácia': 0.0014044943820224719, 'modelo': 0.0035112359550561797, 'faltante': 0.002106741573033708, 'lidar': 0.0014044943820224719, 'manipulação': 0.0014044943820224719, 'coluna': 0.007724719101123595, 'aproveitamento': 0.0007022471910112359, 'vejamos': 0.0014044943820224719, 'climate': 0.0007022471910112359, 'change': 0.0007022471910112359, 'contém': 0.0007022471910112359, 'cidade': 0.0014044943820224719, 'afetar': 0.0007022471910112359, 'mudança': 0.0007022471910112359, 'climático': 0.0007022471910112359, 'dividir': 0.0014044943820224719, 'separadamente': 0.0014044943820224719, 'contudo': 0.0014044943820224719, 'informação': 0.004213483146067416, 'si': 0.0007022471910112359, 'representar': 0.002106741573033708, 'relacionarmo': 0.0007022471910112359, 'concatenarr': 0.0007022471910112359, 'verdade': 0.0007022471910112359, 'fácel': 0.0007022471910112359, 'interpretar': 0.0007022471910112359, 'abordagem': 0.004213483146067416, 'solucionar': 0.0007022471910112359, 'problema': 0.002106741573033708, 'coordenar': 0.0014044943820224719, 'polar': 0.0007022471910112359, 'inclinação': 0.0007022471910112359, 'grau': 0.0007022471910112359, 'inicial': 0.0007022471910112359, 'bem': 0.0014044943820224719, 'frente': 0.0007022471910112359, 'discutir': 0.0007022471910112359, 'aplicar': 0.0035112359550561797, 'ajudar': 0.0035112359550561797, 'poderoso': 0.0007022471910112359, 'previsão': 0.0035112359550561797, 'futuro': 0.002106741573033708, 'apesar': 0.0007022471910112359, 'beneficiem': 0.0007022471910112359, 'datetime': 0.0014044943820224719, 'lagtime': 0.0007022471910112359, 'window': 0.009129213483146067, 'fórmula': 0.0007022471910112359, 'digo': 0.0007022471910112359, 'chegar': 0.0014044943820224719, 'resultado': 0.0014044943820224719, 'esperar': 0.0028089887640449437, 'contrário': 0.0007022471910112359, 'noção': 0.0007022471910112359, 'final': 0.0007022471910112359, 'lever': 0.0007022471910112359, 'consideração': 0.0014044943820224719, 'específico': 0.0014044943820224719, 'conseguirr': 0.0007022471910112359, 'independente': 0.002106741573033708, 'seguramente': 0.0007022471910112359, 'respeito': 0.0007022471910112359, 'venda': 0.0014044943820224719, 'ingresso': 0.002106741573033708, 'cinema': 0.002106741573033708, 'observar': 0.0014044943820224719, 'filme': 0.0014044943820224719, 'desejamos': 0.0007022471910112359, 'prever': 0.002106741573033708, 'demanr': 0.0014044943820224719, 'compra': 0.0007022471910112359, 'diferentes': 0.0007022471910112359, 'localidade': 0.0007022471910112359, 'varer': 0.0007022471910112359, 'interessante': 0.0028089887640449437, 'analisarmos': 0.0014044943820224719, 'simultaneamente': 0.0007022471910112359, 'conhecer': 0.002106741573033708, 'histórico': 0.0007022471910112359, 'futuramente': 0.0007022471910112359, 'mentir': 0.0007022471910112359, 'tomar': 0.0014044943820224719, 'região': 0.0007022471910112359, 'clima': 0.0007022471910112359, 'feriado': 0.0007022471910112359, 'época': 0.0007022471910112359, 'influencir': 0.0007022471910112359, 'externo': 0.0007022471910112359, 'evitar': 0.0007022471910112359, 'poluir': 0.0007022471910112359, 'extraída': 0.0007022471910112359, 'carimbo': 0.0007022471910112359, 'horário': 0.0007022471910112359, 'dia': 0.0049157303370786515, 'etc': 0.0007022471910112359, 'determinar': 0.0028089887640449437, 'gerar': 0.0007022471910112359, 'insights': 0.0007022471910112359, 'análise': 0.0014044943820224719, 'datar': 0.0028089887640449437, 'hora': 0.0035112359550561797, 'time': 0.0035112359550561797, 'modelar': 0.0007022471910112359, 'dependência': 0.002106741573033708, 'evento': 0.0014044943820224719, 'extraem': 0.0007022471910112359, 'qualidade': 0.0007022471910112359, 'trabalha': 0.0007022471910112359, 'voltar': 0.0014044943820224719, 'extrair': 0.0014044943820224719, 'month': 0.0014044943820224719, 'formato': 0.0028089887640449437, 'timestamp': 0.0007022471910112359, 'dateformat': 0.0007022471910112359, 'panr': 0.0035112359550561797, 'obter': 0.0014044943820224719, 'splitr': 0.0007022471910112359, 'gráfico': 0.0035112359550561797, 'informer': 0.0007022471910112359, 'ferramentar': 0.0007022471910112359, 'padronizar': 0.0007022471910112359, 'grande': 0.004213483146067416, 'gama': 0.0007022471910112359, 'ferramenta': 0.0014044943820224719, 'auxílio': 0.0007022471910112359, 'biblioteco': 0.0007022471910112359, 'interativo': 0.0007022471910112359, 'plotly': 0.0014044943820224719, 'continuar': 0.0007022471910112359, 'fato': 0.0014044943820224719, 'alvo': 0.0028089887640449437, 'traçamos': 0.0007022471910112359, 'tendência': 0.0007022471910112359, 'através': 0.0014044943820224719, 'média': 0.0014044943820224719, 'móvel': 0.0014044943820224719, 'geral': 0.0007022471910112359, 'sazonalidade': 0.0007022471910112359, 'tal': 0.0007022471910112359, 'aumento': 0.002106741573033708, 'significativo': 0.0007022471910112359, 'julho': 0.0007022471910112359, 'agosto': 0.0007022471910112359, 'demais': 0.0007022471910112359, 'provavelmente': 0.0007022471910112359, 'contar': 0.0007022471910112359, 'período': 0.002106741573033708, 'férias': 0.0007022471910112359, 'valer': 0.0007022471910112359, 'mencionar': 0.0007022471910112359, 'técnica': 0.0007022471910112359, 'igualmente': 0.0007022471910112359, 'preço': 0.009831460674157303, 'emprês': 0.0007022471910112359, 'tecnologia': 0.0007022471910112359, 'diretamente': 0.0007022471910112359, 'timestampr': 0.0007022471910112359, 'quiséss': 0.0007022471910112359, 'caminho': 0.0007022471910112359, 'escolher': 0.002106741573033708, 'conferir': 0.0007022471910112359, 'aspecto': 0.0007022471910112359, 'sazonal': 0.0007022471910112359, 'distribuição': 0.0007022471910112359, 'trafegar': 0.0007022471910112359, 'companhia': 0.0007022471910112359, 'decorrer': 0.0007022471910112359, 'sucesso': 0.0007022471910112359, 'imagem': 0.002106741573033708, 'empresa': 0.004213483146067416, 'observer': 0.0014044943820224719, 'binário': 0.0007022471910112359, 'extraír': 0.0007022471910112359, 'estratégia': 0.0007022471910112359, 'cargo': 0.0007022471910112359, 'cientista': 0.0007022471910112359, 'decidir': 0.0007022471910112359, 'tópico': 0.0007022471910112359, 'lag': 0.011235955056179775, 'features': 0.0007022471910112359, 'utilizamos': 0.0007022471910112359, 'estudar': 0.002106741573033708, 'instante': 0.0035112359550561797, 'cenário': 0.0014044943820224719, 'tentar': 0.0007022471910112359, 'queda': 0.0007022471910112359, 'subido': 0.0007022471910112359, 'base': 0.002106741573033708, 'assumir': 0.0007022471910112359, 'serial': 0.0007022471910112359, 'predita': 0.0007022471910112359, 'utilizarr': 0.0007022471910112359, 'adotar': 0.002106741573033708, 'defasagem': 0.0056179775280898875, 'unidade': 0.0056179775280898875, 'referir': 0.0007022471910112359, 'respectivamente': 0.0007022471910112359, 'antes': 0.002106741573033708, 'nada': 0.0007022471910112359, 'decisão': 0.0007022471910112359, 'atraso': 0.0014044943820224719, 'autocorrelação': 0.0035112359550561797, 'l': 0.002106741573033708, 'correlação': 0.002106741573033708, 'par': 0.0007022471910112359, 'separar': 0.0007022471910112359, 'v': 0.0007022471910112359, 't': 0.0007022471910112359, 'medida': 0.0007022471910112359, 'ideia': 0.0007022471910112359, 'analisar': 0.0007022471910112359, 'acf': 0.0007022471910112359, 'representado': 0.0007022471910112359, 'graficamente': 0.0007022471910112359, 'correlograma': 0.0014044943820224719, 'mercado': 0.0007022471910112359, 'preste': 0.0007022471910112359, 'atenção': 0.0007022471910112359, 'lags': 0.0014044943820224719, 'citar': 0.0007022471910112359, 'shift': 0.0014044943820224719, 'tamanho': 0.0056179775280898875, 'amazon': 0.0007022471910112359, 'devido': 0.0007022471910112359, 'fizéssemos': 0.0007022471910112359, 'diante': 0.0007022471910112359, 'foquer': 0.0007022471910112359, 'netflix': 0.002106741573033708, 'supor': 0.0007022471910112359, 'predizer': 0.0014044943820224719, 'certeza': 0.0007022471910112359, 'segurança': 0.0007022471910112359, 'escolha': 0.0014044943820224719, 'statsmodels': 0.0007022471910112359, 'percebo': 0.0007022471910112359, 'decair': 0.0007022471910112359, 'lentamente': 0.0007022471910112359, 'distante': 0.0007022471910112359, 'sentido': 0.0007022471910112359, 'confirmar': 0.0007022471910112359, 'semelhante': 0.0007022471910112359, 'utiliza': 0.0014044943820224719, 'target': 0.0007022471910112359, 'intervalar': 0.0007022471910112359, 'momento': 0.0007022471910112359, 'atual': 0.0014044943820224719, 'resumo': 0.0007022471910112359, 'presente': 0.0007022471910112359, 'médio': 0.0028089887640449437, 'estatística': 0.002106741573033708, 'desejer': 0.0007022471910112359, 'janela': 0.007022471910112359, 'fixo': 0.002106741573033708, 'categorizar': 0.0007022471910112359, 'rolling': 0.0049157303370786515, 'expanding': 0.0035112359550561797, 'deslocar': 0.0007022471910112359, 'junto': 0.0007022471910112359, 'permanecer': 0.0007022471910112359, 'clarezar': 0.0007022471910112359, 'laranjo': 0.0007022471910112359, 'percorrer': 0.0007022471910112359, 'perceber': 0.0007022471910112359, 'encontrar': 0.0007022471910112359, 'nulo': 0.0007022471910112359, 'haver': 0.0007022471910112359, 'suficiente': 0.0007022471910112359, 'foto': 0.0007022471910112359, 'sum': 0.0007022471910112359, 'obtermos': 0.0007022471910112359, 'popularmente': 0.0007022471910112359, 'moving': 0.0007022471910112359, 'average': 0.0007022471910112359, 'mínimo': 0.0014044943820224719, 'laranja': 0.0007022471910112359, 'ramo': 0.0007022471910112359, 'preditivo': 0.0007022471910112359, 'essencial': 0.0007022471910112359, 'featurar': 0.0007022471910112359, 'manipular': 0.0007022471910112359, 'assegurar': 0.0007022471910112359, 'possua': 0.0007022471910112359, 'melhore': 0.0007022471910112359, 'performance': 0.0007022471910112359, 'algoritmo': 0.0007022471910112359, 'adaptar': 0.0007022471910112359, 'diverso': 0.0007022471910112359, 'usado': 0.0007022471910112359, 'criamos': 0.0007022471910112359, 'mapa': 0.0007022471910112359, 'mental': 0.0007022471910112359, 'relembrar': 0.0007022471910112359, 'teoria': 0.0007022471910112359, 'confundo': 0.0007022471910112359, 'métodos': 0.0007022471910112359, 'regrar': 0.0007022471910112359, 'tema': 0.0007022471910112359, 'modelagem': 0.0007022471910112359, 'recomendar': 0.0007022471910112359, 'encontre': 0.0007022471910112359, 'gostar': 0.0007022471910112359, 'obrigar': 0.0007022471910112359, 'pouco': 0.0007022471910112359, 'rede': 0.0007022471910112359, 'social': 0.0007022471910112359, 'instagr': 0.0007022471910112359, 'linkedin': 0.0007022471910112359, 'acompanhar': 0.0014044943820224719, 'medium': 0.0007022471910112359, 'perto': 0.0007022471910112359, 'participar': 0.0007022471910112359, 'discussão': 0.0007022471910112359, 'servidor': 0.0007022471910112359, 'discord': 0.0007022471910112359, 'abraço': 0.0007022471910112359}\n"
          ]
        }
      ]
    },
    {
      "cell_type": "code",
      "source": [
        "#Agora o cálculo do idf, o inverso da frequência nos documentos:\n",
        "import math\n",
        "def computaIDF(lista_de_docs):\n",
        "    idf_dic = {}\n",
        "    N = len(lista_de_docs)\n",
        "\n",
        "    for palavra in lista_de_docs[0]:\n",
        "        num_docs_aparece = 0\n",
        "        for doc in lista_de_docs:\n",
        "            if doc[palavra]>0:\n",
        "                num_docs_aparece += 1\n",
        "\n",
        "        idf_dic[palavra] = math.log10(N / (num_docs_aparece))\n",
        "\n",
        "    return (idf_dic)"
      ],
      "metadata": {
        "id": "jeP5WjINOSUe"
      },
      "execution_count": null,
      "outputs": []
    },
    {
      "cell_type": "code",
      "source": [
        "idf = computaIDF([d4_dic_cont, d106_dic_cont])\n",
        "print(idf)"
      ],
      "metadata": {
        "colab": {
          "base_uri": "https://localhost:8080/"
        },
        "id": "hFRy35PUOgh6",
        "outputId": "767c2f44-99a6-4a59-8350-8e34f30f1310"
      },
      "execution_count": null,
      "outputs": [
        {
          "output_type": "stream",
          "name": "stdout",
          "text": [
            "{'semana': 0.0, 'passado': 0.0, 'passar': 0.0, 'básico': 0.0, 'linguagem': 0.3010299956639812, 'programação': 0.3010299956639812, 'python': 0.0, 'introduzimo': 0.3010299956639812, 'conceito': 0.0, 'variável': 0.0, 'atribuição': 0.3010299956639812, 'operação': 0.3010299956639812, 'assim': 0.0, 'print': 0.3010299956639812, 'input': 0.3010299956639812, 'lista': 0.3010299956639812, 'em': 0.0, 'este': 0.0, 'objetivo': 0.0, 'terminar': 0.3010299956639812, 'introdução': 0.0, 'introduzir': 0.0, 'loop': 0.3010299956639812, 'função': 0.0, 'poder': 0.0, 'então': 0.0, 'utilizar': 0.0, 'novo': 0.0, 'conhecimento': 0.3010299956639812, 'explorar': 0.3010299956639812, 'área': 0.0, 'data': 0.0, 'science': 0.3010299956639812, 'machine': 0.3010299956639812, 'learning': 0.3010299956639812, 'existir': 0.0, 'range': 0.3010299956639812, 'b': 0.3010299956639812, 'c': 0.3010299956639812, 'criar': 0.0, 'sequência': 0.0, 'número': 0.0, 'ser': 0.0, 'apenas': 0.0, 'necessário': 0.0, 'identificar': 0.0, 'início': 0.0, 'fim': 0.3010299956639812, 'passo': 0.0, 'começar': 0.0, 'aumentar': 0.3010299956639812, 'atingir': 0.3010299956639812, 'note': 0.0, 'incluir': 0.0, 'diferença': 0.3010299956639812, 'consecutivo': 0.3010299956639812, 'esse': 0.0, 'exemplo': 0.0, 'formalmente': 0.3010299956639812, 'definida': 0.3010299956639812, 'seguinte': 0.0, 'maneira': 0.0, 'saber': 0.0, 'colocar': 0.0, 'dois': 0.0, 'termo': 0.3010299956639812, 'rangir': 0.3010299956639812, 'fará': 0.3010299956639812, 'automaticamente': 0.3010299956639812, 'igual': 0.3010299956639812, 'bom': 0.0, 'dar': 0.0, 'fazer': 0.0, 'zero': 0.0, 'comprimento': 0.3010299956639812, 'valor': 0.0, 'comportar': 0.3010299956639812, 'listar': 0.3010299956639812, 'algum': 0.0, 'adicionar': 0.3010299956639812, 'usar': 0.0, 'transformar': 0.0, 'bastar': 0.0, 'list': 0.3010299956639812, 'vez': 0.0, 'realizar': 0.0, 'diversos': 0.0, 'repetitivo': 0.3010299956639812, 'imprimir': 0.3010299956639812, 'tipo': 0.0, 'tarefa': 0.0, 'executar': 0.3010299956639812, 'meio': 0.0, 'while': 0.3010299956639812, 'repetir': 0.3010299956639812, 'bloco': 0.3010299956639812, 'código': 0.0, 'enquanto': 0.3010299956639812, 'condição': 0.3010299956639812, 'verdadeiro': 0.3010299956639812, 'todo': 0.0, 'elemento': 0.3010299956639812, 'ordem': 0.3010299956639812, 'aparecer': 0.3010299956639812, 'abaixo': 0.0, 'dentro': 0.0, 'cada': 0.0, 'iterar': 0.3010299956639812, 'caso': 0.0, 'modificar': 0.3010299956639812, 'sobre': 0.0, 'cópia': 0.3010299956639812, 'notação': 0.3010299956639812, 'ver': 0.0, 'acima': 0.0, 'dicionário': 0.3010299956639812, 'outro': 0.0, 'estrutura': 0.0, 'nativo': 0.3010299956639812, 'pythonr': 0.3010299956639812, 'basicamente': 0.3010299956639812, 'compor': 0.3010299956639812, 'possuir': 0.0, 'componente': 0.3010299956639812, 'chave': 0.3010299956639812, 'implementação': 0.3010299956639812, 'hash': 0.3010299956639812, 'tables': 0.3010299956639812, 'extremamente': 0.0, 'úteis': 0.0, 'aplicação': 0.0, 'dicionario': 0.3010299956639812, 'keyn': 0.3010299956639812, 'valuen': 0.3010299956639812, 'vazio': 0.3010299956639812, 'mostrar': 0.3010299956639812, 'acessar': 0.3010299956639812, 'sintaxe': 0.3010299956639812, 'parecir': 0.3010299956639812, 'colchete': 0.3010299956639812, 'entretanto': 0.3010299956639812, 'ir': 0.0, 'índice': 0.3010299956639812, 'sim': 0.0, 'além': 0.0, 'de': 0.0, 'isso': 0.0, 'método': 0.0, 'keys': 0.3010299956639812, 'retornar': 0.0, 'iterador': 0.3010299956639812, 'respectivo': 0.3010299956639812, 'simplesmente': 0.3010299956639812, 'objeto': 0.0, 'tupla': 0.3010299956639812, 'explicar': 0.0, 'adiante': 0.0, 'anterior': 0.0, 'demonstrar': 0.0, 'funcionalidade': 0.3010299956639812, 'algo': 0.0, 'ainda': 0.0, 'format': 0.3010299956639812, 'útil': 0.0, 'formatar': 0.3010299956639812, 'strings': 0.3010299956639812, 'texto': 0.0, 'funcionar': 0.3010299956639812, 'criarmos': 0.3010299956639812, 'string': 0.0, 'colocamos': 0.3010299956639812, 'chaves': 0.3010299956639812, 'substitúir': 0.3010299956639812, 'substituir': 0.3010299956639812, 'querer': 0.0, 'efetivamente': 0.3010299956639812, 'substituirmos': 0.3010299956639812, 'bastante': 0.0, 'aplicarr': 0.3010299956639812, 'referenciarr': 0.3010299956639812, 'argumento': 0.0, 'poderíar': 0.0, 'guardar': 0.3010299956639812, 'música': 0.3010299956639812, 'nome': 0.0, 'banda': 0.3010299956639812, 'ano': 0.0, 'cair': 0.3010299956639812, 'luva': 0.3010299956639812, 'pois': 0.0, 'facilitar': 0.3010299956639812, 'leitura': 0.0, 'intuitivo': 0.3010299956639812, 'prático': 0.3010299956639812, 'recuperarmo': 0.3010299956639812, 'dado': 0.0, 'guardado': 0.3010299956639812, 'facilmente': 0.3010299956639812, 'construir': 0.0, 'conjunto': 0.0, 'criatividade': 0.3010299956639812, 'mixe': 0.3010299956639812, 'forma': 0.0, 'acessados': 0.3010299956639812, 'eficiente': 0.3010299956639812, 'entendimento': 0.0, 'programador': 0.3010299956639812, 'clareza': 0.0, 'importante': 0.0, 'procure': 0.3010299956639812, 'code': 0.3010299956639812, 'readability': 0.3010299956639812, 'ótimo': 0.3010299956639812, 'armazenar': 0.3010299956639812, 'json': 0.3010299956639812, 'envio': 0.3010299956639812, 'recebimento': 0.3010299956639812, 'último': 0.3010299956639812, 'apresentar': 0.3010299956639812, 'tutorial': 0.3010299956639812, 'listo': 0.3010299956639812, 'porém': 0.3010299956639812, 'imutável': 0.3010299956639812, 'visualmente': 0.3010299956639812, 'único': 0.0, 'parêntese': 0.3010299956639812, 'disser': 0.3010299956639812, 'dizer': 0.0, 'alterar': 0.3010299956639812, 'possível': 0.0, 'remover': 0.3010299956639812, 'rígir': 0.3010299956639812, 'seguro': 0.3010299956639812, 'cujo': 0.3010299956639812, 'dever': 0.0, 'manter': 0.3010299956639812, 'inalterado': 0.3010299956639812, 'longo': 0.0, 'andamento': 0.3010299956639812, 'programa': 0.3010299956639812, 'funcionamento': 0.3010299956639812, 'args': 0.3010299956639812, 'breve': 0.0, 'criação': 0.3010299956639812, 'seguir': 0.0, 'tentativo': 0.3010299956639812, 'organizar': 0.3010299956639812, 'reutilizável': 0.3010299956639812, 'certo': 0.3010299956639812, 'ação': 0.0, 'primeiro': 0.0, 'usarer': 0.3010299956639812, 'posicional': 0.3010299956639812, 'portanto': 0.0, 'ordir': 0.3010299956639812, 'parâmetro': 0.3010299956639812, 'inserir': 0.3010299956639812, 'mesmo': 0.3010299956639812, 'declarar': 0.3010299956639812, 'após': 0.3010299956639812, 'informar': 0.0, 'expressão': 0.3010299956639812, 'return': 0.3010299956639812, 'veja': 0.3010299956639812, 'printar': 0.3010299956639812, 'somar': 0.0, 'referência': 0.3010299956639812, 'mudar': 0.3010299956639812, 'mudanço': 0.3010299956639812, 'reflete': 0.3010299956639812, 'chamar': 0.0, 'mantive': 0.3010299956639812, 'anexar': 0.3010299956639812, 'produzir': 0.3010299956639812, 'resultar': 0.3010299956639812, 'correto': 0.0, 'definição': 0.3010299956639812, 'novamente': 0.0, 'utiliznar': 0.3010299956639812, 'pŕoxima': 0.3010299956639812, 'parte': 0.3010299956639812, 'explicarer': 0.3010299956639812, 'disponível': 0.0, 'localização': 0.3010299956639812, 'depender': 0.0, 'onde': 0.0, 'declarada': 0.3010299956639812, 'local': 0.3010299956639812, 'global': 0.3010299956639812, 'definer': 0.3010299956639812, 'escopo': 0.3010299956639812, 'acessada': 0.3010299956639812, 'referenciada': 0.3010299956639812, 'qualquer': 0.0, 'três': 0.3010299956639812, 'padrão': 0.3010299956639812, 'kwargs': 0.3010299956639812, 'opcional': 0.3010299956639812, 'ter': 0.0, 'padr': 0.3010299956639812, 'calcular': 0.0, 'peso': 0.3010299956639812, 'massa': 0.3010299956639812, 'aceleração': 0.3010299956639812, 'gravidade': 0.3010299956639812, 'aproximadamente': 0.3010299956639812, 'terra': 0.3010299956639812, 'aceleraçãor': 0.3010299956639812, 'conforme': 0.0, 'latitude': 0.0, 'longitude': 0.0, 'alturo': 0.3010299956639812, 'pequeno': 0.0, 'variação': 0.3010299956639812, 'darer': 0.3010299956639812, 'usuário': 0.3010299956639812, 'liberdade': 0.3010299956639812, 'definir': 0.0, 'próprio': 0.0, 'julgar': 0.3010299956639812, 'precisar': 0.0, 'situação': 0.3010299956639812, 'receber': 0.3010299956639812, 'g': 0.3010299956639812, 'tanto': 0.3010299956639812, 'quanto': 0.0, 'nomear': 0.3010299956639812, 'permitir': 0.0, 'passe': 0.3010299956639812, 'indefinir': 0.3010299956639812, 'termos': 0.3010299956639812, 'exatamente': 0.3010299956639812, 'ela': 0.3010299956639812, 'procedimento': 0.3010299956639812, 'imagine': 0.3010299956639812, 'receb': 0.3010299956639812, 'quantidade': 0.0, 'indefinido': 0.3010299956639812, 'execute': 0.3010299956639812, 'pensar': 0.0, 'ponto': 0.3010299956639812, 'coordenada': 0.0, 'conter': 0.3010299956639812, 'distância': 0.0, 'euclidiano': 0.3010299956639812, 'série': 0.0, 'pn': 0.3010299956639812, 'n': 0.3010299956639812, 'usaremos': 0.3010299956639812, 'utilizarer': 0.3010299956639812, 'capturar': 0.3010299956639812, 'deixar': 0.0, 'limpo': 0.3010299956639812, 'auxiliar': 0.3010299956639812, 'distance': 0.3010299956639812, 'disitância': 0.3010299956639812, 'ficar': 0.0, 'lembrar': 0.3010299956639812, 'passásser': 0.3010299956639812, 'preocupar': 0.3010299956639812, 'sempre': 0.0, 'interessar': 0.0, 'diferente': 0.0, 'completo': 0.3010299956639812, 'abreviação': 0.3010299956639812, 'verificar': 0.0, 'comum': 0.0, 'entidade': 0.3010299956639812, 'principal': 0.3010299956639812, 'configuração': 0.3010299956639812, 'especificação': 0.3010299956639812, 'comportamento': 0.0, 'tudo': 0.0, 'claro': 0.0, 'desejar': 0.0, 'aqui': 0.0, 'falar': 0.0, 'coisa': 0.3010299956639812, 'agora': 0.0, 'exceptiom': 0.3010299956639812, 'inteiro': 0.3010299956639812, 'acarretar': 0.3010299956639812, 'erro': 0.3010299956639812, 'exception': 0.3010299956639812, 'especificamente': 0.3010299956639812, 'receberer': 0.3010299956639812, 'typeerror': 0.3010299956639812, 'unsupported': 0.3010299956639812, 'operand': 0.3010299956639812, 'type': 0.3010299956639812, 's': 0.3010299956639812, 'and': 0.3010299956639812, 'levar': 0.0, 'interrupção': 0.3010299956639812, 'execução': 0.3010299956639812, 'exceção': 0.3010299956639812, 'indicar': 0.0, 'errar': 0.3010299956639812, 'vários': 0.3010299956639812, 'valueerror': 0.3010299956639812, 'inváler': 0.3010299956639812, 'tratar': 0.0, 'modo': 0.0, 'ocorrer': 0.0, 'invés': 0.3010299956639812, 'retorne': 0.3010299956639812, 'mensagem': 0.3010299956639812, 'favor': 0.3010299956639812, 'digitar': 0.3010299956639812, 'lado': 0.3010299956639812, 'exceptions': 0.3010299956639812, 'termine': 0.3010299956639812, 'exemplificar': 0.0, 'brincar': 0.3010299956639812, 'utilizaremo': 0.3010299956639812, 'copiar': 0.3010299956639812, 'consulta': 0.3010299956639812, 'garantir': 0.0, 'satisfazer': 0.3010299956639812, 'incentivar': 0.3010299956639812, 'correr': 0.3010299956639812, 'atrás': 0.0, 'listarar': 0.3010299956639812, 'vir': 0.0, 'biblioteca': 0.0, 'panda': 0.0, 'numpy': 0.3010299956639812, 'entender': 0.0, 'ciência': 0.0, 'aprendizar': 0.0, 'máquina': 0.0, 'partir': 0.0, 'próximo': 0.0, 'começarer': 0.3010299956639812, 'direcionar': 0.3010299956639812, 'foco': 0.3010299956639812, 'direção': 0.3010299956639812, 'siga': 0.3010299956639812, 'página': 0.3010299956639812, 'facebook': 0.0, 'ligar': 0.3010299956639812, 'posts': 0.0, 'escrever': 0.3010299956639812, 'kauã': 0.3010299956639812, 'fillipe': 0.3010299956639812, 'letícia': 0.3010299956639812, 'falconer': 0.3010299956639812, 'olá': 0.3010299956639812, 'leitor': 0.3010299956639812, 'turing': 0.3010299956639812, 'talks': 0.3010299956639812, 'hoje': 0.3010299956639812, 'feature': 0.3010299956639812, 'engineering': 0.3010299956639812, 'temporal': 0.3010299956639812, 'assunto': 0.3010299956639812, 'proposta': 0.3010299956639812, 'processo': 0.3010299956639812, 'contexto': 0.3010299956639812, 'primeiramente': 0.3010299956639812, 'featur': 0.3010299956639812, 'relação': 0.3010299956639812, 'lá': 0.3010299956639812, 'observação': 0.3010299956639812, 'relacionar': 0.3010299956639812, 'disposto': 0.3010299956639812, 'tempo': 0.3010299956639812, 'dataset': 0.3010299956639812, 'datasets': 0.3010299956639812, 'repository': 0.3010299956639812, 'fornecir': 0.3010299956639812, 'jbrownlee': 0.3010299956639812, 'ele': 0.3010299956639812, 'registro': 0.3010299956639812, 'passageiro': 0.3010299956639812, 'linha': 0.3010299956639812, 'aéreo': 0.3010299956639812, 'mês': 0.3010299956639812, 'trabalhar': 0.3010299956639812, 'costumar': 0.3010299956639812, 'registrar': 0.3010299956639812, 'periódico': 0.3010299956639812, 'anteriormente': 0.3010299956639812, 'considerar': 0.3010299956639812, 'intervalo': 0.3010299956639812, 'visualização': 0.3010299956639812, 'propósito': 0.3010299956639812, 'servir': 0.3010299956639812, 'seleção': 0.3010299956639812, 'original': 0.3010299956639812, 'datasetr': 0.3010299956639812, 'transformação': 0.3010299956639812, 'qual': 0.3010299956639812, 'simplificar': 0.3010299956639812, 'melhorar': 0.3010299956639812, 'acurácia': 0.3010299956639812, 'modelo': 0.3010299956639812, 'faltante': 0.3010299956639812, 'lidar': 0.3010299956639812, 'manipulação': 0.3010299956639812, 'coluna': 0.3010299956639812, 'aproveitamento': 0.3010299956639812, 'vejamos': 0.3010299956639812, 'climate': 0.3010299956639812, 'change': 0.3010299956639812, 'contém': 0.3010299956639812, 'cidade': 0.3010299956639812, 'afetar': 0.3010299956639812, 'mudança': 0.3010299956639812, 'climático': 0.3010299956639812, 'dividir': 0.3010299956639812, 'separadamente': 0.3010299956639812, 'contudo': 0.3010299956639812, 'informação': 0.3010299956639812, 'si': 0.3010299956639812, 'representar': 0.3010299956639812, 'relacionarmo': 0.3010299956639812, 'concatenarr': 0.3010299956639812, 'verdade': 0.3010299956639812, 'fácel': 0.3010299956639812, 'interpretar': 0.3010299956639812, 'abordagem': 0.3010299956639812, 'solucionar': 0.3010299956639812, 'problema': 0.3010299956639812, 'coordenar': 0.3010299956639812, 'polar': 0.3010299956639812, 'inclinação': 0.3010299956639812, 'grau': 0.3010299956639812, 'inicial': 0.3010299956639812, 'bem': 0.3010299956639812, 'frente': 0.3010299956639812, 'discutir': 0.3010299956639812, 'aplicar': 0.3010299956639812, 'ajudar': 0.3010299956639812, 'poderoso': 0.3010299956639812, 'previsão': 0.3010299956639812, 'futuro': 0.3010299956639812, 'apesar': 0.3010299956639812, 'beneficiem': 0.3010299956639812, 'datetime': 0.3010299956639812, 'lagtime': 0.3010299956639812, 'window': 0.3010299956639812, 'fórmula': 0.3010299956639812, 'digo': 0.3010299956639812, 'chegar': 0.3010299956639812, 'resultado': 0.3010299956639812, 'esperar': 0.3010299956639812, 'contrário': 0.3010299956639812, 'noção': 0.3010299956639812, 'final': 0.3010299956639812, 'lever': 0.3010299956639812, 'consideração': 0.3010299956639812, 'específico': 0.3010299956639812, 'conseguirr': 0.3010299956639812, 'independente': 0.3010299956639812, 'seguramente': 0.3010299956639812, 'respeito': 0.3010299956639812, 'venda': 0.3010299956639812, 'ingresso': 0.3010299956639812, 'cinema': 0.3010299956639812, 'observar': 0.3010299956639812, 'filme': 0.3010299956639812, 'desejamos': 0.3010299956639812, 'prever': 0.3010299956639812, 'demanr': 0.3010299956639812, 'compra': 0.3010299956639812, 'diferentes': 0.3010299956639812, 'localidade': 0.3010299956639812, 'varer': 0.3010299956639812, 'interessante': 0.3010299956639812, 'analisarmos': 0.3010299956639812, 'simultaneamente': 0.3010299956639812, 'conhecer': 0.3010299956639812, 'histórico': 0.3010299956639812, 'futuramente': 0.3010299956639812, 'mentir': 0.3010299956639812, 'tomar': 0.3010299956639812, 'região': 0.3010299956639812, 'clima': 0.3010299956639812, 'feriado': 0.3010299956639812, 'época': 0.3010299956639812, 'influencir': 0.3010299956639812, 'externo': 0.3010299956639812, 'evitar': 0.3010299956639812, 'poluir': 0.3010299956639812, 'extraída': 0.3010299956639812, 'carimbo': 0.3010299956639812, 'horário': 0.3010299956639812, 'dia': 0.3010299956639812, 'etc': 0.3010299956639812, 'determinar': 0.3010299956639812, 'gerar': 0.3010299956639812, 'insights': 0.3010299956639812, 'análise': 0.3010299956639812, 'datar': 0.3010299956639812, 'hora': 0.3010299956639812, 'time': 0.3010299956639812, 'modelar': 0.3010299956639812, 'dependência': 0.3010299956639812, 'evento': 0.3010299956639812, 'extraem': 0.3010299956639812, 'qualidade': 0.3010299956639812, 'trabalha': 0.3010299956639812, 'voltar': 0.3010299956639812, 'extrair': 0.3010299956639812, 'month': 0.3010299956639812, 'formato': 0.3010299956639812, 'timestamp': 0.3010299956639812, 'dateformat': 0.3010299956639812, 'panr': 0.3010299956639812, 'obter': 0.3010299956639812, 'splitr': 0.3010299956639812, 'gráfico': 0.3010299956639812, 'informer': 0.3010299956639812, 'ferramentar': 0.3010299956639812, 'padronizar': 0.3010299956639812, 'grande': 0.3010299956639812, 'gama': 0.3010299956639812, 'ferramenta': 0.3010299956639812, 'auxílio': 0.3010299956639812, 'biblioteco': 0.3010299956639812, 'interativo': 0.3010299956639812, 'plotly': 0.3010299956639812, 'continuar': 0.3010299956639812, 'fato': 0.3010299956639812, 'alvo': 0.3010299956639812, 'traçamos': 0.3010299956639812, 'tendência': 0.3010299956639812, 'através': 0.3010299956639812, 'média': 0.3010299956639812, 'móvel': 0.3010299956639812, 'geral': 0.3010299956639812, 'sazonalidade': 0.3010299956639812, 'tal': 0.3010299956639812, 'aumento': 0.3010299956639812, 'significativo': 0.3010299956639812, 'julho': 0.3010299956639812, 'agosto': 0.3010299956639812, 'demais': 0.3010299956639812, 'provavelmente': 0.3010299956639812, 'contar': 0.3010299956639812, 'período': 0.3010299956639812, 'férias': 0.3010299956639812, 'valer': 0.3010299956639812, 'mencionar': 0.3010299956639812, 'técnica': 0.3010299956639812, 'igualmente': 0.3010299956639812, 'preço': 0.3010299956639812, 'emprês': 0.3010299956639812, 'tecnologia': 0.3010299956639812, 'diretamente': 0.3010299956639812, 'timestampr': 0.3010299956639812, 'quiséss': 0.3010299956639812, 'caminho': 0.3010299956639812, 'escolher': 0.3010299956639812, 'conferir': 0.3010299956639812, 'aspecto': 0.3010299956639812, 'sazonal': 0.3010299956639812, 'distribuição': 0.3010299956639812, 'trafegar': 0.3010299956639812, 'companhia': 0.3010299956639812, 'decorrer': 0.3010299956639812, 'sucesso': 0.3010299956639812, 'imagem': 0.3010299956639812, 'empresa': 0.3010299956639812, 'observer': 0.3010299956639812, 'binário': 0.3010299956639812, 'extraír': 0.3010299956639812, 'estratégia': 0.3010299956639812, 'cargo': 0.3010299956639812, 'cientista': 0.3010299956639812, 'decidir': 0.3010299956639812, 'tópico': 0.3010299956639812, 'lag': 0.3010299956639812, 'features': 0.3010299956639812, 'utilizamos': 0.3010299956639812, 'estudar': 0.3010299956639812, 'instante': 0.3010299956639812, 'cenário': 0.3010299956639812, 'tentar': 0.3010299956639812, 'queda': 0.3010299956639812, 'subido': 0.3010299956639812, 'base': 0.3010299956639812, 'assumir': 0.3010299956639812, 'serial': 0.3010299956639812, 'predita': 0.3010299956639812, 'utilizarr': 0.3010299956639812, 'adotar': 0.3010299956639812, 'defasagem': 0.3010299956639812, 'unidade': 0.3010299956639812, 'referir': 0.3010299956639812, 'respectivamente': 0.3010299956639812, 'antes': 0.3010299956639812, 'nada': 0.3010299956639812, 'decisão': 0.3010299956639812, 'atraso': 0.3010299956639812, 'autocorrelação': 0.3010299956639812, 'l': 0.3010299956639812, 'correlação': 0.3010299956639812, 'par': 0.3010299956639812, 'separar': 0.3010299956639812, 'v': 0.3010299956639812, 't': 0.3010299956639812, 'medida': 0.3010299956639812, 'ideia': 0.3010299956639812, 'analisar': 0.3010299956639812, 'acf': 0.3010299956639812, 'representado': 0.3010299956639812, 'graficamente': 0.3010299956639812, 'correlograma': 0.3010299956639812, 'mercado': 0.3010299956639812, 'preste': 0.3010299956639812, 'atenção': 0.3010299956639812, 'lags': 0.3010299956639812, 'citar': 0.3010299956639812, 'shift': 0.3010299956639812, 'tamanho': 0.3010299956639812, 'amazon': 0.3010299956639812, 'devido': 0.3010299956639812, 'fizéssemos': 0.3010299956639812, 'diante': 0.3010299956639812, 'foquer': 0.3010299956639812, 'netflix': 0.3010299956639812, 'supor': 0.3010299956639812, 'predizer': 0.3010299956639812, 'certeza': 0.3010299956639812, 'segurança': 0.3010299956639812, 'escolha': 0.3010299956639812, 'statsmodels': 0.3010299956639812, 'percebo': 0.3010299956639812, 'decair': 0.3010299956639812, 'lentamente': 0.3010299956639812, 'distante': 0.3010299956639812, 'sentido': 0.3010299956639812, 'confirmar': 0.3010299956639812, 'semelhante': 0.3010299956639812, 'utiliza': 0.3010299956639812, 'target': 0.3010299956639812, 'intervalar': 0.3010299956639812, 'momento': 0.3010299956639812, 'atual': 0.3010299956639812, 'resumo': 0.3010299956639812, 'presente': 0.3010299956639812, 'médio': 0.3010299956639812, 'estatística': 0.3010299956639812, 'desejer': 0.3010299956639812, 'janela': 0.3010299956639812, 'fixo': 0.3010299956639812, 'categorizar': 0.3010299956639812, 'rolling': 0.3010299956639812, 'expanding': 0.3010299956639812, 'deslocar': 0.3010299956639812, 'junto': 0.3010299956639812, 'permanecer': 0.3010299956639812, 'clarezar': 0.3010299956639812, 'laranjo': 0.3010299956639812, 'percorrer': 0.3010299956639812, 'perceber': 0.3010299956639812, 'encontrar': 0.3010299956639812, 'nulo': 0.3010299956639812, 'haver': 0.3010299956639812, 'suficiente': 0.3010299956639812, 'foto': 0.3010299956639812, 'sum': 0.3010299956639812, 'obtermos': 0.3010299956639812, 'popularmente': 0.3010299956639812, 'moving': 0.3010299956639812, 'average': 0.3010299956639812, 'mínimo': 0.3010299956639812, 'laranja': 0.3010299956639812, 'ramo': 0.3010299956639812, 'preditivo': 0.3010299956639812, 'essencial': 0.3010299956639812, 'featurar': 0.3010299956639812, 'manipular': 0.3010299956639812, 'assegurar': 0.3010299956639812, 'possua': 0.3010299956639812, 'melhore': 0.3010299956639812, 'performance': 0.3010299956639812, 'algoritmo': 0.3010299956639812, 'adaptar': 0.3010299956639812, 'diverso': 0.3010299956639812, 'usado': 0.3010299956639812, 'criamos': 0.3010299956639812, 'mapa': 0.3010299956639812, 'mental': 0.3010299956639812, 'relembrar': 0.3010299956639812, 'teoria': 0.3010299956639812, 'confundo': 0.3010299956639812, 'métodos': 0.3010299956639812, 'regrar': 0.3010299956639812, 'tema': 0.3010299956639812, 'modelagem': 0.3010299956639812, 'recomendar': 0.3010299956639812, 'encontre': 0.3010299956639812, 'gostar': 0.3010299956639812, 'obrigar': 0.3010299956639812, 'pouco': 0.3010299956639812, 'rede': 0.3010299956639812, 'social': 0.3010299956639812, 'instagr': 0.3010299956639812, 'linkedin': 0.3010299956639812, 'acompanhar': 0.3010299956639812, 'medium': 0.3010299956639812, 'perto': 0.3010299956639812, 'participar': 0.3010299956639812, 'discussão': 0.3010299956639812, 'servidor': 0.3010299956639812, 'discord': 0.3010299956639812, 'abraço': 0.3010299956639812}\n"
          ]
        }
      ]
    },
    {
      "cell_type": "code",
      "source": [
        "#agora a junção de tf com idf para a vetorização desejada:\n",
        "def computaTFIDF(tf_bow, idfs):\n",
        "    tfidf = {}\n",
        "\n",
        "    for palavra in tf_bow:\n",
        "        tf = tf_bow[palavra]\n",
        "        idf = idfs[palavra]\n",
        "        tfidf[palavra] = tf*idf\n",
        "\n",
        "    return(tfidf)"
      ],
      "metadata": {
        "id": "wgX35xZdOtlP"
      },
      "execution_count": null,
      "outputs": []
    },
    {
      "cell_type": "code",
      "source": [
        "d4_tfidf = computaTFIDF(d4_tf_bow, idf)\n",
        "d106_tfidf = computaTFIDF(d106_tf_bow, idf)"
      ],
      "metadata": {
        "id": "b72EMeAEO1nz"
      },
      "execution_count": null,
      "outputs": []
    },
    {
      "cell_type": "code",
      "source": [
        "d4_tfidf"
      ],
      "metadata": {
        "colab": {
          "base_uri": "https://localhost:8080/"
        },
        "id": "44Wyu2JQPHR0",
        "outputId": "96ad4a75-a746-4516-962e-ddb10afd0c3a"
      },
      "execution_count": null,
      "outputs": [
        {
          "output_type": "execute_result",
          "data": {
            "text/plain": [
              "{'semana': 0.0,\n",
              " 'passado': 0.0,\n",
              " 'passar': 0.0,\n",
              " 'básico': 0.0,\n",
              " 'linguagem': 0.000269982058891463,\n",
              " 'programação': 0.000269982058891463,\n",
              " 'python': 0.0,\n",
              " 'introduzimo': 0.000269982058891463,\n",
              " 'conceito': 0.0,\n",
              " 'variável': 0.0,\n",
              " 'atribuição': 0.000269982058891463,\n",
              " 'operação': 0.000539964117782926,\n",
              " 'assim': 0.0,\n",
              " 'print': 0.000269982058891463,\n",
              " 'input': 0.000269982058891463,\n",
              " 'lista': 0.0029698026478060923,\n",
              " 'em': 0.0,\n",
              " 'este': 0.0,\n",
              " 'objetivo': 0.0,\n",
              " 'terminar': 0.000539964117782926,\n",
              " 'introdução': 0.0,\n",
              " 'introduzir': 0.0,\n",
              " 'loop': 0.001619892353348778,\n",
              " 'função': 0.0,\n",
              " 'poder': 0.0,\n",
              " 'então': 0.0,\n",
              " 'utilizar': 0.0,\n",
              " 'novo': 0.0,\n",
              " 'conhecimento': 0.000539964117782926,\n",
              " 'explorar': 0.000269982058891463,\n",
              " 'área': 0.0,\n",
              " 'data': 0.0,\n",
              " 'science': 0.000269982058891463,\n",
              " 'machine': 0.000269982058891463,\n",
              " 'learning': 0.000269982058891463,\n",
              " 'existir': 0.0,\n",
              " 'range': 0.0035097667655890185,\n",
              " 'b': 0.0024298385300231666,\n",
              " 'c': 0.001619892353348778,\n",
              " 'criar': 0.0,\n",
              " 'sequência': 0.0,\n",
              " 'número': 0.0,\n",
              " 'ser': 0.0,\n",
              " 'apenas': 0.0,\n",
              " 'necessário': 0.0,\n",
              " 'identificar': 0.0,\n",
              " 'início': 0.0,\n",
              " 'fim': 0.001079928235565852,\n",
              " 'passo': 0.0,\n",
              " 'começar': 0.0,\n",
              " 'aumentar': 0.000269982058891463,\n",
              " 'atingir': 0.000269982058891463,\n",
              " 'note': 0.0,\n",
              " 'incluir': 0.0,\n",
              " 'diferença': 0.000809946176674389,\n",
              " 'consecutivo': 0.000539964117782926,\n",
              " 'esse': 0.0,\n",
              " 'exemplo': 0.0,\n",
              " 'formalmente': 0.000269982058891463,\n",
              " 'definida': 0.000269982058891463,\n",
              " 'seguinte': 0.0,\n",
              " 'maneira': 0.0,\n",
              " 'saber': 0.0,\n",
              " 'colocar': 0.0,\n",
              " 'dois': 0.0,\n",
              " 'termo': 0.000269982058891463,\n",
              " 'rangir': 0.000269982058891463,\n",
              " 'fará': 0.000269982058891463,\n",
              " 'automaticamente': 0.000269982058891463,\n",
              " 'igual': 0.001079928235565852,\n",
              " 'bom': 0.0,\n",
              " 'dar': 0.0,\n",
              " 'fazer': 0.0,\n",
              " 'zero': 0.0,\n",
              " 'comprimento': 0.000269982058891463,\n",
              " 'valor': 0.0,\n",
              " 'comportar': 0.000269982058891463,\n",
              " 'listar': 0.001079928235565852,\n",
              " 'algum': 0.0,\n",
              " 'adicionar': 0.000539964117782926,\n",
              " 'usar': 0.0,\n",
              " 'transformar': 0.0,\n",
              " 'bastar': 0.0,\n",
              " 'list': 0.000269982058891463,\n",
              " 'vez': 0.0,\n",
              " 'realizar': 0.0,\n",
              " 'diversos': 0.0,\n",
              " 'repetitivo': 0.000269982058891463,\n",
              " 'imprimir': 0.000269982058891463,\n",
              " 'tipo': 0.0,\n",
              " 'tarefa': 0.0,\n",
              " 'executar': 0.000809946176674389,\n",
              " 'meio': 0.0,\n",
              " 'while': 0.000539964117782926,\n",
              " 'repetir': 0.000269982058891463,\n",
              " 'bloco': 0.000809946176674389,\n",
              " 'código': 0.0,\n",
              " 'enquanto': 0.000539964117782926,\n",
              " 'condição': 0.000809946176674389,\n",
              " 'verdadeiro': 0.000269982058891463,\n",
              " 'todo': 0.0,\n",
              " 'elemento': 0.002159856471131704,\n",
              " 'ordem': 0.000809946176674389,\n",
              " 'aparecer': 0.000539964117782926,\n",
              " 'abaixo': 0.0,\n",
              " 'dentro': 0.0,\n",
              " 'cada': 0.0,\n",
              " 'iterar': 0.0013499102944573148,\n",
              " 'caso': 0.0,\n",
              " 'modificar': 0.000539964117782926,\n",
              " 'sobre': 0.0,\n",
              " 'cópia': 0.000269982058891463,\n",
              " 'notação': 0.000269982058891463,\n",
              " 'ver': 0.0,\n",
              " 'acima': 0.0,\n",
              " 'dicionário': 0.003239784706697556,\n",
              " 'outro': 0.0,\n",
              " 'estrutura': 0.0,\n",
              " 'nativo': 0.000539964117782926,\n",
              " 'pythonr': 0.000269982058891463,\n",
              " 'basicamente': 0.000539964117782926,\n",
              " 'compor': 0.000269982058891463,\n",
              " 'possuir': 0.0,\n",
              " 'componente': 0.000269982058891463,\n",
              " 'chave': 0.001619892353348778,\n",
              " 'implementação': 0.000269982058891463,\n",
              " 'hash': 0.000269982058891463,\n",
              " 'tables': 0.000269982058891463,\n",
              " 'extremamente': 0.0,\n",
              " 'úteis': 0.0,\n",
              " 'aplicação': 0.0,\n",
              " 'dicionario': 0.000269982058891463,\n",
              " 'keyn': 0.000269982058891463,\n",
              " 'valuen': 0.000269982058891463,\n",
              " 'vazio': 0.000269982058891463,\n",
              " 'mostrar': 0.000809946176674389,\n",
              " 'acessar': 0.000269982058891463,\n",
              " 'sintaxe': 0.000269982058891463,\n",
              " 'parecir': 0.000539964117782926,\n",
              " 'colchete': 0.000539964117782926,\n",
              " 'entretanto': 0.000539964117782926,\n",
              " 'ir': 0.0,\n",
              " 'índice': 0.000269982058891463,\n",
              " 'sim': 0.0,\n",
              " 'além': 0.0,\n",
              " 'de': 0.0,\n",
              " 'isso': 0.0,\n",
              " 'método': 0.0,\n",
              " 'keys': 0.000269982058891463,\n",
              " 'retornar': 0.0,\n",
              " 'iterador': 0.000539964117782926,\n",
              " 'respectivo': 0.000269982058891463,\n",
              " 'simplesmente': 0.000539964117782926,\n",
              " 'objeto': 0.0,\n",
              " 'tupla': 0.0013499102944573148,\n",
              " 'explicar': 0.0,\n",
              " 'adiante': 0.0,\n",
              " 'anterior': 0.0,\n",
              " 'demonstrar': 0.0,\n",
              " 'funcionalidade': 0.000269982058891463,\n",
              " 'algo': 0.0,\n",
              " 'ainda': 0.0,\n",
              " 'format': 0.000809946176674389,\n",
              " 'útil': 0.0,\n",
              " 'formatar': 0.000269982058891463,\n",
              " 'strings': 0.000269982058891463,\n",
              " 'texto': 0.0,\n",
              " 'funcionar': 0.000539964117782926,\n",
              " 'criarmos': 0.000269982058891463,\n",
              " 'string': 0.0,\n",
              " 'colocamos': 0.000269982058891463,\n",
              " 'chaves': 0.000269982058891463,\n",
              " 'substitúir': 0.000269982058891463,\n",
              " 'substituir': 0.000269982058891463,\n",
              " 'querer': 0.0,\n",
              " 'efetivamente': 0.000269982058891463,\n",
              " 'substituirmos': 0.000269982058891463,\n",
              " 'bastante': 0.0,\n",
              " 'aplicarr': 0.000269982058891463,\n",
              " 'referenciarr': 0.000269982058891463,\n",
              " 'argumento': 0.0,\n",
              " 'poderíar': 0.0,\n",
              " 'guardar': 0.000539964117782926,\n",
              " 'música': 0.000539964117782926,\n",
              " 'nome': 0.0,\n",
              " 'banda': 0.000269982058891463,\n",
              " 'ano': 0.0,\n",
              " 'cair': 0.000269982058891463,\n",
              " 'luva': 0.000269982058891463,\n",
              " 'pois': 0.0,\n",
              " 'facilitar': 0.000809946176674389,\n",
              " 'leitura': 0.0,\n",
              " 'intuitivo': 0.000269982058891463,\n",
              " 'prático': 0.000269982058891463,\n",
              " 'recuperarmo': 0.000269982058891463,\n",
              " 'dado': 0.0,\n",
              " 'guardado': 0.000269982058891463,\n",
              " 'facilmente': 0.000539964117782926,\n",
              " 'construir': 0.0,\n",
              " 'conjunto': 0.0,\n",
              " 'criatividade': 0.000269982058891463,\n",
              " 'mixe': 0.000269982058891463,\n",
              " 'forma': 0.0,\n",
              " 'acessados': 0.000269982058891463,\n",
              " 'eficiente': 0.000269982058891463,\n",
              " 'entendimento': 0.0,\n",
              " 'programador': 0.000269982058891463,\n",
              " 'clareza': 0.0,\n",
              " 'importante': 0.0,\n",
              " 'procure': 0.000269982058891463,\n",
              " 'code': 0.000269982058891463,\n",
              " 'readability': 0.000269982058891463,\n",
              " 'ótimo': 0.000269982058891463,\n",
              " 'armazenar': 0.000539964117782926,\n",
              " 'json': 0.000269982058891463,\n",
              " 'envio': 0.000269982058891463,\n",
              " 'recebimento': 0.000269982058891463,\n",
              " 'último': 0.000269982058891463,\n",
              " 'apresentar': 0.000269982058891463,\n",
              " 'tutorial': 0.000269982058891463,\n",
              " 'listo': 0.000539964117782926,\n",
              " 'porém': 0.000539964117782926,\n",
              " 'imutável': 0.000539964117782926,\n",
              " 'visualmente': 0.000269982058891463,\n",
              " 'único': 0.0,\n",
              " 'parêntese': 0.000269982058891463,\n",
              " 'disser': 0.000269982058891463,\n",
              " 'dizer': 0.0,\n",
              " 'alterar': 0.000539964117782926,\n",
              " 'possível': 0.0,\n",
              " 'remover': 0.000269982058891463,\n",
              " 'rígir': 0.000269982058891463,\n",
              " 'seguro': 0.000269982058891463,\n",
              " 'cujo': 0.000539964117782926,\n",
              " 'dever': 0.0,\n",
              " 'manter': 0.000269982058891463,\n",
              " 'inalterado': 0.000269982058891463,\n",
              " 'longo': 0.0,\n",
              " 'andamento': 0.000269982058891463,\n",
              " 'programa': 0.002159856471131704,\n",
              " 'funcionamento': 0.000539964117782926,\n",
              " 'args': 0.001079928235565852,\n",
              " 'breve': 0.0,\n",
              " 'criação': 0.000269982058891463,\n",
              " 'seguir': 0.0,\n",
              " 'tentativo': 0.000269982058891463,\n",
              " 'organizar': 0.000269982058891463,\n",
              " 'reutilizável': 0.000269982058891463,\n",
              " 'certo': 0.000269982058891463,\n",
              " 'ação': 0.0,\n",
              " 'primeiro': 0.0,\n",
              " 'usarer': 0.000269982058891463,\n",
              " 'posicional': 0.001619892353348778,\n",
              " 'portanto': 0.0,\n",
              " 'ordir': 0.000269982058891463,\n",
              " 'parâmetro': 0.000539964117782926,\n",
              " 'inserir': 0.000269982058891463,\n",
              " 'mesmo': 0.000269982058891463,\n",
              " 'declarar': 0.000809946176674389,\n",
              " 'após': 0.000269982058891463,\n",
              " 'informar': 0.0,\n",
              " 'expressão': 0.000269982058891463,\n",
              " 'return': 0.000269982058891463,\n",
              " 'veja': 0.000269982058891463,\n",
              " 'printar': 0.000269982058891463,\n",
              " 'somar': 0.0,\n",
              " 'referência': 0.000539964117782926,\n",
              " 'mudar': 0.000809946176674389,\n",
              " 'mudanço': 0.000269982058891463,\n",
              " 'reflete': 0.000269982058891463,\n",
              " 'chamar': 0.0,\n",
              " 'mantive': 0.000269982058891463,\n",
              " 'anexar': 0.000269982058891463,\n",
              " 'produzir': 0.000269982058891463,\n",
              " 'resultar': 0.000269982058891463,\n",
              " 'correto': 0.0,\n",
              " 'definição': 0.000269982058891463,\n",
              " 'novamente': 0.0,\n",
              " 'utiliznar': 0.000269982058891463,\n",
              " 'pŕoxima': 0.000269982058891463,\n",
              " 'parte': 0.000269982058891463,\n",
              " 'explicarer': 0.000269982058891463,\n",
              " 'disponível': 0.0,\n",
              " 'localização': 0.000269982058891463,\n",
              " 'depender': 0.0,\n",
              " 'onde': 0.0,\n",
              " 'declarada': 0.000269982058891463,\n",
              " 'local': 0.000809946176674389,\n",
              " 'global': 0.000809946176674389,\n",
              " 'definer': 0.000269982058891463,\n",
              " 'escopo': 0.000539964117782926,\n",
              " 'acessada': 0.000269982058891463,\n",
              " 'referenciada': 0.000269982058891463,\n",
              " 'qualquer': 0.0,\n",
              " 'três': 0.000269982058891463,\n",
              " 'padrão': 0.000809946176674389,\n",
              " 'kwargs': 0.000809946176674389,\n",
              " 'opcional': 0.000269982058891463,\n",
              " 'ter': 0.0,\n",
              " 'padr': 0.000269982058891463,\n",
              " 'calcular': 0.0,\n",
              " 'peso': 0.001619892353348778,\n",
              " 'massa': 0.000269982058891463,\n",
              " 'aceleração': 0.000809946176674389,\n",
              " 'gravidade': 0.0013499102944573148,\n",
              " 'aproximadamente': 0.000269982058891463,\n",
              " 'terra': 0.000539964117782926,\n",
              " 'aceleraçãor': 0.000269982058891463,\n",
              " 'conforme': 0.0,\n",
              " 'latitude': 0.0,\n",
              " 'longitude': 0.0,\n",
              " 'alturo': 0.000269982058891463,\n",
              " 'pequeno': 0.0,\n",
              " 'variação': 0.000269982058891463,\n",
              " 'darer': 0.000269982058891463,\n",
              " 'usuário': 0.000539964117782926,\n",
              " 'liberdade': 0.000269982058891463,\n",
              " 'definir': 0.0,\n",
              " 'próprio': 0.0,\n",
              " 'julgar': 0.000269982058891463,\n",
              " 'precisar': 0.0,\n",
              " 'situação': 0.000269982058891463,\n",
              " 'receber': 0.0018898744122402406,\n",
              " 'g': 0.000809946176674389,\n",
              " 'tanto': 0.000539964117782926,\n",
              " 'quanto': 0.0,\n",
              " 'nomear': 0.000539964117782926,\n",
              " 'permitir': 0.0,\n",
              " 'passe': 0.000269982058891463,\n",
              " 'indefinir': 0.000269982058891463,\n",
              " 'termos': 0.000269982058891463,\n",
              " 'exatamente': 0.000269982058891463,\n",
              " 'ela': 0.000269982058891463,\n",
              " 'procedimento': 0.000269982058891463,\n",
              " 'imagine': 0.000539964117782926,\n",
              " 'receb': 0.000269982058891463,\n",
              " 'quantidade': 0.0,\n",
              " 'indefinido': 0.000539964117782926,\n",
              " 'execute': 0.000269982058891463,\n",
              " 'pensar': 0.0,\n",
              " 'ponto': 0.001619892353348778,\n",
              " 'coordenada': 0.0,\n",
              " 'conter': 0.000269982058891463,\n",
              " 'distância': 0.0,\n",
              " 'euclidiano': 0.000539964117782926,\n",
              " 'série': 0.0,\n",
              " 'pn': 0.000269982058891463,\n",
              " 'n': 0.000269982058891463,\n",
              " 'usaremos': 0.000269982058891463,\n",
              " 'utilizarer': 0.000269982058891463,\n",
              " 'capturar': 0.000269982058891463,\n",
              " 'deixar': 0.0,\n",
              " 'limpo': 0.000269982058891463,\n",
              " 'auxiliar': 0.000269982058891463,\n",
              " 'distance': 0.000269982058891463,\n",
              " 'disitância': 0.000269982058891463,\n",
              " 'ficar': 0.0,\n",
              " 'lembrar': 0.000269982058891463,\n",
              " 'passásser': 0.000269982058891463,\n",
              " 'preocupar': 0.000269982058891463,\n",
              " 'sempre': 0.0,\n",
              " 'interessar': 0.0,\n",
              " 'diferente': 0.0,\n",
              " 'completo': 0.000269982058891463,\n",
              " 'abreviação': 0.000269982058891463,\n",
              " 'verificar': 0.0,\n",
              " 'comum': 0.0,\n",
              " 'entidade': 0.000269982058891463,\n",
              " 'principal': 0.000269982058891463,\n",
              " 'configuração': 0.000269982058891463,\n",
              " 'especificação': 0.000539964117782926,\n",
              " 'comportamento': 0.0,\n",
              " 'tudo': 0.0,\n",
              " 'claro': 0.0,\n",
              " 'desejar': 0.0,\n",
              " 'aqui': 0.0,\n",
              " 'falar': 0.0,\n",
              " 'coisa': 0.000539964117782926,\n",
              " 'agora': 0.0,\n",
              " 'exceptiom': 0.000539964117782926,\n",
              " 'inteiro': 0.000269982058891463,\n",
              " 'acarretar': 0.000269982058891463,\n",
              " 'erro': 0.0013499102944573148,\n",
              " 'exception': 0.000539964117782926,\n",
              " 'especificamente': 0.000269982058891463,\n",
              " 'receberer': 0.000269982058891463,\n",
              " 'typeerror': 0.000539964117782926,\n",
              " 'unsupported': 0.000269982058891463,\n",
              " 'operand': 0.000269982058891463,\n",
              " 'type': 0.000269982058891463,\n",
              " 's': 0.000269982058891463,\n",
              " 'and': 0.000269982058891463,\n",
              " 'levar': 0.0,\n",
              " 'interrupção': 0.000269982058891463,\n",
              " 'execução': 0.000269982058891463,\n",
              " 'exceção': 0.000809946176674389,\n",
              " 'indicar': 0.0,\n",
              " 'errar': 0.000269982058891463,\n",
              " 'vários': 0.000269982058891463,\n",
              " 'valueerror': 0.000269982058891463,\n",
              " 'inváler': 0.000269982058891463,\n",
              " 'tratar': 0.0,\n",
              " 'modo': 0.0,\n",
              " 'ocorrer': 0.0,\n",
              " 'invés': 0.000269982058891463,\n",
              " 'retorne': 0.000269982058891463,\n",
              " 'mensagem': 0.000269982058891463,\n",
              " 'favor': 0.000269982058891463,\n",
              " 'digitar': 0.000269982058891463,\n",
              " 'lado': 0.000269982058891463,\n",
              " 'exceptions': 0.000269982058891463,\n",
              " 'termine': 0.000269982058891463,\n",
              " 'exemplificar': 0.0,\n",
              " 'brincar': 0.000269982058891463,\n",
              " 'utilizaremo': 0.000269982058891463,\n",
              " 'copiar': 0.000269982058891463,\n",
              " 'consulta': 0.000269982058891463,\n",
              " 'garantir': 0.0,\n",
              " 'satisfazer': 0.000269982058891463,\n",
              " 'incentivar': 0.000269982058891463,\n",
              " 'correr': 0.000269982058891463,\n",
              " 'atrás': 0.0,\n",
              " 'listarar': 0.000269982058891463,\n",
              " 'vir': 0.0,\n",
              " 'biblioteca': 0.0,\n",
              " 'panda': 0.0,\n",
              " 'numpy': 0.000269982058891463,\n",
              " 'entender': 0.0,\n",
              " 'ciência': 0.0,\n",
              " 'aprendizar': 0.0,\n",
              " 'máquina': 0.0,\n",
              " 'partir': 0.0,\n",
              " 'próximo': 0.0,\n",
              " 'começarer': 0.000269982058891463,\n",
              " 'direcionar': 0.000269982058891463,\n",
              " 'foco': 0.000269982058891463,\n",
              " 'direção': 0.000269982058891463,\n",
              " 'siga': 0.000269982058891463,\n",
              " 'página': 0.000269982058891463,\n",
              " 'facebook': 0.0,\n",
              " 'ligar': 0.000269982058891463,\n",
              " 'posts': 0.0,\n",
              " 'escrever': 0.0,\n",
              " 'kauã': 0.0,\n",
              " 'fillipe': 0.0,\n",
              " 'letícia': 0.0,\n",
              " 'falconer': 0.0,\n",
              " 'olá': 0.0,\n",
              " 'leitor': 0.0,\n",
              " 'turing': 0.0,\n",
              " 'talks': 0.0,\n",
              " 'hoje': 0.0,\n",
              " 'feature': 0.0,\n",
              " 'engineering': 0.0,\n",
              " 'temporal': 0.0,\n",
              " 'assunto': 0.0,\n",
              " 'proposta': 0.0,\n",
              " 'processo': 0.0,\n",
              " 'contexto': 0.0,\n",
              " 'primeiramente': 0.0,\n",
              " 'featur': 0.0,\n",
              " 'relação': 0.0,\n",
              " 'lá': 0.0,\n",
              " 'observação': 0.0,\n",
              " 'relacionar': 0.0,\n",
              " 'disposto': 0.0,\n",
              " 'tempo': 0.0,\n",
              " 'dataset': 0.0,\n",
              " 'datasets': 0.0,\n",
              " 'repository': 0.0,\n",
              " 'fornecir': 0.0,\n",
              " 'jbrownlee': 0.0,\n",
              " 'ele': 0.0,\n",
              " 'registro': 0.0,\n",
              " 'passageiro': 0.0,\n",
              " 'linha': 0.0,\n",
              " 'aéreo': 0.0,\n",
              " 'mês': 0.0,\n",
              " 'trabalhar': 0.0,\n",
              " 'costumar': 0.0,\n",
              " 'registrar': 0.0,\n",
              " 'periódico': 0.0,\n",
              " 'anteriormente': 0.0,\n",
              " 'considerar': 0.0,\n",
              " 'intervalo': 0.0,\n",
              " 'visualização': 0.0,\n",
              " 'propósito': 0.0,\n",
              " 'servir': 0.0,\n",
              " 'seleção': 0.0,\n",
              " 'original': 0.0,\n",
              " 'datasetr': 0.0,\n",
              " 'transformação': 0.0,\n",
              " 'qual': 0.0,\n",
              " 'simplificar': 0.0,\n",
              " 'melhorar': 0.0,\n",
              " 'acurácia': 0.0,\n",
              " 'modelo': 0.0,\n",
              " 'faltante': 0.0,\n",
              " 'lidar': 0.0,\n",
              " 'manipulação': 0.0,\n",
              " 'coluna': 0.0,\n",
              " 'aproveitamento': 0.0,\n",
              " 'vejamos': 0.0,\n",
              " 'climate': 0.0,\n",
              " 'change': 0.0,\n",
              " 'contém': 0.0,\n",
              " 'cidade': 0.0,\n",
              " 'afetar': 0.0,\n",
              " 'mudança': 0.0,\n",
              " 'climático': 0.0,\n",
              " 'dividir': 0.0,\n",
              " 'separadamente': 0.0,\n",
              " 'contudo': 0.0,\n",
              " 'informação': 0.0,\n",
              " 'si': 0.0,\n",
              " 'representar': 0.0,\n",
              " 'relacionarmo': 0.0,\n",
              " 'concatenarr': 0.0,\n",
              " 'verdade': 0.0,\n",
              " 'fácel': 0.0,\n",
              " 'interpretar': 0.0,\n",
              " 'abordagem': 0.0,\n",
              " 'solucionar': 0.0,\n",
              " 'problema': 0.0,\n",
              " 'coordenar': 0.0,\n",
              " 'polar': 0.0,\n",
              " 'inclinação': 0.0,\n",
              " 'grau': 0.0,\n",
              " 'inicial': 0.0,\n",
              " 'bem': 0.0,\n",
              " 'frente': 0.0,\n",
              " 'discutir': 0.0,\n",
              " 'aplicar': 0.0,\n",
              " 'ajudar': 0.0,\n",
              " 'poderoso': 0.0,\n",
              " 'previsão': 0.0,\n",
              " 'futuro': 0.0,\n",
              " 'apesar': 0.0,\n",
              " 'beneficiem': 0.0,\n",
              " 'datetime': 0.0,\n",
              " 'lagtime': 0.0,\n",
              " 'window': 0.0,\n",
              " 'fórmula': 0.0,\n",
              " 'digo': 0.0,\n",
              " 'chegar': 0.0,\n",
              " 'resultado': 0.0,\n",
              " 'esperar': 0.0,\n",
              " 'contrário': 0.0,\n",
              " 'noção': 0.0,\n",
              " 'final': 0.0,\n",
              " 'lever': 0.0,\n",
              " 'consideração': 0.0,\n",
              " 'específico': 0.0,\n",
              " 'conseguirr': 0.0,\n",
              " 'independente': 0.0,\n",
              " 'seguramente': 0.0,\n",
              " 'respeito': 0.0,\n",
              " 'venda': 0.0,\n",
              " 'ingresso': 0.0,\n",
              " 'cinema': 0.0,\n",
              " 'observar': 0.0,\n",
              " 'filme': 0.0,\n",
              " 'desejamos': 0.0,\n",
              " 'prever': 0.0,\n",
              " 'demanr': 0.0,\n",
              " 'compra': 0.0,\n",
              " 'diferentes': 0.0,\n",
              " 'localidade': 0.0,\n",
              " 'varer': 0.0,\n",
              " 'interessante': 0.0,\n",
              " 'analisarmos': 0.0,\n",
              " 'simultaneamente': 0.0,\n",
              " 'conhecer': 0.0,\n",
              " 'histórico': 0.0,\n",
              " 'futuramente': 0.0,\n",
              " 'mentir': 0.0,\n",
              " 'tomar': 0.0,\n",
              " 'região': 0.0,\n",
              " 'clima': 0.0,\n",
              " 'feriado': 0.0,\n",
              " 'época': 0.0,\n",
              " 'influencir': 0.0,\n",
              " 'externo': 0.0,\n",
              " 'evitar': 0.0,\n",
              " 'poluir': 0.0,\n",
              " 'extraída': 0.0,\n",
              " 'carimbo': 0.0,\n",
              " 'horário': 0.0,\n",
              " 'dia': 0.0,\n",
              " 'etc': 0.0,\n",
              " 'determinar': 0.0,\n",
              " 'gerar': 0.0,\n",
              " 'insights': 0.0,\n",
              " 'análise': 0.0,\n",
              " 'datar': 0.0,\n",
              " 'hora': 0.0,\n",
              " 'time': 0.0,\n",
              " 'modelar': 0.0,\n",
              " 'dependência': 0.0,\n",
              " 'evento': 0.0,\n",
              " 'extraem': 0.0,\n",
              " 'qualidade': 0.0,\n",
              " 'trabalha': 0.0,\n",
              " 'voltar': 0.0,\n",
              " 'extrair': 0.0,\n",
              " 'month': 0.0,\n",
              " 'formato': 0.0,\n",
              " 'timestamp': 0.0,\n",
              " 'dateformat': 0.0,\n",
              " 'panr': 0.0,\n",
              " 'obter': 0.0,\n",
              " 'splitr': 0.0,\n",
              " 'gráfico': 0.0,\n",
              " 'informer': 0.0,\n",
              " 'ferramentar': 0.0,\n",
              " 'padronizar': 0.0,\n",
              " 'grande': 0.0,\n",
              " 'gama': 0.0,\n",
              " 'ferramenta': 0.0,\n",
              " 'auxílio': 0.0,\n",
              " 'biblioteco': 0.0,\n",
              " 'interativo': 0.0,\n",
              " 'plotly': 0.0,\n",
              " 'continuar': 0.0,\n",
              " 'fato': 0.0,\n",
              " 'alvo': 0.0,\n",
              " 'traçamos': 0.0,\n",
              " 'tendência': 0.0,\n",
              " 'através': 0.0,\n",
              " 'média': 0.0,\n",
              " 'móvel': 0.0,\n",
              " 'geral': 0.0,\n",
              " 'sazonalidade': 0.0,\n",
              " 'tal': 0.0,\n",
              " 'aumento': 0.0,\n",
              " 'significativo': 0.0,\n",
              " 'julho': 0.0,\n",
              " 'agosto': 0.0,\n",
              " 'demais': 0.0,\n",
              " 'provavelmente': 0.0,\n",
              " 'contar': 0.0,\n",
              " 'período': 0.0,\n",
              " 'férias': 0.0,\n",
              " 'valer': 0.0,\n",
              " 'mencionar': 0.0,\n",
              " 'técnica': 0.0,\n",
              " 'igualmente': 0.0,\n",
              " 'preço': 0.0,\n",
              " 'emprês': 0.0,\n",
              " 'tecnologia': 0.0,\n",
              " 'diretamente': 0.0,\n",
              " 'timestampr': 0.0,\n",
              " 'quiséss': 0.0,\n",
              " 'caminho': 0.0,\n",
              " 'escolher': 0.0,\n",
              " 'conferir': 0.0,\n",
              " 'aspecto': 0.0,\n",
              " 'sazonal': 0.0,\n",
              " 'distribuição': 0.0,\n",
              " 'trafegar': 0.0,\n",
              " 'companhia': 0.0,\n",
              " 'decorrer': 0.0,\n",
              " 'sucesso': 0.0,\n",
              " 'imagem': 0.0,\n",
              " 'empresa': 0.0,\n",
              " 'observer': 0.0,\n",
              " 'binário': 0.0,\n",
              " 'extraír': 0.0,\n",
              " 'estratégia': 0.0,\n",
              " 'cargo': 0.0,\n",
              " 'cientista': 0.0,\n",
              " 'decidir': 0.0,\n",
              " 'tópico': 0.0,\n",
              " 'lag': 0.0,\n",
              " 'features': 0.0,\n",
              " 'utilizamos': 0.0,\n",
              " 'estudar': 0.0,\n",
              " 'instante': 0.0,\n",
              " 'cenário': 0.0,\n",
              " 'tentar': 0.0,\n",
              " 'queda': 0.0,\n",
              " 'subido': 0.0,\n",
              " 'base': 0.0,\n",
              " 'assumir': 0.0,\n",
              " 'serial': 0.0,\n",
              " 'predita': 0.0,\n",
              " 'utilizarr': 0.0,\n",
              " 'adotar': 0.0,\n",
              " 'defasagem': 0.0,\n",
              " 'unidade': 0.0,\n",
              " 'referir': 0.0,\n",
              " 'respectivamente': 0.0,\n",
              " 'antes': 0.0,\n",
              " 'nada': 0.0,\n",
              " 'decisão': 0.0,\n",
              " 'atraso': 0.0,\n",
              " 'autocorrelação': 0.0,\n",
              " 'l': 0.0,\n",
              " 'correlação': 0.0,\n",
              " 'par': 0.0,\n",
              " 'separar': 0.0,\n",
              " 'v': 0.0,\n",
              " 't': 0.0,\n",
              " 'medida': 0.0,\n",
              " 'ideia': 0.0,\n",
              " 'analisar': 0.0,\n",
              " 'acf': 0.0,\n",
              " 'representado': 0.0,\n",
              " 'graficamente': 0.0,\n",
              " 'correlograma': 0.0,\n",
              " 'mercado': 0.0,\n",
              " 'preste': 0.0,\n",
              " 'atenção': 0.0,\n",
              " 'lags': 0.0,\n",
              " 'citar': 0.0,\n",
              " 'shift': 0.0,\n",
              " 'tamanho': 0.0,\n",
              " 'amazon': 0.0,\n",
              " 'devido': 0.0,\n",
              " 'fizéssemos': 0.0,\n",
              " 'diante': 0.0,\n",
              " 'foquer': 0.0,\n",
              " 'netflix': 0.0,\n",
              " 'supor': 0.0,\n",
              " 'predizer': 0.0,\n",
              " 'certeza': 0.0,\n",
              " 'segurança': 0.0,\n",
              " 'escolha': 0.0,\n",
              " 'statsmodels': 0.0,\n",
              " 'percebo': 0.0,\n",
              " 'decair': 0.0,\n",
              " 'lentamente': 0.0,\n",
              " 'distante': 0.0,\n",
              " 'sentido': 0.0,\n",
              " 'confirmar': 0.0,\n",
              " 'semelhante': 0.0,\n",
              " 'utiliza': 0.0,\n",
              " 'target': 0.0,\n",
              " 'intervalar': 0.0,\n",
              " 'momento': 0.0,\n",
              " 'atual': 0.0,\n",
              " 'resumo': 0.0,\n",
              " 'presente': 0.0,\n",
              " 'médio': 0.0,\n",
              " 'estatística': 0.0,\n",
              " 'desejer': 0.0,\n",
              " 'janela': 0.0,\n",
              " 'fixo': 0.0,\n",
              " 'categorizar': 0.0,\n",
              " 'rolling': 0.0,\n",
              " 'expanding': 0.0,\n",
              " 'deslocar': 0.0,\n",
              " 'junto': 0.0,\n",
              " 'permanecer': 0.0,\n",
              " 'clarezar': 0.0,\n",
              " 'laranjo': 0.0,\n",
              " 'percorrer': 0.0,\n",
              " 'perceber': 0.0,\n",
              " 'encontrar': 0.0,\n",
              " 'nulo': 0.0,\n",
              " 'haver': 0.0,\n",
              " 'suficiente': 0.0,\n",
              " 'foto': 0.0,\n",
              " 'sum': 0.0,\n",
              " 'obtermos': 0.0,\n",
              " 'popularmente': 0.0,\n",
              " 'moving': 0.0,\n",
              " 'average': 0.0,\n",
              " 'mínimo': 0.0,\n",
              " 'laranja': 0.0,\n",
              " 'ramo': 0.0,\n",
              " 'preditivo': 0.0,\n",
              " 'essencial': 0.0,\n",
              " 'featurar': 0.0,\n",
              " 'manipular': 0.0,\n",
              " 'assegurar': 0.0,\n",
              " 'possua': 0.0,\n",
              " 'melhore': 0.0,\n",
              " 'performance': 0.0,\n",
              " 'algoritmo': 0.0,\n",
              " 'adaptar': 0.0,\n",
              " 'diverso': 0.0,\n",
              " 'usado': 0.0,\n",
              " 'criamos': 0.0,\n",
              " 'mapa': 0.0,\n",
              " 'mental': 0.0,\n",
              " 'relembrar': 0.0,\n",
              " 'teoria': 0.0,\n",
              " 'confundo': 0.0,\n",
              " 'métodos': 0.0,\n",
              " 'regrar': 0.0,\n",
              " 'tema': 0.0,\n",
              " 'modelagem': 0.0,\n",
              " 'recomendar': 0.0,\n",
              " 'encontre': 0.0,\n",
              " 'gostar': 0.0,\n",
              " 'obrigar': 0.0,\n",
              " 'pouco': 0.0,\n",
              " 'rede': 0.0,\n",
              " 'social': 0.0,\n",
              " 'instagr': 0.0,\n",
              " 'linkedin': 0.0,\n",
              " 'acompanhar': 0.0,\n",
              " 'medium': 0.0,\n",
              " 'perto': 0.0,\n",
              " 'participar': 0.0,\n",
              " 'discussão': 0.0,\n",
              " 'servidor': 0.0,\n",
              " 'discord': 0.0,\n",
              " 'abraço': 0.0}"
            ]
          },
          "metadata": {},
          "execution_count": 25
        }
      ]
    },
    {
      "cell_type": "markdown",
      "source": [
        "Agora os valores nulos representam não só as palavras que não ocorrem no documento, mas também as palavras que ocorrem em todos os documentos, no caso, nos dois."
      ],
      "metadata": {
        "id": "FtT-8pbpPO4V"
      }
    },
    {
      "cell_type": "markdown",
      "source": [
        "Aplicando agora para o dataset todo:"
      ],
      "metadata": {
        "id": "dYXty77tPdZ6"
      }
    },
    {
      "cell_type": "code",
      "source": [
        "from sklearn.feature_extraction.text import TfidfVectorizer\n",
        "TFIDFvectorizer = TfidfVectorizer()\n",
        "X_TFIDF = TFIDFvectorizer.fit_transform(df[\"texto_limpo\"])"
      ],
      "metadata": {
        "id": "f-47MDSWPgLF"
      },
      "execution_count": null,
      "outputs": []
    },
    {
      "cell_type": "code",
      "source": [
        "feature_names2 = TFIDFvectorizer.get_feature_names_out()"
      ],
      "metadata": {
        "id": "M0Qd_aOwP5BG"
      },
      "execution_count": null,
      "outputs": []
    },
    {
      "cell_type": "code",
      "source": [
        "tfidf_df = pd.DataFrame(X_TFIDF.toarray(), columns=feature_names2)"
      ],
      "metadata": {
        "id": "fCdxoFudP-xj"
      },
      "execution_count": null,
      "outputs": []
    },
    {
      "cell_type": "code",
      "source": [
        "tfidf_df.head(10)"
      ],
      "metadata": {
        "id": "yEH0gdHxQCsj",
        "outputId": "e033c62b-0d87-4f13-bde4-a65e92e3f37a",
        "colab": {
          "base_uri": "https://localhost:8080/",
          "height": 392
        }
      },
      "execution_count": null,
      "outputs": [
        {
          "output_type": "execute_result",
          "data": {
            "text/plain": [
              "    2e  aal  aba  abacate  abacater    abaixo  abar  abdom  abe  aberta  ...  \\\n",
              "0  0.0  0.0  0.0      0.0       0.0  0.000000   0.0    0.0  0.0     0.0  ...   \n",
              "1  0.0  0.0  0.0      0.0       0.0  0.021643   0.0    0.0  0.0     0.0  ...   \n",
              "2  0.0  0.0  0.0      0.0       0.0  0.000000   0.0    0.0  0.0     0.0  ...   \n",
              "3  0.0  0.0  0.0      0.0       0.0  0.062782   0.0    0.0  0.0     0.0  ...   \n",
              "4  0.0  0.0  0.0      0.0       0.0  0.039121   0.0    0.0  0.0     0.0  ...   \n",
              "5  0.0  0.0  0.0      0.0       0.0  0.050868   0.0    0.0  0.0     0.0  ...   \n",
              "6  0.0  0.0  0.0      0.0       0.0  0.000000   0.0    0.0  0.0     0.0  ...   \n",
              "7  0.0  0.0  0.0      0.0       0.0  0.000000   0.0    0.0  0.0     0.0  ...   \n",
              "8  0.0  0.0  0.0      0.0       0.0  0.074627   0.0    0.0  0.0     0.0  ...   \n",
              "9  0.0  0.0  0.0      0.0       0.0  0.026827   0.0    0.0  0.0     0.0  ...   \n",
              "\n",
              "   útel      útil        ŷi   γv  θobs   θy  θyi  θyn   μy   σy  \n",
              "0   0.0  0.000000  0.000000  0.0   0.0  0.0  0.0  0.0  0.0  0.0  \n",
              "1   0.0  0.000000  0.000000  0.0   0.0  0.0  0.0  0.0  0.0  0.0  \n",
              "2   0.0  0.000000  0.000000  0.0   0.0  0.0  0.0  0.0  0.0  0.0  \n",
              "3   0.0  0.028117  0.000000  0.0   0.0  0.0  0.0  0.0  0.0  0.0  \n",
              "4   0.0  0.010512  0.000000  0.0   0.0  0.0  0.0  0.0  0.0  0.0  \n",
              "5   0.0  0.000000  0.000000  0.0   0.0  0.0  0.0  0.0  0.0  0.0  \n",
              "6   0.0  0.000000  0.000000  0.0   0.0  0.0  0.0  0.0  0.0  0.0  \n",
              "7   0.0  0.008371  0.000000  0.0   0.0  0.0  0.0  0.0  0.0  0.0  \n",
              "8   0.0  0.036460  0.000000  0.0   0.0  0.0  0.0  0.0  0.0  0.0  \n",
              "9   0.0  0.000000  0.021261  0.0   0.0  0.0  0.0  0.0  0.0  0.0  \n",
              "\n",
              "[10 rows x 8076 columns]"
            ],
            "text/html": [
              "\n",
              "  <div id=\"df-8ccd0a21-7aec-4e74-9102-d6ba340a0a48\" class=\"colab-df-container\">\n",
              "    <div>\n",
              "<style scoped>\n",
              "    .dataframe tbody tr th:only-of-type {\n",
              "        vertical-align: middle;\n",
              "    }\n",
              "\n",
              "    .dataframe tbody tr th {\n",
              "        vertical-align: top;\n",
              "    }\n",
              "\n",
              "    .dataframe thead th {\n",
              "        text-align: right;\n",
              "    }\n",
              "</style>\n",
              "<table border=\"1\" class=\"dataframe\">\n",
              "  <thead>\n",
              "    <tr style=\"text-align: right;\">\n",
              "      <th></th>\n",
              "      <th>2e</th>\n",
              "      <th>aal</th>\n",
              "      <th>aba</th>\n",
              "      <th>abacate</th>\n",
              "      <th>abacater</th>\n",
              "      <th>abaixo</th>\n",
              "      <th>abar</th>\n",
              "      <th>abdom</th>\n",
              "      <th>abe</th>\n",
              "      <th>aberta</th>\n",
              "      <th>...</th>\n",
              "      <th>útel</th>\n",
              "      <th>útil</th>\n",
              "      <th>ŷi</th>\n",
              "      <th>γv</th>\n",
              "      <th>θobs</th>\n",
              "      <th>θy</th>\n",
              "      <th>θyi</th>\n",
              "      <th>θyn</th>\n",
              "      <th>μy</th>\n",
              "      <th>σy</th>\n",
              "    </tr>\n",
              "  </thead>\n",
              "  <tbody>\n",
              "    <tr>\n",
              "      <th>0</th>\n",
              "      <td>0.0</td>\n",
              "      <td>0.0</td>\n",
              "      <td>0.0</td>\n",
              "      <td>0.0</td>\n",
              "      <td>0.0</td>\n",
              "      <td>0.000000</td>\n",
              "      <td>0.0</td>\n",
              "      <td>0.0</td>\n",
              "      <td>0.0</td>\n",
              "      <td>0.0</td>\n",
              "      <td>...</td>\n",
              "      <td>0.0</td>\n",
              "      <td>0.000000</td>\n",
              "      <td>0.000000</td>\n",
              "      <td>0.0</td>\n",
              "      <td>0.0</td>\n",
              "      <td>0.0</td>\n",
              "      <td>0.0</td>\n",
              "      <td>0.0</td>\n",
              "      <td>0.0</td>\n",
              "      <td>0.0</td>\n",
              "    </tr>\n",
              "    <tr>\n",
              "      <th>1</th>\n",
              "      <td>0.0</td>\n",
              "      <td>0.0</td>\n",
              "      <td>0.0</td>\n",
              "      <td>0.0</td>\n",
              "      <td>0.0</td>\n",
              "      <td>0.021643</td>\n",
              "      <td>0.0</td>\n",
              "      <td>0.0</td>\n",
              "      <td>0.0</td>\n",
              "      <td>0.0</td>\n",
              "      <td>...</td>\n",
              "      <td>0.0</td>\n",
              "      <td>0.000000</td>\n",
              "      <td>0.000000</td>\n",
              "      <td>0.0</td>\n",
              "      <td>0.0</td>\n",
              "      <td>0.0</td>\n",
              "      <td>0.0</td>\n",
              "      <td>0.0</td>\n",
              "      <td>0.0</td>\n",
              "      <td>0.0</td>\n",
              "    </tr>\n",
              "    <tr>\n",
              "      <th>2</th>\n",
              "      <td>0.0</td>\n",
              "      <td>0.0</td>\n",
              "      <td>0.0</td>\n",
              "      <td>0.0</td>\n",
              "      <td>0.0</td>\n",
              "      <td>0.000000</td>\n",
              "      <td>0.0</td>\n",
              "      <td>0.0</td>\n",
              "      <td>0.0</td>\n",
              "      <td>0.0</td>\n",
              "      <td>...</td>\n",
              "      <td>0.0</td>\n",
              "      <td>0.000000</td>\n",
              "      <td>0.000000</td>\n",
              "      <td>0.0</td>\n",
              "      <td>0.0</td>\n",
              "      <td>0.0</td>\n",
              "      <td>0.0</td>\n",
              "      <td>0.0</td>\n",
              "      <td>0.0</td>\n",
              "      <td>0.0</td>\n",
              "    </tr>\n",
              "    <tr>\n",
              "      <th>3</th>\n",
              "      <td>0.0</td>\n",
              "      <td>0.0</td>\n",
              "      <td>0.0</td>\n",
              "      <td>0.0</td>\n",
              "      <td>0.0</td>\n",
              "      <td>0.062782</td>\n",
              "      <td>0.0</td>\n",
              "      <td>0.0</td>\n",
              "      <td>0.0</td>\n",
              "      <td>0.0</td>\n",
              "      <td>...</td>\n",
              "      <td>0.0</td>\n",
              "      <td>0.028117</td>\n",
              "      <td>0.000000</td>\n",
              "      <td>0.0</td>\n",
              "      <td>0.0</td>\n",
              "      <td>0.0</td>\n",
              "      <td>0.0</td>\n",
              "      <td>0.0</td>\n",
              "      <td>0.0</td>\n",
              "      <td>0.0</td>\n",
              "    </tr>\n",
              "    <tr>\n",
              "      <th>4</th>\n",
              "      <td>0.0</td>\n",
              "      <td>0.0</td>\n",
              "      <td>0.0</td>\n",
              "      <td>0.0</td>\n",
              "      <td>0.0</td>\n",
              "      <td>0.039121</td>\n",
              "      <td>0.0</td>\n",
              "      <td>0.0</td>\n",
              "      <td>0.0</td>\n",
              "      <td>0.0</td>\n",
              "      <td>...</td>\n",
              "      <td>0.0</td>\n",
              "      <td>0.010512</td>\n",
              "      <td>0.000000</td>\n",
              "      <td>0.0</td>\n",
              "      <td>0.0</td>\n",
              "      <td>0.0</td>\n",
              "      <td>0.0</td>\n",
              "      <td>0.0</td>\n",
              "      <td>0.0</td>\n",
              "      <td>0.0</td>\n",
              "    </tr>\n",
              "    <tr>\n",
              "      <th>5</th>\n",
              "      <td>0.0</td>\n",
              "      <td>0.0</td>\n",
              "      <td>0.0</td>\n",
              "      <td>0.0</td>\n",
              "      <td>0.0</td>\n",
              "      <td>0.050868</td>\n",
              "      <td>0.0</td>\n",
              "      <td>0.0</td>\n",
              "      <td>0.0</td>\n",
              "      <td>0.0</td>\n",
              "      <td>...</td>\n",
              "      <td>0.0</td>\n",
              "      <td>0.000000</td>\n",
              "      <td>0.000000</td>\n",
              "      <td>0.0</td>\n",
              "      <td>0.0</td>\n",
              "      <td>0.0</td>\n",
              "      <td>0.0</td>\n",
              "      <td>0.0</td>\n",
              "      <td>0.0</td>\n",
              "      <td>0.0</td>\n",
              "    </tr>\n",
              "    <tr>\n",
              "      <th>6</th>\n",
              "      <td>0.0</td>\n",
              "      <td>0.0</td>\n",
              "      <td>0.0</td>\n",
              "      <td>0.0</td>\n",
              "      <td>0.0</td>\n",
              "      <td>0.000000</td>\n",
              "      <td>0.0</td>\n",
              "      <td>0.0</td>\n",
              "      <td>0.0</td>\n",
              "      <td>0.0</td>\n",
              "      <td>...</td>\n",
              "      <td>0.0</td>\n",
              "      <td>0.000000</td>\n",
              "      <td>0.000000</td>\n",
              "      <td>0.0</td>\n",
              "      <td>0.0</td>\n",
              "      <td>0.0</td>\n",
              "      <td>0.0</td>\n",
              "      <td>0.0</td>\n",
              "      <td>0.0</td>\n",
              "      <td>0.0</td>\n",
              "    </tr>\n",
              "    <tr>\n",
              "      <th>7</th>\n",
              "      <td>0.0</td>\n",
              "      <td>0.0</td>\n",
              "      <td>0.0</td>\n",
              "      <td>0.0</td>\n",
              "      <td>0.0</td>\n",
              "      <td>0.000000</td>\n",
              "      <td>0.0</td>\n",
              "      <td>0.0</td>\n",
              "      <td>0.0</td>\n",
              "      <td>0.0</td>\n",
              "      <td>...</td>\n",
              "      <td>0.0</td>\n",
              "      <td>0.008371</td>\n",
              "      <td>0.000000</td>\n",
              "      <td>0.0</td>\n",
              "      <td>0.0</td>\n",
              "      <td>0.0</td>\n",
              "      <td>0.0</td>\n",
              "      <td>0.0</td>\n",
              "      <td>0.0</td>\n",
              "      <td>0.0</td>\n",
              "    </tr>\n",
              "    <tr>\n",
              "      <th>8</th>\n",
              "      <td>0.0</td>\n",
              "      <td>0.0</td>\n",
              "      <td>0.0</td>\n",
              "      <td>0.0</td>\n",
              "      <td>0.0</td>\n",
              "      <td>0.074627</td>\n",
              "      <td>0.0</td>\n",
              "      <td>0.0</td>\n",
              "      <td>0.0</td>\n",
              "      <td>0.0</td>\n",
              "      <td>...</td>\n",
              "      <td>0.0</td>\n",
              "      <td>0.036460</td>\n",
              "      <td>0.000000</td>\n",
              "      <td>0.0</td>\n",
              "      <td>0.0</td>\n",
              "      <td>0.0</td>\n",
              "      <td>0.0</td>\n",
              "      <td>0.0</td>\n",
              "      <td>0.0</td>\n",
              "      <td>0.0</td>\n",
              "    </tr>\n",
              "    <tr>\n",
              "      <th>9</th>\n",
              "      <td>0.0</td>\n",
              "      <td>0.0</td>\n",
              "      <td>0.0</td>\n",
              "      <td>0.0</td>\n",
              "      <td>0.0</td>\n",
              "      <td>0.026827</td>\n",
              "      <td>0.0</td>\n",
              "      <td>0.0</td>\n",
              "      <td>0.0</td>\n",
              "      <td>0.0</td>\n",
              "      <td>...</td>\n",
              "      <td>0.0</td>\n",
              "      <td>0.000000</td>\n",
              "      <td>0.021261</td>\n",
              "      <td>0.0</td>\n",
              "      <td>0.0</td>\n",
              "      <td>0.0</td>\n",
              "      <td>0.0</td>\n",
              "      <td>0.0</td>\n",
              "      <td>0.0</td>\n",
              "      <td>0.0</td>\n",
              "    </tr>\n",
              "  </tbody>\n",
              "</table>\n",
              "<p>10 rows × 8076 columns</p>\n",
              "</div>\n",
              "    <div class=\"colab-df-buttons\">\n",
              "\n",
              "  <div class=\"colab-df-container\">\n",
              "    <button class=\"colab-df-convert\" onclick=\"convertToInteractive('df-8ccd0a21-7aec-4e74-9102-d6ba340a0a48')\"\n",
              "            title=\"Convert this dataframe to an interactive table.\"\n",
              "            style=\"display:none;\">\n",
              "\n",
              "  <svg xmlns=\"http://www.w3.org/2000/svg\" height=\"24px\" viewBox=\"0 -960 960 960\">\n",
              "    <path d=\"M120-120v-720h720v720H120Zm60-500h600v-160H180v160Zm220 220h160v-160H400v160Zm0 220h160v-160H400v160ZM180-400h160v-160H180v160Zm440 0h160v-160H620v160ZM180-180h160v-160H180v160Zm440 0h160v-160H620v160Z\"/>\n",
              "  </svg>\n",
              "    </button>\n",
              "\n",
              "  <style>\n",
              "    .colab-df-container {\n",
              "      display:flex;\n",
              "      gap: 12px;\n",
              "    }\n",
              "\n",
              "    .colab-df-convert {\n",
              "      background-color: #E8F0FE;\n",
              "      border: none;\n",
              "      border-radius: 50%;\n",
              "      cursor: pointer;\n",
              "      display: none;\n",
              "      fill: #1967D2;\n",
              "      height: 32px;\n",
              "      padding: 0 0 0 0;\n",
              "      width: 32px;\n",
              "    }\n",
              "\n",
              "    .colab-df-convert:hover {\n",
              "      background-color: #E2EBFA;\n",
              "      box-shadow: 0px 1px 2px rgba(60, 64, 67, 0.3), 0px 1px 3px 1px rgba(60, 64, 67, 0.15);\n",
              "      fill: #174EA6;\n",
              "    }\n",
              "\n",
              "    .colab-df-buttons div {\n",
              "      margin-bottom: 4px;\n",
              "    }\n",
              "\n",
              "    [theme=dark] .colab-df-convert {\n",
              "      background-color: #3B4455;\n",
              "      fill: #D2E3FC;\n",
              "    }\n",
              "\n",
              "    [theme=dark] .colab-df-convert:hover {\n",
              "      background-color: #434B5C;\n",
              "      box-shadow: 0px 1px 3px 1px rgba(0, 0, 0, 0.15);\n",
              "      filter: drop-shadow(0px 1px 2px rgba(0, 0, 0, 0.3));\n",
              "      fill: #FFFFFF;\n",
              "    }\n",
              "  </style>\n",
              "\n",
              "    <script>\n",
              "      const buttonEl =\n",
              "        document.querySelector('#df-8ccd0a21-7aec-4e74-9102-d6ba340a0a48 button.colab-df-convert');\n",
              "      buttonEl.style.display =\n",
              "        google.colab.kernel.accessAllowed ? 'block' : 'none';\n",
              "\n",
              "      async function convertToInteractive(key) {\n",
              "        const element = document.querySelector('#df-8ccd0a21-7aec-4e74-9102-d6ba340a0a48');\n",
              "        const dataTable =\n",
              "          await google.colab.kernel.invokeFunction('convertToInteractive',\n",
              "                                                    [key], {});\n",
              "        if (!dataTable) return;\n",
              "\n",
              "        const docLinkHtml = 'Like what you see? Visit the ' +\n",
              "          '<a target=\"_blank\" href=https://colab.research.google.com/notebooks/data_table.ipynb>data table notebook</a>'\n",
              "          + ' to learn more about interactive tables.';\n",
              "        element.innerHTML = '';\n",
              "        dataTable['output_type'] = 'display_data';\n",
              "        await google.colab.output.renderOutput(dataTable, element);\n",
              "        const docLink = document.createElement('div');\n",
              "        docLink.innerHTML = docLinkHtml;\n",
              "        element.appendChild(docLink);\n",
              "      }\n",
              "    </script>\n",
              "  </div>\n",
              "\n",
              "\n",
              "<div id=\"df-a31ae5dc-d4a5-4d0e-ac51-88d186bf608c\">\n",
              "  <button class=\"colab-df-quickchart\" onclick=\"quickchart('df-a31ae5dc-d4a5-4d0e-ac51-88d186bf608c')\"\n",
              "            title=\"Suggest charts.\"\n",
              "            style=\"display:none;\">\n",
              "\n",
              "<svg xmlns=\"http://www.w3.org/2000/svg\" height=\"24px\"viewBox=\"0 0 24 24\"\n",
              "     width=\"24px\">\n",
              "    <g>\n",
              "        <path d=\"M19 3H5c-1.1 0-2 .9-2 2v14c0 1.1.9 2 2 2h14c1.1 0 2-.9 2-2V5c0-1.1-.9-2-2-2zM9 17H7v-7h2v7zm4 0h-2V7h2v10zm4 0h-2v-4h2v4z\"/>\n",
              "    </g>\n",
              "</svg>\n",
              "  </button>\n",
              "\n",
              "<style>\n",
              "  .colab-df-quickchart {\n",
              "    background-color: #E8F0FE;\n",
              "    border: none;\n",
              "    border-radius: 50%;\n",
              "    cursor: pointer;\n",
              "    display: none;\n",
              "    fill: #1967D2;\n",
              "    height: 32px;\n",
              "    padding: 0 0 0 0;\n",
              "    width: 32px;\n",
              "  }\n",
              "\n",
              "  .colab-df-quickchart:hover {\n",
              "    background-color: #E2EBFA;\n",
              "    box-shadow: 0px 1px 2px rgba(60, 64, 67, 0.3), 0px 1px 3px 1px rgba(60, 64, 67, 0.15);\n",
              "    fill: #174EA6;\n",
              "  }\n",
              "\n",
              "  [theme=dark] .colab-df-quickchart {\n",
              "    background-color: #3B4455;\n",
              "    fill: #D2E3FC;\n",
              "  }\n",
              "\n",
              "  [theme=dark] .colab-df-quickchart:hover {\n",
              "    background-color: #434B5C;\n",
              "    box-shadow: 0px 1px 3px 1px rgba(0, 0, 0, 0.15);\n",
              "    filter: drop-shadow(0px 1px 2px rgba(0, 0, 0, 0.3));\n",
              "    fill: #FFFFFF;\n",
              "  }\n",
              "</style>\n",
              "\n",
              "  <script>\n",
              "    async function quickchart(key) {\n",
              "      const charts = await google.colab.kernel.invokeFunction(\n",
              "          'suggestCharts', [key], {});\n",
              "    }\n",
              "    (() => {\n",
              "      let quickchartButtonEl =\n",
              "        document.querySelector('#df-a31ae5dc-d4a5-4d0e-ac51-88d186bf608c button');\n",
              "      quickchartButtonEl.style.display =\n",
              "        google.colab.kernel.accessAllowed ? 'block' : 'none';\n",
              "    })();\n",
              "  </script>\n",
              "</div>\n",
              "    </div>\n",
              "  </div>\n"
            ]
          },
          "metadata": {},
          "execution_count": 43
        }
      ]
    },
    {
      "cell_type": "markdown",
      "source": [
        "Agora farei o modelo de predição, são apenas 110 textos então o modelo pode apresentar umas dificuldades:"
      ],
      "metadata": {
        "id": "JSrXJ65i_1p4"
      }
    },
    {
      "cell_type": "code",
      "source": [
        "from sklearn.linear_model import LinearRegression\n",
        "from sklearn.model_selection import train_test_split\n",
        "reg = LinearRegression()\n",
        "X_bow = X_BOW.toarray()\n",
        "y_bow = df['claps']\n",
        "X_train_bow, X_test_bow, y_train_bow, y_test_bow = train_test_split(X_bow, y_bow, test_size = 0.3, random_state=42)"
      ],
      "metadata": {
        "id": "L7tremcY_G6k"
      },
      "execution_count": null,
      "outputs": []
    },
    {
      "cell_type": "code",
      "source": [
        "reg.fit(X_train_bow, y_train_bow)\n",
        "predBow=reg.predict(X_test_bow)"
      ],
      "metadata": {
        "id": "8iRL0O6j_m-R"
      },
      "execution_count": null,
      "outputs": []
    },
    {
      "cell_type": "code",
      "source": [
        "from sklearn.metrics import mean_squared_error, r2_score\n",
        "mse = mean_squared_error(y_test_bow, predBow)\n",
        "r2 = r2_score(y_test_bow, predBow)\n",
        "print(\"MSE:\", mse)\n",
        "print(\"R2:\", r2)"
      ],
      "metadata": {
        "colab": {
          "base_uri": "https://localhost:8080/"
        },
        "id": "uGhZmCUAzy-q",
        "outputId": "a3baaf83-15bb-4b00-bcf0-695d42b16788"
      },
      "execution_count": null,
      "outputs": [
        {
          "output_type": "stream",
          "name": "stdout",
          "text": [
            "MSE: 78264.51852260153\n",
            "R2: 0.17595843206713613\n"
          ]
        }
      ]
    },
    {
      "cell_type": "code",
      "source": [
        "plt.scatter(y_test_bow, predBow)\n",
        "plt.xlabel(\"Valores Reais\")\n",
        "plt.ylabel(\"Previsões\")\n",
        "plt.title(\"Valores Reais vs. Previsões\")\n",
        "\n",
        "# Linha diagonal representando uma previsão perfeita\n",
        "plt.plot([min(y_test_bow), max(y_test_bow)], [min(y_test_bow), max(y_test_bow)], linestyle='--', color='red')\n",
        "\n",
        "plt.show()"
      ],
      "metadata": {
        "colab": {
          "base_uri": "https://localhost:8080/",
          "height": 472
        },
        "id": "okJ1EfxT0xMH",
        "outputId": "7d772d40-6bc7-401d-a328-961ff01c182c"
      },
      "execution_count": null,
      "outputs": [
        {
          "output_type": "display_data",
          "data": {
            "text/plain": [
              "<Figure size 640x480 with 1 Axes>"
            ],
            "image/png": "[encoded data removed]"
          },
          "metadata": {}
        }
      ]
    },
    {
      "cell_type": "code",
      "source": [
        "X_tfidf = X_TFIDF.toarray()\n",
        "y_tfidf = df['claps']\n",
        "\n",
        "X_train_tfidf, X_test_tfidf, y_train_tfidf, y_test_tfidf = train_test_split(X_tfidf, y_tfidf, test_size = 0.3, random_state=15)"
      ],
      "metadata": {
        "id": "S27f1Qgr_nYe"
      },
      "execution_count": null,
      "outputs": []
    },
    {
      "cell_type": "code",
      "source": [
        "reg = LinearRegression()\n",
        "reg.fit(X_train_tfidf, y_train_tfidf)\n",
        "predTFIDF=reg.predict(X_test_tfidf)"
      ],
      "metadata": {
        "id": "F_y68nCd0CRH"
      },
      "execution_count": null,
      "outputs": []
    },
    {
      "cell_type": "code",
      "source": [
        "mse2 = mean_squared_error(y_test_tfidf, predTFIDF)\n",
        "r2_2 = r2_score(y_test_tfidf, predTFIDF)\n",
        "print(\"MSE:\", mse2)\n",
        "print(\"R2:\", r2_2)"
      ],
      "metadata": {
        "colab": {
          "base_uri": "https://localhost:8080/"
        },
        "id": "qXJxmmZb0K9f",
        "outputId": "52fa2204-5eba-4067-e526-3a6d275a1294"
      },
      "execution_count": null,
      "outputs": [
        {
          "output_type": "stream",
          "name": "stdout",
          "text": [
            "MSE: 79192.3981034193\n",
            "R2: 0.18947160113612738\n"
          ]
        }
      ]
    },
    {
      "cell_type": "code",
      "source": [
        "plt.scatter(y_test_tfidf, predTFIDF)\n",
        "plt.xlabel(\"Valores Reais\")\n",
        "plt.ylabel(\"Previsões\")\n",
        "plt.title(\"Valores Reais vs. Previsões\")\n",
        "\n",
        "# Linha diagonal representando uma previsão perfeita\n",
        "plt.plot([min(y_test_tfidf), max(y_test_tfidf)], [min(y_test_tfidf), max(y_test_tfidf)], linestyle='--', color='red')\n",
        "\n",
        "plt.show()"
      ],
      "metadata": {
        "colab": {
          "base_uri": "https://localhost:8080/",
          "height": 472
        },
        "id": "UFJC-2Jd6wui",
        "outputId": "b942644b-e75b-481e-eaa1-0267150ac21d"
      },
      "execution_count": null,
      "outputs": [
        {
          "output_type": "display_data",
          "data": {
            "text/plain": [
              "<Figure size 640x480 with 1 Axes>"
            ],
            "image/png": "[encoded data removed]"
          },
          "metadata": {}
        }
      ]
    },
    {
      "cell_type": "code",
      "source": [
        "#usar outros modelos de regressão pra ver se melhora"
      ],
      "metadata": {
        "id": "X1kQcfOF-X-I"
      },
      "execution_count": null,
      "outputs": []
    },
    {
      "cell_type": "markdown",
      "source": [
        "#4 Embedding:"
      ],
      "metadata": {
        "id": "6zOP_WN60O8g"
      }
    },
    {
      "cell_type": "markdown",
      "source": [
        "Agora testarei fazer os embeddings a partir do dataset apresentado, os embeddings, pela quantidade de dados disponíveis, provavelmente, não será dos melhores. Poderia pegar modelos prontos de embeddings, porém pelo teste apenas farei um novo e básico com os textos disponíveis nesse notebook."
      ],
      "metadata": {
        "id": "OFsQJL3cFzRQ"
      }
    },
    {
      "cell_type": "code",
      "source": [
        "#Vou fazer uma nova coluna, pois para fazer os embeddings não é necessário lematizar.\n",
        "df['texto_emb']=df['text'].apply(tokenização_remov_stopwords)"
      ],
      "metadata": {
        "id": "IWBtqp_t0krF"
      },
      "execution_count": null,
      "outputs": []
    },
    {
      "cell_type": "code",
      "source": [
        "from gensim.models import Word2Vec\n",
        "dimensões = 100\n",
        "contexto= 5"
      ],
      "metadata": {
        "id": "k4p6JRMiyU0Q"
      },
      "execution_count": null,
      "outputs": []
    },
    {
      "cell_type": "code",
      "source": [
        "modelo_skip_gram = Word2Vec(sentences=df['texto_emb'], vector_size=dimensões, window=contexto, sg=1, epochs=10)\n",
        "modelo_CBOW = Word2Vec(sentences=df['texto_emb'], vector_size=dimensões, window=contexto, sg=0, epochs=10)"
      ],
      "metadata": {
        "id": "9NOd6-lIyuP4"
      },
      "execution_count": null,
      "outputs": []
    },
    {
      "cell_type": "markdown",
      "source": [
        "Agora vão alguns exemplos dos resultados comparando dois modelos, o skip_gram e o CBOW, com palavras bem constantes nos textos analisados."
      ],
      "metadata": {
        "id": "ySAdCgy-HLS8"
      }
    },
    {
      "cell_type": "code",
      "source": [
        "rede = modelo_CBOW.wv[\"rede\"]"
      ],
      "metadata": {
        "id": "bWJ6JmIz5SHA"
      },
      "execution_count": null,
      "outputs": []
    },
    {
      "cell_type": "code",
      "source": [
        "rede"
      ],
      "metadata": {
        "colab": {
          "base_uri": "https://localhost:8080/"
        },
        "id": "Ny-IbyeL52XE",
        "outputId": "7064e28b-1223-4cbb-ef7d-ebfe09b0891e"
      },
      "execution_count": null,
      "outputs": [
        {
          "output_type": "execute_result",
          "data": {
            "text/plain": [
              "array([-0.36681244,  0.16604443, -0.19539264,  0.29271856,  0.2825463 ,\n",
              "       -0.01752105,  0.63163817,  0.8231068 , -0.71687764, -0.17380212,\n",
              "       -0.42902306, -0.09034526,  0.28838587,  0.14411987, -0.44451183,\n",
              "       -0.16362396,  0.24821502, -0.8860096 , -0.18822505, -1.5367463 ,\n",
              "        0.7342172 , -0.12104648,  0.24805424, -0.48606518, -0.5255734 ,\n",
              "       -0.42548817, -0.51564395,  0.01781628, -0.30819356,  0.23770404,\n",
              "        0.10605159,  0.10594027,  0.12420648,  0.18982168, -0.3400809 ,\n",
              "        0.8700588 ,  0.05465276, -0.12757106, -0.50966364, -0.87914646,\n",
              "        0.7001637 , -0.4692764 ,  0.00421026, -0.1473062 ,  0.5749806 ,\n",
              "       -0.04400584,  0.09946147, -0.01642791,  0.51098335,  0.28941727,\n",
              "        0.150504  , -0.03338316, -0.00866077,  0.12379351, -0.18681885,\n",
              "        0.23406866, -0.3322059 , -0.33598572, -0.9964029 , -0.43058386,\n",
              "        0.22796081, -0.3365994 , -0.24854201, -0.3518249 , -0.6489153 ,\n",
              "        0.46644613,  0.5734394 ,  0.07862648, -0.699385  ,  0.5296799 ,\n",
              "        0.09489392,  0.2044042 ,  0.4142874 , -0.4165258 ,  0.385572  ,\n",
              "       -0.3840239 ,  0.33708668,  0.22001229, -0.24247953,  0.34721676,\n",
              "       -0.47680834,  0.04359706, -0.4317234 ,  0.6039654 , -0.29972017,\n",
              "       -0.03948558, -0.28828463,  0.5905956 ,  0.12703362,  0.39309576,\n",
              "        0.60198814, -0.16634673, -0.04690887, -0.36739334,  0.2936281 ,\n",
              "       -0.07791722,  0.08809199, -0.24271391,  0.72903156,  0.12971786],\n",
              "      dtype=float32)"
            ]
          },
          "metadata": {},
          "execution_count": 22
        }
      ]
    },
    {
      "cell_type": "code",
      "source": [
        "modelo_CBOW.wv.most_similar(\"python\", topn=10)"
      ],
      "metadata": {
        "colab": {
          "base_uri": "https://localhost:8080/"
        },
        "id": "z0pzRZkz4nH3",
        "outputId": "6c27632e-c711-46cd-91c2-b53a0b7679c8"
      },
      "execution_count": null,
      "outputs": [
        {
          "output_type": "execute_result",
          "data": {
            "text/plain": [
              "[('bibliotecas', 0.98695969581604),\n",
              " ('análise', 0.9793411493301392),\n",
              " ('biblioteca', 0.9785586595535278),\n",
              " ('nltk', 0.9782431125640869),\n",
              " ('algumas', 0.9778957962989807),\n",
              " ('pandas', 0.97238689661026),\n",
              " ('ferramentas', 0.9708137512207031),\n",
              " ('métodos', 0.970407247543335),\n",
              " ('aplicar', 0.9680438041687012),\n",
              " ('importar', 0.9667776226997375)]"
            ]
          },
          "metadata": {},
          "execution_count": 16
        }
      ]
    },
    {
      "cell_type": "code",
      "source": [
        "modelo_skip_gram.wv.most_similar(\"python\", topn=10)"
      ],
      "metadata": {
        "colab": {
          "base_uri": "https://localhost:8080/"
        },
        "id": "lcS6ftyb4sRP",
        "outputId": "1f107f0d-b910-4375-f25c-ec6c95eb7fa5"
      },
      "execution_count": null,
      "outputs": [
        {
          "output_type": "execute_result",
          "data": {
            "text/plain": [
              "[('pacotes', 0.89881432056427),\n",
              " ('numpy', 0.8911175727844238),\n",
              " ('pip', 0.8880391120910645),\n",
              " ('versão', 0.8812695145606995),\n",
              " ('requests', 0.880132794380188),\n",
              " ('instalar', 0.8759921789169312),\n",
              " ('spacy', 0.8753595948219299),\n",
              " ('beautifulsoup', 0.8694775104522705),\n",
              " ('install', 0.8679547309875488),\n",
              " ('instalado', 0.8652439713478088)]"
            ]
          },
          "metadata": {},
          "execution_count": 18
        }
      ]
    },
    {
      "cell_type": "code",
      "source": [
        "modelo_CBOW.wv.most_similar('rede', topn=10)"
      ],
      "metadata": {
        "colab": {
          "base_uri": "https://localhost:8080/"
        },
        "id": "zdVtnGOQ6MYq",
        "outputId": "a6b2b070-d4a6-42da-a77c-2cec52d5a53a"
      },
      "execution_count": null,
      "outputs": [
        {
          "output_type": "execute_result",
          "data": {
            "text/plain": [
              "[('neural', 0.8478122353553772),\n",
              " ('convolucional', 0.8382838368415833),\n",
              " ('torch', 0.833432137966156),\n",
              " ('treinar', 0.8253964781761169),\n",
              " ('camadas', 0.8216264247894287),\n",
              " ('precisamos', 0.8150615692138672),\n",
              " ('criar', 0.802791178226471),\n",
              " ('treinamento', 0.8026337027549744),\n",
              " ('treinada', 0.802398681640625),\n",
              " ('neurônios', 0.8000085949897766)]"
            ]
          },
          "metadata": {},
          "execution_count": 24
        }
      ]
    },
    {
      "cell_type": "code",
      "source": [
        "modelo_CBOW.wv.similarity('rede', 'python')"
      ],
      "metadata": {
        "colab": {
          "base_uri": "https://localhost:8080/"
        },
        "id": "xab55HQI7Lej",
        "outputId": "cb0ecc3e-a269-46c0-82e9-01854985247d"
      },
      "execution_count": null,
      "outputs": [
        {
          "output_type": "execute_result",
          "data": {
            "text/plain": [
              "0.657055"
            ]
          },
          "metadata": {},
          "execution_count": 25
        }
      ]
    },
    {
      "cell_type": "markdown",
      "source": [
        "Vamos testar as analogias de palavras:"
      ],
      "metadata": {
        "id": "WvIUaFpbOkKP"
      }
    },
    {
      "cell_type": "code",
      "source": [
        "def analogia(modelo, palavra_soma1, palavra_soma2, palavra_negativa):\n",
        "  analogia = modelo.wv.most_similar(positive=[palavra_soma1, palavra_soma2], negative=[palavra_negativa], topn=1)\n",
        "  return analogia"
      ],
      "metadata": {
        "id": "PptyQYlnOpvO"
      },
      "execution_count": null,
      "outputs": []
    },
    {
      "cell_type": "code",
      "source": [
        "analogia(modelo_CBOW, 'rede', 'convolucional', 'neural')"
      ],
      "metadata": {
        "colab": {
          "base_uri": "https://localhost:8080/"
        },
        "id": "Zhhuu6EAOb_Q",
        "outputId": "fa71281d-0e18-4b17-a241-24d510c7d962"
      },
      "execution_count": null,
      "outputs": [
        {
          "output_type": "execute_result",
          "data": {
            "text/plain": [
              "[('torch', 0.8738280534744263)]"
            ]
          },
          "metadata": {},
          "execution_count": 37
        }
      ]
    },
    {
      "cell_type": "code",
      "source": [
        "analogia(modelo_skip_gram, 'rede', 'convolucional', 'neural')"
      ],
      "metadata": {
        "colab": {
          "base_uri": "https://localhost:8080/"
        },
        "id": "IsHpCENuPnRf",
        "outputId": "bd100f10-e19f-4d1e-d390-4a2d9280d299"
      },
      "execution_count": null,
      "outputs": [
        {
          "output_type": "execute_result",
          "data": {
            "text/plain": [
              "[('implementada', 0.7795159816741943)]"
            ]
          },
          "metadata": {},
          "execution_count": 38
        }
      ]
    },
    {
      "cell_type": "code",
      "source": [
        "analogia(modelo_CBOW, 'python', 'pacotes', 'instalar')"
      ],
      "metadata": {
        "colab": {
          "base_uri": "https://localhost:8080/"
        },
        "id": "102IHFLEPtSm",
        "outputId": "209c3e55-7770-4d98-dc2f-b2d7ad5883aa"
      },
      "execution_count": null,
      "outputs": [
        {
          "output_type": "execute_result",
          "data": {
            "text/plain": [
              "[('utilizar', 0.9744222164154053)]"
            ]
          },
          "metadata": {},
          "execution_count": 39
        }
      ]
    },
    {
      "cell_type": "code",
      "source": [
        "analogia(modelo_skip_gram, 'python', 'pacotes', 'instalar')"
      ],
      "metadata": {
        "colab": {
          "base_uri": "https://localhost:8080/"
        },
        "id": "z6sps0CTRUJF",
        "outputId": "7f70d874-4d2d-4f63-d7b8-bf1a89a010ba"
      },
      "execution_count": null,
      "outputs": [
        {
          "output_type": "execute_result",
          "data": {
            "text/plain": [
              "[('versões', 0.8703484535217285)]"
            ]
          },
          "metadata": {},
          "execution_count": 40
        }
      ]
    },
    {
      "cell_type": "code",
      "source": [
        "analogia(modelo_CBOW, 'inteligência', 'linguagem', 'artificial')"
      ],
      "metadata": {
        "colab": {
          "base_uri": "https://localhost:8080/"
        },
        "id": "7SFet_eFR5M0",
        "outputId": "091604a3-e021-46eb-c45f-ad656ff77305"
      },
      "execution_count": null,
      "outputs": [
        {
          "output_type": "execute_result",
          "data": {
            "text/plain": [
              "[('natural', 0.9889904856681824)]"
            ]
          },
          "metadata": {},
          "execution_count": 43
        }
      ]
    },
    {
      "cell_type": "code",
      "source": [
        "analogia(modelo_skip_gram, 'inteligência', 'linguagem', 'artificial')"
      ],
      "metadata": {
        "colab": {
          "base_uri": "https://localhost:8080/"
        },
        "id": "B40eUXSBR39i",
        "outputId": "9b2e0f35-a389-4e39-a788-27e59c8a0214"
      },
      "execution_count": null,
      "outputs": [
        {
          "output_type": "execute_result",
          "data": {
            "text/plain": [
              "[('natural', 0.9294342994689941)]"
            ]
          },
          "metadata": {},
          "execution_count": 45
        }
      ]
    },
    {
      "cell_type": "markdown",
      "source": [
        "É possível ver que as analogias fazem sentido, trazem palavras em que é possível notar a relação criada pela função."
      ],
      "metadata": {
        "id": "5-fbLQkvUQ5Z"
      }
    },
    {
      "cell_type": "markdown",
      "source": [
        "Farei os mesmo testes, porém variando as dimensões dos embeddings, aumentado-os e diminuindo-os, usarei apenas CBOW, pois apresentou resultados mais interessantes."
      ],
      "metadata": {
        "id": "S7gfvRLSLOih"
      }
    },
    {
      "cell_type": "code",
      "source": [
        "dimensões = 10"
      ],
      "metadata": {
        "id": "eu30mBGGKzfv"
      },
      "execution_count": null,
      "outputs": []
    },
    {
      "cell_type": "code",
      "source": [
        "modelo_CBOW = Word2Vec(sentences=df['texto_emb'], vector_size=dimensões, window=contexto, sg=0, epochs=10)"
      ],
      "metadata": {
        "id": "JZ7N7SSDLIku"
      },
      "execution_count": null,
      "outputs": []
    },
    {
      "cell_type": "code",
      "source": [
        "rede = modelo_CBOW.wv[\"rede\"]\n",
        "rede"
      ],
      "metadata": {
        "colab": {
          "base_uri": "https://localhost:8080/"
        },
        "id": "b84pKRr5Wbvw",
        "outputId": "98190ce5-813c-4f1b-ae53-244710159556"
      },
      "execution_count": null,
      "outputs": [
        {
          "output_type": "execute_result",
          "data": {
            "text/plain": [
              "array([ 0.51542526,  1.4178147 ,  3.1603405 , -0.5889736 , -2.6242278 ,\n",
              "        0.60484445,  2.2433496 ,  0.8585933 , -0.38840348, -0.8754182 ],\n",
              "      dtype=float32)"
            ]
          },
          "metadata": {},
          "execution_count": 43
        }
      ]
    },
    {
      "cell_type": "code",
      "source": [
        "modelo_CBOW.wv.most_similar('rede', topn=10)"
      ],
      "metadata": {
        "colab": {
          "base_uri": "https://localhost:8080/"
        },
        "id": "3xESM-dUWaII",
        "outputId": "be936153-e984-448b-e3ab-9b77c8b21ebb"
      },
      "execution_count": null,
      "outputs": [
        {
          "output_type": "execute_result",
          "data": {
            "text/plain": [
              "[('criar', 0.7809261083602905),\n",
              " ('tipo', 0.7677011489868164),\n",
              " ('descendente', 0.7592505216598511),\n",
              " ('método', 0.7458010315895081),\n",
              " ('primeiro', 0.727073609828949),\n",
              " ('código', 0.7260300517082214),\n",
              " ('treinada', 0.7252087593078613),\n",
              " ('melhor', 0.7225546836853027),\n",
              " ('passo', 0.7189661860466003),\n",
              " ('treinar', 0.7186588644981384)]"
            ]
          },
          "metadata": {},
          "execution_count": 44
        }
      ]
    },
    {
      "cell_type": "code",
      "source": [
        "modelo_CBOW.wv.most_similar(\"python\", topn=10)"
      ],
      "metadata": {
        "colab": {
          "base_uri": "https://localhost:8080/"
        },
        "id": "BZtteXPeVrvg",
        "outputId": "8a7e12fb-de1f-47e8-e52c-06e472a4c9d5"
      },
      "execution_count": null,
      "outputs": [
        {
          "output_type": "execute_result",
          "data": {
            "text/plain": [
              "[('biblioteca', 0.9612866640090942),\n",
              " ('nltk', 0.9252141118049622),\n",
              " ('bibliotecas', 0.9240397810935974),\n",
              " ('algumas', 0.8983113765716553),\n",
              " ('análise', 0.8977610468864441),\n",
              " ('utilizar', 0.8858351707458496),\n",
              " ('código', 0.8816490173339844),\n",
              " ('filtrar', 0.8713682293891907),\n",
              " ('vamos', 0.8697175979614258),\n",
              " ('alguns', 0.8691532015800476)]"
            ]
          },
          "metadata": {},
          "execution_count": 45
        }
      ]
    },
    {
      "cell_type": "code",
      "source": [
        "modelo_CBOW.wv.similarity('rede', 'python')"
      ],
      "metadata": {
        "colab": {
          "base_uri": "https://localhost:8080/"
        },
        "id": "9x0xO1kPWnsf",
        "outputId": "80009bdf-028e-4b66-d74c-e578bc2959e9"
      },
      "execution_count": null,
      "outputs": [
        {
          "output_type": "execute_result",
          "data": {
            "text/plain": [
              "0.5585377"
            ]
          },
          "metadata": {},
          "execution_count": 46
        }
      ]
    },
    {
      "cell_type": "code",
      "source": [
        "analogia(modelo_CBOW, 'rede', 'convolucional', 'neural')"
      ],
      "metadata": {
        "colab": {
          "base_uri": "https://localhost:8080/"
        },
        "id": "7rXpoNc9WqKh",
        "outputId": "d1415af2-512f-426d-a4d6-87f4b75b8fa6"
      },
      "execution_count": null,
      "outputs": [
        {
          "output_type": "execute_result",
          "data": {
            "text/plain": [
              "[('funcionalidades', 0.8418689966201782)]"
            ]
          },
          "metadata": {},
          "execution_count": 47
        }
      ]
    },
    {
      "cell_type": "code",
      "source": [
        "analogia(modelo_CBOW, 'inteligência', 'linguagem', 'artificial')"
      ],
      "metadata": {
        "colab": {
          "base_uri": "https://localhost:8080/"
        },
        "id": "n_pDBui_WsgZ",
        "outputId": "06d055d2-06b1-4d1a-8598-8a2208d6ffc4"
      },
      "execution_count": null,
      "outputs": [
        {
          "output_type": "execute_result",
          "data": {
            "text/plain": [
              "[('abordado', 0.9372997283935547)]"
            ]
          },
          "metadata": {},
          "execution_count": 48
        }
      ]
    },
    {
      "cell_type": "code",
      "source": [
        "analogia(modelo_CBOW, 'python', 'pacotes', 'instalar')"
      ],
      "metadata": {
        "colab": {
          "base_uri": "https://localhost:8080/"
        },
        "id": "oDNA3V4kWtLA",
        "outputId": "bdcfe8a4-a38d-415d-aadc-c30ffd9261d8"
      },
      "execution_count": null,
      "outputs": [
        {
          "output_type": "execute_result",
          "data": {
            "text/plain": [
              "[('biblioteca', 0.9052190184593201)]"
            ]
          },
          "metadata": {},
          "execution_count": 49
        }
      ]
    },
    {
      "cell_type": "markdown",
      "source": [
        "Provavelmente pela baixa dimensionalidade algumas das funções acabam apresentando resultados não muito interessantes."
      ],
      "metadata": {
        "id": "y5epSagGW6aw"
      }
    },
    {
      "cell_type": "code",
      "source": [
        "dimensões = 500"
      ],
      "metadata": {
        "id": "wmhYSwXjLI3e"
      },
      "execution_count": null,
      "outputs": []
    },
    {
      "cell_type": "code",
      "source": [
        "modelo_CBOW = Word2Vec(sentences=df['texto_emb'], vector_size=dimensões, window=contexto, sg=0, epochs=10)"
      ],
      "metadata": {
        "id": "fEgWOGQ-VsMB"
      },
      "execution_count": null,
      "outputs": []
    },
    {
      "cell_type": "code",
      "source": [
        "rede = modelo_CBOW.wv[\"rede\"]\n",
        "rede"
      ],
      "metadata": {
        "colab": {
          "base_uri": "https://localhost:8080/"
        },
        "id": "ldzhvFTHm4QR",
        "outputId": "c4d89555-b447-4389-c357-1f3e3d62da3a"
      },
      "execution_count": null,
      "outputs": [
        {
          "output_type": "execute_result",
          "data": {
            "text/plain": [
              "array([ 2.22413331e-01,  3.46472174e-01,  6.32724445e-03,  2.37687379e-01,\n",
              "       -1.47338256e-01, -1.97119191e-01,  3.56037878e-02,  3.61162484e-01,\n",
              "        4.93390486e-02,  1.78491518e-01, -1.28873557e-01,  2.96662569e-01,\n",
              "        5.06810322e-02, -2.14484986e-02,  1.19349137e-01,  4.33469284e-03,\n",
              "       -1.31197840e-01,  1.78843960e-02,  1.76853821e-01, -1.86892942e-01,\n",
              "        9.43736732e-02, -5.80335259e-02,  1.41269401e-01,  3.75228818e-03,\n",
              "        1.87682375e-01, -1.12576038e-01,  3.72759461e-01, -7.43059162e-03,\n",
              "       -2.65564114e-01,  1.44707337e-01,  2.05978096e-01, -1.70430802e-02,\n",
              "       -1.99382603e-01, -6.93896934e-02,  1.30577874e-03,  6.58558868e-03,\n",
              "        8.70945901e-02, -1.68241113e-01, -1.43234760e-01, -2.82403290e-01,\n",
              "        5.23834899e-02,  2.55447533e-02, -2.79269785e-01,  1.03881054e-01,\n",
              "       -1.22166820e-01, -2.89150298e-01, -2.06607804e-01,  3.22273970e-02,\n",
              "       -2.33006790e-01, -1.53794095e-01,  1.57348011e-02, -1.58303514e-01,\n",
              "       -1.56317040e-01, -2.82072514e-01,  2.16915578e-01, -1.73914373e-01,\n",
              "        1.66992992e-01,  5.53903021e-02,  3.05694025e-02,  2.95607559e-02,\n",
              "        1.27590507e-01,  5.53008728e-02, -7.17725605e-02, -2.97392029e-02,\n",
              "       -1.33882329e-01,  3.22615094e-02, -7.71955624e-02,  2.12629914e-01,\n",
              "        1.19380169e-01, -1.05889896e-02, -3.74518961e-01, -4.05420177e-02,\n",
              "        8.84762481e-02, -2.40450632e-02,  1.33631080e-01,  1.27443448e-01,\n",
              "       -5.27351275e-02,  7.20784739e-02,  2.83793539e-01,  2.57119924e-01,\n",
              "       -4.95627476e-03,  1.35761186e-01, -1.16619274e-01,  2.24230155e-01,\n",
              "       -4.81481761e-01,  1.03883162e-01, -1.54218152e-01,  1.08767539e-01,\n",
              "        1.54657707e-01,  9.32889953e-02, -4.07087877e-02,  1.05769165e-01,\n",
              "       -1.53908849e-01,  5.15247509e-02,  2.38925248e-01, -9.10103247e-02,\n",
              "        2.55300522e-01,  5.35550229e-02,  2.14398682e-01,  5.35669997e-02,\n",
              "       -1.05619401e-01, -1.62898190e-02, -2.21722335e-01, -7.32044503e-02,\n",
              "        2.34363139e-01, -6.73492253e-02, -5.11719962e-04,  2.32052639e-01,\n",
              "       -1.32363409e-01,  1.21472582e-01, -2.53052115e-01, -1.64294049e-01,\n",
              "       -4.61354777e-02,  2.57599622e-01, -1.52830154e-01,  2.19183579e-01,\n",
              "       -6.27807155e-02, -8.65757391e-02, -1.72927929e-03, -1.94433071e-02,\n",
              "        5.45065328e-02, -5.06880917e-02,  1.63183346e-01, -3.10269296e-02,\n",
              "        9.22406167e-02, -5.82975559e-02, -1.28369853e-01,  1.93635851e-01,\n",
              "       -2.19769612e-01,  2.96289865e-02,  2.23364577e-01,  7.52211362e-02,\n",
              "       -1.05948262e-01, -1.37355745e-01, -5.20800836e-02,  3.24132979e-01,\n",
              "       -1.19290933e-01, -1.22305512e-01, -1.84869040e-02, -3.66577059e-01,\n",
              "        8.15604627e-02, -1.33340836e-01,  1.49827659e-01,  6.10885434e-02,\n",
              "        1.05502293e-01,  9.91180465e-02, -7.92238414e-02, -4.75280285e-02,\n",
              "        6.96341023e-02,  3.19815516e-01,  3.22008044e-01, -1.55312851e-01,\n",
              "       -5.18561490e-02,  3.30378637e-02, -4.57609296e-01, -1.03117861e-01,\n",
              "        3.04912150e-01, -9.60821286e-02,  5.61900958e-02,  1.49152607e-01,\n",
              "        5.76850064e-02,  7.35270604e-02, -2.31068686e-01, -7.96627328e-02,\n",
              "        6.29260018e-02,  2.61708438e-01,  3.37313801e-01,  1.00416526e-01,\n",
              "        1.98912084e-01,  9.15310159e-02, -3.09164613e-03,  2.55930185e-01,\n",
              "       -6.22176453e-02,  1.16740935e-01, -1.34052886e-02, -2.14978382e-01,\n",
              "       -1.47201642e-01, -7.26701915e-02,  3.71372141e-02,  1.97323933e-02,\n",
              "        6.47145882e-02,  9.34059545e-02,  2.08986327e-01,  1.81942098e-02,\n",
              "        2.16680728e-02,  3.98781383e-03, -8.19695890e-02,  8.28493685e-02,\n",
              "        8.84424895e-03,  2.27001101e-01,  2.76459038e-01, -6.63614199e-02,\n",
              "        1.40143573e-01,  4.34269570e-02, -2.08760396e-01, -1.63642704e-01,\n",
              "       -2.47049078e-01, -8.85211900e-02,  1.10927604e-01,  1.89182237e-02,\n",
              "       -2.57065773e-01,  1.30557995e-02,  2.35327467e-01,  8.02613795e-02,\n",
              "        2.80341189e-02,  1.35060772e-01, -2.59364937e-02,  5.22526279e-02,\n",
              "       -2.89670140e-01, -2.99268644e-02, -7.38456659e-03, -2.53100265e-02,\n",
              "       -1.51785478e-01, -1.34775996e-01,  6.31777057e-03, -2.16611177e-01,\n",
              "       -1.43303573e-01, -1.24954112e-01, -1.25536844e-01, -1.40421972e-01,\n",
              "        9.83992070e-02,  2.43992463e-01, -6.76188394e-02, -5.76029241e-04,\n",
              "       -5.28125577e-02,  9.45206285e-02,  7.89522678e-02, -3.19797128e-01,\n",
              "        4.26266715e-02,  1.14017678e-02, -1.57141626e-01, -1.05119772e-01,\n",
              "        9.26038101e-02, -1.22968033e-01, -2.40877327e-02, -2.07624659e-01,\n",
              "       -1.84038188e-02, -1.96442485e-01,  2.90173769e-01,  1.91617534e-01,\n",
              "       -1.94001943e-01, -9.16734487e-02, -4.04646248e-01,  1.40340775e-01,\n",
              "        9.19346660e-02, -2.46875003e-01,  1.41477779e-01, -1.83660979e-03,\n",
              "        2.63151992e-03,  3.60237122e-01,  3.21385443e-01, -2.07098171e-01,\n",
              "       -2.60559265e-02, -8.41782838e-02, -2.79484205e-02,  4.32921425e-02,\n",
              "       -2.64460295e-02,  4.11400765e-01, -2.88387299e-01,  2.69942850e-01,\n",
              "       -1.55860230e-01,  1.68673337e-01, -9.83049273e-02, -7.43433908e-02,\n",
              "        5.09174205e-02, -8.87621269e-02, -2.24868253e-01,  4.34829324e-01,\n",
              "       -9.11713950e-03, -6.18266352e-02, -4.18531150e-02, -6.09745868e-02,\n",
              "        1.65666565e-01, -1.70174912e-01, -1.75101370e-01,  1.74429074e-01,\n",
              "       -2.48124272e-01, -1.00443110e-01, -1.98422894e-01,  3.44730645e-01,\n",
              "        6.89411238e-02,  1.23235479e-01,  4.25480679e-02, -2.02196687e-02,\n",
              "        4.25206870e-01, -5.52216806e-02, -1.29976273e-01, -1.46865323e-01,\n",
              "       -1.71760276e-01,  3.76545894e-03, -8.46180916e-02,  4.16216731e-01,\n",
              "        1.70380756e-01,  1.90543711e-01,  2.75280297e-01,  6.14907108e-02,\n",
              "        9.68618989e-02, -1.04168497e-01,  6.02589026e-02, -1.19073298e-02,\n",
              "       -1.92484930e-01, -1.03472441e-01, -3.93874496e-02, -2.91844998e-02,\n",
              "       -1.46672636e-01, -2.07059488e-01, -4.43388410e-02,  9.55253169e-02,\n",
              "        1.69991717e-01, -1.79149270e-01, -9.70029458e-02, -9.98759493e-02,\n",
              "        2.08715685e-02,  3.49823087e-01,  9.27863084e-03, -1.90225124e-01,\n",
              "       -1.01998225e-01, -7.82848150e-02,  1.27471447e-01, -1.48976957e-02,\n",
              "        1.50482148e-01, -1.23168059e-01, -1.59507588e-01, -1.85489073e-01,\n",
              "       -1.29087344e-01, -1.19771268e-02, -1.65827721e-01, -1.35574609e-01,\n",
              "        1.07427292e-01,  1.27920970e-01,  3.09947040e-02,  1.77946016e-01,\n",
              "       -3.91424969e-02,  3.26795280e-02,  3.94161530e-02, -2.36429468e-01,\n",
              "       -2.40237370e-01,  2.91404694e-01, -1.09420501e-01, -8.20866451e-02,\n",
              "        1.47090591e-02,  1.61200106e-01, -3.52907088e-03, -1.68433458e-01,\n",
              "        1.94734454e-01, -6.97536170e-02, -1.52519926e-01,  2.44170427e-02,\n",
              "       -2.64248028e-02,  8.59389901e-02, -2.29810655e-01, -5.70618846e-02,\n",
              "       -2.90568233e-01,  2.39103228e-01, -2.44968086e-01,  4.77971844e-02,\n",
              "       -1.40908003e-01, -9.14566778e-03,  2.02162623e-01,  9.07211229e-02,\n",
              "        1.90092936e-01,  1.79965362e-01, -1.73742324e-01,  2.70360142e-01,\n",
              "        4.25881222e-02,  1.21538974e-02, -1.49761319e-01, -2.65239447e-01,\n",
              "       -2.42551327e-01,  2.75429010e-01, -6.02014400e-02, -2.92121559e-01,\n",
              "        6.68704044e-03, -2.25315213e-01, -6.76727993e-03, -7.16272369e-02,\n",
              "        2.47217983e-01,  1.43017679e-01, -4.16507386e-02, -2.91626751e-02,\n",
              "        1.63892269e-01,  1.24882765e-01,  5.30864783e-02,  7.40640238e-02,\n",
              "       -5.63124344e-02, -1.70017123e-01,  5.15458696e-02, -4.50103916e-02,\n",
              "       -1.27512217e-01, -1.89618617e-01, -5.57072051e-02, -2.20149353e-01,\n",
              "       -7.99920559e-02, -1.73172772e-01,  2.05922291e-01,  2.19389126e-01,\n",
              "        2.14406699e-01, -9.13023353e-02, -7.57295936e-02,  3.04266006e-01,\n",
              "       -1.31792694e-01,  1.73310414e-01,  1.03436112e-02, -2.46279120e-01,\n",
              "        2.43538851e-03, -1.51680797e-01,  5.27448617e-02, -8.25131387e-02,\n",
              "        6.12545758e-02,  5.33536896e-02, -1.71787232e-01, -1.48762882e-01,\n",
              "        8.53972435e-02, -1.25084296e-01,  1.78291723e-01,  2.14138553e-02,\n",
              "        2.35704198e-01, -1.77824944e-02,  1.39022004e-02, -1.27375245e-01,\n",
              "       -1.14473579e-02,  1.13851972e-01, -1.64222512e-02,  2.59168595e-01,\n",
              "       -2.86180735e-01, -1.99562266e-01,  1.43411621e-01, -1.01211265e-01,\n",
              "       -7.41250021e-03, -1.53491423e-01,  6.00103429e-03, -2.15977415e-01,\n",
              "       -2.23411284e-02,  9.82989818e-02, -3.07303332e-02,  2.76161283e-01,\n",
              "        6.64297491e-02,  5.47450036e-02, -1.61960229e-01,  1.17920913e-01,\n",
              "        9.70237106e-02,  3.93202305e-02,  9.84359309e-02,  4.78689894e-02,\n",
              "        1.78209081e-01,  1.54101163e-01,  8.14779848e-02, -5.97416945e-02,\n",
              "        7.13369548e-02, -3.19616869e-02, -1.33609719e-04,  6.90626353e-02,\n",
              "        2.84088863e-04, -1.06564716e-01,  5.88675775e-02, -6.92467317e-02,\n",
              "        2.50713807e-02, -7.40389228e-02, -6.34085909e-02, -1.36981994e-01,\n",
              "        5.89914471e-02,  1.11582950e-01, -1.40093779e-02, -4.29656990e-02,\n",
              "       -2.51824617e-01, -2.04829231e-01,  2.02448275e-02, -3.84671539e-01,\n",
              "       -2.24339053e-01,  1.23276427e-01, -2.08265379e-01, -2.63369620e-01,\n",
              "       -3.30234170e-02, -4.12282705e-01, -2.70977896e-02,  2.36817494e-01,\n",
              "        4.02605116e-01, -9.32149589e-02, -3.18732589e-01, -2.93442637e-01,\n",
              "       -1.11901388e-01, -1.30857915e-01,  1.52775779e-01,  1.86495796e-01,\n",
              "       -1.04690723e-01,  2.29045361e-01, -2.06290662e-01,  7.48533607e-02,\n",
              "        2.29182690e-01, -9.90469381e-02,  4.98454757e-02, -7.08764121e-02,\n",
              "        2.01441243e-01,  4.31991667e-02,  4.17536013e-02, -7.03387633e-02,\n",
              "       -1.31037133e-02, -2.81623065e-01, -3.58415157e-01, -2.57833719e-01],\n",
              "      dtype=float32)"
            ]
          },
          "metadata": {},
          "execution_count": 52
        }
      ]
    },
    {
      "cell_type": "code",
      "source": [
        "modelo_CBOW.wv.most_similar('rede', topn=10)"
      ],
      "metadata": {
        "colab": {
          "base_uri": "https://localhost:8080/"
        },
        "id": "IBPmokhmW2YZ",
        "outputId": "f057e115-00c4-4800-b319-21e0e1f9f757"
      },
      "execution_count": null,
      "outputs": [
        {
          "output_type": "execute_result",
          "data": {
            "text/plain": [
              "[('neural', 0.9335311055183411),\n",
              " ('dataset', 0.9162347912788391),\n",
              " ('erro', 0.9157459735870361),\n",
              " ('conjunto', 0.913995087146759),\n",
              " ('imagem', 0.9131611585617065),\n",
              " ('parâmetros', 0.9130321145057678),\n",
              " ('precisamos', 0.9124004244804382),\n",
              " ('partir', 0.910020649433136),\n",
              " ('forma', 0.909677267074585),\n",
              " ('acima', 0.9091996550559998)]"
            ]
          },
          "metadata": {},
          "execution_count": 53
        }
      ]
    },
    {
      "cell_type": "code",
      "source": [
        "modelo_CBOW.wv.most_similar(\"python\", topn=10)"
      ],
      "metadata": {
        "colab": {
          "base_uri": "https://localhost:8080/"
        },
        "id": "jcqy837JW2Yj",
        "outputId": "11c0729c-3e80-4721-a2f5-41a8dc184220"
      },
      "execution_count": null,
      "outputs": [
        {
          "output_type": "execute_result",
          "data": {
            "text/plain": [
              "[('bibliotecas', 0.9960728883743286),\n",
              " ('nltk', 0.9943804740905762),\n",
              " ('algumas', 0.9937997460365295),\n",
              " ('agora', 0.9934364557266235),\n",
              " ('pandas', 0.9930561184883118),\n",
              " ('importar', 0.9921028017997742),\n",
              " ('métodos', 0.9919045567512512),\n",
              " ('primeiro', 0.9918662905693054),\n",
              " ('principais', 0.9917483329772949),\n",
              " ('entender', 0.99171382188797)]"
            ]
          },
          "metadata": {},
          "execution_count": 54
        }
      ]
    },
    {
      "cell_type": "code",
      "source": [
        "modelo_CBOW.wv.similarity('rede', 'python')"
      ],
      "metadata": {
        "colab": {
          "base_uri": "https://localhost:8080/"
        },
        "id": "fjcnEchxW2Yj",
        "outputId": "d1bebac1-6da2-42ce-eb7b-7d518639c8e6"
      },
      "execution_count": null,
      "outputs": [
        {
          "output_type": "execute_result",
          "data": {
            "text/plain": [
              "0.79529774"
            ]
          },
          "metadata": {},
          "execution_count": 55
        }
      ]
    },
    {
      "cell_type": "code",
      "source": [
        "analogia(modelo_CBOW, 'rede', 'convolucional', 'neural')"
      ],
      "metadata": {
        "colab": {
          "base_uri": "https://localhost:8080/"
        },
        "id": "kAHNrzkZW2Yj",
        "outputId": "fec70552-05b7-4cca-f659-9931263c29b2"
      },
      "execution_count": null,
      "outputs": [
        {
          "output_type": "execute_result",
          "data": {
            "text/plain": [
              "[('implementada', 0.9328182935714722)]"
            ]
          },
          "metadata": {},
          "execution_count": 56
        }
      ]
    },
    {
      "cell_type": "code",
      "source": [
        "analogia(modelo_CBOW, 'inteligência', 'linguagem', 'artificial')"
      ],
      "metadata": {
        "colab": {
          "base_uri": "https://localhost:8080/"
        },
        "id": "N_3wlE2WW2Yj",
        "outputId": "727efb5d-8f36-412f-a546-0ab3bda5cfaa"
      },
      "execution_count": null,
      "outputs": [
        {
          "output_type": "execute_result",
          "data": {
            "text/plain": [
              "[('natural', 0.9961012005805969)]"
            ]
          },
          "metadata": {},
          "execution_count": 57
        }
      ]
    },
    {
      "cell_type": "code",
      "source": [
        "analogia(modelo_CBOW, 'python', 'pacotes', 'instalar')"
      ],
      "metadata": {
        "colab": {
          "base_uri": "https://localhost:8080/"
        },
        "id": "d0ns7oo_W2Yj",
        "outputId": "c14c0100-f3a5-4240-b5a1-9f668659f0d1"
      },
      "execution_count": null,
      "outputs": [
        {
          "output_type": "execute_result",
          "data": {
            "text/plain": [
              "[('algumas', 0.9951919317245483)]"
            ]
          },
          "metadata": {},
          "execution_count": 58
        }
      ]
    },
    {
      "cell_type": "markdown",
      "source": [
        "Esse número alto de embeddings também gerou resultados mais confusos e menos produtivos."
      ],
      "metadata": {
        "id": "21jbOyQNW4mY"
      }
    },
    {
      "cell_type": "code",
      "source": [
        "dimensões = 1000"
      ],
      "metadata": {
        "id": "B4oXkwOWLLm9"
      },
      "execution_count": null,
      "outputs": []
    },
    {
      "cell_type": "code",
      "source": [
        "modelo_CBOW = Word2Vec(sentences=df['texto_emb'], vector_size=dimensões, window=contexto, sg=0, epochs=10)"
      ],
      "metadata": {
        "id": "OUHGzOHkVsmY"
      },
      "execution_count": null,
      "outputs": []
    },
    {
      "cell_type": "code",
      "source": [
        "modelo_CBOW.wv.most_similar('rede', topn=10)"
      ],
      "metadata": {
        "colab": {
          "base_uri": "https://localhost:8080/"
        },
        "id": "817LECV-W3ZD",
        "outputId": "5f1eb877-6345-4d02-f795-2f071a7bceae"
      },
      "execution_count": null,
      "outputs": [
        {
          "output_type": "execute_result",
          "data": {
            "text/plain": [
              "[('neural', 0.9730989336967468),\n",
              " ('parâmetros', 0.9664744138717651),\n",
              " ('erro', 0.9643709659576416),\n",
              " ('conjunto', 0.9643197059631348),\n",
              " ('custo', 0.963556170463562),\n",
              " ('entrada', 0.962872326374054),\n",
              " ('dataset', 0.9618158340454102),\n",
              " ('partir', 0.9617351293563843),\n",
              " ('tamanho', 0.9613180160522461),\n",
              " ('base', 0.9606749415397644)]"
            ]
          },
          "metadata": {},
          "execution_count": 61
        }
      ]
    },
    {
      "cell_type": "code",
      "source": [
        "modelo_CBOW.wv.most_similar(\"python\", topn=10)"
      ],
      "metadata": {
        "colab": {
          "base_uri": "https://localhost:8080/"
        },
        "id": "gk1D-Q9mW3ZE",
        "outputId": "5fbd0da0-91b5-4d1b-d95e-b0b89dbde7ff"
      },
      "execution_count": null,
      "outputs": [
        {
          "output_type": "execute_result",
          "data": {
            "text/plain": [
              "[('algumas', 0.9976314306259155),\n",
              " ('começar', 0.9975298643112183),\n",
              " ('importar', 0.9973495006561279),\n",
              " ('nltk', 0.9967041611671448),\n",
              " ('ver', 0.9966059923171997),\n",
              " ('primeiro', 0.9961785078048706),\n",
              " ('pandas', 0.9960833787918091),\n",
              " ('desbalanceados', 0.995983362197876),\n",
              " ('entender', 0.9959710836410522),\n",
              " ('implementação', 0.9959138035774231)]"
            ]
          },
          "metadata": {},
          "execution_count": 62
        }
      ]
    },
    {
      "cell_type": "code",
      "source": [
        "modelo_CBOW.wv.similarity('rede', 'python')"
      ],
      "metadata": {
        "colab": {
          "base_uri": "https://localhost:8080/"
        },
        "id": "r7lWy83mW3ZE",
        "outputId": "8386b3c6-58a7-45b0-92fd-a501a93338d0"
      },
      "execution_count": null,
      "outputs": [
        {
          "output_type": "execute_result",
          "data": {
            "text/plain": [
              "0.9012755"
            ]
          },
          "metadata": {},
          "execution_count": 63
        }
      ]
    },
    {
      "cell_type": "code",
      "source": [
        "analogia(modelo_CBOW, 'rede', 'convolucional', 'neural')"
      ],
      "metadata": {
        "colab": {
          "base_uri": "https://localhost:8080/"
        },
        "id": "0oqEoCyeW3ZE",
        "outputId": "01c438e7-8859-4435-e827-28f1fab1ba21"
      },
      "execution_count": null,
      "outputs": [
        {
          "output_type": "execute_result",
          "data": {
            "text/plain": [
              "[('torch', 0.9710482358932495)]"
            ]
          },
          "metadata": {},
          "execution_count": 64
        }
      ]
    },
    {
      "cell_type": "code",
      "source": [
        "analogia(modelo_CBOW, 'inteligência', 'linguagem', 'artificial')"
      ],
      "metadata": {
        "colab": {
          "base_uri": "https://localhost:8080/"
        },
        "id": "2yoq3YC6W3ZE",
        "outputId": "629a1173-88e9-4ee8-ff5b-cbccddfd3990"
      },
      "execution_count": null,
      "outputs": [
        {
          "output_type": "execute_result",
          "data": {
            "text/plain": [
              "[('natural', 0.9980757832527161)]"
            ]
          },
          "metadata": {},
          "execution_count": 65
        }
      ]
    },
    {
      "cell_type": "code",
      "source": [
        "analogia(modelo_CBOW, 'python', 'pacotes', 'instalar')"
      ],
      "metadata": {
        "colab": {
          "base_uri": "https://localhost:8080/"
        },
        "id": "3Bw9lMRgW3ZF",
        "outputId": "75297f90-2efe-40aa-ec8c-bd551d7d4a61"
      },
      "execution_count": null,
      "outputs": [
        {
          "output_type": "execute_result",
          "data": {
            "text/plain": [
              "[('código', 0.9973474740982056)]"
            ]
          },
          "metadata": {},
          "execution_count": 66
        }
      ]
    },
    {
      "cell_type": "markdown",
      "source": [
        "As porcentagens com as 1000 dimensões parecem muito elevadas, além disso seguiu um pouco a tendência das 500 dimensões com resultados menos interessantes.\n",
        "\n",
        "É nítido que resultados bons e alto número de dimensões não é uma relação diretamente proporcional, mas um número baixo de dimensões também não gera bons resultados, devemos então achar um meio termo que gere os melhores resultado."
      ],
      "metadata": {
        "id": "KOKe9pASnnV9"
      }
    },
    {
      "cell_type": "markdown",
      "source": [
        "#5 Sumarização:"
      ],
      "metadata": {
        "id": "t-OAI2k_noAW"
      }
    },
    {
      "cell_type": "markdown",
      "source": [
        "##Sumarização extrativa:"
      ],
      "metadata": {
        "id": "AirqRHWLo7MY"
      }
    },
    {
      "cell_type": "markdown",
      "source": [
        "A extrativa é uma técnica que seleciona as frases mais importantes do texto e as apresenta como um resumo."
      ],
      "metadata": {
        "id": "VbE6Ln8Ro-CH"
      }
    },
    {
      "cell_type": "code",
      "source": [
        "for i in range(len(df['text'])):\n",
        "  if \"Rosa\" in df['text'][i]:\n",
        "    print(i)"
      ],
      "metadata": {
        "colab": {
          "base_uri": "https://localhost:8080/"
        },
        "id": "xXj0QjohnvnZ",
        "outputId": "a1531791-d553-490f-eaf5-a5d6420af543"
      },
      "execution_count": null,
      "outputs": [
        {
          "output_type": "stream",
          "name": "stdout",
          "text": [
            "89\n",
            "96\n"
          ]
        }
      ]
    },
    {
      "cell_type": "code",
      "source": [
        "df['text'][89]"
      ],
      "metadata": {
        "colab": {
          "base_uri": "https://localhost:8080/"
        },
        "id": "03VNj2fxu93q",
        "outputId": "cd767819-f2af-4dc4-a95b-175b868a5c8a"
      },
      "execution_count": null,
      "outputs": [
        {
          "output_type": "execute_result",
          "data": {
            "text/plain": [
              "'Talvez você já tenha visto alguns exemplos pela internet sobre IA\\' s ou bots treinados em milhares de textos para escrever como um autor específico ou replicar um gênero textual. Diferentes técnicas podem ser usadas para gerar esse tipo de resultado. Hoje, vamos ver como construir um modelo para \"escrever\" como João Guimarães Rosa utilizando Redes Neurais Recorrentes. Explicarei aqui o básico sobre esse tipo de Rede Neural, mas, se quiser se aprofundar sobre o assunto, recomendo o nosso Turing Talks sobre o tema: Se quiser conferir o projeto diretamente, você pode acessar o repositório do github com o código completo, ou então o site com o gerador de texto aqui. Antes de começarmos a falar sobre o nosso modelo, vamos antes ver um pouco melhor qual é a nossa tarefa em questão. Um modelo de língua possui uma tarefa bem simples: prever a próxima palavra ou caractere em uma sentença. Qualquer tipo de modelo que esteja cumprindo com essa tarefa, ou sendo treinado para isso, pode ser caracterizado como um modelo de língua. Você com certeza já encontrou modelos de língua pela internet, por exemplo, quando estamos fazendo uma busca no Google e aparecem sugestões para terminar a frase, isso é um modelo de língua. De maneira mais formal, um modelo de língua irá aprender a distribuição de probabilidades em uma sequência de palavras. Ou seja, dada uma sequência de palavras de tamanho m, o modelo atribui uma probabilidade P(w(m+1)|w(1), …, w(m)). João Guimarães Rosa é sem dúvida um dos maiores escritores da nossa literatura. Além de escrever contos e romances, Rosa foi também médico e diplomata brasileiro. Suas histórias são ambientadas em meio ao sertão brasileiro, e dentre vários aspectos formais presentes em sua obra, destaca-se o seu trabalho com a linguagem, esta, marcada por inúmeros neologismos e falas regionais. — Epa! Nomopadrofilhospritossantamêin! Avança, cambada de filhos-da-mãe, que chegou minha vez!…E a casa matraqueou que nem panela de assar pipocas, escurecida àfumaça dos tiros, com os cabras saltando e miando de maracajás, e NhôAugusto gritando qual um demônio preso e pulando como dez demônios soltos. (trecho do conto \"A hora e a vez de Augusto Matraga\") Para construir o nosso modelo, iremos usar todos os livros publicados pelo autor, são eles: Sagarana, Corpo de Baile, Grande Sertão Veredas, Primeiras Estórias, Tutameia, Estas estórias e Ave, palavra. Os PDFs de todos as obras podem ser encontrados no site LeLivros. Tendo os PDFs dos nossos livros baixados, precisamos agora convertê-los para um arquivo .txt. Para isso, iremos utilizar a biblioteca textract: Para simplificarmos o nosso código, iremos juntar todos os textos em apenas um único arquivo. Além disso, informações como notas iniciais da editora, informações de publicação e introduções feitas por outros autores foram retiradas manualmente no processo. Com o texto preparado, vamos ler o arquivo o nosso arquivo e verificar algumas informações básicas, como o número de caracteres: Diferente de nós, humanos, os computadores não conseguem abstrair informações das palavras diretamente. Sendo assim, precisamos pensar em algum tipo de codificação numérica para que a máquina possa processar o nosso texto. Neste caso, iremos criar dois tipos de vetores numéricos: Aqui, criamos três representações importantes: temos o char2idx para codificar o nosso texto em uma representação numérica, o idx2char para decodificar o texto e text_as_int , que representa o nosso texto já codificado. Ao lermos um livro, ou ao utilizar a linguagem de uma maneira geral, estamos levando em conta a ordem na qual os caracteres e as palavras são dispostas na página, ou seja, a ordem em que esses dados aparecem são extremamente importantes para a constituição do sentido do texto. Quando colocamos essa informação em conjunto, temos um texto coeso, do qual conseguimos extrair sentido. Além da linguagem, podemos pensar em outros tipos de dados que também obedecem uma sequência, como informações de um eletrocardiograma, as bases nitrogenas em um DNA, ou séries temporais, por exemplo. Quando temos dados que são dispostos em uma ordem específica, utilizamos modelos sequenciais, como uma Rede Neural Recorrente (Recurrent Neural Network, em inglês — RNN), por exemplo. Uma vantagem das RNNs é que com elas conseguimos treinar facilmente inputs e outputs com tamanhos diferentes e, principalmente, a nossa rede consegue aprender a generalizar as informações textuais independente da sua posição na frase, ou seja, com essa representação o modelo conseguiria prever que a palavra \"Augusto\" muito provavelmente teria a sua próxima palavra como \"Matraga\", independentemente de \"Augusto\" aparecer no início, meio, ou final da frase. Em uma RNN tradicional, temos a seguinte representação: Como comentamos anteriormente, aqui estaremos lidando com dados que obedecem uma determinada sequência. Sendo assim, representaremos os nossos dados em \"timesteps\", e para fazermos previsões sequenciais cada y<t> (output) levará em conta não apenas o valor do seu timestep x<t>(input), mas também usará a informação de seu estado anterior a<t-1>. Se você quiser saber mais informações sobre como funciona uma RNN, dê uma olhada no nosso Turing Talks sobre o tema aqui. Dado um caractere, ou uma sequência de caracteres, qual será o caractere mais provável? — Essa é a tarefa para a qual estaremos treinando o nosso modelo. Sendo assim, teremos uma sequência de caracteres como entrada do modelo e iremos prever o caractere seguinte. Para isso, iremos dividir o texto em sequência de exemplos, e cada sequência terá um número de caracteres de tamanho determinado pela variável seq_length . Para cada sequência de entrada, os targets terão o mesmo comprimento, com exceção de um caractere deslocado para a direita. Dessa forma, a nossa rede ficará assim: Para isso, vamos usar o método from_tensor_to_slices to módulo Dataset to TensorFlow para criar um um objeto desse tipo a partir do text_as_int , que já tínhamos definimos acima. Por fim, vamos separar os dados em batches para o nosso treinamento. Nessa representação, usaremos o comprimento de cada sentença de input limitada para 100 caracteres: Em seguida, precisamos criar tuplas dessas sequências para alimentarmos a nossa RNN: Por fim, vamos embaralhar o nosso dataset e dividi-lo em batches: Nessa representação, usaremos três camadas: Para treinar a nossa rede, usaremos o otimizador \"Adam\" e a função de custo \"Sparse Categorical Loss\". Além disso, para conseguirmos carregar os nossos pesos e salvar a nossa performance, iremos configurar um diretório para os checkpoints: Por fim, usaremos 10 épocas para fazer o nosso treinamento. Para isso, recomendo que você utilize uma GPU. Se você não possui uma GPU no seu computador, você pode usar o Google Colab, e em Runtime>Change runtime type selecione \"GPU\". Para ver a posição do nosso último checkpoint, utilizamos a seguinte notação: tf.train.latest_checkpoint(checkpoint_dir) Finalmente, podemos usar a função que definimos anteriormente para criar um novo modelo com batch_size=1 , e usar o método load_weights salvos do último checkpoint: Agora o nosso modelo está pronto para fazer previsões! Tudo o que precisamos é criar uma função para processar o texto da mesma forma que fizemos anteriormente quando treinamos o modelo: Agora basta escolher uma string e ver o seu modelo fazer previsões! Agora que temos um modelo treinado, podemos usar plataformas como o Streamlit e o Heroku para fazer a versão com o deploy do nosso modelo. Com o Streamlit conseguimos facilmente carregar o nosso modelo, construir uma interface para o usuário escrever a string inicial, e então fazer as previsões do texto. Por fim, utilizamos o Heroku para colocar o que construimos com o Streamlit em uma url compartilhável. Com essas duas plataformas, chegamos em um resultado final assim: Se quiser brincar com o modelo que construímos, basta acessar o site: http://gerador-texto-guimaraes.herokuapp.com/ . Nesse Turing Talks não vamos entrar em detalhes sobre como fazer o deploy do modelo (quem sabe em um próximo texto!). Mas se você quiser ver o código, ele está todo disponível neste repositório: É claro que os nossos resultados estão longe de gerar um texto como um conto ou obra de João Guimarães Rosa, mas justamente pela linguagem muito característica do autor, repleta de neologismos e marcada pelo falar popular do sertão, é curioso ver como o nosso modelo consegue replicar alguns desses padrões, gerando resultados, no mínimo, divertidos. Usando uma representação como essa, conseguimos criar vários outros modelos língua com corpus diferentes. Podemos ensinar uma IA a escrever como Shakespeare, J. R. R. Tolkien, e muitos outros! Basta termos um dataset e tratá-lo para essa tarefa. Se você gostou dessa abordagem, saiba que RNNs são apenas o começo dentre vários outros tipos de redes que podemos usar para construir modelos de língua. Hoje, temos modelos muito mais sofisticados para modelar a linguagem e gerar resultados ainda mais surpreendentes, como o GPT-2, GPT-3 e, o mais recente, Google MUM. Por fim, não deixe de acompanhar o Turing USP no Facebook, Linkedin, Instagram e, claro, nossos posts do Medium! Bons estudos e até a próxima! “O real não está na saída nem na chegada: ele se dispõe para a gente é no meio da travessia.” João Guimarães Rosa Agradecimento especial à Luísa Mendes Heise pela ajuda na coleta do corpus'"
            ],
            "application/vnd.google.colaboratory.intrinsic+json": {
              "type": "string"
            }
          },
          "metadata": {},
          "execution_count": 89
        }
      ]
    },
    {
      "cell_type": "code",
      "source": [
        "escolhido=df['text'][89]"
      ],
      "metadata": {
        "id": "0IIP-ZVEwXFq"
      },
      "execution_count": null,
      "outputs": []
    },
    {
      "cell_type": "code",
      "source": [
        "!pip install bert-extractive-summarizer"
      ],
      "metadata": {
        "colab": {
          "base_uri": "https://localhost:8080/"
        },
        "id": "rm1pQ-vO2g3g",
        "outputId": "c2076310-63dc-4c3c-b283-53f5e6475c67"
      },
      "execution_count": null,
      "outputs": [
        {
          "output_type": "stream",
          "name": "stdout",
          "text": [
            "Collecting bert-extractive-summarizer\n",
            "  Downloading bert_extractive_summarizer-0.10.1-py3-none-any.whl (25 kB)\n",
            "Requirement already satisfied: transformers in /usr/local/lib/python3.10/dist-packages (from bert-extractive-summarizer) (4.34.0)\n",
            "Requirement already satisfied: scikit-learn in /usr/local/lib/python3.10/dist-packages (from bert-extractive-summarizer) (1.2.2)\n",
            "Requirement already satisfied: spacy in /usr/local/lib/python3.10/dist-packages (from bert-extractive-summarizer) (3.6.1)\n",
            "Requirement already satisfied: numpy>=1.17.3 in /usr/local/lib/python3.10/dist-packages (from scikit-learn->bert-extractive-summarizer) (1.23.1)\n",
            "Requirement already satisfied: scipy>=1.3.2 in /usr/local/lib/python3.10/dist-packages (from scikit-learn->bert-extractive-summarizer) (1.11.3)\n",
            "Requirement already satisfied: joblib>=1.1.1 in /usr/local/lib/python3.10/dist-packages (from scikit-learn->bert-extractive-summarizer) (1.3.2)\n",
            "Requirement already satisfied: threadpoolctl>=2.0.0 in /usr/local/lib/python3.10/dist-packages (from scikit-learn->bert-extractive-summarizer) (3.2.0)\n",
            "Requirement already satisfied: spacy-legacy<3.1.0,>=3.0.11 in /usr/local/lib/python3.10/dist-packages (from spacy->bert-extractive-summarizer) (3.0.12)\n",
            "Requirement already satisfied: spacy-loggers<2.0.0,>=1.0.0 in /usr/local/lib/python3.10/dist-packages (from spacy->bert-extractive-summarizer) (1.0.5)\n",
            "Requirement already satisfied: murmurhash<1.1.0,>=0.28.0 in /usr/local/lib/python3.10/dist-packages (from spacy->bert-extractive-summarizer) (1.0.10)\n",
            "Requirement already satisfied: cymem<2.1.0,>=2.0.2 in /usr/local/lib/python3.10/dist-packages (from spacy->bert-extractive-summarizer) (2.0.8)\n",
            "Requirement already satisfied: preshed<3.1.0,>=3.0.2 in /usr/local/lib/python3.10/dist-packages (from spacy->bert-extractive-summarizer) (3.0.9)\n",
            "Requirement already satisfied: thinc<8.2.0,>=8.1.8 in /usr/local/lib/python3.10/dist-packages (from spacy->bert-extractive-summarizer) (8.1.12)\n",
            "Requirement already satisfied: wasabi<1.2.0,>=0.9.1 in /usr/local/lib/python3.10/dist-packages (from spacy->bert-extractive-summarizer) (1.1.2)\n",
            "Requirement already satisfied: srsly<3.0.0,>=2.4.3 in /usr/local/lib/python3.10/dist-packages (from spacy->bert-extractive-summarizer) (2.4.8)\n",
            "Requirement already satisfied: catalogue<2.1.0,>=2.0.6 in /usr/local/lib/python3.10/dist-packages (from spacy->bert-extractive-summarizer) (2.0.10)\n",
            "Requirement already satisfied: typer<0.10.0,>=0.3.0 in /usr/local/lib/python3.10/dist-packages (from spacy->bert-extractive-summarizer) (0.9.0)\n",
            "Requirement already satisfied: pathy>=0.10.0 in /usr/local/lib/python3.10/dist-packages (from spacy->bert-extractive-summarizer) (0.10.2)\n",
            "Requirement already satisfied: smart-open<7.0.0,>=5.2.1 in /usr/local/lib/python3.10/dist-packages (from spacy->bert-extractive-summarizer) (6.4.0)\n",
            "Requirement already satisfied: tqdm<5.0.0,>=4.38.0 in /usr/local/lib/python3.10/dist-packages (from spacy->bert-extractive-summarizer) (4.66.1)\n",
            "Requirement already satisfied: requests<3.0.0,>=2.13.0 in /usr/local/lib/python3.10/dist-packages (from spacy->bert-extractive-summarizer) (2.31.0)\n",
            "Requirement already satisfied: pydantic!=1.8,!=1.8.1,<3.0.0,>=1.7.4 in /usr/local/lib/python3.10/dist-packages (from spacy->bert-extractive-summarizer) (1.10.13)\n",
            "Requirement already satisfied: jinja2 in /usr/local/lib/python3.10/dist-packages (from spacy->bert-extractive-summarizer) (3.1.2)\n",
            "Requirement already satisfied: setuptools in /usr/local/lib/python3.10/dist-packages (from spacy->bert-extractive-summarizer) (67.7.2)\n",
            "Requirement already satisfied: packaging>=20.0 in /usr/local/lib/python3.10/dist-packages (from spacy->bert-extractive-summarizer) (23.2)\n",
            "Requirement already satisfied: langcodes<4.0.0,>=3.2.0 in /usr/local/lib/python3.10/dist-packages (from spacy->bert-extractive-summarizer) (3.3.0)\n",
            "Requirement already satisfied: filelock in /usr/local/lib/python3.10/dist-packages (from transformers->bert-extractive-summarizer) (3.12.4)\n",
            "Requirement already satisfied: huggingface-hub<1.0,>=0.16.4 in /usr/local/lib/python3.10/dist-packages (from transformers->bert-extractive-summarizer) (0.16.4)\n",
            "Requirement already satisfied: pyyaml>=5.1 in /usr/local/lib/python3.10/dist-packages (from transformers->bert-extractive-summarizer) (6.0.1)\n",
            "Requirement already satisfied: regex!=2019.12.17 in /usr/local/lib/python3.10/dist-packages (from transformers->bert-extractive-summarizer) (2023.6.3)\n",
            "Requirement already satisfied: tokenizers<0.15,>=0.14 in /usr/local/lib/python3.10/dist-packages (from transformers->bert-extractive-summarizer) (0.14.0)\n",
            "Requirement already satisfied: safetensors>=0.3.1 in /usr/local/lib/python3.10/dist-packages (from transformers->bert-extractive-summarizer) (0.3.3)\n",
            "Requirement already satisfied: fsspec in /usr/local/lib/python3.10/dist-packages (from huggingface-hub<1.0,>=0.16.4->transformers->bert-extractive-summarizer) (2023.6.0)\n",
            "Requirement already satisfied: typing-extensions>=3.7.4.3 in /usr/local/lib/python3.10/dist-packages (from huggingface-hub<1.0,>=0.16.4->transformers->bert-extractive-summarizer) (4.5.0)\n",
            "Requirement already satisfied: charset-normalizer<4,>=2 in /usr/local/lib/python3.10/dist-packages (from requests<3.0.0,>=2.13.0->spacy->bert-extractive-summarizer) (3.3.0)\n",
            "Requirement already satisfied: idna<4,>=2.5 in /usr/local/lib/python3.10/dist-packages (from requests<3.0.0,>=2.13.0->spacy->bert-extractive-summarizer) (3.4)\n",
            "Requirement already satisfied: urllib3<3,>=1.21.1 in /usr/local/lib/python3.10/dist-packages (from requests<3.0.0,>=2.13.0->spacy->bert-extractive-summarizer) (2.0.6)\n",
            "Requirement already satisfied: certifi>=2017.4.17 in /usr/local/lib/python3.10/dist-packages (from requests<3.0.0,>=2.13.0->spacy->bert-extractive-summarizer) (2023.7.22)\n",
            "Requirement already satisfied: blis<0.8.0,>=0.7.8 in /usr/local/lib/python3.10/dist-packages (from thinc<8.2.0,>=8.1.8->spacy->bert-extractive-summarizer) (0.7.11)\n",
            "Requirement already satisfied: confection<1.0.0,>=0.0.1 in /usr/local/lib/python3.10/dist-packages (from thinc<8.2.0,>=8.1.8->spacy->bert-extractive-summarizer) (0.1.3)\n",
            "Requirement already satisfied: click<9.0.0,>=7.1.1 in /usr/local/lib/python3.10/dist-packages (from typer<0.10.0,>=0.3.0->spacy->bert-extractive-summarizer) (8.1.7)\n",
            "Requirement already satisfied: MarkupSafe>=2.0 in /usr/local/lib/python3.10/dist-packages (from jinja2->spacy->bert-extractive-summarizer) (2.1.3)\n",
            "Installing collected packages: bert-extractive-summarizer\n",
            "Successfully installed bert-extractive-summarizer-0.10.1\n"
          ]
        }
      ]
    },
    {
      "cell_type": "code",
      "source": [
        "from summarizer import Summarizer\n",
        "model = Summarizer()"
      ],
      "metadata": {
        "colab": {
          "base_uri": "https://localhost:8080/",
          "referenced_widgets": [
            "9873d3e99ad44b5fa71e27160280ee5a",
            "30b36a6f392d41c38bf6cd169249aaed",
            "347a6c598b0a4703895e86fa7095599e",
            "e46dfc28a337404690c7974543bda44f",
            "dbdff3c3482e4fad8cac375972edb06c",
            "eeedafa29bc748a6b0d1309ddb1a6b70",
            "cb755ec0892446ffbd89b785392e5f83",
            "c71e50ec307840bb9b892a2623e19a57",
            "ced5ed351e144859bd15e506e1af7e1f",
            "b88df9baad9448dcb9a5c84cd831c3ff",
            "c458b98ee90d4b468656271d2e4bdc87",
            "d1cb39d19ee84f55aa1f532b396da7db",
            "c412c8d5823f484d8473b2607df7a4e5",
            "83f2bd33071442b7a3fcf3cb5dee4dd3",
            "e42503fdd9af48fe86d7e350f27f995a",
            "0f5b008bf92943f2b06ca53c58faade8",
            "c43e99a9482e4a59b114401cfe976eee",
            "20b1ea6917eb4822a5becf3800f189ae",
            "a9796f6bc96d414691f47715b886b8e7",
            "92378bbcac2543a89325a4ed85db22b5",
            "c2352e51d08c47bf880d1a8fb04dde25",
            "bf0e3f0b4d1b4be98dc7e3ebb9e3e18b",
            "cc6187f13511451ab6f4f00ea8ee220b",
            "2a2289b331084bf0a28c482422aaa944",
            "fed5af8794714390a88ab2c09c45cd2c",
            "1c1f3318265b4a7aa697f8fe717efa92",
            "62e517aea6ee49fba070de1b5b6bbfae",
            "856a2e6bda3d4ea98c929cb78dec2901",
            "312a610b7f3b43b0a790da454fdeec2e",
            "196d1b4e6fe04e80bd7e9c9c7da52030",
            "b43a0f9f84e44f86981cd58559c078c7",
            "a75b736357d7489c98c4bf04de9684e6",
            "f349ccd00b9e4cf1b2b7fb62627fa81d",
            "50e66ced8dc4446db61cfbf9355d170d",
            "f908ea7416e24a56a00c4256fa8767f7",
            "f97109fe377a4bf0b8c93712988fa9a2",
            "98e658eae26c4bbeaefa912b6d665a62",
            "55da1fd6d1cf4a989be70884c1ce2404",
            "f876238f4c2d41abb331a70281a15d70",
            "c3f9cdce25cd4841aeda6f672efb9c67",
            "e8706563c73549499f812a3094bfb09d",
            "03c98774fbe14a8181747e1249fdbbda",
            "3df94e481e3c40308b20b543e0340ecc",
            "0a4cd8eb62fa46b4b4f6b2c082421e39",
            "f5502355e7d5425f84c2bf8a00e6a454",
            "61ad8d0d96ec481ebaa183849703f213",
            "79bccdc95bdb43ccbc8959b5b09749b4",
            "b56b988a5d2f416d9227c765eb99f591",
            "518ead4bedb441a7a386f524b795c864",
            "6b025571131140a5b910b25ae21fb237",
            "4b5593bbc54b4744ab8ed0dbeb2a4f4d",
            "ce5876575721489692260f42fccfa884",
            "39fd02aa49ce46d284687571c0a4b3a2",
            "006678ae32a3418d81e865dc0be74caa",
            "052f304ee3324b42a75fc13395d0e962"
          ]
        },
        "id": "P1mMhvOO2eCj",
        "outputId": "863b2f6c-fbba-4697-b765-a0abddd797c2"
      },
      "execution_count": null,
      "outputs": [
        {
          "output_type": "display_data",
          "data": {
            "text/plain": [
              "Downloading (…)lve/main/config.json:   0%|          | 0.00/571 [00:00<?, ?B/s]"
            ],
            "application/vnd.jupyter.widget-view+json": {
              "version_major": 2,
              "version_minor": 0,
              "model_id": "9873d3e99ad44b5fa71e27160280ee5a"
            }
          },
          "metadata": {}
        },
        {
          "output_type": "display_data",
          "data": {
            "text/plain": [
              "Downloading model.safetensors:   0%|          | 0.00/1.34G [00:00<?, ?B/s]"
            ],
            "application/vnd.jupyter.widget-view+json": {
              "version_major": 2,
              "version_minor": 0,
              "model_id": "d1cb39d19ee84f55aa1f532b396da7db"
            }
          },
          "metadata": {}
        },
        {
          "output_type": "display_data",
          "data": {
            "text/plain": [
              "Downloading (…)okenizer_config.json:   0%|          | 0.00/28.0 [00:00<?, ?B/s]"
            ],
            "application/vnd.jupyter.widget-view+json": {
              "version_major": 2,
              "version_minor": 0,
              "model_id": "cc6187f13511451ab6f4f00ea8ee220b"
            }
          },
          "metadata": {}
        },
        {
          "output_type": "display_data",
          "data": {
            "text/plain": [
              "Downloading (…)solve/main/vocab.txt:   0%|          | 0.00/232k [00:00<?, ?B/s]"
            ],
            "application/vnd.jupyter.widget-view+json": {
              "version_major": 2,
              "version_minor": 0,
              "model_id": "50e66ced8dc4446db61cfbf9355d170d"
            }
          },
          "metadata": {}
        },
        {
          "output_type": "display_data",
          "data": {
            "text/plain": [
              "Downloading (…)/main/tokenizer.json:   0%|          | 0.00/466k [00:00<?, ?B/s]"
            ],
            "application/vnd.jupyter.widget-view+json": {
              "version_major": 2,
              "version_minor": 0,
              "model_id": "f5502355e7d5425f84c2bf8a00e6a454"
            }
          },
          "metadata": {}
        }
      ]
    },
    {
      "cell_type": "code",
      "source": [
        "def sumarizacao_extrativa(text):\n",
        "  extractive = model(text, num_sentences=15)\n",
        "  return extractive"
      ],
      "metadata": {
        "id": "2tK4z1Iq3Ncq"
      },
      "execution_count": null,
      "outputs": []
    },
    {
      "cell_type": "code",
      "source": [
        "sumarizacao_extrativa(escolhido)"
      ],
      "metadata": {
        "colab": {
          "base_uri": "https://localhost:8080/"
        },
        "id": "RfucFBqs3PJQ",
        "outputId": "cf031ce7-8700-41f3-8472-545965b6883a"
      },
      "execution_count": null,
      "outputs": [
        {
          "output_type": "stream",
          "name": "stderr",
          "text": [
            "/usr/local/lib/python3.10/dist-packages/sklearn/cluster/_kmeans.py:870: FutureWarning: The default value of `n_init` will change from 10 to 'auto' in 1.4. Set the value of `n_init` explicitly to suppress the warning\n",
            "  warnings.warn(\n"
          ]
        },
        {
          "output_type": "execute_result",
          "data": {
            "text/plain": [
              "'Talvez você já tenha visto alguns exemplos pela internet sobre IA\\' s ou bots treinados em milhares de textos para escrever como um autor específico ou replicar um gênero textual. Diferentes técnicas podem ser usadas para gerar esse tipo de resultado. João Guimarães Rosa é sem dúvida um dos maiores escritores da nossa literatura. Além de escrever contos e romances, Rosa foi também médico e diplomata brasileiro. Neste caso, iremos criar dois tipos de vetores numéricos: Aqui, criamos três representações importantes: temos o char2idx para codificar o nosso texto em uma representação numérica, o idx2char para decodificar o texto e text_as_int , que representa o nosso texto já codificado. Quando temos dados que são dispostos em uma ordem específica, utilizamos modelos sequenciais, como uma Rede Neural Recorrente (Recurrent Neural Network, em inglês — RNN), por exemplo. Sendo assim, representaremos os nossos dados em \"timesteps\", e para fazermos previsões sequenciais cada y<t> (output) levará em conta não apenas o valor do seu timestep x<t>(input), mas também usará a informação de seu estado anterior a<t-1>. Dado um caractere, ou uma sequência de caracteres, qual será o caractere mais provável? — Sendo assim, teremos uma sequência de caracteres como entrada do modelo e iremos prever o caractere seguinte. Nessa representação, usaremos o comprimento de cada sentença de input limitada para 100 caracteres: Em seguida, precisamos criar tuplas dessas sequências para alimentarmos a nossa RNN: Por fim, vamos embaralhar o nosso dataset e dividi-lo em batches: Nessa representação, usaremos três camadas: Para treinar a nossa rede, usaremos o otimizador \"Adam\" e a função de custo \"Sparse Categorical Loss\". Por fim, utilizamos o Heroku para colocar o que construimos com o Streamlit em uma url compartilhável. Com essas duas plataformas, chegamos em um resultado final assim: Se quiser brincar com o modelo que construímos, basta acessar o site: http://gerador-texto-guimaraes.herokuapp.com/ . Mas se você quiser ver o código, ele está todo disponível neste repositório: É claro que os nossos resultados estão longe de gerar um texto como um conto ou obra de João Guimarães Rosa, mas justamente pela linguagem muito característica do autor, repleta de neologismos e marcada pelo falar popular do sertão, é curioso ver como o nosso modelo consegue replicar alguns desses padrões, gerando resultados, no mínimo, divertidos. Se você gostou dessa abordagem, saiba que RNNs são apenas o começo dentre vários outros tipos de redes que podemos usar para construir modelos de língua. O real não está na saída nem na chegada: ele se dispõe para a gente é no meio da travessia.”'"
            ],
            "application/vnd.google.colaboratory.intrinsic+json": {
              "type": "string"
            }
          },
          "metadata": {},
          "execution_count": 126
        }
      ]
    },
    {
      "cell_type": "markdown",
      "source": [
        "Com esse uso, é possível entender o objetivo e o tema geral do texto, porém fica algo muito desconexo, e não funciona tão bem como um resumo humano normal."
      ],
      "metadata": {
        "id": "hEbxzGweAmyN"
      }
    },
    {
      "cell_type": "markdown",
      "source": [
        "##Sumarização abstrativa:"
      ],
      "metadata": {
        "id": "nYlG25qRv-jQ"
      }
    },
    {
      "cell_type": "markdown",
      "source": [
        "A sumarização abstrativa é uma técnica que usa de modelos complexos de deep learning para tentar realmente extrair a essência do texto e escrever um resumo tentando imitar a escrita humana. Os algoritmos usados são muito mais complexos que o da extrativa, porém apenas importarei modelos já treinados, além de algo mais prático o resultado deles será inevitavelmente melhor, e os aplicarei ao turing talks escolhido"
      ],
      "metadata": {
        "id": "vKXM4jqkym1t"
      }
    },
    {
      "cell_type": "markdown",
      "source": [
        "Para importar o modelo basta usar buscar um no hugging face, inicializá-lo e aplicar ao texto."
      ],
      "metadata": {
        "id": "JIVmhe5czJih"
      }
    },
    {
      "cell_type": "code",
      "source": [
        "!pip install transformers"
      ],
      "metadata": {
        "colab": {
          "base_uri": "https://localhost:8080/"
        },
        "id": "AS5e2ViGwI8K",
        "outputId": "940f296b-7766-4634-d635-1eb5113f07f2"
      },
      "execution_count": null,
      "outputs": [
        {
          "output_type": "stream",
          "name": "stdout",
          "text": [
            "Collecting transformers\n",
            "  Downloading transformers-4.34.0-py3-none-any.whl (7.7 MB)\n",
            "\u001b[2K     \u001b[90m━━━━━━━━━━━━━━━━━━━━━━━━━━━━━━━━━━━━━━━━\u001b[0m \u001b[32m7.7/7.7 MB\u001b[0m \u001b[31m20.5 MB/s\u001b[0m eta \u001b[36m0:00:00\u001b[0m\n",
            "\u001b[?25hRequirement already satisfied: filelock in /usr/local/lib/python3.10/dist-packages (from transformers) (3.12.4)\n",
            "Collecting huggingface-hub<1.0,>=0.16.4 (from transformers)\n",
            "  Downloading huggingface_hub-0.17.3-py3-none-any.whl (295 kB)\n",
            "\u001b[2K     \u001b[90m━━━━━━━━━━━━━━━━━━━━━━━━━━━━━━━━━━━━━━\u001b[0m \u001b[32m295.0/295.0 kB\u001b[0m \u001b[31m33.6 MB/s\u001b[0m eta \u001b[36m0:00:00\u001b[0m\n",
            "\u001b[?25hRequirement already satisfied: numpy>=1.17 in /usr/local/lib/python3.10/dist-packages (from transformers) (1.23.5)\n",
            "Requirement already satisfied: packaging>=20.0 in /usr/local/lib/python3.10/dist-packages (from transformers) (23.2)\n",
            "Requirement already satisfied: pyyaml>=5.1 in /usr/local/lib/python3.10/dist-packages (from transformers) (6.0.1)\n",
            "Requirement already satisfied: regex!=2019.12.17 in /usr/local/lib/python3.10/dist-packages (from transformers) (2023.6.3)\n",
            "Requirement already satisfied: requests in /usr/local/lib/python3.10/dist-packages (from transformers) (2.31.0)\n",
            "Collecting tokenizers<0.15,>=0.14 (from transformers)\n",
            "  Downloading tokenizers-0.14.0-cp310-cp310-manylinux_2_17_x86_64.manylinux2014_x86_64.whl (3.8 MB)\n",
            "\u001b[2K     \u001b[90m━━━━━━━━━━━━━━━━━━━━━━━━━━━━━━━━━━━━━━━━\u001b[0m \u001b[32m3.8/3.8 MB\u001b[0m \u001b[31m58.9 MB/s\u001b[0m eta \u001b[36m0:00:00\u001b[0m\n",
            "\u001b[?25hCollecting safetensors>=0.3.1 (from transformers)\n",
            "  Downloading safetensors-0.3.3-cp310-cp310-manylinux_2_17_x86_64.manylinux2014_x86_64.whl (1.3 MB)\n",
            "\u001b[2K     \u001b[90m━━━━━━━━━━━━━━━━━━━━━━━━━━━━━━━━━━━━━━━━\u001b[0m \u001b[32m1.3/1.3 MB\u001b[0m \u001b[31m58.2 MB/s\u001b[0m eta \u001b[36m0:00:00\u001b[0m\n",
            "\u001b[?25hRequirement already satisfied: tqdm>=4.27 in /usr/local/lib/python3.10/dist-packages (from transformers) (4.66.1)\n",
            "Requirement already satisfied: fsspec in /usr/local/lib/python3.10/dist-packages (from huggingface-hub<1.0,>=0.16.4->transformers) (2023.6.0)\n",
            "Requirement already satisfied: typing-extensions>=3.7.4.3 in /usr/local/lib/python3.10/dist-packages (from huggingface-hub<1.0,>=0.16.4->transformers) (4.5.0)\n",
            "Collecting huggingface-hub<1.0,>=0.16.4 (from transformers)\n",
            "  Downloading huggingface_hub-0.16.4-py3-none-any.whl (268 kB)\n",
            "\u001b[2K     \u001b[90m━━━━━━━━━━━━━━━━━━━━━━━━━━━━━━━━━━━━━━\u001b[0m \u001b[32m268.8/268.8 kB\u001b[0m \u001b[31m33.2 MB/s\u001b[0m eta \u001b[36m0:00:00\u001b[0m\n",
            "\u001b[?25hRequirement already satisfied: charset-normalizer<4,>=2 in /usr/local/lib/python3.10/dist-packages (from requests->transformers) (3.3.0)\n",
            "Requirement already satisfied: idna<4,>=2.5 in /usr/local/lib/python3.10/dist-packages (from requests->transformers) (3.4)\n",
            "Requirement already satisfied: urllib3<3,>=1.21.1 in /usr/local/lib/python3.10/dist-packages (from requests->transformers) (2.0.6)\n",
            "Requirement already satisfied: certifi>=2017.4.17 in /usr/local/lib/python3.10/dist-packages (from requests->transformers) (2023.7.22)\n",
            "Installing collected packages: safetensors, huggingface-hub, tokenizers, transformers\n",
            "Successfully installed huggingface-hub-0.16.4 safetensors-0.3.3 tokenizers-0.14.0 transformers-4.34.0\n"
          ]
        }
      ]
    },
    {
      "cell_type": "code",
      "source": [
        "from transformers import pipeline\n",
        "sumarizador = pipeline(\"summarization\", model=\"facebook/bart-large-cnn\")"
      ],
      "metadata": {
        "id": "Gys7U-LwvGP0"
      },
      "execution_count": null,
      "outputs": []
    },
    {
      "cell_type": "code",
      "source": [
        "print(sumarizador(escolhido, max_length=1000, min_length=100, truncation=True, do_sample=False))"
      ],
      "metadata": {
        "colab": {
          "base_uri": "https://localhost:8080/"
        },
        "id": "uPp1CqT0v1OK",
        "outputId": "f93aead6-aa1e-47da-e99e-4441753eacca"
      },
      "execution_count": null,
      "outputs": [
        {
          "output_type": "stream",
          "name": "stdout",
          "text": [
            "[{'summary_text': 'Vamos ver como construir um modelo para \"escrever\" como João Guimarães Rosa utilizando Redes Neurais Recorrentes. A modelo de língua possui uma tarefa bem simples: prever a próxima palavra ou caractere em uma sentença. O modelo irá aprender a distribuição de probabilidades em uMA sequência de palavras.'}]\n"
          ]
        }
      ]
    },
    {
      "cell_type": "markdown",
      "source": [
        "Apesar do resultado conseguir resumir o assunto do texto, ele acaba sendo muito curto, cortando muita informação, e ele apresenta problemas como erro na escrita do gênero de palavra."
      ],
      "metadata": {
        "id": "gT-feYhKyV3j"
      }
    }
  ]
}